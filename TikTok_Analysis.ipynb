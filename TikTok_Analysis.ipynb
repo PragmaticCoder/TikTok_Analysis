{
 "cells": [
  {
   "cell_type": "code",
   "execution_count": 1,
   "metadata": {},
   "outputs": [],
   "source": [
    "import json\n",
    "import pandas as pd\n",
    "import time\n",
    "# data = [json.loads(line) for line in open(r'C:\\Users\\Mhaiskao\\Desktop\\Assignments\\MSc Project\\tiktok.json', 'r',encoding=\"utf8\")]\n",
    "data = [json.loads(line) for line in open(r'C:\\Users\\Mhaiskao\\Desktop\\Assignments\\MSc Project\\scraper\\tiktok.json', 'r',encoding=\"utf8\")]"
   ]
  },
  {
   "cell_type": "code",
   "execution_count": 13,
   "metadata": {
    "scrolled": true
   },
   "outputs": [
    {
     "name": "stdout",
     "output_type": "stream",
     "text": [
      "{'_id': {'$oid': '5e45b83b1e60cb0587daa14a'}, 'id': '6767383262466690309', 'apiType': 3, 'name': 'me and my girls kotd #HolidayBeat #handitover #UNOirl #shoe #arizona #fyp #foryou #foryoupage #viral #senior #school #pumanation', 'surfaced': 1, 'diggCount': 269268, 'shareCount': 5798, 'commentCount': 1186, 'author': {'name': 'Mia Strauss', 'uniqueID': 'miastrauss61', 'userID': '6624916310538010629', 'secureUserID': 'MS4wLjABAAAA_AXdHoB9VjEpejrK-0j7mRQl8aJYtFjDpQhieDelkZ6ud7KUMZHd62vGhOXcEMgR'}, 'createdAt': {'$date': '2020-02-13T20:57:31.773Z'}, 'updatedAt': {'$date': '2020-02-13T20:57:31.773Z'}, 'tiktokData': [{'itemInfos': {'id': '6767383262466690309', 'text': 'me and my girls kotd #HolidayBeat #handitover #UNOirl #shoe #arizona #fyp #foryou #foryoupage #viral #senior #school #pumanation', 'createTime': '1575654203', 'authorId': '6624916310538010629', 'musicId': '6728277894730090498', 'covers': ['https://p16.muscdn.com/obj/tos-maliva-p-0068/b8b1067b5cd0b00e811c9b858904c964'], 'coversOrigin': ['https://p16.muscdn.com/obj/tos-maliva-p-0068/5e55791c6d714c519994a6d605fbcf2a_1575654209'], 'coversDynamic': ['https://p16.muscdn.com/obj/tos-maliva-p-0068/7508d1b7032346d0a8579f7a97f0a4c2_1575654238'], 'video': {'urls': ['https://v19.muscdn.com/7c4bba71a4d321700c514b59362d57e5/5e460c72/video/tos/maliva/tos-maliva-v-0068/e2b8ef877765489697d0e76bc8a3a645/?a=1233&br=4548&bt=2274&cr=0&cs=0&dr=0&ds=3&er=&l=202002132056420101101021631D887FF6&lr=tiktok_m&qs=0&rc=M3lwdTY0eWY8cTMzPDczM0ApaGk3PDdkZGQ0NzdoNTllOGdkXl5pNnIvM2lfLS0tMTZzczQuNGE0XmMvLTIxMzNjMy06Yw%3D%3D&vl=&vr='], 'videoMeta': {'width': 720, 'height': 1280, 'ratio': 8, 'duration': 8}}, 'diggCount': 269268, 'shareCount': 5798, 'playCount': 2003583, 'commentCount': 1186, 'isOriginal': False, 'isOfficial': False, 'isActivityItem': False, 'warnInfo': []}, 'authorInfos': {'secUid': 'MS4wLjABAAAA_AXdHoB9VjEpejrK-0j7mRQl8aJYtFjDpQhieDelkZ6ud7KUMZHd62vGhOXcEMgR', 'userId': '6624916310538010629', 'uniqueId': 'miastrauss61', 'nickName': 'Mia Strauss', 'signature': 'lmao all these videos are cringe\\ninsta: @miastrauss1', 'verified': False, 'covers': ['https://p16.muscdn.com/img/musically-maliva-obj/1651408940242949~c5_100x100.jpeg'], 'coversMedium': ['https://p16.muscdn.com/img/musically-maliva-obj/1651408940242949~c5_720x720.jpeg'], 'coversLarger': ['https://p16.muscdn.com/img/musically-maliva-obj/1651408940242949~c5_1080x1080.jpeg'], 'isSecret': False}, 'musicInfos': {'musicId': '6728277894730090498', 'musicName': '23 Island', 'authorName': 'JayDaYoungan', 'original': '', 'playUrl': ['https://sf16-sg.muscdn.com/obj/tos-alisg-v-0000/8811aef7a516428eadd2fb1abbcd541f'], 'covers': ['https://p16-sg.muscdn.com/aweme/100x100/tos-alisg-i-0000/5514bbc0365845d6a0a92a40eb35b181.jpeg'], 'coversMedium': ['https://p16-sg.muscdn.com/aweme/200x200/tos-alisg-i-0000/5514bbc0365845d6a0a92a40eb35b181.jpeg'], 'coversLarger': ['https://p16-sg.muscdn.com/aweme/720x720/tos-alisg-i-0000/5514bbc0365845d6a0a92a40eb35b181.jpeg']}, 'challengeInfoList': [{'challengeId': '6932', 'challengeName': 'shoe', 'isCommerce': False, 'text': '', 'covers': [], 'coversMedium': [], 'coversLarger': []}], 'duetInfo': '0', 'scrapedAt': {'$date': '2020-02-13T20:57:31.773Z'}}], 'auddData': None, 'transcription': None}\n"
     ]
    }
   ],
   "source": [
    "print(data[84594])"
   ]
  },
  {
   "cell_type": "code",
   "execution_count": 3,
   "metadata": {},
   "outputs": [],
   "source": [
    "#################################IMp###################"
   ]
  },
  {
   "cell_type": "code",
   "execution_count": 25,
   "metadata": {},
   "outputs": [],
   "source": [
    "from dateutil import parser\n",
    "id_list=[]\n",
    "text_list=[]\n",
    "Music_id_list=[]\n",
    "Music_name_list=[]\n",
    "Author_id_list=[]\n",
    "Created_time=[]\n",
    "verified_list=[]\n",
    "\n",
    "sharecount_list=[]\n",
    "digcount_list=[]\n",
    "commentcount_list=[]\n",
    "scrape_time_list=[]\n",
    "playcount_list=[]\n",
    "final_comment_count=[]\n",
    "final_share_count=[]\n",
    "final_digg_count=[]\n",
    "final_play_count=[]\n",
    "\n",
    "challenge_name_list=[]\n",
    "challenge_id_list=[]\n",
    "\n",
    "for i in range(0,len(data)):\n",
    "    id_list.append(data[i]['tiktokData'][0]['itemInfos']['id'])\n",
    "    text_list.append(data[i]['tiktokData'][0]['itemInfos']['text'].lower())\n",
    "    Music_id_list.append(data[i]['tiktokData'][0]['musicInfos']['musicId'])\n",
    "    Music_name_list.append(data[i]['tiktokData'][0]['musicInfos']['musicName'])\n",
    "    Author_id_list.append(data[i]['tiktokData'][0]['itemInfos']['authorId'])\n",
    "    created_date=parser.isoparse(data[i]['createdAt']['$date'])\n",
    "    Created_time.append(created_date.strftime(\"%x\"))\n",
    "#     Created_time.append(time.strftime('%Y-%m-%d %H:%M:%S',  time.gmtime(float(data[i]['tiktokData'][0]['itemInfos']['createTime'])/1000.)))\n",
    "    verified_list.append(data[i]['tiktokData'][0]['authorInfos']['verified'])\n",
    "    \n",
    "    #Save challenges Name and Challenge Id for every video\n",
    "    \n",
    "    challenge_name=[]\n",
    "    challenge_id=[]\n",
    "    \n",
    "    #Check if no challenges are present\n",
    "    \n",
    "    if len(data[i]['tiktokData'][0]['challengeInfoList']) == 0:\n",
    "        challenge_id.append('Empty')\n",
    "        challenge_name.append('Empty')\n",
    "    else:\n",
    "        for j in range(0,len(data[i]['tiktokData'][0]['challengeInfoList'])):\n",
    "            challenge_id.append(data[i]['tiktokData'][0]['challengeInfoList'][j]['challengeId'])\n",
    "            challenge_name.append(data[i]['tiktokData'][0]['challengeInfoList'][j]['challengeName'])\n",
    "    challenge_id_list.append(challenge_id)\n",
    "    challenge_name_list.append(challenge_name)\n",
    "    \n",
    "    #Get Share, Comment and Digg Count \n",
    "    \n",
    "    sharecount=[]\n",
    "    digcount=[]\n",
    "    commentcount=[]\n",
    "    scrape_time=[]\n",
    "    playcount=[]\n",
    "    \n",
    "    for j in range(0,len(data[i]['tiktokData'])):   \n",
    "        date=parser.isoparse(data[i]['tiktokData'][j]['scrapedAt']['$date'])\n",
    "        digcount.append(data[i]['tiktokData'][j]['itemInfos']['diggCount'])\n",
    "        sharecount.append(data[i]['tiktokData'][j]['itemInfos']['shareCount'])\n",
    "        commentcount.append(data[i]['tiktokData'][j]['itemInfos']['commentCount'])\n",
    "        scrape_time.append(date.strftime(\"%x %X\"))\n",
    "        try:\n",
    "            playcount.append(data[i]['tiktokData'][j]['itemInfos']['playCount'])\n",
    "        except KeyError:\n",
    "            playcount.append(0)\n",
    "            \n",
    "    sharecount_list.append(sharecount)\n",
    "    digcount_list.append(digcount)\n",
    "    commentcount_list.append(commentcount)\n",
    "    final_comment_count.append(commentcount[-1])\n",
    "    scrape_time_list.append(scrape_time)\n",
    "    playcount_list.append(playcount) \n",
    "    final_share_count.append(sharecount[-1])\n",
    "    final_digg_count.append(digcount[-1])\n",
    "    final_play_count.append(playcount[-1])\n",
    "    \n",
    "df_final=pd.DataFrame(list(zip(id_list,text_list,Music_id_list,Music_name_list,Author_id_list,Created_time,verified_list,challenge_id_list,challenge_name_list,\n",
    "                               sharecount_list,final_share_count,digcount_list,final_digg_count,commentcount_list,final_comment_count,scrape_time_list,playcount_list,final_play_count)),\n",
    "                       columns=['ID','Text','Music Id','Music Name','Author ID','Created Time','Verified List','challenge_list','challenge_list_Name','Sharecount List','Final Share Count',\n",
    "                                'Diggcount List','Final Digg Count','Commentcount List','Final Comment Count','Scrape_time List','Playcount List','Final Play Count'])\n",
    "\n"
   ]
  },
  {
   "cell_type": "code",
   "execution_count": 26,
   "metadata": {
    "scrolled": true
   },
   "outputs": [
    {
     "data": {
      "text/html": [
       "<div>\n",
       "<style scoped>\n",
       "    .dataframe tbody tr th:only-of-type {\n",
       "        vertical-align: middle;\n",
       "    }\n",
       "\n",
       "    .dataframe tbody tr th {\n",
       "        vertical-align: top;\n",
       "    }\n",
       "\n",
       "    .dataframe thead th {\n",
       "        text-align: right;\n",
       "    }\n",
       "</style>\n",
       "<table border=\"1\" class=\"dataframe\">\n",
       "  <thead>\n",
       "    <tr style=\"text-align: right;\">\n",
       "      <th></th>\n",
       "      <th>ID</th>\n",
       "      <th>Text</th>\n",
       "      <th>Music Id</th>\n",
       "      <th>Music Name</th>\n",
       "      <th>Author ID</th>\n",
       "      <th>Created Time</th>\n",
       "      <th>Verified List</th>\n",
       "      <th>challenge_list</th>\n",
       "      <th>challenge_list_Name</th>\n",
       "      <th>Sharecount List</th>\n",
       "      <th>Final Share Count</th>\n",
       "      <th>Diggcount List</th>\n",
       "      <th>Final Digg Count</th>\n",
       "      <th>Commentcount List</th>\n",
       "      <th>Final Comment Count</th>\n",
       "      <th>Scrape_time List</th>\n",
       "      <th>Playcount List</th>\n",
       "      <th>Final Play Count</th>\n",
       "    </tr>\n",
       "  </thead>\n",
       "  <tbody>\n",
       "    <tr>\n",
       "      <th>0</th>\n",
       "      <td>6761927387056803078</td>\n",
       "      <td>⚠️dont watch this if you get scared easily⚠️</td>\n",
       "      <td>6617219327542168326</td>\n",
       "      <td>I smell pennies</td>\n",
       "      <td>6618145947888091141</td>\n",
       "      <td>02/12/20</td>\n",
       "      <td>False</td>\n",
       "      <td>[Empty]</td>\n",
       "      <td>[Empty]</td>\n",
       "      <td>[464380, 464382, 464419, 464732, 464803, 46484...</td>\n",
       "      <td>471128</td>\n",
       "      <td>[5531509, 5531557, 5532040, 5535622, 5536352, ...</td>\n",
       "      <td>5616598</td>\n",
       "      <td>[34383, 34383, 34388, 34416, 34422, 34425, 344...</td>\n",
       "      <td>34999</td>\n",
       "      <td>[02/12/20 22:10:27, 02/12/20 22:13:39, 02/12/2...</td>\n",
       "      <td>[0, 0, 0, 0, 0, 0, 0, 0, 0, 42814096, 42816773...</td>\n",
       "      <td>43952543</td>\n",
       "    </tr>\n",
       "    <tr>\n",
       "      <th>1</th>\n",
       "      <td>6767171268698459397</td>\n",
       "      <td>why did she have to do us like that??#duet wit...</td>\n",
       "      <td>6735137560026172166</td>\n",
       "      <td>Shake Dat (feat. Lil Jay)</td>\n",
       "      <td>6675059467253629958</td>\n",
       "      <td>02/12/20</td>\n",
       "      <td>True</td>\n",
       "      <td>[30496]</td>\n",
       "      <td>[duet]</td>\n",
       "      <td>[88432, 88432, 88435, 88453, 88461, 88472, 884...</td>\n",
       "      <td>90759</td>\n",
       "      <td>[3642884, 3642908, 3643156, 3644044, 3644412, ...</td>\n",
       "      <td>3740664</td>\n",
       "      <td>[14517, 14517, 14519, 14519, 14520, 14522, 145...</td>\n",
       "      <td>14877</td>\n",
       "      <td>[02/12/20 22:10:27, 02/12/20 22:13:39, 02/12/2...</td>\n",
       "      <td>[0, 0, 0, 0, 0, 0, 0, 0, 0, 0, 0, 0, 31185730,...</td>\n",
       "      <td>32397020</td>\n",
       "    </tr>\n",
       "    <tr>\n",
       "      <th>2</th>\n",
       "      <td>6790763152624635142</td>\n",
       "      <td>knock knock @theswayla @luvanthony @jadenhossl...</td>\n",
       "      <td>6788500679070698246</td>\n",
       "      <td>sonido original</td>\n",
       "      <td>142565009246584832</td>\n",
       "      <td>02/12/20</td>\n",
       "      <td>True</td>\n",
       "      <td>[229207]</td>\n",
       "      <td>[fyp]</td>\n",
       "      <td>[29961, 29968, 30036, 30439, 30500, 30565, 306...</td>\n",
       "      <td>53380</td>\n",
       "      <td>[2702637, 2702914, 2706246, 2726449, 2729420, ...</td>\n",
       "      <td>4171102</td>\n",
       "      <td>[6674, 6674, 6691, 6767, 6781, 6793, 6799, 681...</td>\n",
       "      <td>11714</td>\n",
       "      <td>[02/12/20 22:10:27, 02/12/20 22:13:39, 02/12/2...</td>\n",
       "      <td>[0, 0, 0, 0, 0, 0, 0, 0, 0, 0, 0, 0, 28988861,...</td>\n",
       "      <td>52160727</td>\n",
       "    </tr>\n",
       "    <tr>\n",
       "      <th>3</th>\n",
       "      <td>6776323328597708038</td>\n",
       "      <td>i had fun making this #school #math #homework ...</td>\n",
       "      <td>6654569114121554693</td>\n",
       "      <td>Why School Is Like This</td>\n",
       "      <td>6745084683459642374</td>\n",
       "      <td>02/12/20</td>\n",
       "      <td>False</td>\n",
       "      <td>[3586, 137467, 6350, 1640512221174789, 229207,...</td>\n",
       "      <td>[school, math, homework, handwritingcheck, fyp...</td>\n",
       "      <td>[89995, 89996, 90029, 90173, 90182, 90199, 902...</td>\n",
       "      <td>103461</td>\n",
       "      <td>[653715, 653732, 654047, 655097, 655209, 65535...</td>\n",
       "      <td>772741</td>\n",
       "      <td>[5904, 5904, 5908, 5923, 5923, 5923, 5923, 593...</td>\n",
       "      <td>7486</td>\n",
       "      <td>[02/12/20 22:10:27, 02/12/20 22:13:39, 02/12/2...</td>\n",
       "      <td>[0, 0, 0, 0, 0, 0, 0, 0, 0, 0, 0, 0, 0, 0, 0, ...</td>\n",
       "      <td>8839018</td>\n",
       "    </tr>\n",
       "    <tr>\n",
       "      <th>4</th>\n",
       "      <td>6791154073669291270</td>\n",
       "      <td>#pleasershoes #newname #immolly #2020 #jobtips...</td>\n",
       "      <td>6703371208655768326</td>\n",
       "      <td>Walk But In a Garden\\t</td>\n",
       "      <td>6762055608512824325</td>\n",
       "      <td>02/12/20</td>\n",
       "      <td>False</td>\n",
       "      <td>[73604070, 34527, 437599, 185148, 163433269401...</td>\n",
       "      <td>[pleasershoes, newname, immolly, 2020, jobtips...</td>\n",
       "      <td>[41, 42, 42, 42, 42, 42, 42, 42, 42, 42, 42, 4...</td>\n",
       "      <td>42</td>\n",
       "      <td>[4185, 4201, 4201, 4201, 4202, 4203, 4206, 420...</td>\n",
       "      <td>4411</td>\n",
       "      <td>[51, 51, 51, 51, 51, 51, 51, 51, 52, 52, 52, 5...</td>\n",
       "      <td>55</td>\n",
       "      <td>[02/12/20 22:10:27, 02/13/20 00:09:28, 02/13/2...</td>\n",
       "      <td>[0, 0, 0, 0, 0, 0, 0, 0, 0, 0, 0, 0, 0, 0, 0, ...</td>\n",
       "      <td>415459</td>\n",
       "    </tr>\n",
       "    <tr>\n",
       "      <th>5</th>\n",
       "      <td>6783115808630426885</td>\n",
       "      <td>\"the prize of beauty is costly 👹👿.\" #lol #funn...</td>\n",
       "      <td>6783112223985257222</td>\n",
       "      <td>original sound</td>\n",
       "      <td>6589758176648167429</td>\n",
       "      <td>02/12/20</td>\n",
       "      <td>False</td>\n",
       "      <td>[1745, 1618848028492806, 20884, 2050263]</td>\n",
       "      <td>[lol, funnyvideo, viral, ThatsWhatILike]</td>\n",
       "      <td>[53989, 53990, 54025, 54090, 54104, 54105, 541...</td>\n",
       "      <td>55177</td>\n",
       "      <td>[447020, 447021, 447060, 447136, 447155, 44715...</td>\n",
       "      <td>448721</td>\n",
       "      <td>[3983, 3983, 3983, 3985, 3985, 3985, 3985, 398...</td>\n",
       "      <td>4000</td>\n",
       "      <td>[02/12/20 22:10:27, 02/12/20 22:13:39, 02/13/2...</td>\n",
       "      <td>[0, 0, 0, 0, 0, 0, 0, 0, 3746479, 3747222, 374...</td>\n",
       "      <td>3806030</td>\n",
       "    </tr>\n",
       "    <tr>\n",
       "      <th>6</th>\n",
       "      <td>6785629753413061894</td>\n",
       "      <td>straight facts 👀 #fyp #foru #viral #xyzbca</td>\n",
       "      <td>6785627585360513798</td>\n",
       "      <td>original sound</td>\n",
       "      <td>6661977767522942981</td>\n",
       "      <td>02/12/20</td>\n",
       "      <td>False</td>\n",
       "      <td>[229207, 108264, 20884, 1652484531221509]</td>\n",
       "      <td>[fyp, foru, viral, xyzbca]</td>\n",
       "      <td>[55179, 55181, 55184, 55185, 55186, 55188, 551...</td>\n",
       "      <td>69530</td>\n",
       "      <td>[483273, 483288, 483301, 483316, 483330, 48335...</td>\n",
       "      <td>578537</td>\n",
       "      <td>[1609, 1609, 1609, 1609, 1609, 1609, 1609, 160...</td>\n",
       "      <td>1989</td>\n",
       "      <td>[02/12/20 22:10:27, 02/12/20 22:10:28, 02/12/2...</td>\n",
       "      <td>[0, 0, 0, 0, 0, 0, 0, 0, 0, 0, 0, 0, 0, 0, 0, ...</td>\n",
       "      <td>4208674</td>\n",
       "    </tr>\n",
       "    <tr>\n",
       "      <th>7</th>\n",
       "      <td>6792428767085088006</td>\n",
       "      <td>how singers stub their toe 😂😂</td>\n",
       "      <td>6791798150593088262</td>\n",
       "      <td>original sound</td>\n",
       "      <td>7445731</td>\n",
       "      <td>02/12/20</td>\n",
       "      <td>True</td>\n",
       "      <td>[Empty]</td>\n",
       "      <td>[Empty]</td>\n",
       "      <td>[39955, 39964, 39973, 39980, 39988, 39995, 400...</td>\n",
       "      <td>149261</td>\n",
       "      <td>[1981183, 1981577, 1981961, 1982228, 1982563, ...</td>\n",
       "      <td>6184275</td>\n",
       "      <td>[8657, 8660, 8665, 8665, 8665, 8669, 8670, 867...</td>\n",
       "      <td>28782</td>\n",
       "      <td>[02/12/20 22:10:27, 02/12/20 22:10:28, 02/12/2...</td>\n",
       "      <td>[0, 0, 0, 0, 0, 0, 0, 0, 0, 0, 0, 0, 0, 0, 0, ...</td>\n",
       "      <td>40742956</td>\n",
       "    </tr>\n",
       "    <tr>\n",
       "      <th>8</th>\n",
       "      <td>6792004622493011206</td>\n",
       "      <td>time to wake up son!! #fyp #fart #foryourpage ...</td>\n",
       "      <td>6723717547528555269</td>\n",
       "      <td>original sound</td>\n",
       "      <td>6632782883143614469</td>\n",
       "      <td>02/12/20</td>\n",
       "      <td>False</td>\n",
       "      <td>[229207, 24303, 1598498371111942, 156717, 2088...</td>\n",
       "      <td>[fyp, fart, foryourpage, pranks, viral, monday...</td>\n",
       "      <td>[7371, 7400, 7733, 8565, 8576, 8625, 8739, 877...</td>\n",
       "      <td>26288</td>\n",
       "      <td>[42428, 42658, 45471, 55939, 56064, 56776, 584...</td>\n",
       "      <td>217548</td>\n",
       "      <td>[349, 349, 361, 420, 420, 427, 436, 441, 516, ...</td>\n",
       "      <td>1581</td>\n",
       "      <td>[02/12/20 22:10:27, 02/12/20 22:13:39, 02/12/2...</td>\n",
       "      <td>[0, 0, 0, 0, 0, 0, 0, 0, 0, 0, 0, 0, 0, 0, 0, ...</td>\n",
       "      <td>7842013</td>\n",
       "    </tr>\n",
       "    <tr>\n",
       "      <th>9</th>\n",
       "      <td>6789624774256626950</td>\n",
       "      <td>#jlosuperbowlchallenge</td>\n",
       "      <td>6773405926327175942</td>\n",
       "      <td>original sound</td>\n",
       "      <td>6677255099054523398</td>\n",
       "      <td>02/12/20</td>\n",
       "      <td>False</td>\n",
       "      <td>[1655546295971846]</td>\n",
       "      <td>[jlosuperbowlchallenge]</td>\n",
       "      <td>[12940, 12940, 12942]</td>\n",
       "      <td>12942</td>\n",
       "      <td>[137976, 137977, 138004]</td>\n",
       "      <td>138004</td>\n",
       "      <td>[785, 785, 787]</td>\n",
       "      <td>787</td>\n",
       "      <td>[02/12/20 22:10:27, 02/12/20 22:13:39, 02/12/2...</td>\n",
       "      <td>[0, 0, 0]</td>\n",
       "      <td>0</td>\n",
       "    </tr>\n",
       "    <tr>\n",
       "      <th>10</th>\n",
       "      <td>6760064329745272070</td>\n",
       "      <td>#fyp #foryoupage</td>\n",
       "      <td>6756404584064813830</td>\n",
       "      <td>original sound</td>\n",
       "      <td>6716510253519389701</td>\n",
       "      <td>02/12/20</td>\n",
       "      <td>False</td>\n",
       "      <td>[229207, 88764338]</td>\n",
       "      <td>[fyp, foryoupage]</td>\n",
       "      <td>[118454, 118455, 118490, 118737, 118808, 11888...</td>\n",
       "      <td>119769</td>\n",
       "      <td>[993175, 993195, 993378, 994799, 995232, 99565...</td>\n",
       "      <td>1001022</td>\n",
       "      <td>[5522, 5522, 5522, 5533, 5536, 5542, 5545, 554...</td>\n",
       "      <td>5572</td>\n",
       "      <td>[02/12/20 22:10:27, 02/12/20 22:13:39, 02/12/2...</td>\n",
       "      <td>[0, 0, 0, 0, 0, 0, 0, 0, 14356973, 14358524, 1...</td>\n",
       "      <td>14427189</td>\n",
       "    </tr>\n",
       "    <tr>\n",
       "      <th>11</th>\n",
       "      <td>6791607527869107461</td>\n",
       "      <td>i get asked if i speak spanish all the time 😂 ...</td>\n",
       "      <td>6757821587539430149</td>\n",
       "      <td>original sound</td>\n",
       "      <td>6284717</td>\n",
       "      <td>02/12/20</td>\n",
       "      <td>False</td>\n",
       "      <td>[42164, 229207, 2535717, 44895, 6614834]</td>\n",
       "      <td>[foryou, fyp, favoritemovies, trend, wealllove...</td>\n",
       "      <td>[6213, 6216, 6245, 6341, 6417, 6464, 6519, 656...</td>\n",
       "      <td>10983</td>\n",
       "      <td>[262214, 262314, 263598, 267746, 270258, 27172...</td>\n",
       "      <td>339749</td>\n",
       "      <td>[0, 0, 0, 0, 0, 0, 0, 0, 0, 0, 0, 0, 0, 0, 0, ...</td>\n",
       "      <td>0</td>\n",
       "      <td>[02/12/20 22:10:27, 02/12/20 22:13:39, 02/12/2...</td>\n",
       "      <td>[0, 0, 0, 0, 0, 0, 0, 0, 0, 0, 0, 0, 0, 0, 0, ...</td>\n",
       "      <td>5171131</td>\n",
       "    </tr>\n",
       "    <tr>\n",
       "      <th>12</th>\n",
       "      <td>6760100340923747589</td>\n",
       "      <td>i want a kid #fyp #foryou #borntoglow #movember</td>\n",
       "      <td>6732824961100090117</td>\n",
       "      <td>original sound</td>\n",
       "      <td>6628924584165900293</td>\n",
       "      <td>02/12/20</td>\n",
       "      <td>False</td>\n",
       "      <td>[229207, 42164, 1741775]</td>\n",
       "      <td>[fyp, foryou, movember]</td>\n",
       "      <td>[124311, 124311, 124324, 124416, 124579, 12459...</td>\n",
       "      <td>124989</td>\n",
       "      <td>[1126174, 1126190, 1126311, 1127149, 1128566, ...</td>\n",
       "      <td>1132058</td>\n",
       "      <td>[3362, 3362, 3362, 3368, 3374, 3374, 3376, 337...</td>\n",
       "      <td>3390</td>\n",
       "      <td>[02/12/20 22:10:28, 02/12/20 22:13:39, 02/12/2...</td>\n",
       "      <td>[0, 0, 0, 0, 0, 0, 0, 13740199, 13743555, 1374...</td>\n",
       "      <td>13793219</td>\n",
       "    </tr>\n",
       "    <tr>\n",
       "      <th>13</th>\n",
       "      <td>6787095245634030853</td>\n",
       "      <td>live to the fullest, enjoy every moment! me an...</td>\n",
       "      <td>6787088930018822918</td>\n",
       "      <td>original sound</td>\n",
       "      <td>117807634048581632</td>\n",
       "      <td>02/12/20</td>\n",
       "      <td>True</td>\n",
       "      <td>[Empty]</td>\n",
       "      <td>[Empty]</td>\n",
       "      <td>[8805, 8805, 8805, 8805, 8805, 8805, 8805, 880...</td>\n",
       "      <td>9293</td>\n",
       "      <td>[916314, 916319, 916321, 916324, 916325, 91632...</td>\n",
       "      <td>953644</td>\n",
       "      <td>[1572, 1572, 1572, 1572, 1572, 1572, 1572, 157...</td>\n",
       "      <td>1632</td>\n",
       "      <td>[02/12/20 22:10:28, 02/12/20 22:10:28, 02/12/2...</td>\n",
       "      <td>[0, 0, 0, 0, 0, 0, 0, 0, 0, 0, 0, 0, 0, 0, 0, ...</td>\n",
       "      <td>8594445</td>\n",
       "    </tr>\n",
       "    <tr>\n",
       "      <th>14</th>\n",
       "      <td>6782374417121955078</td>\n",
       "      <td>he actually wanted to fight us 😂😂 #fyp #foryou</td>\n",
       "      <td>6704085016193796866</td>\n",
       "      <td>can't stop laughing</td>\n",
       "      <td>6763403654856180741</td>\n",
       "      <td>02/12/20</td>\n",
       "      <td>False</td>\n",
       "      <td>[229207, 42164]</td>\n",
       "      <td>[fyp, foryou]</td>\n",
       "      <td>[35206, 35206, 35207, 35207, 35207, 35207, 352...</td>\n",
       "      <td>43123</td>\n",
       "      <td>[570734, 570743, 570753, 570766, 570773, 57079...</td>\n",
       "      <td>687648</td>\n",
       "      <td>[1909, 1909, 1909, 1909, 1909, 1909, 1909, 190...</td>\n",
       "      <td>2357</td>\n",
       "      <td>[02/12/20 22:10:28, 02/12/20 22:10:28, 02/12/2...</td>\n",
       "      <td>[0, 0, 0, 0, 0, 0, 0, 0, 0, 0, 0, 0, 0, 0, 0, ...</td>\n",
       "      <td>17477141</td>\n",
       "    </tr>\n",
       "    <tr>\n",
       "      <th>15</th>\n",
       "      <td>6790014861343575301</td>\n",
       "      <td>lmao she kept eyeing up that bottle but this i...</td>\n",
       "      <td>6581796177140943622</td>\n",
       "      <td>#HeyStop</td>\n",
       "      <td>6630131586488942597</td>\n",
       "      <td>02/12/20</td>\n",
       "      <td>False</td>\n",
       "      <td>[6057, 229207, 42164, 1652484531221509, 864064...</td>\n",
       "      <td>[mom, fyp, foryou, xyzbca, full180, gotolook]</td>\n",
       "      <td>[51047, 51054, 51114, 51413, 51522, 51605, 516...</td>\n",
       "      <td>60761</td>\n",
       "      <td>[2124494, 2124620, 2126127, 2132672, 2135038, ...</td>\n",
       "      <td>2413721</td>\n",
       "      <td>[4675, 4676, 4682, 4699, 4705, 4707, 4712, 471...</td>\n",
       "      <td>5431</td>\n",
       "      <td>[02/12/20 22:10:28, 02/12/20 22:13:39, 02/12/2...</td>\n",
       "      <td>[0, 0, 0, 0, 0, 0, 0, 0, 0, 0, 0, 0, 0, 280210...</td>\n",
       "      <td>34518584</td>\n",
       "    </tr>\n",
       "    <tr>\n",
       "      <th>16</th>\n",
       "      <td>6783658068694535429</td>\n",
       "      <td>#trending #foryourpage #walkitout #dustinbadon...</td>\n",
       "      <td>102952200</td>\n",
       "      <td>Walk It Out!</td>\n",
       "      <td>6739670762791191558</td>\n",
       "      <td>02/12/20</td>\n",
       "      <td>False</td>\n",
       "      <td>[20105, 1598498371111942, 23971, 1646096619413...</td>\n",
       "      <td>[trending, foryourpage, walkitout, dustinbadon...</td>\n",
       "      <td>[84, 84, 85, 85, 85, 85, 85, 85, 85]</td>\n",
       "      <td>85</td>\n",
       "      <td>[4112, 4128, 4132, 4183, 4183, 4190, 4190, 420...</td>\n",
       "      <td>4236</td>\n",
       "      <td>[10, 10, 10, 10, 10, 10, 10, 11, 12]</td>\n",
       "      <td>12</td>\n",
       "      <td>[02/12/20 22:10:28, 02/13/20 00:32:11, 02/13/2...</td>\n",
       "      <td>[0, 0, 0, 0, 0, 0, 0, 48130, 48482]</td>\n",
       "      <td>48482</td>\n",
       "    </tr>\n",
       "    <tr>\n",
       "      <th>17</th>\n",
       "      <td>6784153917396716805</td>\n",
       "      <td>baller-ina pt. 2 #rustychurrrr</td>\n",
       "      <td>6782719503613627142</td>\n",
       "      <td>original sound</td>\n",
       "      <td>6573391</td>\n",
       "      <td>02/12/20</td>\n",
       "      <td>True</td>\n",
       "      <td>[1656287345285126]</td>\n",
       "      <td>[rustychurrrr]</td>\n",
       "      <td>[328514, 328536, 328783, 329619, 330923, 33157...</td>\n",
       "      <td>388463</td>\n",
       "      <td>[3628796, 3628900, 3630238, 3634770, 3642268, ...</td>\n",
       "      <td>3936263</td>\n",
       "      <td>[23375, 23375, 23388, 23423, 23482, 23505, 235...</td>\n",
       "      <td>25679</td>\n",
       "      <td>[02/12/20 22:10:28, 02/12/20 22:13:39, 02/12/2...</td>\n",
       "      <td>[0, 0, 0, 0, 0, 0, 0, 0, 35251637, 35364557, 3...</td>\n",
       "      <td>40976657</td>\n",
       "    </tr>\n",
       "    <tr>\n",
       "      <th>18</th>\n",
       "      <td>6785905540405988613</td>\n",
       "      <td>who can guess what i’m doing ? #kelekutz #fory...</td>\n",
       "      <td>6732440023414721285</td>\n",
       "      <td>Get Silly</td>\n",
       "      <td>6645009899004198917</td>\n",
       "      <td>02/12/20</td>\n",
       "      <td>False</td>\n",
       "      <td>[1653920693150725, 42164, 932327, 229207, 2088...</td>\n",
       "      <td>[kelekutz, foryou, scienceexperiment, fyp, vir...</td>\n",
       "      <td>[66683, 66683, 66683, 66683, 66684, 66684, 666...</td>\n",
       "      <td>81899</td>\n",
       "      <td>[2792939, 2792942, 2792944, 2792947, 2792950, ...</td>\n",
       "      <td>3268382</td>\n",
       "      <td>[7392, 7392, 7392, 7392, 7392, 7392, 7392, 739...</td>\n",
       "      <td>8439</td>\n",
       "      <td>[02/12/20 22:10:28, 02/12/20 22:10:28, 02/12/2...</td>\n",
       "      <td>[0, 0, 0, 0, 0, 0, 0, 0, 0, 0, 0, 0, 0, 0, 0, ...</td>\n",
       "      <td>67563085</td>\n",
       "    </tr>\n",
       "    <tr>\n",
       "      <th>19</th>\n",
       "      <td>6777482831300971781</td>\n",
       "      <td>repost bc tiktok removed it 😔✌🏼 #minions #art ...</td>\n",
       "      <td>6777455907820325637</td>\n",
       "      <td>sorry</td>\n",
       "      <td>6739657412413899782</td>\n",
       "      <td>02/12/20</td>\n",
       "      <td>False</td>\n",
       "      <td>[12830, 5261, 5407, 14057]</td>\n",
       "      <td>[minions, art, artist, painting]</td>\n",
       "      <td>[60211, 60211, 60211, 60211, 60211, 60211, 602...</td>\n",
       "      <td>62676</td>\n",
       "      <td>[2157557, 2157557, 2157559, 2157560, 2157560, ...</td>\n",
       "      <td>2254459</td>\n",
       "      <td>[10431, 10431, 10431, 10431, 10431, 10431, 104...</td>\n",
       "      <td>10816</td>\n",
       "      <td>[02/12/20 22:10:28, 02/12/20 22:10:28, 02/12/2...</td>\n",
       "      <td>[0, 0, 0, 0, 0, 0, 0, 0, 0, 0, 0, 0, 0, 0, 0, ...</td>\n",
       "      <td>19508201</td>\n",
       "    </tr>\n",
       "    <tr>\n",
       "      <th>20</th>\n",
       "      <td>6783060086697839877</td>\n",
       "      <td>it do be like dat sometimes doe🤧🥺#dinna</td>\n",
       "      <td>6742252594984520454</td>\n",
       "      <td>Трагедия 😥</td>\n",
       "      <td>59217503914057728</td>\n",
       "      <td>02/12/20</td>\n",
       "      <td>False</td>\n",
       "      <td>[925630]</td>\n",
       "      <td>[dinna]</td>\n",
       "      <td>[773, 773, 774, 777, 789, 791, 792, 794, 795, ...</td>\n",
       "      <td>892</td>\n",
       "      <td>[31570, 31573, 31610, 31691, 31849, 31893, 319...</td>\n",
       "      <td>35188</td>\n",
       "      <td>[112, 112, 112, 112, 113, 113, 113, 113, 113, ...</td>\n",
       "      <td>125</td>\n",
       "      <td>[02/12/20 22:10:28, 02/12/20 22:13:39, 02/12/2...</td>\n",
       "      <td>[0, 0, 0, 0, 0, 0, 0, 0, 0, 1671078, 1672633, ...</td>\n",
       "      <td>1842934</td>\n",
       "    </tr>\n",
       "    <tr>\n",
       "      <th>21</th>\n",
       "      <td>6769082277377936645</td>\n",
       "      <td>comment when you see it... 🤣 #yougondie #whowa...</td>\n",
       "      <td>6761883349347879685</td>\n",
       "      <td>No Idea</td>\n",
       "      <td>6652499523049078789</td>\n",
       "      <td>02/12/20</td>\n",
       "      <td>False</td>\n",
       "      <td>[194716, 889711, 1652028504165382, 1429171, 19...</td>\n",
       "      <td>[yougondie, whowantme, MaccasFryYay, randomfac...</td>\n",
       "      <td>[26084, 26084, 26086, 26125, 26137, 26156, 261...</td>\n",
       "      <td>26257</td>\n",
       "      <td>[934806, 934823, 935038, 935843, 936133, 93670...</td>\n",
       "      <td>939597</td>\n",
       "      <td>[3953, 3953, 3957, 3966, 3969, 3976, 3978, 397...</td>\n",
       "      <td>4004</td>\n",
       "      <td>[02/12/20 22:10:28, 02/12/20 22:13:39, 02/12/2...</td>\n",
       "      <td>[0, 0, 0, 0, 0, 0, 0, 0, 0, 0, 0, 0, 0, 0, 0, ...</td>\n",
       "      <td>30785002</td>\n",
       "    </tr>\n",
       "    <tr>\n",
       "      <th>22</th>\n",
       "      <td>6789793077612547333</td>\n",
       "      <td>#paradisepd #fyp</td>\n",
       "      <td>6773405926327175942</td>\n",
       "      <td>original sound</td>\n",
       "      <td>9733249</td>\n",
       "      <td>02/12/20</td>\n",
       "      <td>False</td>\n",
       "      <td>[1610445138827270, 229207]</td>\n",
       "      <td>[paradisepd, fyp]</td>\n",
       "      <td>[7159, 7164, 7187, 7283, 7319, 7320, 7327, 737...</td>\n",
       "      <td>9731</td>\n",
       "      <td>[66227, 66248, 66460, 67291, 67535, 67543, 675...</td>\n",
       "      <td>83481</td>\n",
       "      <td>[683, 683, 684, 688, 691, 691, 691, 696, 697, ...</td>\n",
       "      <td>885</td>\n",
       "      <td>[02/12/20 22:10:28, 02/12/20 22:13:39, 02/12/2...</td>\n",
       "      <td>[0, 0, 0, 0, 0, 0, 0, 1453072, 1458791, 146422...</td>\n",
       "      <td>2129092</td>\n",
       "    </tr>\n",
       "    <tr>\n",
       "      <th>23</th>\n",
       "      <td>6790576926655302917</td>\n",
       "      <td>@charlidamelio</td>\n",
       "      <td>6790430625347242757</td>\n",
       "      <td>original sound</td>\n",
       "      <td>292342703596507136</td>\n",
       "      <td>02/12/20</td>\n",
       "      <td>True</td>\n",
       "      <td>[Empty]</td>\n",
       "      <td>[Empty]</td>\n",
       "      <td>[59687, 59697, 59793, 60245, 60402, 60521, 606...</td>\n",
       "      <td>107912</td>\n",
       "      <td>[3586216, 3586501, 3589447, 3605213, 3611313, ...</td>\n",
       "      <td>5423500</td>\n",
       "      <td>[27451, 27454, 27492, 27619, 27667, 27713, 277...</td>\n",
       "      <td>42986</td>\n",
       "      <td>[02/12/20 22:10:28, 02/12/20 22:13:39, 02/12/2...</td>\n",
       "      <td>[0, 0, 0, 0, 0, 0, 0, 0, 0, 0, 0, 0, 0, 0, 190...</td>\n",
       "      <td>31364107</td>\n",
       "    </tr>\n",
       "    <tr>\n",
       "      <th>24</th>\n",
       "      <td>6785649145886625029</td>\n",
       "      <td>eatin good @ disney world !!!</td>\n",
       "      <td>6658011239446350597</td>\n",
       "      <td>Muhammad</td>\n",
       "      <td>6697987317645575173</td>\n",
       "      <td>02/12/20</td>\n",
       "      <td>False</td>\n",
       "      <td>[Empty]</td>\n",
       "      <td>[Empty]</td>\n",
       "      <td>[88055, 88058, 88060, 88221, 88252, 88297, 883...</td>\n",
       "      <td>93512</td>\n",
       "      <td>[2696489, 2696504, 2696666, 2699704, 2700241, ...</td>\n",
       "      <td>2813315</td>\n",
       "      <td>[11352, 11352, 11353, 11368, 11372, 11377, 113...</td>\n",
       "      <td>11800</td>\n",
       "      <td>[02/12/20 22:10:28, 02/12/20 22:13:39, 02/12/2...</td>\n",
       "      <td>[0, 0, 0, 15655158, 15659816, 15665080, 156673...</td>\n",
       "      <td>16390524</td>\n",
       "    </tr>\n",
       "    <tr>\n",
       "      <th>25</th>\n",
       "      <td>6781999737697471750</td>\n",
       "      <td>stuck #cummins #duramax #snow #pnw #fyp #foryo...</td>\n",
       "      <td>6709395355940685826</td>\n",
       "      <td>Swing</td>\n",
       "      <td>6630520422814269445</td>\n",
       "      <td>02/12/20</td>\n",
       "      <td>False</td>\n",
       "      <td>[41746, 17329, 6041, 60634, 229207, 88764338, ...</td>\n",
       "      <td>[cummins, duramax, snow, pnw, fyp, foryoupage,...</td>\n",
       "      <td>[1924, 1933, 1941, 1945, 1991, 1998, 1999, 199...</td>\n",
       "      <td>2033</td>\n",
       "      <td>[45208, 45353, 45510, 45549, 46447, 46550, 465...</td>\n",
       "      <td>47266</td>\n",
       "      <td>[188, 188, 191, 191, 200, 200, 200, 201, 203, ...</td>\n",
       "      <td>206</td>\n",
       "      <td>[02/12/20 22:10:28, 02/13/20 00:36:29, 02/13/2...</td>\n",
       "      <td>[0, 0, 0, 0, 0, 0, 0, 0, 580599, 580760, 584344]</td>\n",
       "      <td>584344</td>\n",
       "    </tr>\n",
       "    <tr>\n",
       "      <th>26</th>\n",
       "      <td>6790883951138409734</td>\n",
       "      <td>#alarmclock #fyp #xyzcba bro i’m sacred ...</td>\n",
       "      <td>6725763510749498113</td>\n",
       "      <td>original sound - sakil samar</td>\n",
       "      <td>6790866469800133637</td>\n",
       "      <td>02/12/20</td>\n",
       "      <td>False</td>\n",
       "      <td>[401740, 229207, 1652823554560005]</td>\n",
       "      <td>[alarmclock, fyp, xyzcba]</td>\n",
       "      <td>[225, 225, 226, 235, 236, 237, 238, 238, 238, ...</td>\n",
       "      <td>317</td>\n",
       "      <td>[62602, 62611, 62724, 64332, 64607, 64940, 652...</td>\n",
       "      <td>80165</td>\n",
       "      <td>[1203, 1203, 1205, 1221, 1223, 1228, 1230, 123...</td>\n",
       "      <td>1478</td>\n",
       "      <td>[02/12/20 22:10:28, 02/12/20 22:13:39, 02/12/2...</td>\n",
       "      <td>[0, 0, 0, 0, 0, 0, 0, 0, 0, 0, 1846917, 187631...</td>\n",
       "      <td>2513366</td>\n",
       "    </tr>\n",
       "    <tr>\n",
       "      <th>27</th>\n",
       "      <td>6776306691320368389</td>\n",
       "      <td>did you think that was going to happen?!? #fyp...</td>\n",
       "      <td>6619624863797611265</td>\n",
       "      <td>原聲 - 林均均🐾</td>\n",
       "      <td>6774865749702902790</td>\n",
       "      <td>02/12/20</td>\n",
       "      <td>False</td>\n",
       "      <td>[1634922086900741, 88764338, 229207, 163430194...</td>\n",
       "      <td>[fypchallenge, foryoupage, fyp, betyoudidntthi...</td>\n",
       "      <td>[5278, 5278, 5279, 5281, 5283, 5287, 5287, 528...</td>\n",
       "      <td>5697</td>\n",
       "      <td>[279671, 279671, 279690, 279733, 279750, 27984...</td>\n",
       "      <td>284720</td>\n",
       "      <td>[3533, 3533, 3533, 3534, 3534, 3534, 3534, 353...</td>\n",
       "      <td>3638</td>\n",
       "      <td>[02/12/20 22:10:28, 02/12/20 22:13:39, 02/12/2...</td>\n",
       "      <td>[0, 0, 0, 0, 0, 0, 0, 0, 0, 0, 0, 0, 0, 0, 116...</td>\n",
       "      <td>12376503</td>\n",
       "    </tr>\n",
       "    <tr>\n",
       "      <th>28</th>\n",
       "      <td>6774876004038069510</td>\n",
       "      <td>plane just crashed in the park by my house. 😔😥...</td>\n",
       "      <td>6742252594984520454</td>\n",
       "      <td>Трагедия 😥</td>\n",
       "      <td>6630698946606071813</td>\n",
       "      <td>02/12/20</td>\n",
       "      <td>False</td>\n",
       "      <td>[229207, 88764338, 42164, 85611]</td>\n",
       "      <td>[fyp, foryoupage, foryou, universalstudios]</td>\n",
       "      <td>[20052, 20054, 20058, 20073, 20083, 20085, 200...</td>\n",
       "      <td>21017</td>\n",
       "      <td>[580227, 580236, 580320, 580593, 581004, 58117...</td>\n",
       "      <td>615751</td>\n",
       "      <td>[13392, 13392, 13397, 13406, 13415, 13422, 134...</td>\n",
       "      <td>14282</td>\n",
       "      <td>[02/12/20 22:10:28, 02/12/20 22:13:39, 02/12/2...</td>\n",
       "      <td>[0, 0, 0, 0, 0, 0, 0, 0, 0, 0, 0, 0, 0, 0, 0, ...</td>\n",
       "      <td>14172788</td>\n",
       "    </tr>\n",
       "    <tr>\n",
       "      <th>29</th>\n",
       "      <td>6782665319149325573</td>\n",
       "      <td>this is hard to do with this big ass boot🤣 #fy...</td>\n",
       "      <td>6754975284161678086</td>\n",
       "      <td>original sound</td>\n",
       "      <td>11809873</td>\n",
       "      <td>02/12/20</td>\n",
       "      <td>False</td>\n",
       "      <td>[229207, 88764338]</td>\n",
       "      <td>[fyp, foryoupage]</td>\n",
       "      <td>[4815, 4816, 4819, 4856, 4874, 4881, 4883, 489...</td>\n",
       "      <td>5138</td>\n",
       "      <td>[782818, 782857, 783229, 787876, 790768, 79170...</td>\n",
       "      <td>818703</td>\n",
       "      <td>[925, 925, 925, 927, 929, 930, 931, 931, 931, ...</td>\n",
       "      <td>981</td>\n",
       "      <td>[02/12/20 22:10:28, 02/12/20 22:13:40, 02/12/2...</td>\n",
       "      <td>[0, 0, 0, 0, 0, 0, 0, 0, 0, 0, 0, 6481570, 649...</td>\n",
       "      <td>6869834</td>\n",
       "    </tr>\n",
       "    <tr>\n",
       "      <th>...</th>\n",
       "      <td>...</td>\n",
       "      <td>...</td>\n",
       "      <td>...</td>\n",
       "      <td>...</td>\n",
       "      <td>...</td>\n",
       "      <td>...</td>\n",
       "      <td>...</td>\n",
       "      <td>...</td>\n",
       "      <td>...</td>\n",
       "      <td>...</td>\n",
       "      <td>...</td>\n",
       "      <td>...</td>\n",
       "      <td>...</td>\n",
       "      <td>...</td>\n",
       "      <td>...</td>\n",
       "      <td>...</td>\n",
       "      <td>...</td>\n",
       "      <td>...</td>\n",
       "    </tr>\n",
       "    <tr>\n",
       "      <th>97078</th>\n",
       "      <td>6799307955301829894</td>\n",
       "      <td>sometimes you gotta play the wingman 🤪🥰 @haile...</td>\n",
       "      <td>6794905760338938629</td>\n",
       "      <td>What The Hell X Ready Or Not</td>\n",
       "      <td>6643324689149263877</td>\n",
       "      <td>03/02/20</td>\n",
       "      <td>True</td>\n",
       "      <td>[Empty]</td>\n",
       "      <td>[Empty]</td>\n",
       "      <td>[3373]</td>\n",
       "      <td>3373</td>\n",
       "      <td>[654944]</td>\n",
       "      <td>654944</td>\n",
       "      <td>[1413]</td>\n",
       "      <td>1413</td>\n",
       "      <td>[03/02/20 14:30:38]</td>\n",
       "      <td>[5153226]</td>\n",
       "      <td>5153226</td>\n",
       "    </tr>\n",
       "    <tr>\n",
       "      <th>97079</th>\n",
       "      <td>6799371956962561286</td>\n",
       "      <td>#fyp #trendiing don’t have a signature? try this!</td>\n",
       "      <td>6782222148476947205</td>\n",
       "      <td>Don't Start Now</td>\n",
       "      <td>6652070944410271750</td>\n",
       "      <td>03/02/20</td>\n",
       "      <td>False</td>\n",
       "      <td>[229207, 66023992]</td>\n",
       "      <td>[fyp, trendiing]</td>\n",
       "      <td>[996]</td>\n",
       "      <td>996</td>\n",
       "      <td>[14009]</td>\n",
       "      <td>14009</td>\n",
       "      <td>[19]</td>\n",
       "      <td>19</td>\n",
       "      <td>[03/02/20 14:31:50]</td>\n",
       "      <td>[174795]</td>\n",
       "      <td>174795</td>\n",
       "    </tr>\n",
       "    <tr>\n",
       "      <th>97080</th>\n",
       "      <td>6786422450902142214</td>\n",
       "      <td>#heatingupmysnackcheck #heatingup</td>\n",
       "      <td>6764052771395160838</td>\n",
       "      <td>original sound</td>\n",
       "      <td>6538001044486493199</td>\n",
       "      <td>03/02/20</td>\n",
       "      <td>False</td>\n",
       "      <td>[1655477842947078, 6506246]</td>\n",
       "      <td>[heatingupmysnackcheck, heatingup]</td>\n",
       "      <td>[12, 12, 12]</td>\n",
       "      <td>12</td>\n",
       "      <td>[277, 277, 277]</td>\n",
       "      <td>277</td>\n",
       "      <td>[8, 8, 8]</td>\n",
       "      <td>8</td>\n",
       "      <td>[03/02/20 14:34:38, 03/02/20 14:56:53, 03/02/2...</td>\n",
       "      <td>[86699, 86701, 86701]</td>\n",
       "      <td>86701</td>\n",
       "    </tr>\n",
       "    <tr>\n",
       "      <th>97081</th>\n",
       "      <td>6789064747380706565</td>\n",
       "      <td>wooooo😱😱😱</td>\n",
       "      <td>6788500679070698246</td>\n",
       "      <td>sonido original</td>\n",
       "      <td>6609540948488077317</td>\n",
       "      <td>03/02/20</td>\n",
       "      <td>False</td>\n",
       "      <td>[Empty]</td>\n",
       "      <td>[Empty]</td>\n",
       "      <td>[27]</td>\n",
       "      <td>27</td>\n",
       "      <td>[1229]</td>\n",
       "      <td>1229</td>\n",
       "      <td>[0]</td>\n",
       "      <td>0</td>\n",
       "      <td>[03/02/20 14:35:57]</td>\n",
       "      <td>[109077]</td>\n",
       "      <td>109077</td>\n",
       "    </tr>\n",
       "    <tr>\n",
       "      <th>97082</th>\n",
       "      <td>6788126350524845318</td>\n",
       "      <td>#dinosaur #xyzbca</td>\n",
       "      <td>6768913323254696710</td>\n",
       "      <td>The Box</td>\n",
       "      <td>6717531416245552133</td>\n",
       "      <td>03/02/20</td>\n",
       "      <td>False</td>\n",
       "      <td>[14140, 1652484531221509]</td>\n",
       "      <td>[dinosaur, xyzbca]</td>\n",
       "      <td>[3735]</td>\n",
       "      <td>3735</td>\n",
       "      <td>[43053]</td>\n",
       "      <td>43053</td>\n",
       "      <td>[439]</td>\n",
       "      <td>439</td>\n",
       "      <td>[03/02/20 14:36:29]</td>\n",
       "      <td>[664349]</td>\n",
       "      <td>664349</td>\n",
       "    </tr>\n",
       "    <tr>\n",
       "      <th>97083</th>\n",
       "      <td>6799471905838615813</td>\n",
       "      <td>hell nahh😂 #xyzbca #fyp #foryoupage #viral #vi...</td>\n",
       "      <td>6799347284543949574</td>\n",
       "      <td>original sound</td>\n",
       "      <td>6742302398498440198</td>\n",
       "      <td>03/02/20</td>\n",
       "      <td>False</td>\n",
       "      <td>[1652484531221509, 229207, 88764338, 20884, 58...</td>\n",
       "      <td>[xyzbca, fyp, foryoupage, viral, vine, memes]</td>\n",
       "      <td>[3619, 5400, 7109]</td>\n",
       "      <td>7109</td>\n",
       "      <td>[103697, 146832, 183578]</td>\n",
       "      <td>183578</td>\n",
       "      <td>[698, 922, 1121]</td>\n",
       "      <td>1121</td>\n",
       "      <td>[03/02/20 14:49:42, 03/02/20 15:51:12, 03/02/2...</td>\n",
       "      <td>[507978, 704319, 877576]</td>\n",
       "      <td>877576</td>\n",
       "    </tr>\n",
       "    <tr>\n",
       "      <th>97084</th>\n",
       "      <td>6789790548560481541</td>\n",
       "      <td>#fyp #viralvideo #viralvideo next time you get...</td>\n",
       "      <td>6789357153397377797</td>\n",
       "      <td>original sound</td>\n",
       "      <td>4851996</td>\n",
       "      <td>03/02/20</td>\n",
       "      <td>False</td>\n",
       "      <td>[229207, 85133]</td>\n",
       "      <td>[fyp, viralvideo]</td>\n",
       "      <td>[14672]</td>\n",
       "      <td>14672</td>\n",
       "      <td>[153638]</td>\n",
       "      <td>153638</td>\n",
       "      <td>[709]</td>\n",
       "      <td>709</td>\n",
       "      <td>[03/02/20 14:57:33]</td>\n",
       "      <td>[2774602]</td>\n",
       "      <td>2774602</td>\n",
       "    </tr>\n",
       "    <tr>\n",
       "      <th>97085</th>\n",
       "      <td>6789404152708500741</td>\n",
       "      <td>i feel so lucky that i got to see her preform ...</td>\n",
       "      <td>6789365269736278790</td>\n",
       "      <td>original sound</td>\n",
       "      <td>6758935338657416198</td>\n",
       "      <td>03/02/20</td>\n",
       "      <td>False</td>\n",
       "      <td>[1342023, 19990895, 229207, 241618]</td>\n",
       "      <td>[dancemonkey, dancemonkeychallenge, fyp, aus]</td>\n",
       "      <td>[6729, 6915]</td>\n",
       "      <td>6915</td>\n",
       "      <td>[248141, 256538]</td>\n",
       "      <td>256538</td>\n",
       "      <td>[1063, 1094]</td>\n",
       "      <td>1094</td>\n",
       "      <td>[03/02/20 14:57:52, 03/02/20 16:15:36]</td>\n",
       "      <td>[3156914, 3259635]</td>\n",
       "      <td>3259635</td>\n",
       "    </tr>\n",
       "    <tr>\n",
       "      <th>97086</th>\n",
       "      <td>6790993420086152454</td>\n",
       "      <td>ima just shut up😂 #fyp #foryoupage</td>\n",
       "      <td>6779373199130888965</td>\n",
       "      <td>original sound</td>\n",
       "      <td>6708859560877540358</td>\n",
       "      <td>03/02/20</td>\n",
       "      <td>False</td>\n",
       "      <td>[229207, 88764338]</td>\n",
       "      <td>[fyp, foryoupage]</td>\n",
       "      <td>[10947, 10992]</td>\n",
       "      <td>10992</td>\n",
       "      <td>[229017, 230231]</td>\n",
       "      <td>230231</td>\n",
       "      <td>[390, 391]</td>\n",
       "      <td>391</td>\n",
       "      <td>[03/02/20 14:59:54, 03/02/20 16:14:20]</td>\n",
       "      <td>[1333065, 1340314]</td>\n",
       "      <td>1340314</td>\n",
       "    </tr>\n",
       "    <tr>\n",
       "      <th>97087</th>\n",
       "      <td>6799525742569852165</td>\n",
       "      <td>pranking my greek dad till i get famous #prank...</td>\n",
       "      <td>6799257504069995270</td>\n",
       "      <td>original sound</td>\n",
       "      <td>6793924345146442757</td>\n",
       "      <td>03/02/20</td>\n",
       "      <td>False</td>\n",
       "      <td>[9122, 229207, 9145, 44895, 7353]</td>\n",
       "      <td>[prank, fyp, famous, trend, wow]</td>\n",
       "      <td>[514, 612]</td>\n",
       "      <td>612</td>\n",
       "      <td>[68482, 84598]</td>\n",
       "      <td>84598</td>\n",
       "      <td>[154, 167]</td>\n",
       "      <td>167</td>\n",
       "      <td>[03/02/20 15:47:18, 03/02/20 16:47:39]</td>\n",
       "      <td>[371624, 441374]</td>\n",
       "      <td>441374</td>\n",
       "    </tr>\n",
       "    <tr>\n",
       "      <th>97088</th>\n",
       "      <td>6798630902034353414</td>\n",
       "      <td>#duet with @mashable if someone calls me a sim...</td>\n",
       "      <td>6791197912379460357</td>\n",
       "      <td>Attention by Todrick Hall</td>\n",
       "      <td>6627527362948956166</td>\n",
       "      <td>03/02/20</td>\n",
       "      <td>False</td>\n",
       "      <td>[30496, 42164, 88764338]</td>\n",
       "      <td>[duet, foryou, foryoupage]</td>\n",
       "      <td>[36]</td>\n",
       "      <td>36</td>\n",
       "      <td>[3317]</td>\n",
       "      <td>3317</td>\n",
       "      <td>[21]</td>\n",
       "      <td>21</td>\n",
       "      <td>[03/02/20 15:47:46]</td>\n",
       "      <td>[56572]</td>\n",
       "      <td>56572</td>\n",
       "    </tr>\n",
       "    <tr>\n",
       "      <th>97089</th>\n",
       "      <td>6799520699728907525</td>\n",
       "      <td>my kidnapper turns out to be.. part 4 #fyp #fu...</td>\n",
       "      <td>6799368124081752837</td>\n",
       "      <td>original sound</td>\n",
       "      <td>6746359795107087365</td>\n",
       "      <td>03/02/20</td>\n",
       "      <td>False</td>\n",
       "      <td>[229207, 5424, 1652484531221509, 42164, 20884]</td>\n",
       "      <td>[fyp, funny, xyzbca, foryou, viral]</td>\n",
       "      <td>[1763]</td>\n",
       "      <td>1763</td>\n",
       "      <td>[107761]</td>\n",
       "      <td>107761</td>\n",
       "      <td>[326]</td>\n",
       "      <td>326</td>\n",
       "      <td>[03/02/20 16:06:29]</td>\n",
       "      <td>[616766]</td>\n",
       "      <td>616766</td>\n",
       "    </tr>\n",
       "    <tr>\n",
       "      <th>97090</th>\n",
       "      <td>6799569238198684934</td>\n",
       "      <td>abnormal #mood #feels #whileyouwerebusy #boys</td>\n",
       "      <td>6799417187279833862</td>\n",
       "      <td>original sound</td>\n",
       "      <td>6757135678398317573</td>\n",
       "      <td>03/02/20</td>\n",
       "      <td>False</td>\n",
       "      <td>[7692, 35573, 1659823360535558, 6861]</td>\n",
       "      <td>[mood, feels, whileyouwerebusy, boys]</td>\n",
       "      <td>[1957, 3897, 22843]</td>\n",
       "      <td>22843</td>\n",
       "      <td>[78758, 153711, 838633]</td>\n",
       "      <td>838633</td>\n",
       "      <td>[447, 957, 5258]</td>\n",
       "      <td>5258</td>\n",
       "      <td>[03/02/20 16:08:55, 03/02/20 16:48:11, 03/02/2...</td>\n",
       "      <td>[544100, 970657, 5068529]</td>\n",
       "      <td>5068529</td>\n",
       "    </tr>\n",
       "    <tr>\n",
       "      <th>97091</th>\n",
       "      <td>6786349889497484550</td>\n",
       "      <td>prt.1</td>\n",
       "      <td>6785948532655704838</td>\n",
       "      <td>original sound</td>\n",
       "      <td>6774595079195624453</td>\n",
       "      <td>03/02/20</td>\n",
       "      <td>False</td>\n",
       "      <td>[Empty]</td>\n",
       "      <td>[Empty]</td>\n",
       "      <td>[8]</td>\n",
       "      <td>8</td>\n",
       "      <td>[7905]</td>\n",
       "      <td>7905</td>\n",
       "      <td>[20]</td>\n",
       "      <td>20</td>\n",
       "      <td>[03/02/20 16:12:11]</td>\n",
       "      <td>[335255]</td>\n",
       "      <td>335255</td>\n",
       "    </tr>\n",
       "    <tr>\n",
       "      <th>97092</th>\n",
       "      <td>6789322350086065413</td>\n",
       "      <td>yeah i know i’m lame but my truck isn’t tho 🤪😍</td>\n",
       "      <td>6779751964147206146</td>\n",
       "      <td>My Truck</td>\n",
       "      <td>6693250221813777413</td>\n",
       "      <td>03/02/20</td>\n",
       "      <td>False</td>\n",
       "      <td>[Empty]</td>\n",
       "      <td>[Empty]</td>\n",
       "      <td>[35]</td>\n",
       "      <td>35</td>\n",
       "      <td>[15568]</td>\n",
       "      <td>15568</td>\n",
       "      <td>[87]</td>\n",
       "      <td>87</td>\n",
       "      <td>[03/02/20 16:57:34]</td>\n",
       "      <td>[184439]</td>\n",
       "      <td>184439</td>\n",
       "    </tr>\n",
       "    <tr>\n",
       "      <th>97093</th>\n",
       "      <td>6799339970835369221</td>\n",
       "      <td>when people ask me what my hidden talent is😍🤣</td>\n",
       "      <td>6799290485379779334</td>\n",
       "      <td>original sound</td>\n",
       "      <td>23393702</td>\n",
       "      <td>03/02/20</td>\n",
       "      <td>False</td>\n",
       "      <td>[Empty]</td>\n",
       "      <td>[Empty]</td>\n",
       "      <td>[2371]</td>\n",
       "      <td>2371</td>\n",
       "      <td>[22336]</td>\n",
       "      <td>22336</td>\n",
       "      <td>[807]</td>\n",
       "      <td>807</td>\n",
       "      <td>[03/02/20 21:48:47]</td>\n",
       "      <td>[483872]</td>\n",
       "      <td>483872</td>\n",
       "    </tr>\n",
       "    <tr>\n",
       "      <th>97094</th>\n",
       "      <td>6799559744907414789</td>\n",
       "      <td>no. hand dryers are not effective in killing #...</td>\n",
       "      <td>6704333887629232901</td>\n",
       "      <td>Opaul</td>\n",
       "      <td>6628098412149719045</td>\n",
       "      <td>03/02/20</td>\n",
       "      <td>True</td>\n",
       "      <td>[1635241621599237, 1658256581292037, 163358925...</td>\n",
       "      <td>[coronavirus, covid19, edutok, savealife]</td>\n",
       "      <td>[1490]</td>\n",
       "      <td>1490</td>\n",
       "      <td>[568282]</td>\n",
       "      <td>568282</td>\n",
       "      <td>[1082]</td>\n",
       "      <td>1082</td>\n",
       "      <td>[03/02/20 21:49:34]</td>\n",
       "      <td>[16939665]</td>\n",
       "      <td>16939665</td>\n",
       "    </tr>\n",
       "    <tr>\n",
       "      <th>97095</th>\n",
       "      <td>6799334670719880453</td>\n",
       "      <td>#panicatthedisco #fyp</td>\n",
       "      <td>6780729448900709126</td>\n",
       "      <td>original sound</td>\n",
       "      <td>100829075413348352</td>\n",
       "      <td>03/02/20</td>\n",
       "      <td>False</td>\n",
       "      <td>[1854, 229207]</td>\n",
       "      <td>[panicatthedisco, fyp]</td>\n",
       "      <td>[33]</td>\n",
       "      <td>33</td>\n",
       "      <td>[4823]</td>\n",
       "      <td>4823</td>\n",
       "      <td>[33]</td>\n",
       "      <td>33</td>\n",
       "      <td>[03/02/20 21:50:45]</td>\n",
       "      <td>[86925]</td>\n",
       "      <td>86925</td>\n",
       "    </tr>\n",
       "    <tr>\n",
       "      <th>97096</th>\n",
       "      <td>6799581425780673797</td>\n",
       "      <td>holly and phil and me smashing it #viral</td>\n",
       "      <td>6793051799466068742</td>\n",
       "      <td>original sound</td>\n",
       "      <td>6682825752498914310</td>\n",
       "      <td>03/02/20</td>\n",
       "      <td>True</td>\n",
       "      <td>[20884]</td>\n",
       "      <td>[viral]</td>\n",
       "      <td>[4064]</td>\n",
       "      <td>4064</td>\n",
       "      <td>[178519]</td>\n",
       "      <td>178519</td>\n",
       "      <td>[1684]</td>\n",
       "      <td>1684</td>\n",
       "      <td>[03/02/20 21:51:01]</td>\n",
       "      <td>[1530316]</td>\n",
       "      <td>1530316</td>\n",
       "    </tr>\n",
       "    <tr>\n",
       "      <th>97097</th>\n",
       "      <td>6797362913012223237</td>\n",
       "      <td>i̇nstagram; sanatsokakta.official  🥰 #denizli ...</td>\n",
       "      <td>6772220098167065349</td>\n",
       "      <td>original sound</td>\n",
       "      <td>6621146113439268870</td>\n",
       "      <td>03/02/20</td>\n",
       "      <td>True</td>\n",
       "      <td>[2137435, 23428, 5261, 5407, 229207, 161664179...</td>\n",
       "      <td>[denizli, tiktok, art, artist, fyp, sanatsokak...</td>\n",
       "      <td>[2218]</td>\n",
       "      <td>2218</td>\n",
       "      <td>[1263688]</td>\n",
       "      <td>1263688</td>\n",
       "      <td>[2652]</td>\n",
       "      <td>2652</td>\n",
       "      <td>[03/02/20 21:53:10]</td>\n",
       "      <td>[8215946]</td>\n",
       "      <td>8215946</td>\n",
       "    </tr>\n",
       "    <tr>\n",
       "      <th>97098</th>\n",
       "      <td>6799599040079187205</td>\n",
       "      <td>rang 111 last night they won’t let me go to ho...</td>\n",
       "      <td>5000000001452320180</td>\n",
       "      <td>Exactly How I Feel (feat. Gucci Mane)</td>\n",
       "      <td>28236909</td>\n",
       "      <td>03/02/20</td>\n",
       "      <td>False</td>\n",
       "      <td>[229207, 88764338, 108264, 1651867228253190]</td>\n",
       "      <td>[fyp, foryoupage, foru, tiktoktraditions]</td>\n",
       "      <td>[108]</td>\n",
       "      <td>108</td>\n",
       "      <td>[4262]</td>\n",
       "      <td>4262</td>\n",
       "      <td>[68]</td>\n",
       "      <td>68</td>\n",
       "      <td>[03/02/20 21:54:06]</td>\n",
       "      <td>[55780]</td>\n",
       "      <td>55780</td>\n",
       "    </tr>\n",
       "    <tr>\n",
       "      <th>97099</th>\n",
       "      <td>6795213624240540934</td>\n",
       "      <td>#mumgotmad</td>\n",
       "      <td>6783015061746109190</td>\n",
       "      <td>original sound</td>\n",
       "      <td>6777407440155837445</td>\n",
       "      <td>03/02/20</td>\n",
       "      <td>False</td>\n",
       "      <td>[20015745]</td>\n",
       "      <td>[mumgotmad]</td>\n",
       "      <td>[2320]</td>\n",
       "      <td>2320</td>\n",
       "      <td>[20865]</td>\n",
       "      <td>20865</td>\n",
       "      <td>[161]</td>\n",
       "      <td>161</td>\n",
       "      <td>[03/02/20 21:54:40]</td>\n",
       "      <td>[421019]</td>\n",
       "      <td>421019</td>\n",
       "    </tr>\n",
       "    <tr>\n",
       "      <th>97100</th>\n",
       "      <td>6799475654229232902</td>\n",
       "      <td>is this why no one will date me? #fy #foryoupa...</td>\n",
       "      <td>6799242799695792902</td>\n",
       "      <td>original sound</td>\n",
       "      <td>6789542262252389381</td>\n",
       "      <td>03/02/20</td>\n",
       "      <td>False</td>\n",
       "      <td>[153828, 88764338, 116175]</td>\n",
       "      <td>[fy, foryoupage, bretmanrock]</td>\n",
       "      <td>[4601]</td>\n",
       "      <td>4601</td>\n",
       "      <td>[54575]</td>\n",
       "      <td>54575</td>\n",
       "      <td>[315]</td>\n",
       "      <td>315</td>\n",
       "      <td>[03/02/20 22:49:21]</td>\n",
       "      <td>[563474]</td>\n",
       "      <td>563474</td>\n",
       "    </tr>\n",
       "    <tr>\n",
       "      <th>97101</th>\n",
       "      <td>6794864728704322821</td>\n",
       "      <td>introducing the gator visor! #unnecessaryinven...</td>\n",
       "      <td>6794443331674950406</td>\n",
       "      <td>original sound</td>\n",
       "      <td>6652248296910798853</td>\n",
       "      <td>03/02/20</td>\n",
       "      <td>False</td>\n",
       "      <td>[1647603264257029]</td>\n",
       "      <td>[unnecessaryinventions]</td>\n",
       "      <td>[1621]</td>\n",
       "      <td>1621</td>\n",
       "      <td>[123262]</td>\n",
       "      <td>123262</td>\n",
       "      <td>[401]</td>\n",
       "      <td>401</td>\n",
       "      <td>[03/02/20 22:49:32]</td>\n",
       "      <td>[571387]</td>\n",
       "      <td>571387</td>\n",
       "    </tr>\n",
       "    <tr>\n",
       "      <th>97102</th>\n",
       "      <td>6799710937017224454</td>\n",
       "      <td>the crew @connor5lee @brycebuse3 @ryanclem #fy...</td>\n",
       "      <td>6570711757868927750</td>\n",
       "      <td>Every time I hear this audio I die a little in...</td>\n",
       "      <td>6710014944182256646</td>\n",
       "      <td>03/02/20</td>\n",
       "      <td>False</td>\n",
       "      <td>[229207, 20884, 1652484531221509, 160841723557...</td>\n",
       "      <td>[fyp, viral, xyzbca, tiktokuniversity]</td>\n",
       "      <td>[3726]</td>\n",
       "      <td>3726</td>\n",
       "      <td>[108739]</td>\n",
       "      <td>108739</td>\n",
       "      <td>[691]</td>\n",
       "      <td>691</td>\n",
       "      <td>[03/02/20 22:49:46]</td>\n",
       "      <td>[704874]</td>\n",
       "      <td>704874</td>\n",
       "    </tr>\n",
       "    <tr>\n",
       "      <th>97103</th>\n",
       "      <td>6799430404639100165</td>\n",
       "      <td>it’s corona time! 😷 #prank #walmart #walmartpr...</td>\n",
       "      <td>6785648748992416518</td>\n",
       "      <td>Its Corona time</td>\n",
       "      <td>6782361878985163782</td>\n",
       "      <td>03/02/20</td>\n",
       "      <td>False</td>\n",
       "      <td>[9122, 12336, 46609930, 21068, 45975747, 16002...</td>\n",
       "      <td>[prank, walmart, walmartprank, corona, coronat...</td>\n",
       "      <td>[320]</td>\n",
       "      <td>320</td>\n",
       "      <td>[5604]</td>\n",
       "      <td>5604</td>\n",
       "      <td>[58]</td>\n",
       "      <td>58</td>\n",
       "      <td>[03/02/20 22:50:27]</td>\n",
       "      <td>[166717]</td>\n",
       "      <td>166717</td>\n",
       "    </tr>\n",
       "    <tr>\n",
       "      <th>97104</th>\n",
       "      <td>6799694177144671494</td>\n",
       "      <td>#alternativewoahchallenge @realadamrose @lizzy...</td>\n",
       "      <td>6793433792309676806</td>\n",
       "      <td>alternative woah challenge</td>\n",
       "      <td>6626462024983674886</td>\n",
       "      <td>03/02/20</td>\n",
       "      <td>True</td>\n",
       "      <td>[1658555995185158]</td>\n",
       "      <td>[alternativewoahchallenge]</td>\n",
       "      <td>[246]</td>\n",
       "      <td>246</td>\n",
       "      <td>[43245]</td>\n",
       "      <td>43245</td>\n",
       "      <td>[217]</td>\n",
       "      <td>217</td>\n",
       "      <td>[03/02/20 22:54:20]</td>\n",
       "      <td>[459768]</td>\n",
       "      <td>459768</td>\n",
       "    </tr>\n",
       "    <tr>\n",
       "      <th>97105</th>\n",
       "      <td>6781563800333094150</td>\n",
       "      <td>thx mom &amp; dad #lol 😂 @garrett_randol</td>\n",
       "      <td>6772228994226998021</td>\n",
       "      <td>Moon</td>\n",
       "      <td>6566326583699111942</td>\n",
       "      <td>03/02/20</td>\n",
       "      <td>True</td>\n",
       "      <td>[1745]</td>\n",
       "      <td>[lol]</td>\n",
       "      <td>[1297]</td>\n",
       "      <td>1297</td>\n",
       "      <td>[237339]</td>\n",
       "      <td>237339</td>\n",
       "      <td>[723]</td>\n",
       "      <td>723</td>\n",
       "      <td>[03/02/20 22:55:59]</td>\n",
       "      <td>[1090513]</td>\n",
       "      <td>1090513</td>\n",
       "    </tr>\n",
       "    <tr>\n",
       "      <th>97106</th>\n",
       "      <td>6799693162395766022</td>\n",
       "      <td>here’s a re-creation of my most liked video wi...</td>\n",
       "      <td>6709852374694939398</td>\n",
       "      <td>Now You Have A Doggy</td>\n",
       "      <td>6640476014487322629</td>\n",
       "      <td>03/02/20</td>\n",
       "      <td>False</td>\n",
       "      <td>[229207, 578824, 88764338]</td>\n",
       "      <td>[fyp, drawingchallenge, foryoupage]</td>\n",
       "      <td>[210]</td>\n",
       "      <td>210</td>\n",
       "      <td>[12296]</td>\n",
       "      <td>12296</td>\n",
       "      <td>[35]</td>\n",
       "      <td>35</td>\n",
       "      <td>[03/02/20 22:56:13]</td>\n",
       "      <td>[91478]</td>\n",
       "      <td>91478</td>\n",
       "    </tr>\n",
       "    <tr>\n",
       "      <th>97107</th>\n",
       "      <td>6799209702984092934</td>\n",
       "      <td>it got taken down at 130k get it back up #kill...</td>\n",
       "      <td>6795088715745200901</td>\n",
       "      <td>original sound</td>\n",
       "      <td>6798576874365830149</td>\n",
       "      <td>03/02/20</td>\n",
       "      <td>False</td>\n",
       "      <td>[1659963231157254]</td>\n",
       "      <td>[killerbean4l]</td>\n",
       "      <td>[8173]</td>\n",
       "      <td>8173</td>\n",
       "      <td>[114738]</td>\n",
       "      <td>114738</td>\n",
       "      <td>[473]</td>\n",
       "      <td>473</td>\n",
       "      <td>[03/02/20 22:57:16]</td>\n",
       "      <td>[848629]</td>\n",
       "      <td>848629</td>\n",
       "    </tr>\n",
       "  </tbody>\n",
       "</table>\n",
       "<p>97108 rows × 18 columns</p>\n",
       "</div>"
      ],
      "text/plain": [
       "                        ID                                               Text  \\\n",
       "0      6761927387056803078       ⚠️dont watch this if you get scared easily⚠️   \n",
       "1      6767171268698459397  why did she have to do us like that??#duet wit...   \n",
       "2      6790763152624635142  knock knock @theswayla @luvanthony @jadenhossl...   \n",
       "3      6776323328597708038  i had fun making this #school #math #homework ...   \n",
       "4      6791154073669291270  #pleasershoes #newname #immolly #2020 #jobtips...   \n",
       "5      6783115808630426885  \"the prize of beauty is costly 👹👿.\" #lol #funn...   \n",
       "6      6785629753413061894         straight facts 👀 #fyp #foru #viral #xyzbca   \n",
       "7      6792428767085088006                      how singers stub their toe 😂😂   \n",
       "8      6792004622493011206  time to wake up son!! #fyp #fart #foryourpage ...   \n",
       "9      6789624774256626950                             #jlosuperbowlchallenge   \n",
       "10     6760064329745272070                                   #fyp #foryoupage   \n",
       "11     6791607527869107461  i get asked if i speak spanish all the time 😂 ...   \n",
       "12     6760100340923747589    i want a kid #fyp #foryou #borntoglow #movember   \n",
       "13     6787095245634030853  live to the fullest, enjoy every moment! me an...   \n",
       "14     6782374417121955078     he actually wanted to fight us 😂😂 #fyp #foryou   \n",
       "15     6790014861343575301  lmao she kept eyeing up that bottle but this i...   \n",
       "16     6783658068694535429  #trending #foryourpage #walkitout #dustinbadon...   \n",
       "17     6784153917396716805                     baller-ina pt. 2 #rustychurrrr   \n",
       "18     6785905540405988613  who can guess what i’m doing ? #kelekutz #fory...   \n",
       "19     6777482831300971781  repost bc tiktok removed it 😔✌🏼 #minions #art ...   \n",
       "20     6783060086697839877            it do be like dat sometimes doe🤧🥺#dinna   \n",
       "21     6769082277377936645  comment when you see it... 🤣 #yougondie #whowa...   \n",
       "22     6789793077612547333                                   #paradisepd #fyp   \n",
       "23     6790576926655302917                                     @charlidamelio   \n",
       "24     6785649145886625029                      eatin good @ disney world !!!   \n",
       "25     6781999737697471750  stuck #cummins #duramax #snow #pnw #fyp #foryo...   \n",
       "26     6790883951138409734        #alarmclock #fyp #xyzcba bro i’m sacred ...   \n",
       "27     6776306691320368389  did you think that was going to happen?!? #fyp...   \n",
       "28     6774876004038069510  plane just crashed in the park by my house. 😔😥...   \n",
       "29     6782665319149325573  this is hard to do with this big ass boot🤣 #fy...   \n",
       "...                    ...                                                ...   \n",
       "97078  6799307955301829894  sometimes you gotta play the wingman 🤪🥰 @haile...   \n",
       "97079  6799371956962561286  #fyp #trendiing don’t have a signature? try this!   \n",
       "97080  6786422450902142214                  #heatingupmysnackcheck #heatingup   \n",
       "97081  6789064747380706565                                          wooooo😱😱😱   \n",
       "97082  6788126350524845318                                  #dinosaur #xyzbca   \n",
       "97083  6799471905838615813  hell nahh😂 #xyzbca #fyp #foryoupage #viral #vi...   \n",
       "97084  6789790548560481541  #fyp #viralvideo #viralvideo next time you get...   \n",
       "97085  6789404152708500741  i feel so lucky that i got to see her preform ...   \n",
       "97086  6790993420086152454                 ima just shut up😂 #fyp #foryoupage   \n",
       "97087  6799525742569852165  pranking my greek dad till i get famous #prank...   \n",
       "97088  6798630902034353414  #duet with @mashable if someone calls me a sim...   \n",
       "97089  6799520699728907525  my kidnapper turns out to be.. part 4 #fyp #fu...   \n",
       "97090  6799569238198684934      abnormal #mood #feels #whileyouwerebusy #boys   \n",
       "97091  6786349889497484550                                              prt.1   \n",
       "97092  6789322350086065413     yeah i know i’m lame but my truck isn’t tho 🤪😍   \n",
       "97093  6799339970835369221      when people ask me what my hidden talent is😍🤣   \n",
       "97094  6799559744907414789  no. hand dryers are not effective in killing #...   \n",
       "97095  6799334670719880453                              #panicatthedisco #fyp   \n",
       "97096  6799581425780673797           holly and phil and me smashing it #viral   \n",
       "97097  6797362913012223237  i̇nstagram; sanatsokakta.official  🥰 #denizli ...   \n",
       "97098  6799599040079187205  rang 111 last night they won’t let me go to ho...   \n",
       "97099  6795213624240540934                                         #mumgotmad   \n",
       "97100  6799475654229232902  is this why no one will date me? #fy #foryoupa...   \n",
       "97101  6794864728704322821  introducing the gator visor! #unnecessaryinven...   \n",
       "97102  6799710937017224454  the crew @connor5lee @brycebuse3 @ryanclem #fy...   \n",
       "97103  6799430404639100165  it’s corona time! 😷 #prank #walmart #walmartpr...   \n",
       "97104  6799694177144671494  #alternativewoahchallenge @realadamrose @lizzy...   \n",
       "97105  6781563800333094150               thx mom & dad #lol 😂 @garrett_randol   \n",
       "97106  6799693162395766022  here’s a re-creation of my most liked video wi...   \n",
       "97107  6799209702984092934  it got taken down at 130k get it back up #kill...   \n",
       "\n",
       "                  Music Id                                         Music Name  \\\n",
       "0      6617219327542168326                                    I smell pennies   \n",
       "1      6735137560026172166                          Shake Dat (feat. Lil Jay)   \n",
       "2      6788500679070698246                                    sonido original   \n",
       "3      6654569114121554693                            Why School Is Like This   \n",
       "4      6703371208655768326                             Walk But In a Garden\\t   \n",
       "5      6783112223985257222                                     original sound   \n",
       "6      6785627585360513798                                     original sound   \n",
       "7      6791798150593088262                                     original sound   \n",
       "8      6723717547528555269                                     original sound   \n",
       "9      6773405926327175942                                     original sound   \n",
       "10     6756404584064813830                                     original sound   \n",
       "11     6757821587539430149                                     original sound   \n",
       "12     6732824961100090117                                     original sound   \n",
       "13     6787088930018822918                                     original sound   \n",
       "14     6704085016193796866                                can't stop laughing   \n",
       "15     6581796177140943622                                           #HeyStop   \n",
       "16               102952200                                       Walk It Out!   \n",
       "17     6782719503613627142                                     original sound   \n",
       "18     6732440023414721285                                          Get Silly   \n",
       "19     6777455907820325637                                              sorry   \n",
       "20     6742252594984520454                                         Трагедия 😥   \n",
       "21     6761883349347879685                                            No Idea   \n",
       "22     6773405926327175942                                     original sound   \n",
       "23     6790430625347242757                                     original sound   \n",
       "24     6658011239446350597                                           Muhammad   \n",
       "25     6709395355940685826                                              Swing   \n",
       "26     6725763510749498113                       original sound - sakil samar   \n",
       "27     6619624863797611265                                          原聲 - 林均均🐾   \n",
       "28     6742252594984520454                                         Трагедия 😥   \n",
       "29     6754975284161678086                                     original sound   \n",
       "...                    ...                                                ...   \n",
       "97078  6794905760338938629                       What The Hell X Ready Or Not   \n",
       "97079  6782222148476947205                                    Don't Start Now   \n",
       "97080  6764052771395160838                                     original sound   \n",
       "97081  6788500679070698246                                    sonido original   \n",
       "97082  6768913323254696710                                            The Box   \n",
       "97083  6799347284543949574                                     original sound   \n",
       "97084  6789357153397377797                                     original sound   \n",
       "97085  6789365269736278790                                     original sound   \n",
       "97086  6779373199130888965                                     original sound   \n",
       "97087  6799257504069995270                                     original sound   \n",
       "97088  6791197912379460357                          Attention by Todrick Hall   \n",
       "97089  6799368124081752837                                     original sound   \n",
       "97090  6799417187279833862                                     original sound   \n",
       "97091  6785948532655704838                                     original sound   \n",
       "97092  6779751964147206146                                           My Truck   \n",
       "97093  6799290485379779334                                     original sound   \n",
       "97094  6704333887629232901                                              Opaul   \n",
       "97095  6780729448900709126                                     original sound   \n",
       "97096  6793051799466068742                                     original sound   \n",
       "97097  6772220098167065349                                     original sound   \n",
       "97098  5000000001452320180              Exactly How I Feel (feat. Gucci Mane)   \n",
       "97099  6783015061746109190                                     original sound   \n",
       "97100  6799242799695792902                                     original sound   \n",
       "97101  6794443331674950406                                     original sound   \n",
       "97102  6570711757868927750  Every time I hear this audio I die a little in...   \n",
       "97103  6785648748992416518                                    Its Corona time   \n",
       "97104  6793433792309676806                         alternative woah challenge   \n",
       "97105  6772228994226998021                                               Moon   \n",
       "97106  6709852374694939398                               Now You Have A Doggy   \n",
       "97107  6795088715745200901                                     original sound   \n",
       "\n",
       "                 Author ID Created Time  Verified List  \\\n",
       "0      6618145947888091141     02/12/20          False   \n",
       "1      6675059467253629958     02/12/20           True   \n",
       "2       142565009246584832     02/12/20           True   \n",
       "3      6745084683459642374     02/12/20          False   \n",
       "4      6762055608512824325     02/12/20          False   \n",
       "5      6589758176648167429     02/12/20          False   \n",
       "6      6661977767522942981     02/12/20          False   \n",
       "7                  7445731     02/12/20           True   \n",
       "8      6632782883143614469     02/12/20          False   \n",
       "9      6677255099054523398     02/12/20          False   \n",
       "10     6716510253519389701     02/12/20          False   \n",
       "11                 6284717     02/12/20          False   \n",
       "12     6628924584165900293     02/12/20          False   \n",
       "13      117807634048581632     02/12/20           True   \n",
       "14     6763403654856180741     02/12/20          False   \n",
       "15     6630131586488942597     02/12/20          False   \n",
       "16     6739670762791191558     02/12/20          False   \n",
       "17                 6573391     02/12/20           True   \n",
       "18     6645009899004198917     02/12/20          False   \n",
       "19     6739657412413899782     02/12/20          False   \n",
       "20       59217503914057728     02/12/20          False   \n",
       "21     6652499523049078789     02/12/20          False   \n",
       "22                 9733249     02/12/20          False   \n",
       "23      292342703596507136     02/12/20           True   \n",
       "24     6697987317645575173     02/12/20          False   \n",
       "25     6630520422814269445     02/12/20          False   \n",
       "26     6790866469800133637     02/12/20          False   \n",
       "27     6774865749702902790     02/12/20          False   \n",
       "28     6630698946606071813     02/12/20          False   \n",
       "29                11809873     02/12/20          False   \n",
       "...                    ...          ...            ...   \n",
       "97078  6643324689149263877     03/02/20           True   \n",
       "97079  6652070944410271750     03/02/20          False   \n",
       "97080  6538001044486493199     03/02/20          False   \n",
       "97081  6609540948488077317     03/02/20          False   \n",
       "97082  6717531416245552133     03/02/20          False   \n",
       "97083  6742302398498440198     03/02/20          False   \n",
       "97084              4851996     03/02/20          False   \n",
       "97085  6758935338657416198     03/02/20          False   \n",
       "97086  6708859560877540358     03/02/20          False   \n",
       "97087  6793924345146442757     03/02/20          False   \n",
       "97088  6627527362948956166     03/02/20          False   \n",
       "97089  6746359795107087365     03/02/20          False   \n",
       "97090  6757135678398317573     03/02/20          False   \n",
       "97091  6774595079195624453     03/02/20          False   \n",
       "97092  6693250221813777413     03/02/20          False   \n",
       "97093             23393702     03/02/20          False   \n",
       "97094  6628098412149719045     03/02/20           True   \n",
       "97095   100829075413348352     03/02/20          False   \n",
       "97096  6682825752498914310     03/02/20           True   \n",
       "97097  6621146113439268870     03/02/20           True   \n",
       "97098             28236909     03/02/20          False   \n",
       "97099  6777407440155837445     03/02/20          False   \n",
       "97100  6789542262252389381     03/02/20          False   \n",
       "97101  6652248296910798853     03/02/20          False   \n",
       "97102  6710014944182256646     03/02/20          False   \n",
       "97103  6782361878985163782     03/02/20          False   \n",
       "97104  6626462024983674886     03/02/20           True   \n",
       "97105  6566326583699111942     03/02/20           True   \n",
       "97106  6640476014487322629     03/02/20          False   \n",
       "97107  6798576874365830149     03/02/20          False   \n",
       "\n",
       "                                          challenge_list  \\\n",
       "0                                                [Empty]   \n",
       "1                                                [30496]   \n",
       "2                                               [229207]   \n",
       "3      [3586, 137467, 6350, 1640512221174789, 229207,...   \n",
       "4      [73604070, 34527, 437599, 185148, 163433269401...   \n",
       "5               [1745, 1618848028492806, 20884, 2050263]   \n",
       "6              [229207, 108264, 20884, 1652484531221509]   \n",
       "7                                                [Empty]   \n",
       "8      [229207, 24303, 1598498371111942, 156717, 2088...   \n",
       "9                                     [1655546295971846]   \n",
       "10                                    [229207, 88764338]   \n",
       "11              [42164, 229207, 2535717, 44895, 6614834]   \n",
       "12                              [229207, 42164, 1741775]   \n",
       "13                                               [Empty]   \n",
       "14                                       [229207, 42164]   \n",
       "15     [6057, 229207, 42164, 1652484531221509, 864064...   \n",
       "16     [20105, 1598498371111942, 23971, 1646096619413...   \n",
       "17                                    [1656287345285126]   \n",
       "18     [1653920693150725, 42164, 932327, 229207, 2088...   \n",
       "19                            [12830, 5261, 5407, 14057]   \n",
       "20                                              [925630]   \n",
       "21     [194716, 889711, 1652028504165382, 1429171, 19...   \n",
       "22                            [1610445138827270, 229207]   \n",
       "23                                               [Empty]   \n",
       "24                                               [Empty]   \n",
       "25     [41746, 17329, 6041, 60634, 229207, 88764338, ...   \n",
       "26                    [401740, 229207, 1652823554560005]   \n",
       "27     [1634922086900741, 88764338, 229207, 163430194...   \n",
       "28                      [229207, 88764338, 42164, 85611]   \n",
       "29                                    [229207, 88764338]   \n",
       "...                                                  ...   \n",
       "97078                                            [Empty]   \n",
       "97079                                 [229207, 66023992]   \n",
       "97080                        [1655477842947078, 6506246]   \n",
       "97081                                            [Empty]   \n",
       "97082                          [14140, 1652484531221509]   \n",
       "97083  [1652484531221509, 229207, 88764338, 20884, 58...   \n",
       "97084                                    [229207, 85133]   \n",
       "97085                [1342023, 19990895, 229207, 241618]   \n",
       "97086                                 [229207, 88764338]   \n",
       "97087                  [9122, 229207, 9145, 44895, 7353]   \n",
       "97088                           [30496, 42164, 88764338]   \n",
       "97089     [229207, 5424, 1652484531221509, 42164, 20884]   \n",
       "97090              [7692, 35573, 1659823360535558, 6861]   \n",
       "97091                                            [Empty]   \n",
       "97092                                            [Empty]   \n",
       "97093                                            [Empty]   \n",
       "97094  [1635241621599237, 1658256581292037, 163358925...   \n",
       "97095                                     [1854, 229207]   \n",
       "97096                                            [20884]   \n",
       "97097  [2137435, 23428, 5261, 5407, 229207, 161664179...   \n",
       "97098       [229207, 88764338, 108264, 1651867228253190]   \n",
       "97099                                         [20015745]   \n",
       "97100                         [153828, 88764338, 116175]   \n",
       "97101                                 [1647603264257029]   \n",
       "97102  [229207, 20884, 1652484531221509, 160841723557...   \n",
       "97103  [9122, 12336, 46609930, 21068, 45975747, 16002...   \n",
       "97104                                 [1658555995185158]   \n",
       "97105                                             [1745]   \n",
       "97106                         [229207, 578824, 88764338]   \n",
       "97107                                 [1659963231157254]   \n",
       "\n",
       "                                     challenge_list_Name  \\\n",
       "0                                                [Empty]   \n",
       "1                                                 [duet]   \n",
       "2                                                  [fyp]   \n",
       "3      [school, math, homework, handwritingcheck, fyp...   \n",
       "4      [pleasershoes, newname, immolly, 2020, jobtips...   \n",
       "5               [lol, funnyvideo, viral, ThatsWhatILike]   \n",
       "6                             [fyp, foru, viral, xyzbca]   \n",
       "7                                                [Empty]   \n",
       "8      [fyp, fart, foryourpage, pranks, viral, monday...   \n",
       "9                                [jlosuperbowlchallenge]   \n",
       "10                                     [fyp, foryoupage]   \n",
       "11     [foryou, fyp, favoritemovies, trend, wealllove...   \n",
       "12                               [fyp, foryou, movember]   \n",
       "13                                               [Empty]   \n",
       "14                                         [fyp, foryou]   \n",
       "15         [mom, fyp, foryou, xyzbca, full180, gotolook]   \n",
       "16     [trending, foryourpage, walkitout, dustinbadon...   \n",
       "17                                        [rustychurrrr]   \n",
       "18     [kelekutz, foryou, scienceexperiment, fyp, vir...   \n",
       "19                      [minions, art, artist, painting]   \n",
       "20                                               [dinna]   \n",
       "21     [yougondie, whowantme, MaccasFryYay, randomfac...   \n",
       "22                                     [paradisepd, fyp]   \n",
       "23                                               [Empty]   \n",
       "24                                               [Empty]   \n",
       "25     [cummins, duramax, snow, pnw, fyp, foryoupage,...   \n",
       "26                             [alarmclock, fyp, xyzcba]   \n",
       "27     [fypchallenge, foryoupage, fyp, betyoudidntthi...   \n",
       "28           [fyp, foryoupage, foryou, universalstudios]   \n",
       "29                                     [fyp, foryoupage]   \n",
       "...                                                  ...   \n",
       "97078                                            [Empty]   \n",
       "97079                                   [fyp, trendiing]   \n",
       "97080                 [heatingupmysnackcheck, heatingup]   \n",
       "97081                                            [Empty]   \n",
       "97082                                 [dinosaur, xyzbca]   \n",
       "97083      [xyzbca, fyp, foryoupage, viral, vine, memes]   \n",
       "97084                                  [fyp, viralvideo]   \n",
       "97085      [dancemonkey, dancemonkeychallenge, fyp, aus]   \n",
       "97086                                  [fyp, foryoupage]   \n",
       "97087                   [prank, fyp, famous, trend, wow]   \n",
       "97088                         [duet, foryou, foryoupage]   \n",
       "97089                [fyp, funny, xyzbca, foryou, viral]   \n",
       "97090              [mood, feels, whileyouwerebusy, boys]   \n",
       "97091                                            [Empty]   \n",
       "97092                                            [Empty]   \n",
       "97093                                            [Empty]   \n",
       "97094          [coronavirus, covid19, edutok, savealife]   \n",
       "97095                             [panicatthedisco, fyp]   \n",
       "97096                                            [viral]   \n",
       "97097  [denizli, tiktok, art, artist, fyp, sanatsokak...   \n",
       "97098          [fyp, foryoupage, foru, tiktoktraditions]   \n",
       "97099                                        [mumgotmad]   \n",
       "97100                      [fy, foryoupage, bretmanrock]   \n",
       "97101                            [unnecessaryinventions]   \n",
       "97102             [fyp, viral, xyzbca, tiktokuniversity]   \n",
       "97103  [prank, walmart, walmartprank, corona, coronat...   \n",
       "97104                         [alternativewoahchallenge]   \n",
       "97105                                              [lol]   \n",
       "97106                [fyp, drawingchallenge, foryoupage]   \n",
       "97107                                     [killerbean4l]   \n",
       "\n",
       "                                         Sharecount List  Final Share Count  \\\n",
       "0      [464380, 464382, 464419, 464732, 464803, 46484...             471128   \n",
       "1      [88432, 88432, 88435, 88453, 88461, 88472, 884...              90759   \n",
       "2      [29961, 29968, 30036, 30439, 30500, 30565, 306...              53380   \n",
       "3      [89995, 89996, 90029, 90173, 90182, 90199, 902...             103461   \n",
       "4      [41, 42, 42, 42, 42, 42, 42, 42, 42, 42, 42, 4...                 42   \n",
       "5      [53989, 53990, 54025, 54090, 54104, 54105, 541...              55177   \n",
       "6      [55179, 55181, 55184, 55185, 55186, 55188, 551...              69530   \n",
       "7      [39955, 39964, 39973, 39980, 39988, 39995, 400...             149261   \n",
       "8      [7371, 7400, 7733, 8565, 8576, 8625, 8739, 877...              26288   \n",
       "9                                  [12940, 12940, 12942]              12942   \n",
       "10     [118454, 118455, 118490, 118737, 118808, 11888...             119769   \n",
       "11     [6213, 6216, 6245, 6341, 6417, 6464, 6519, 656...              10983   \n",
       "12     [124311, 124311, 124324, 124416, 124579, 12459...             124989   \n",
       "13     [8805, 8805, 8805, 8805, 8805, 8805, 8805, 880...               9293   \n",
       "14     [35206, 35206, 35207, 35207, 35207, 35207, 352...              43123   \n",
       "15     [51047, 51054, 51114, 51413, 51522, 51605, 516...              60761   \n",
       "16                  [84, 84, 85, 85, 85, 85, 85, 85, 85]                 85   \n",
       "17     [328514, 328536, 328783, 329619, 330923, 33157...             388463   \n",
       "18     [66683, 66683, 66683, 66683, 66684, 66684, 666...              81899   \n",
       "19     [60211, 60211, 60211, 60211, 60211, 60211, 602...              62676   \n",
       "20     [773, 773, 774, 777, 789, 791, 792, 794, 795, ...                892   \n",
       "21     [26084, 26084, 26086, 26125, 26137, 26156, 261...              26257   \n",
       "22     [7159, 7164, 7187, 7283, 7319, 7320, 7327, 737...               9731   \n",
       "23     [59687, 59697, 59793, 60245, 60402, 60521, 606...             107912   \n",
       "24     [88055, 88058, 88060, 88221, 88252, 88297, 883...              93512   \n",
       "25     [1924, 1933, 1941, 1945, 1991, 1998, 1999, 199...               2033   \n",
       "26     [225, 225, 226, 235, 236, 237, 238, 238, 238, ...                317   \n",
       "27     [5278, 5278, 5279, 5281, 5283, 5287, 5287, 528...               5697   \n",
       "28     [20052, 20054, 20058, 20073, 20083, 20085, 200...              21017   \n",
       "29     [4815, 4816, 4819, 4856, 4874, 4881, 4883, 489...               5138   \n",
       "...                                                  ...                ...   \n",
       "97078                                             [3373]               3373   \n",
       "97079                                              [996]                996   \n",
       "97080                                       [12, 12, 12]                 12   \n",
       "97081                                               [27]                 27   \n",
       "97082                                             [3735]               3735   \n",
       "97083                                 [3619, 5400, 7109]               7109   \n",
       "97084                                            [14672]              14672   \n",
       "97085                                       [6729, 6915]               6915   \n",
       "97086                                     [10947, 10992]              10992   \n",
       "97087                                         [514, 612]                612   \n",
       "97088                                               [36]                 36   \n",
       "97089                                             [1763]               1763   \n",
       "97090                                [1957, 3897, 22843]              22843   \n",
       "97091                                                [8]                  8   \n",
       "97092                                               [35]                 35   \n",
       "97093                                             [2371]               2371   \n",
       "97094                                             [1490]               1490   \n",
       "97095                                               [33]                 33   \n",
       "97096                                             [4064]               4064   \n",
       "97097                                             [2218]               2218   \n",
       "97098                                              [108]                108   \n",
       "97099                                             [2320]               2320   \n",
       "97100                                             [4601]               4601   \n",
       "97101                                             [1621]               1621   \n",
       "97102                                             [3726]               3726   \n",
       "97103                                              [320]                320   \n",
       "97104                                              [246]                246   \n",
       "97105                                             [1297]               1297   \n",
       "97106                                              [210]                210   \n",
       "97107                                             [8173]               8173   \n",
       "\n",
       "                                          Diggcount List  Final Digg Count  \\\n",
       "0      [5531509, 5531557, 5532040, 5535622, 5536352, ...           5616598   \n",
       "1      [3642884, 3642908, 3643156, 3644044, 3644412, ...           3740664   \n",
       "2      [2702637, 2702914, 2706246, 2726449, 2729420, ...           4171102   \n",
       "3      [653715, 653732, 654047, 655097, 655209, 65535...            772741   \n",
       "4      [4185, 4201, 4201, 4201, 4202, 4203, 4206, 420...              4411   \n",
       "5      [447020, 447021, 447060, 447136, 447155, 44715...            448721   \n",
       "6      [483273, 483288, 483301, 483316, 483330, 48335...            578537   \n",
       "7      [1981183, 1981577, 1981961, 1982228, 1982563, ...           6184275   \n",
       "8      [42428, 42658, 45471, 55939, 56064, 56776, 584...            217548   \n",
       "9                               [137976, 137977, 138004]            138004   \n",
       "10     [993175, 993195, 993378, 994799, 995232, 99565...           1001022   \n",
       "11     [262214, 262314, 263598, 267746, 270258, 27172...            339749   \n",
       "12     [1126174, 1126190, 1126311, 1127149, 1128566, ...           1132058   \n",
       "13     [916314, 916319, 916321, 916324, 916325, 91632...            953644   \n",
       "14     [570734, 570743, 570753, 570766, 570773, 57079...            687648   \n",
       "15     [2124494, 2124620, 2126127, 2132672, 2135038, ...           2413721   \n",
       "16     [4112, 4128, 4132, 4183, 4183, 4190, 4190, 420...              4236   \n",
       "17     [3628796, 3628900, 3630238, 3634770, 3642268, ...           3936263   \n",
       "18     [2792939, 2792942, 2792944, 2792947, 2792950, ...           3268382   \n",
       "19     [2157557, 2157557, 2157559, 2157560, 2157560, ...           2254459   \n",
       "20     [31570, 31573, 31610, 31691, 31849, 31893, 319...             35188   \n",
       "21     [934806, 934823, 935038, 935843, 936133, 93670...            939597   \n",
       "22     [66227, 66248, 66460, 67291, 67535, 67543, 675...             83481   \n",
       "23     [3586216, 3586501, 3589447, 3605213, 3611313, ...           5423500   \n",
       "24     [2696489, 2696504, 2696666, 2699704, 2700241, ...           2813315   \n",
       "25     [45208, 45353, 45510, 45549, 46447, 46550, 465...             47266   \n",
       "26     [62602, 62611, 62724, 64332, 64607, 64940, 652...             80165   \n",
       "27     [279671, 279671, 279690, 279733, 279750, 27984...            284720   \n",
       "28     [580227, 580236, 580320, 580593, 581004, 58117...            615751   \n",
       "29     [782818, 782857, 783229, 787876, 790768, 79170...            818703   \n",
       "...                                                  ...               ...   \n",
       "97078                                           [654944]            654944   \n",
       "97079                                            [14009]             14009   \n",
       "97080                                    [277, 277, 277]               277   \n",
       "97081                                             [1229]              1229   \n",
       "97082                                            [43053]             43053   \n",
       "97083                           [103697, 146832, 183578]            183578   \n",
       "97084                                           [153638]            153638   \n",
       "97085                                   [248141, 256538]            256538   \n",
       "97086                                   [229017, 230231]            230231   \n",
       "97087                                     [68482, 84598]             84598   \n",
       "97088                                             [3317]              3317   \n",
       "97089                                           [107761]            107761   \n",
       "97090                            [78758, 153711, 838633]            838633   \n",
       "97091                                             [7905]              7905   \n",
       "97092                                            [15568]             15568   \n",
       "97093                                            [22336]             22336   \n",
       "97094                                           [568282]            568282   \n",
       "97095                                             [4823]              4823   \n",
       "97096                                           [178519]            178519   \n",
       "97097                                          [1263688]           1263688   \n",
       "97098                                             [4262]              4262   \n",
       "97099                                            [20865]             20865   \n",
       "97100                                            [54575]             54575   \n",
       "97101                                           [123262]            123262   \n",
       "97102                                           [108739]            108739   \n",
       "97103                                             [5604]              5604   \n",
       "97104                                            [43245]             43245   \n",
       "97105                                           [237339]            237339   \n",
       "97106                                            [12296]             12296   \n",
       "97107                                           [114738]            114738   \n",
       "\n",
       "                                       Commentcount List  Final Comment Count  \\\n",
       "0      [34383, 34383, 34388, 34416, 34422, 34425, 344...                34999   \n",
       "1      [14517, 14517, 14519, 14519, 14520, 14522, 145...                14877   \n",
       "2      [6674, 6674, 6691, 6767, 6781, 6793, 6799, 681...                11714   \n",
       "3      [5904, 5904, 5908, 5923, 5923, 5923, 5923, 593...                 7486   \n",
       "4      [51, 51, 51, 51, 51, 51, 51, 51, 52, 52, 52, 5...                   55   \n",
       "5      [3983, 3983, 3983, 3985, 3985, 3985, 3985, 398...                 4000   \n",
       "6      [1609, 1609, 1609, 1609, 1609, 1609, 1609, 160...                 1989   \n",
       "7      [8657, 8660, 8665, 8665, 8665, 8669, 8670, 867...                28782   \n",
       "8      [349, 349, 361, 420, 420, 427, 436, 441, 516, ...                 1581   \n",
       "9                                        [785, 785, 787]                  787   \n",
       "10     [5522, 5522, 5522, 5533, 5536, 5542, 5545, 554...                 5572   \n",
       "11     [0, 0, 0, 0, 0, 0, 0, 0, 0, 0, 0, 0, 0, 0, 0, ...                    0   \n",
       "12     [3362, 3362, 3362, 3368, 3374, 3374, 3376, 337...                 3390   \n",
       "13     [1572, 1572, 1572, 1572, 1572, 1572, 1572, 157...                 1632   \n",
       "14     [1909, 1909, 1909, 1909, 1909, 1909, 1909, 190...                 2357   \n",
       "15     [4675, 4676, 4682, 4699, 4705, 4707, 4712, 471...                 5431   \n",
       "16                  [10, 10, 10, 10, 10, 10, 10, 11, 12]                   12   \n",
       "17     [23375, 23375, 23388, 23423, 23482, 23505, 235...                25679   \n",
       "18     [7392, 7392, 7392, 7392, 7392, 7392, 7392, 739...                 8439   \n",
       "19     [10431, 10431, 10431, 10431, 10431, 10431, 104...                10816   \n",
       "20     [112, 112, 112, 112, 113, 113, 113, 113, 113, ...                  125   \n",
       "21     [3953, 3953, 3957, 3966, 3969, 3976, 3978, 397...                 4004   \n",
       "22     [683, 683, 684, 688, 691, 691, 691, 696, 697, ...                  885   \n",
       "23     [27451, 27454, 27492, 27619, 27667, 27713, 277...                42986   \n",
       "24     [11352, 11352, 11353, 11368, 11372, 11377, 113...                11800   \n",
       "25     [188, 188, 191, 191, 200, 200, 200, 201, 203, ...                  206   \n",
       "26     [1203, 1203, 1205, 1221, 1223, 1228, 1230, 123...                 1478   \n",
       "27     [3533, 3533, 3533, 3534, 3534, 3534, 3534, 353...                 3638   \n",
       "28     [13392, 13392, 13397, 13406, 13415, 13422, 134...                14282   \n",
       "29     [925, 925, 925, 927, 929, 930, 931, 931, 931, ...                  981   \n",
       "...                                                  ...                  ...   \n",
       "97078                                             [1413]                 1413   \n",
       "97079                                               [19]                   19   \n",
       "97080                                          [8, 8, 8]                    8   \n",
       "97081                                                [0]                    0   \n",
       "97082                                              [439]                  439   \n",
       "97083                                   [698, 922, 1121]                 1121   \n",
       "97084                                              [709]                  709   \n",
       "97085                                       [1063, 1094]                 1094   \n",
       "97086                                         [390, 391]                  391   \n",
       "97087                                         [154, 167]                  167   \n",
       "97088                                               [21]                   21   \n",
       "97089                                              [326]                  326   \n",
       "97090                                   [447, 957, 5258]                 5258   \n",
       "97091                                               [20]                   20   \n",
       "97092                                               [87]                   87   \n",
       "97093                                              [807]                  807   \n",
       "97094                                             [1082]                 1082   \n",
       "97095                                               [33]                   33   \n",
       "97096                                             [1684]                 1684   \n",
       "97097                                             [2652]                 2652   \n",
       "97098                                               [68]                   68   \n",
       "97099                                              [161]                  161   \n",
       "97100                                              [315]                  315   \n",
       "97101                                              [401]                  401   \n",
       "97102                                              [691]                  691   \n",
       "97103                                               [58]                   58   \n",
       "97104                                              [217]                  217   \n",
       "97105                                              [723]                  723   \n",
       "97106                                               [35]                   35   \n",
       "97107                                              [473]                  473   \n",
       "\n",
       "                                        Scrape_time List  \\\n",
       "0      [02/12/20 22:10:27, 02/12/20 22:13:39, 02/12/2...   \n",
       "1      [02/12/20 22:10:27, 02/12/20 22:13:39, 02/12/2...   \n",
       "2      [02/12/20 22:10:27, 02/12/20 22:13:39, 02/12/2...   \n",
       "3      [02/12/20 22:10:27, 02/12/20 22:13:39, 02/12/2...   \n",
       "4      [02/12/20 22:10:27, 02/13/20 00:09:28, 02/13/2...   \n",
       "5      [02/12/20 22:10:27, 02/12/20 22:13:39, 02/13/2...   \n",
       "6      [02/12/20 22:10:27, 02/12/20 22:10:28, 02/12/2...   \n",
       "7      [02/12/20 22:10:27, 02/12/20 22:10:28, 02/12/2...   \n",
       "8      [02/12/20 22:10:27, 02/12/20 22:13:39, 02/12/2...   \n",
       "9      [02/12/20 22:10:27, 02/12/20 22:13:39, 02/12/2...   \n",
       "10     [02/12/20 22:10:27, 02/12/20 22:13:39, 02/12/2...   \n",
       "11     [02/12/20 22:10:27, 02/12/20 22:13:39, 02/12/2...   \n",
       "12     [02/12/20 22:10:28, 02/12/20 22:13:39, 02/12/2...   \n",
       "13     [02/12/20 22:10:28, 02/12/20 22:10:28, 02/12/2...   \n",
       "14     [02/12/20 22:10:28, 02/12/20 22:10:28, 02/12/2...   \n",
       "15     [02/12/20 22:10:28, 02/12/20 22:13:39, 02/12/2...   \n",
       "16     [02/12/20 22:10:28, 02/13/20 00:32:11, 02/13/2...   \n",
       "17     [02/12/20 22:10:28, 02/12/20 22:13:39, 02/12/2...   \n",
       "18     [02/12/20 22:10:28, 02/12/20 22:10:28, 02/12/2...   \n",
       "19     [02/12/20 22:10:28, 02/12/20 22:10:28, 02/12/2...   \n",
       "20     [02/12/20 22:10:28, 02/12/20 22:13:39, 02/12/2...   \n",
       "21     [02/12/20 22:10:28, 02/12/20 22:13:39, 02/12/2...   \n",
       "22     [02/12/20 22:10:28, 02/12/20 22:13:39, 02/12/2...   \n",
       "23     [02/12/20 22:10:28, 02/12/20 22:13:39, 02/12/2...   \n",
       "24     [02/12/20 22:10:28, 02/12/20 22:13:39, 02/12/2...   \n",
       "25     [02/12/20 22:10:28, 02/13/20 00:36:29, 02/13/2...   \n",
       "26     [02/12/20 22:10:28, 02/12/20 22:13:39, 02/12/2...   \n",
       "27     [02/12/20 22:10:28, 02/12/20 22:13:39, 02/12/2...   \n",
       "28     [02/12/20 22:10:28, 02/12/20 22:13:39, 02/12/2...   \n",
       "29     [02/12/20 22:10:28, 02/12/20 22:13:40, 02/12/2...   \n",
       "...                                                  ...   \n",
       "97078                                [03/02/20 14:30:38]   \n",
       "97079                                [03/02/20 14:31:50]   \n",
       "97080  [03/02/20 14:34:38, 03/02/20 14:56:53, 03/02/2...   \n",
       "97081                                [03/02/20 14:35:57]   \n",
       "97082                                [03/02/20 14:36:29]   \n",
       "97083  [03/02/20 14:49:42, 03/02/20 15:51:12, 03/02/2...   \n",
       "97084                                [03/02/20 14:57:33]   \n",
       "97085             [03/02/20 14:57:52, 03/02/20 16:15:36]   \n",
       "97086             [03/02/20 14:59:54, 03/02/20 16:14:20]   \n",
       "97087             [03/02/20 15:47:18, 03/02/20 16:47:39]   \n",
       "97088                                [03/02/20 15:47:46]   \n",
       "97089                                [03/02/20 16:06:29]   \n",
       "97090  [03/02/20 16:08:55, 03/02/20 16:48:11, 03/02/2...   \n",
       "97091                                [03/02/20 16:12:11]   \n",
       "97092                                [03/02/20 16:57:34]   \n",
       "97093                                [03/02/20 21:48:47]   \n",
       "97094                                [03/02/20 21:49:34]   \n",
       "97095                                [03/02/20 21:50:45]   \n",
       "97096                                [03/02/20 21:51:01]   \n",
       "97097                                [03/02/20 21:53:10]   \n",
       "97098                                [03/02/20 21:54:06]   \n",
       "97099                                [03/02/20 21:54:40]   \n",
       "97100                                [03/02/20 22:49:21]   \n",
       "97101                                [03/02/20 22:49:32]   \n",
       "97102                                [03/02/20 22:49:46]   \n",
       "97103                                [03/02/20 22:50:27]   \n",
       "97104                                [03/02/20 22:54:20]   \n",
       "97105                                [03/02/20 22:55:59]   \n",
       "97106                                [03/02/20 22:56:13]   \n",
       "97107                                [03/02/20 22:57:16]   \n",
       "\n",
       "                                          Playcount List  Final Play Count  \n",
       "0      [0, 0, 0, 0, 0, 0, 0, 0, 0, 42814096, 42816773...          43952543  \n",
       "1      [0, 0, 0, 0, 0, 0, 0, 0, 0, 0, 0, 0, 31185730,...          32397020  \n",
       "2      [0, 0, 0, 0, 0, 0, 0, 0, 0, 0, 0, 0, 28988861,...          52160727  \n",
       "3      [0, 0, 0, 0, 0, 0, 0, 0, 0, 0, 0, 0, 0, 0, 0, ...           8839018  \n",
       "4      [0, 0, 0, 0, 0, 0, 0, 0, 0, 0, 0, 0, 0, 0, 0, ...            415459  \n",
       "5      [0, 0, 0, 0, 0, 0, 0, 0, 3746479, 3747222, 374...           3806030  \n",
       "6      [0, 0, 0, 0, 0, 0, 0, 0, 0, 0, 0, 0, 0, 0, 0, ...           4208674  \n",
       "7      [0, 0, 0, 0, 0, 0, 0, 0, 0, 0, 0, 0, 0, 0, 0, ...          40742956  \n",
       "8      [0, 0, 0, 0, 0, 0, 0, 0, 0, 0, 0, 0, 0, 0, 0, ...           7842013  \n",
       "9                                              [0, 0, 0]                 0  \n",
       "10     [0, 0, 0, 0, 0, 0, 0, 0, 14356973, 14358524, 1...          14427189  \n",
       "11     [0, 0, 0, 0, 0, 0, 0, 0, 0, 0, 0, 0, 0, 0, 0, ...           5171131  \n",
       "12     [0, 0, 0, 0, 0, 0, 0, 13740199, 13743555, 1374...          13793219  \n",
       "13     [0, 0, 0, 0, 0, 0, 0, 0, 0, 0, 0, 0, 0, 0, 0, ...           8594445  \n",
       "14     [0, 0, 0, 0, 0, 0, 0, 0, 0, 0, 0, 0, 0, 0, 0, ...          17477141  \n",
       "15     [0, 0, 0, 0, 0, 0, 0, 0, 0, 0, 0, 0, 0, 280210...          34518584  \n",
       "16                   [0, 0, 0, 0, 0, 0, 0, 48130, 48482]             48482  \n",
       "17     [0, 0, 0, 0, 0, 0, 0, 0, 35251637, 35364557, 3...          40976657  \n",
       "18     [0, 0, 0, 0, 0, 0, 0, 0, 0, 0, 0, 0, 0, 0, 0, ...          67563085  \n",
       "19     [0, 0, 0, 0, 0, 0, 0, 0, 0, 0, 0, 0, 0, 0, 0, ...          19508201  \n",
       "20     [0, 0, 0, 0, 0, 0, 0, 0, 0, 1671078, 1672633, ...           1842934  \n",
       "21     [0, 0, 0, 0, 0, 0, 0, 0, 0, 0, 0, 0, 0, 0, 0, ...          30785002  \n",
       "22     [0, 0, 0, 0, 0, 0, 0, 1453072, 1458791, 146422...           2129092  \n",
       "23     [0, 0, 0, 0, 0, 0, 0, 0, 0, 0, 0, 0, 0, 0, 190...          31364107  \n",
       "24     [0, 0, 0, 15655158, 15659816, 15665080, 156673...          16390524  \n",
       "25      [0, 0, 0, 0, 0, 0, 0, 0, 580599, 580760, 584344]            584344  \n",
       "26     [0, 0, 0, 0, 0, 0, 0, 0, 0, 0, 1846917, 187631...           2513366  \n",
       "27     [0, 0, 0, 0, 0, 0, 0, 0, 0, 0, 0, 0, 0, 0, 116...          12376503  \n",
       "28     [0, 0, 0, 0, 0, 0, 0, 0, 0, 0, 0, 0, 0, 0, 0, ...          14172788  \n",
       "29     [0, 0, 0, 0, 0, 0, 0, 0, 0, 0, 0, 6481570, 649...           6869834  \n",
       "...                                                  ...               ...  \n",
       "97078                                          [5153226]           5153226  \n",
       "97079                                           [174795]            174795  \n",
       "97080                              [86699, 86701, 86701]             86701  \n",
       "97081                                           [109077]            109077  \n",
       "97082                                           [664349]            664349  \n",
       "97083                           [507978, 704319, 877576]            877576  \n",
       "97084                                          [2774602]           2774602  \n",
       "97085                                 [3156914, 3259635]           3259635  \n",
       "97086                                 [1333065, 1340314]           1340314  \n",
       "97087                                   [371624, 441374]            441374  \n",
       "97088                                            [56572]             56572  \n",
       "97089                                           [616766]            616766  \n",
       "97090                          [544100, 970657, 5068529]           5068529  \n",
       "97091                                           [335255]            335255  \n",
       "97092                                           [184439]            184439  \n",
       "97093                                           [483872]            483872  \n",
       "97094                                         [16939665]          16939665  \n",
       "97095                                            [86925]             86925  \n",
       "97096                                          [1530316]           1530316  \n",
       "97097                                          [8215946]           8215946  \n",
       "97098                                            [55780]             55780  \n",
       "97099                                           [421019]            421019  \n",
       "97100                                           [563474]            563474  \n",
       "97101                                           [571387]            571387  \n",
       "97102                                           [704874]            704874  \n",
       "97103                                           [166717]            166717  \n",
       "97104                                           [459768]            459768  \n",
       "97105                                          [1090513]           1090513  \n",
       "97106                                            [91478]             91478  \n",
       "97107                                           [848629]            848629  \n",
       "\n",
       "[97108 rows x 18 columns]"
      ]
     },
     "execution_count": 26,
     "metadata": {},
     "output_type": "execute_result"
    }
   ],
   "source": [
    "df_final"
   ]
  },
  {
   "cell_type": "markdown",
   "metadata": {},
   "source": [
    "Get author id for specific commencial"
   ]
  },
  {
   "cell_type": "code",
   "execution_count": 6,
   "metadata": {
    "scrolled": true
   },
   "outputs": [],
   "source": [
    "from statistics import mean\n",
    "def hashtag(sub):\n",
    "# creating and passsing series to new column \n",
    "    df_sub_string=df_final[df_final[\"Text\"].str.contains(sub,regex=True)]\n",
    "    df_sub_string.reset_index(inplace=True,drop=True)\n",
    "\n",
    "    return(df_sub_string)"
   ]
  },
  {
   "cell_type": "markdown",
   "metadata": {},
   "source": [
    "Time Series"
   ]
  },
  {
   "cell_type": "code",
   "execution_count": 7,
   "metadata": {
    "scrolled": false
   },
   "outputs": [
    {
     "ename": "ValueError",
     "evalue": "unconverted data remains:  19:52:16",
     "output_type": "error",
     "traceback": [
      "\u001b[1;31m---------------------------------------------------------------------------\u001b[0m",
      "\u001b[1;31mValueError\u001b[0m                                Traceback (most recent call last)",
      "\u001b[1;32m<ipython-input-7-19355b721761>\u001b[0m in \u001b[0;36m<module>\u001b[1;34m\u001b[0m\n\u001b[0;32m     93\u001b[0m \u001b[1;31m##############################################################\u001b[0m\u001b[1;33m\u001b[0m\u001b[1;33m\u001b[0m\u001b[1;33m\u001b[0m\u001b[0m\n\u001b[0;32m     94\u001b[0m \u001b[0mdf_sub_string\u001b[0m\u001b[1;33m=\u001b[0m\u001b[0mhashtag\u001b[0m\u001b[1;33m(\u001b[0m\u001b[1;34m'lol'\u001b[0m\u001b[1;33m)\u001b[0m\u001b[1;33m\u001b[0m\u001b[1;33m\u001b[0m\u001b[0m\n\u001b[1;32m---> 95\u001b[1;33m \u001b[0mfig\u001b[0m\u001b[1;33m=\u001b[0m\u001b[0marima_model\u001b[0m\u001b[1;33m(\u001b[0m\u001b[0mdf_sub_string\u001b[0m\u001b[1;33m,\u001b[0m\u001b[1;36m0\u001b[0m\u001b[1;33m)\u001b[0m\u001b[1;33m\u001b[0m\u001b[1;33m\u001b[0m\u001b[0m\n\u001b[0m\u001b[0;32m     96\u001b[0m \u001b[0mfig\u001b[0m\u001b[1;33m.\u001b[0m\u001b[0mshow\u001b[0m\u001b[1;33m(\u001b[0m\u001b[1;33m)\u001b[0m\u001b[1;33m\u001b[0m\u001b[1;33m\u001b[0m\u001b[0m\n\u001b[0;32m     97\u001b[0m \u001b[1;33m\u001b[0m\u001b[0m\n",
      "\u001b[1;32m<ipython-input-7-19355b721761>\u001b[0m in \u001b[0;36marima_model\u001b[1;34m(sub_string, index)\u001b[0m\n\u001b[0;32m     90\u001b[0m     \u001b[0moutput\u001b[0m\u001b[1;33m=\u001b[0m\u001b[0mmodel_fit\u001b[0m\u001b[1;33m.\u001b[0m\u001b[0mforecast\u001b[0m\u001b[1;33m(\u001b[0m\u001b[0msteps\u001b[0m\u001b[1;33m=\u001b[0m\u001b[1;36m7\u001b[0m\u001b[1;33m)\u001b[0m\u001b[1;33m[\u001b[0m\u001b[1;36m0\u001b[0m\u001b[1;33m]\u001b[0m\u001b[1;33m\u001b[0m\u001b[1;33m\u001b[0m\u001b[0m\n\u001b[0;32m     91\u001b[0m \u001b[1;33m\u001b[0m\u001b[0m\n\u001b[1;32m---> 92\u001b[1;33m     \u001b[1;32mreturn\u001b[0m \u001b[0mvisualize_arima\u001b[0m\u001b[1;33m(\u001b[0m\u001b[0moutput\u001b[0m\u001b[1;33m,\u001b[0m\u001b[0mTime\u001b[0m\u001b[1;33m,\u001b[0m\u001b[0mmean_comment\u001b[0m\u001b[1;33m)\u001b[0m\u001b[1;33m\u001b[0m\u001b[1;33m\u001b[0m\u001b[0m\n\u001b[0m\u001b[0;32m     93\u001b[0m \u001b[1;31m##############################################################\u001b[0m\u001b[1;33m\u001b[0m\u001b[1;33m\u001b[0m\u001b[1;33m\u001b[0m\u001b[0m\n\u001b[0;32m     94\u001b[0m \u001b[0mdf_sub_string\u001b[0m\u001b[1;33m=\u001b[0m\u001b[0mhashtag\u001b[0m\u001b[1;33m(\u001b[0m\u001b[1;34m'lol'\u001b[0m\u001b[1;33m)\u001b[0m\u001b[1;33m\u001b[0m\u001b[1;33m\u001b[0m\u001b[0m\n",
      "\u001b[1;32m<ipython-input-7-19355b721761>\u001b[0m in \u001b[0;36mvisualize_arima\u001b[1;34m(output, time, mean_comment)\u001b[0m\n\u001b[0;32m     21\u001b[0m     \u001b[1;32melse\u001b[0m\u001b[1;33m:\u001b[0m\u001b[1;33m\u001b[0m\u001b[1;33m\u001b[0m\u001b[0m\n\u001b[0;32m     22\u001b[0m         \u001b[1;32mfor\u001b[0m \u001b[0mi\u001b[0m \u001b[1;32min\u001b[0m \u001b[0mrange\u001b[0m\u001b[1;33m(\u001b[0m\u001b[1;36m1\u001b[0m\u001b[1;33m,\u001b[0m\u001b[1;36m8\u001b[0m\u001b[1;33m)\u001b[0m\u001b[1;33m:\u001b[0m\u001b[1;33m\u001b[0m\u001b[1;33m\u001b[0m\u001b[0m\n\u001b[1;32m---> 23\u001b[1;33m             \u001b[0mres\u001b[0m \u001b[1;33m=\u001b[0m \u001b[1;33m(\u001b[0m\u001b[0mdatetime\u001b[0m\u001b[1;33m.\u001b[0m\u001b[0mstrptime\u001b[0m\u001b[1;33m(\u001b[0m\u001b[0mdate_time_str\u001b[0m\u001b[1;33m,\u001b[0m \u001b[1;34m'%m/%d/%y'\u001b[0m\u001b[1;33m)\u001b[0m \u001b[1;33m+\u001b[0m \u001b[0mtimedelta\u001b[0m\u001b[1;33m(\u001b[0m\u001b[0mdays\u001b[0m\u001b[1;33m=\u001b[0m\u001b[0mi\u001b[0m\u001b[1;33m)\u001b[0m\u001b[1;33m)\u001b[0m\u001b[1;33m.\u001b[0m\u001b[0mstrftime\u001b[0m\u001b[1;33m(\u001b[0m\u001b[1;34m'%m/%d/%y'\u001b[0m\u001b[1;33m)\u001b[0m\u001b[1;33m\u001b[0m\u001b[1;33m\u001b[0m\u001b[0m\n\u001b[0m\u001b[0;32m     24\u001b[0m             \u001b[0mPredicted_Value_dates\u001b[0m\u001b[1;33m.\u001b[0m\u001b[0mappend\u001b[0m\u001b[1;33m(\u001b[0m\u001b[1;33m(\u001b[0m\u001b[0mres\u001b[0m\u001b[1;33m,\u001b[0m\u001b[0moutput\u001b[0m\u001b[1;33m[\u001b[0m\u001b[0mi\u001b[0m\u001b[1;33m-\u001b[0m\u001b[1;36m1\u001b[0m\u001b[1;33m]\u001b[0m\u001b[1;33m)\u001b[0m\u001b[1;33m)\u001b[0m\u001b[1;33m\u001b[0m\u001b[1;33m\u001b[0m\u001b[0m\n\u001b[0;32m     25\u001b[0m \u001b[1;33m\u001b[0m\u001b[0m\n",
      "\u001b[1;32m~\\AppData\\Local\\Continuum\\anaconda3\\lib\\_strptime.py\u001b[0m in \u001b[0;36m_strptime_datetime\u001b[1;34m(cls, data_string, format)\u001b[0m\n\u001b[0;32m    575\u001b[0m     \"\"\"Return a class cls instance based on the input string and the\n\u001b[0;32m    576\u001b[0m     format string.\"\"\"\n\u001b[1;32m--> 577\u001b[1;33m     \u001b[0mtt\u001b[0m\u001b[1;33m,\u001b[0m \u001b[0mfraction\u001b[0m\u001b[1;33m,\u001b[0m \u001b[0mgmtoff_fraction\u001b[0m \u001b[1;33m=\u001b[0m \u001b[0m_strptime\u001b[0m\u001b[1;33m(\u001b[0m\u001b[0mdata_string\u001b[0m\u001b[1;33m,\u001b[0m \u001b[0mformat\u001b[0m\u001b[1;33m)\u001b[0m\u001b[1;33m\u001b[0m\u001b[1;33m\u001b[0m\u001b[0m\n\u001b[0m\u001b[0;32m    578\u001b[0m     \u001b[0mtzname\u001b[0m\u001b[1;33m,\u001b[0m \u001b[0mgmtoff\u001b[0m \u001b[1;33m=\u001b[0m \u001b[0mtt\u001b[0m\u001b[1;33m[\u001b[0m\u001b[1;33m-\u001b[0m\u001b[1;36m2\u001b[0m\u001b[1;33m:\u001b[0m\u001b[1;33m]\u001b[0m\u001b[1;33m\u001b[0m\u001b[1;33m\u001b[0m\u001b[0m\n\u001b[0;32m    579\u001b[0m     \u001b[0margs\u001b[0m \u001b[1;33m=\u001b[0m \u001b[0mtt\u001b[0m\u001b[1;33m[\u001b[0m\u001b[1;33m:\u001b[0m\u001b[1;36m6\u001b[0m\u001b[1;33m]\u001b[0m \u001b[1;33m+\u001b[0m \u001b[1;33m(\u001b[0m\u001b[0mfraction\u001b[0m\u001b[1;33m,\u001b[0m\u001b[1;33m)\u001b[0m\u001b[1;33m\u001b[0m\u001b[1;33m\u001b[0m\u001b[0m\n",
      "\u001b[1;32m~\\AppData\\Local\\Continuum\\anaconda3\\lib\\_strptime.py\u001b[0m in \u001b[0;36m_strptime\u001b[1;34m(data_string, format)\u001b[0m\n\u001b[0;32m    360\u001b[0m     \u001b[1;32mif\u001b[0m \u001b[0mlen\u001b[0m\u001b[1;33m(\u001b[0m\u001b[0mdata_string\u001b[0m\u001b[1;33m)\u001b[0m \u001b[1;33m!=\u001b[0m \u001b[0mfound\u001b[0m\u001b[1;33m.\u001b[0m\u001b[0mend\u001b[0m\u001b[1;33m(\u001b[0m\u001b[1;33m)\u001b[0m\u001b[1;33m:\u001b[0m\u001b[1;33m\u001b[0m\u001b[1;33m\u001b[0m\u001b[0m\n\u001b[0;32m    361\u001b[0m         raise ValueError(\"unconverted data remains: %s\" %\n\u001b[1;32m--> 362\u001b[1;33m                           data_string[found.end():])\n\u001b[0m\u001b[0;32m    363\u001b[0m \u001b[1;33m\u001b[0m\u001b[0m\n\u001b[0;32m    364\u001b[0m     \u001b[0miso_year\u001b[0m \u001b[1;33m=\u001b[0m \u001b[0myear\u001b[0m \u001b[1;33m=\u001b[0m \u001b[1;32mNone\u001b[0m\u001b[1;33m\u001b[0m\u001b[1;33m\u001b[0m\u001b[0m\n",
      "\u001b[1;31mValueError\u001b[0m: unconverted data remains:  19:52:16"
     ]
    }
   ],
   "source": [
    "from statsmodels.tsa.arima_model import ARIMA\n",
    "import numpy as np\n",
    "import warnings\n",
    "warnings.filterwarnings('ignore')\n",
    "from datetime import datetime, timedelta\n",
    "import itertools\n",
    "import plotly.graph_objects as go\n",
    "from plotly.subplots import make_subplots\n",
    "\n",
    "\n",
    "def visualize_arima(output,time,mean_comment):\n",
    "    #save the last date and use stripftime to generate 7 days from last date\n",
    "    date_time_str = time[-1]\n",
    "    Predicted_Value_dates=[]\n",
    "\n",
    "    #check if length of input was 1\n",
    "    if len(mean_comment)==1:\n",
    "        for i in range(1,8):\n",
    "            res = (datetime.strptime(date_time_str, '%m/%d/%y') + timedelta(days=i)).strftime('%m/%d/%y')\n",
    "            Predicted_Value_dates.append((res,output))   \n",
    "    else:\n",
    "        for i in range(1,8):\n",
    "            res = (datetime.strptime(date_time_str, '%m/%d/%y') + timedelta(days=i)).strftime('%m/%d/%y')\n",
    "            Predicted_Value_dates.append((res,output[i-1]))\n",
    "\n",
    "    #create data frame to plot the graphs\n",
    "    df1=pd.DataFrame()\n",
    "    df=pd.DataFrame()\n",
    "    df[['Date','Predicted_Value']]=pd.DataFrame(Predicted_Value_dates)\n",
    "\n",
    "    mean_comment_time=[]\n",
    "    for i in range(len(mean_comment)):\n",
    "        mean_comment_time.append((mean_comment.index[i],mean_comment[i]))\n",
    "\n",
    "    df1[['Date','Orignal_Value']]=pd.DataFrame(mean_comment_time)\n",
    "\n",
    "    # Initialize figure with subplots\n",
    "    fig = make_subplots(rows=1, cols=2)\n",
    "\n",
    "\n",
    "    # Add Comment Count Scatter chart\n",
    "    fig.add_trace(go.Scatter(x=df1['Date'], y=df1['Orignal_Value'], name='Orignal Values',\n",
    "                             line = dict(color='red', width=2)),row=1,col=1)\n",
    "\n",
    "    # Add Share Count Scatter chart\n",
    "    fig.add_trace(go.Scatter(x=df['Date'], y=df['Predicted_Value'], name='Predicted Values',\n",
    "                             line = dict(color='blue', width=2)),row=1,col=2)\n",
    "\n",
    "\n",
    "    return fig\n",
    "\n",
    "\n",
    "#######################################################################################################################\n",
    "\n",
    "def arima_model(sub_string,index):\n",
    "    parameters=[]\n",
    "    aic=[]\n",
    "    mydict={}\n",
    "    \n",
    "    arima_df=pd.DataFrame()\n",
    "    Time=arima_df['time']=sub_string['Scrape_time List'][index]\n",
    "    arima_df['comment']=sub_string['Commentcount List'][index]\n",
    "    \n",
    "    mean_comment=arima_df.groupby('time')['comment'].mean()\n",
    "    mean_comment=np.floor(mean_comment)\n",
    "\n",
    "    p=q=d=range(0,5)\n",
    "    pdq=list(itertools.product(p,d,q))\n",
    "    \n",
    "    for param in pdq:\n",
    "        # fit model\n",
    "        try:\n",
    "            model = ARIMA(mean_comment, order=param)\n",
    "            model_fit = model.fit(disp=0)\n",
    "            output=model_fit.forecast(steps=2)[0]\n",
    "            parameters.append(param)\n",
    "            aic.append(model_fit.aic)\n",
    "            \n",
    "        except:\n",
    "            continue\n",
    "    \n",
    "    mydict=dict(zip(parameters,aic))\n",
    "    if len(mydict)==0:\n",
    "\n",
    "        return visualize_arima(mean_comment[0], Time, mean_commen)\n",
    "    \n",
    "    Keymax = min(mydict, key= lambda x: mydict[x])\n",
    "    model = ARIMA(mean_comment, order=Keymax)\n",
    "    model_fit = model.fit(disp=0)\n",
    "    output=model_fit.forecast(steps=7)[0]\n",
    "    \n",
    "    return visualize_arima(output,Time,mean_comment)\n",
    "##############################################################\n",
    "df_sub_string=hashtag('lol')\n",
    "fig=arima_model(df_sub_string,0)\n",
    "fig.show()\n",
    "\n",
    "import plotly.io as pio\n",
    "pio.write_html(fig, file='arima_visualization.html', auto_open=False)"
   ]
  },
  {
   "cell_type": "markdown",
   "metadata": {},
   "source": [
    "Potential Influencers:  value= [(sharecount + diggcount + commentcount)/playcount] * 100"
   ]
  },
  {
   "cell_type": "code",
   "execution_count": 27,
   "metadata": {},
   "outputs": [
    {
     "data": {
      "text/html": [
       "<div>\n",
       "<style scoped>\n",
       "    .dataframe tbody tr th:only-of-type {\n",
       "        vertical-align: middle;\n",
       "    }\n",
       "\n",
       "    .dataframe tbody tr th {\n",
       "        vertical-align: top;\n",
       "    }\n",
       "\n",
       "    .dataframe thead th {\n",
       "        text-align: right;\n",
       "    }\n",
       "</style>\n",
       "<table border=\"1\" class=\"dataframe\">\n",
       "  <thead>\n",
       "    <tr style=\"text-align: right;\">\n",
       "      <th></th>\n",
       "      <th>ER</th>\n",
       "      <th>Author_ID</th>\n",
       "    </tr>\n",
       "  </thead>\n",
       "  <tbody>\n",
       "    <tr>\n",
       "      <th>1</th>\n",
       "      <td>24.792448</td>\n",
       "      <td>77964796729438208</td>\n",
       "    </tr>\n",
       "    <tr>\n",
       "      <th>2</th>\n",
       "      <td>13.787899</td>\n",
       "      <td>6624916310538010629</td>\n",
       "    </tr>\n",
       "    <tr>\n",
       "      <th>7</th>\n",
       "      <td>11.651624</td>\n",
       "      <td>6613398665766305798</td>\n",
       "    </tr>\n",
       "    <tr>\n",
       "      <th>4</th>\n",
       "      <td>11.420629</td>\n",
       "      <td>6573920611700080645</td>\n",
       "    </tr>\n",
       "    <tr>\n",
       "      <th>6</th>\n",
       "      <td>9.936585</td>\n",
       "      <td>6618370801061199878</td>\n",
       "    </tr>\n",
       "    <tr>\n",
       "      <th>0</th>\n",
       "      <td>8.852318</td>\n",
       "      <td>6602877605267128326</td>\n",
       "    </tr>\n",
       "    <tr>\n",
       "      <th>3</th>\n",
       "      <td>7.345762</td>\n",
       "      <td>243034275699142656</td>\n",
       "    </tr>\n",
       "    <tr>\n",
       "      <th>5</th>\n",
       "      <td>4.609532</td>\n",
       "      <td>6754831054337852421</td>\n",
       "    </tr>\n",
       "  </tbody>\n",
       "</table>\n",
       "</div>"
      ],
      "text/plain": [
       "          ER            Author_ID\n",
       "1  24.792448    77964796729438208\n",
       "2  13.787899  6624916310538010629\n",
       "7  11.651624  6613398665766305798\n",
       "4  11.420629  6573920611700080645\n",
       "6   9.936585  6618370801061199878\n",
       "0   8.852318  6602877605267128326\n",
       "3   7.345762   243034275699142656\n",
       "5   4.609532  6754831054337852421"
      ]
     },
     "execution_count": 27,
     "metadata": {},
     "output_type": "execute_result"
    }
   ],
   "source": [
    "def Calculate_Engagement_rate(df_sub_string,authorid):\n",
    "    rslt_df = df_sub_string.loc[df_sub_string['Author ID'] == authorid]\n",
    "    rslt_df.reset_index(inplace=True,drop=True)\n",
    "    rslt_df.sort_values(\"Created Time\", axis = 0, ascending = False, inplace = True) \n",
    "    \n",
    "    #Calculate enagament rate using formular ER=[(sharecount + diggcount + commentcount)/playcount] * 100\n",
    "    Numerator=rslt_df['Final Share Count'] + rslt_df['Final Comment Count'] + rslt_df['Final Digg Count']\n",
    "    Numerator_value=sum(np.array(Numerator))\n",
    "    Denominator=rslt_df['Final Play Count']\n",
    "    Denominator_value=sum(np.array(Denominator))\n",
    "    Engagement_rate= (Numerator_value/Denominator_value)*100\n",
    "    Engagement_rate\n",
    "    return Engagement_rate\n",
    "\n",
    "def potential_influencers(hashtag_string):\n",
    "    Engagement_rate_list=[]\n",
    "    Author_ID_list=[]\n",
    "    \n",
    "    df_sub_string=hashtag(hashtag_string.lower())\n",
    "    \n",
    "    #Influencers with maximum videos\n",
    "    df_top_influencers=pd.DataFrame()\n",
    "    df_top_influencers['Author ID']=df_sub_string.groupby(\"Author ID\",sort=False)[\"ID\"].count().sort_values(ascending=False)\n",
    "    \n",
    "    for i in range(0,len(df_top_influencers)):\n",
    "        #save Engagement rate for each author\n",
    "        Engagement_rate_list.append(Calculate_Engagement_rate(df_sub_string,df_top_influencers['Author ID'].index[i]))\n",
    "        #save author id\n",
    "        Author_ID_list.append(df_top_influencers['Author ID'].index[i])\n",
    "    return Engagement_rate_list,Author_ID_list\n",
    "\n",
    "ER,Author_ID=potential_influencers('Puma')\n",
    "df_influencers=pd.DataFrame()\n",
    "df_influencers[['ER','Author_ID']]=pd.DataFrame(list(zip(ER,Author_ID)))\n",
    "df_influencers.sort_values('ER', inplace=True, ascending=False)\n",
    "df_influencers"
   ]
  },
  {
   "cell_type": "code",
   "execution_count": 29,
   "metadata": {},
   "outputs": [
    {
     "data": {
      "text/plain": [
       "21533    #adidas #nike #fila #vans #converse #puma #lov...\n",
       "Name: Text, dtype: object"
      ]
     },
     "execution_count": 29,
     "metadata": {},
     "output_type": "execute_result"
    }
   ],
   "source": [
    "df_final['Text'].loc[df_final['Author ID'] == '6618370801061199878']"
   ]
  },
  {
   "cell_type": "code",
   "execution_count": 30,
   "metadata": {},
   "outputs": [
    {
     "data": {
      "text/plain": [
       "{'_id': {'$oid': '5e44a07f008b435c516d853d'},\n",
       " 'id': '6659448999038160133',\n",
       " 'apiType': 3,\n",
       " 'name': '#adidas #nike #fila #vans #converse #puma #lovemyshoes 💙',\n",
       " 'surfaced': 4,\n",
       " 'diggCount': 26170,\n",
       " 'shareCount': 386,\n",
       " 'commentCount': 113,\n",
       " 'author': {'name': 'Ana Barrientos ',\n",
       "  'uniqueID': 'analeticiabarrien',\n",
       "  'userID': '6618370801061199878',\n",
       "  'secureUserID': 'MS4wLjABAAAAXXttBNWb9p7xxZ0J_Qja2tnrnq4UIZERADU8YxhklBiCCKHOvCBWqji5V0IxQBrh'},\n",
       " 'createdAt': {'$date': '2020-02-13T01:03:59.173Z'},\n",
       " 'updatedAt': {'$date': '2020-02-13T20:39:38.719Z'},\n",
       " 'tiktokData': [{'itemInfos': {'id': '6659448999038160133',\n",
       "    'text': '#adidas #nike #fila #vans #converse #puma #lovemyshoes 💙',\n",
       "    'createTime': '1550523797',\n",
       "    'authorId': '6618370801061199878',\n",
       "    'musicId': '6594233508997106433',\n",
       "    'covers': ['https://p16.muscdn.com/obj/tos-maliva-p-0068/0kuo7gd5evk9du2rhlhb00005144090v0200006f05'],\n",
       "    'coversOrigin': ['https://p16.muscdn.com/obj/tos-maliva-p-0068/82a78a247f3f45efb5516988205ecfe7'],\n",
       "    'coversDynamic': ['https://p16.muscdn.com/obj/tos-maliva-p-0068/e515e99421dc4a54bc12dba8905dca24'],\n",
       "    'video': {'urls': ['https://v16.muscdn.com/966d528525b013efca413aeb20a74886/5e44f4c3/video/tos/maliva/tos-maliva-v-0068/7314d74479124427aec18969641239dc/?a=1233&br=4862&bt=2431&cr=0&cs=0&dr=0&ds=3&er=&l=202002130103190101101021501DD9336F&lr=tiktok_m&qs=0&rc=M3g6Z2huZzVrazMzODczM0ApZDZpNzlnZWU7NzQzNDs0NWdobGQyczZyb2lfLS0uMTZzczRiNWJiYTBjLzYvMTRjYDE6Yw%3D%3D'],\n",
       "     'videoMeta': {'width': 720, 'height': 1280, 'ratio': 12, 'duration': 12}},\n",
       "    'diggCount': 26167,\n",
       "    'shareCount': 385,\n",
       "    'commentCount': 113,\n",
       "    'isActivityItem': False,\n",
       "    'warnInfo': []},\n",
       "   'authorInfos': {'secUid': 'MS4wLjABAAAAXXttBNWb9p7xxZ0J_Qja2tnrnq4UIZERADU8YxhklBiCCKHOvCBWqji5V0IxQBrh',\n",
       "    'userId': '6618370801061199878',\n",
       "    'uniqueId': 'analeticiabarrien',\n",
       "    'nickName': 'Ana Barrientos ',\n",
       "    'signature': '',\n",
       "    'verified': False,\n",
       "    'covers': ['https://p16.muscdn.com/img/musically-maliva-obj/1635449651528709~c5_100x100.jpeg'],\n",
       "    'coversMedium': ['https://p16.muscdn.com/img/musically-maliva-obj/1635449651528709~c5_720x720.jpeg'],\n",
       "    'coversLarger': ['https://p16.muscdn.com/img/musically-maliva-obj/1635449651528709~c5_1080x1080.jpeg']},\n",
       "   'musicInfos': {'musicId': '6594233508997106433',\n",
       "    'musicName': 'Run Free (feat. IVIE)',\n",
       "    'authorName': 'Deep Chills',\n",
       "    'original': '',\n",
       "    'playUrl': ['https://p16.muscdn.com/obj/musically-maliva-obj/1626055266423814'],\n",
       "    'covers': ['https://p16-sg.muscdn.com/aweme/100x100/tiktok-obj/1634863738389506.JPEG.jpeg'],\n",
       "    'coversMedium': ['https://p16-sg.muscdn.com/aweme/200x200/tiktok-obj/1634863738389506.JPEG.jpeg'],\n",
       "    'coversLarger': ['https://p16-sg.muscdn.com/aweme/720x720/tiktok-obj/1634863738389506.JPEG.jpeg']},\n",
       "   'challengeInfoList': [{'challengeId': '153949',\n",
       "     'challengeName': 'fila',\n",
       "     'isCommerce': False,\n",
       "     'text': '',\n",
       "     'covers': [],\n",
       "     'coversMedium': [],\n",
       "     'coversLarger': []}],\n",
       "   'duetInfo': '0',\n",
       "   'scrapedAt': {'$date': '2020-02-13T01:03:59.173Z'}},\n",
       "  {'itemInfos': {'id': '6659448999038160133',\n",
       "    'text': '#adidas #nike #fila #vans #converse #puma #lovemyshoes 💙',\n",
       "    'createTime': '1550523797',\n",
       "    'authorId': '6618370801061199878',\n",
       "    'musicId': '6594233508997106433',\n",
       "    'covers': ['https://p16.muscdn.com/obj/tos-maliva-p-0068/0kuo7gd5evk9du2rhlhb00005144090v0200006f05'],\n",
       "    'coversOrigin': ['https://p16.muscdn.com/obj/tos-maliva-p-0068/82a78a247f3f45efb5516988205ecfe7'],\n",
       "    'coversDynamic': ['https://p16.muscdn.com/obj/tos-maliva-p-0068/e515e99421dc4a54bc12dba8905dca24'],\n",
       "    'video': {'urls': ['https://v16.muscdn.com/83066d75bd0b6fcf65fe527f994d691f/5e453c8b/video/tos/maliva/tos-maliva-v-0068/7314d74479124427aec18969641239dc/?a=1233&br=4862&bt=2431&cr=0&cs=0&dr=0&ds=3&er=&l=202002130609350101100811761E0906BE&lr=tiktok_m&qs=0&rc=M3g6Z2huZzVrazMzODczM0ApZDZpNzlnZWU7NzQzNDs0NWdobGQyczZyb2lfLS0uMTZzczRiNWJiYTBjLzYvMTRjYDE6Yw%3D%3D'],\n",
       "     'videoMeta': {'width': 720, 'height': 1280, 'ratio': 12, 'duration': 12}},\n",
       "    'diggCount': 26167,\n",
       "    'shareCount': 385,\n",
       "    'commentCount': 113,\n",
       "    'isActivityItem': False,\n",
       "    'warnInfo': []},\n",
       "   'authorInfos': {'secUid': 'MS4wLjABAAAAXXttBNWb9p7xxZ0J_Qja2tnrnq4UIZERADU8YxhklBiCCKHOvCBWqji5V0IxQBrh',\n",
       "    'userId': '6618370801061199878',\n",
       "    'uniqueId': 'analeticiabarrien',\n",
       "    'nickName': 'Ana Barrientos ',\n",
       "    'signature': '',\n",
       "    'verified': False,\n",
       "    'covers': ['https://p16.muscdn.com/img/musically-maliva-obj/1635449651528709~c5_100x100.jpeg'],\n",
       "    'coversMedium': ['https://p16.muscdn.com/img/musically-maliva-obj/1635449651528709~c5_720x720.jpeg'],\n",
       "    'coversLarger': ['https://p16.muscdn.com/img/musically-maliva-obj/1635449651528709~c5_1080x1080.jpeg']},\n",
       "   'musicInfos': {'musicId': '6594233508997106433',\n",
       "    'musicName': 'Run Free (feat. IVIE)',\n",
       "    'authorName': 'Deep Chills',\n",
       "    'original': '',\n",
       "    'playUrl': ['https://p16.muscdn.com/obj/musically-maliva-obj/1626055266423814'],\n",
       "    'covers': ['https://p16-sg.muscdn.com/aweme/100x100/tiktok-obj/1634863738389506.JPEG.jpeg'],\n",
       "    'coversMedium': ['https://p16-sg.muscdn.com/aweme/200x200/tiktok-obj/1634863738389506.JPEG.jpeg'],\n",
       "    'coversLarger': ['https://p16-sg.muscdn.com/aweme/720x720/tiktok-obj/1634863738389506.JPEG.jpeg']},\n",
       "   'challengeInfoList': [{'challengeId': '153949',\n",
       "     'challengeName': 'fila',\n",
       "     'isCommerce': False,\n",
       "     'text': '',\n",
       "     'covers': [],\n",
       "     'coversMedium': [],\n",
       "     'coversLarger': []}],\n",
       "   'duetInfo': '0',\n",
       "   'scrapedAt': {'$date': '2020-02-13T06:10:06.725Z'}},\n",
       "  {'itemInfos': {'id': '6659448999038160133',\n",
       "    'text': '#adidas #nike #fila #vans #converse #puma #lovemyshoes 💙',\n",
       "    'createTime': '1550523797',\n",
       "    'authorId': '6618370801061199878',\n",
       "    'musicId': '6594233508997106433',\n",
       "    'covers': ['https://p16.muscdn.com/obj/tos-maliva-p-0068/0kuo7gd5evk9du2rhlhb00005144090v0200006f05'],\n",
       "    'coversOrigin': ['https://p16.muscdn.com/obj/tos-maliva-p-0068/82a78a247f3f45efb5516988205ecfe7'],\n",
       "    'coversDynamic': ['https://p16.muscdn.com/obj/tos-maliva-p-0068/e515e99421dc4a54bc12dba8905dca24'],\n",
       "    'video': {'urls': ['https://v19.muscdn.com/b25339f9d4a0633f61fa5f4784359235/5e45c088/video/tos/maliva/tos-maliva-v-0068/7314d74479124427aec18969641239dc/?a=1233&br=4862&bt=2431&cr=0&cs=0&dr=0&ds=3&er=&l=202002131532440101101021370727973A&lr=tiktok_m&qs=0&rc=M3g6Z2huZzVrazMzODczM0ApZDZpNzlnZWU7NzQzNDs0NWdobGQyczZyb2lfLS0uMTZzczRiNWJiYTBjLzYvMTRjYDE6Yw%3D%3D&vl=&vr='],\n",
       "     'videoMeta': {'width': 720, 'height': 1280, 'ratio': 12, 'duration': 12}},\n",
       "    'diggCount': 26170,\n",
       "    'shareCount': 386,\n",
       "    'playCount': 268381,\n",
       "    'commentCount': 113,\n",
       "    'isOriginal': False,\n",
       "    'isOfficial': False,\n",
       "    'isActivityItem': False,\n",
       "    'warnInfo': []},\n",
       "   'authorInfos': {'secUid': 'MS4wLjABAAAAXXttBNWb9p7xxZ0J_Qja2tnrnq4UIZERADU8YxhklBiCCKHOvCBWqji5V0IxQBrh',\n",
       "    'userId': '6618370801061199878',\n",
       "    'uniqueId': 'analeticiabarrien',\n",
       "    'nickName': 'Ana Barrientos ',\n",
       "    'signature': '',\n",
       "    'verified': False,\n",
       "    'covers': ['https://p16.muscdn.com/img/musically-maliva-obj/1635449651528709~c5_100x100.jpeg'],\n",
       "    'coversMedium': ['https://p16.muscdn.com/img/musically-maliva-obj/1635449651528709~c5_720x720.jpeg'],\n",
       "    'coversLarger': ['https://p16.muscdn.com/img/musically-maliva-obj/1635449651528709~c5_1080x1080.jpeg'],\n",
       "    'isSecret': False},\n",
       "   'musicInfos': {'musicId': '6594233508997106433',\n",
       "    'musicName': 'Run Free (feat. IVIE)',\n",
       "    'authorName': 'Deep Chills',\n",
       "    'original': '',\n",
       "    'playUrl': ['https://p16.muscdn.com/obj/musically-maliva-obj/1626055266423814'],\n",
       "    'covers': ['https://p16-sg.muscdn.com/aweme/100x100/tiktok-obj/1634863738389506.JPEG.jpeg'],\n",
       "    'coversMedium': ['https://p16-sg.muscdn.com/aweme/200x200/tiktok-obj/1634863738389506.JPEG.jpeg'],\n",
       "    'coversLarger': ['https://p16-sg.muscdn.com/aweme/720x720/tiktok-obj/1634863738389506.JPEG.jpeg']},\n",
       "   'challengeInfoList': [{'challengeId': '153949',\n",
       "     'challengeName': 'fila',\n",
       "     'isCommerce': False,\n",
       "     'text': '',\n",
       "     'covers': [],\n",
       "     'coversMedium': [],\n",
       "     'coversLarger': []}],\n",
       "   'duetInfo': '0',\n",
       "   'scrapedAt': {'$date': '2020-02-13T15:33:36.439Z'}},\n",
       "  {'itemInfos': {'id': '6659448999038160133',\n",
       "    'text': '#adidas #nike #fila #vans #converse #puma #lovemyshoes 💙',\n",
       "    'createTime': '1550523797',\n",
       "    'authorId': '6618370801061199878',\n",
       "    'musicId': '6594233508997106433',\n",
       "    'covers': ['https://p16.muscdn.com/obj/tos-maliva-p-0068/0kuo7gd5evk9du2rhlhb00005144090v0200006f05'],\n",
       "    'coversOrigin': ['https://p16.muscdn.com/obj/tos-maliva-p-0068/82a78a247f3f45efb5516988205ecfe7'],\n",
       "    'coversDynamic': ['https://p16.muscdn.com/obj/tos-maliva-p-0068/e515e99421dc4a54bc12dba8905dca24'],\n",
       "    'video': {'urls': ['https://v16.muscdn.com/c5817d106d0fa884a2369d81815ccdbd/5e46084f/video/tos/maliva/tos-maliva-v-0068/7314d74479124427aec18969641239dc/?a=1233&br=4862&bt=2431&cr=0&cs=0&dr=0&ds=3&er=&l=202002132038590101100860781E7FCEE0&lr=tiktok_m&qs=0&rc=M3g6Z2huZzVrazMzODczM0ApZDZpNzlnZWU7NzQzNDs0NWdobGQyczZyb2lfLS0uMTZzczRiNWJiYTBjLzYvMTRjYDE6Yw%3D%3D&vl=&vr='],\n",
       "     'videoMeta': {'width': 720, 'height': 1280, 'ratio': 12, 'duration': 12}},\n",
       "    'diggCount': 26170,\n",
       "    'shareCount': 386,\n",
       "    'playCount': 268392,\n",
       "    'commentCount': 113,\n",
       "    'isOriginal': False,\n",
       "    'isOfficial': False,\n",
       "    'isActivityItem': False,\n",
       "    'warnInfo': []},\n",
       "   'authorInfos': {'secUid': 'MS4wLjABAAAAXXttBNWb9p7xxZ0J_Qja2tnrnq4UIZERADU8YxhklBiCCKHOvCBWqji5V0IxQBrh',\n",
       "    'userId': '6618370801061199878',\n",
       "    'uniqueId': 'analeticiabarrien',\n",
       "    'nickName': 'Ana Barrientos ',\n",
       "    'signature': '',\n",
       "    'verified': False,\n",
       "    'covers': ['https://p16.muscdn.com/img/musically-maliva-obj/1635449651528709~c5_100x100.jpeg'],\n",
       "    'coversMedium': ['https://p16.muscdn.com/img/musically-maliva-obj/1635449651528709~c5_720x720.jpeg'],\n",
       "    'coversLarger': ['https://p16.muscdn.com/img/musically-maliva-obj/1635449651528709~c5_1080x1080.jpeg'],\n",
       "    'isSecret': False},\n",
       "   'musicInfos': {'musicId': '6594233508997106433',\n",
       "    'musicName': 'Run Free (feat. IVIE)',\n",
       "    'authorName': 'Deep Chills',\n",
       "    'original': '',\n",
       "    'playUrl': ['https://p16.muscdn.com/obj/musically-maliva-obj/1626055266423814'],\n",
       "    'covers': ['https://p16-sg.muscdn.com/aweme/100x100/tiktok-obj/1634863738389506.JPEG.jpeg'],\n",
       "    'coversMedium': ['https://p16-sg.muscdn.com/aweme/200x200/tiktok-obj/1634863738389506.JPEG.jpeg'],\n",
       "    'coversLarger': ['https://p16-sg.muscdn.com/aweme/720x720/tiktok-obj/1634863738389506.JPEG.jpeg']},\n",
       "   'challengeInfoList': [{'challengeId': '153949',\n",
       "     'challengeName': 'fila',\n",
       "     'isCommerce': False,\n",
       "     'text': '',\n",
       "     'covers': [],\n",
       "     'coversMedium': [],\n",
       "     'coversLarger': []}],\n",
       "   'duetInfo': '0',\n",
       "   'scrapedAt': {'$date': '2020-02-13T20:39:38.719Z'}}],\n",
       " 'auddData': None,\n",
       " 'transcription': None}"
      ]
     },
     "execution_count": 30,
     "metadata": {},
     "output_type": "execute_result"
    }
   ],
   "source": [
    "data[21533]"
   ]
  },
  {
   "cell_type": "code",
   "execution_count": 9,
   "metadata": {
    "scrolled": true
   },
   "outputs": [],
   "source": [
    "df_text=df_final[['Music Id','Author ID','challenge_list_Name','Verified List']]\n",
    "\n",
    "# df_text=df_text.rename(columns = {'Author ID':'source'})\n",
    "# df_text=df_text.rename(columns = {'challenge_list_Name':'target'})\n"
   ]
  },
  {
   "cell_type": "code",
   "execution_count": 10,
   "metadata": {
    "scrolled": true
   },
   "outputs": [],
   "source": [
    "def remove_zero_challenges(df_final):\n",
    "    #Remove rows having Zero challenges \n",
    "    df_text=df_final[['Music Id','Author ID','challenge_list_Name','Verified List']]\n",
    "    drop_index=[]\n",
    "    for i in range(0,len(df_text)):\n",
    "        if df_text['challenge_list_Name'][i]==['Empty']:\n",
    "            drop_index.append(i)\n",
    "    df_text.drop(df_text.index[drop_index],inplace=True)\n",
    "    df_text.reset_index(drop=True, inplace=True)\n",
    "    return df_text\n",
    "\n",
    "# df_text=remove_zero_challenges(df_text)\n",
    "# df_text.head()"
   ]
  },
  {
   "cell_type": "code",
   "execution_count": 11,
   "metadata": {
    "scrolled": true
   },
   "outputs": [
    {
     "data": {
      "text/html": [
       "<div>\n",
       "<style scoped>\n",
       "    .dataframe tbody tr th:only-of-type {\n",
       "        vertical-align: middle;\n",
       "    }\n",
       "\n",
       "    .dataframe tbody tr th {\n",
       "        vertical-align: top;\n",
       "    }\n",
       "\n",
       "    .dataframe thead th {\n",
       "        text-align: right;\n",
       "    }\n",
       "</style>\n",
       "<table border=\"1\" class=\"dataframe\">\n",
       "  <thead>\n",
       "    <tr style=\"text-align: right;\">\n",
       "      <th></th>\n",
       "      <th>Author ID</th>\n",
       "      <th>Music Id</th>\n",
       "      <th>challenge_list_Name</th>\n",
       "    </tr>\n",
       "  </thead>\n",
       "  <tbody>\n",
       "    <tr>\n",
       "      <th>0</th>\n",
       "      <td>6675059467253629958</td>\n",
       "      <td>6735137560026172166</td>\n",
       "      <td>[duet]</td>\n",
       "    </tr>\n",
       "    <tr>\n",
       "      <th>1</th>\n",
       "      <td>142565009246584832</td>\n",
       "      <td>6788500679070698246</td>\n",
       "      <td>[fyp]</td>\n",
       "    </tr>\n",
       "    <tr>\n",
       "      <th>2</th>\n",
       "      <td>6573391</td>\n",
       "      <td>6782719503613627142</td>\n",
       "      <td>[rustychurrrr]</td>\n",
       "    </tr>\n",
       "    <tr>\n",
       "      <th>3</th>\n",
       "      <td>6524904798586672143</td>\n",
       "      <td>6786818668270586629</td>\n",
       "      <td>[trend, comedy, prank]</td>\n",
       "    </tr>\n",
       "    <tr>\n",
       "      <th>4</th>\n",
       "      <td>104751075185889280</td>\n",
       "      <td>306833462647349249</td>\n",
       "      <td>[wsl, surf, surfing, hydrofoil, fyp, foryou, r...</td>\n",
       "    </tr>\n",
       "  </tbody>\n",
       "</table>\n",
       "</div>"
      ],
      "text/plain": [
       "             Author ID             Music Id  \\\n",
       "0  6675059467253629958  6735137560026172166   \n",
       "1   142565009246584832  6788500679070698246   \n",
       "2              6573391  6782719503613627142   \n",
       "3  6524904798586672143  6786818668270586629   \n",
       "4   104751075185889280   306833462647349249   \n",
       "\n",
       "                                 challenge_list_Name  \n",
       "0                                             [duet]  \n",
       "1                                              [fyp]  \n",
       "2                                     [rustychurrrr]  \n",
       "3                             [trend, comedy, prank]  \n",
       "4  [wsl, surf, surfing, hydrofoil, fyp, foryou, r...  "
      ]
     },
     "execution_count": 11,
     "metadata": {},
     "output_type": "execute_result"
    }
   ],
   "source": [
    "def challenges_for_verified_users(df_text):\n",
    "    #Challenges associated with verifed users\n",
    "    listauthor=[]\n",
    "    author=[]\n",
    "    listauthor=df_text.index[df_text['Verified List'] == True].tolist()\n",
    "    for i in listauthor:\n",
    "        author.append([df_text['Author ID'][i],df_text['Music Id'][i],df_text['challenge_list_Name'][i]])\n",
    "    df_verified_user_challenges=pd.DataFrame()\n",
    "    df_verified_user_challenges[['Author ID','Music Id','challenge_list_Name']]=pd.DataFrame(author)\n",
    "    return df_verified_user_challenges\n",
    "\n",
    "df_verified_user_challenges=challenges_for_verified_users(remove_zero_challenges(df_final))\n",
    "df_verified_user_challenges.head()"
   ]
  },
  {
   "cell_type": "code",
   "execution_count": 13,
   "metadata": {
    "scrolled": true
   },
   "outputs": [],
   "source": [
    "#Create list having format author : challenge1 for force directed graph  \n",
    "\n",
    "def create_df_graph(df_text):\n",
    "    append_list=[]\n",
    "    for i in range(0,len(df_text['Author ID'])): \n",
    "        for j in df_text['challenge_list_Name'][i]:       \n",
    "             append_list.append([df_text['Music Id'][i],df_text['Author ID'][i],j,1])\n",
    "    cols = ['Music ID','Author ID','challenge_list_Name','weight']\n",
    "\n",
    "    df_graph = pd.DataFrame(append_list,columns=cols)  \n",
    "    return df_graph\n",
    "\n",
    "def unique_values(dataframe,columnname):\n",
    "    dataframereturn=pd.DataFrame()\n",
    "    dataframereturn=dataframe[columnname].value_counts().rename_axis('unique_values').reset_index(name='counts')\n",
    "    return dataframereturn\n",
    "\n",
    "#Unique values for Author ID\n",
    "df_bar_author_id=unique_values(df_final,'Author ID')"
   ]
  },
  {
   "cell_type": "code",
   "execution_count": 14,
   "metadata": {
    "scrolled": true
   },
   "outputs": [
    {
     "data": {
      "application/vnd.plotly.v1+json": {
       "config": {
        "plotlyServerURL": "https://plot.ly"
       },
       "data": [
        {
         "line": {
          "color": "red",
          "width": 2
         },
         "name": "Comment Count",
         "type": "scatter",
         "x": [
          "02/12/20",
          "02/12/20",
          "02/12/20",
          "02/13/20",
          "02/13/20",
          "02/13/20",
          "02/13/20",
          "02/13/20",
          "02/13/20",
          "02/13/20",
          "02/14/20",
          "02/14/20",
          "02/14/20",
          "02/14/20",
          "02/14/20",
          "02/14/20",
          "02/14/20",
          "02/14/20",
          "02/14/20",
          "02/14/20",
          "02/14/20",
          "02/14/20",
          "02/14/20",
          "02/14/20",
          "02/15/20",
          "02/15/20",
          "02/15/20",
          "02/15/20",
          "02/15/20",
          "02/15/20",
          "02/15/20",
          "02/15/20",
          "02/15/20",
          "02/15/20",
          "02/15/20",
          "02/15/20",
          "02/15/20",
          "02/15/20",
          "02/15/20",
          "02/15/20",
          "02/15/20",
          "02/15/20",
          "02/15/20",
          "02/15/20",
          "02/15/20",
          "02/15/20",
          "02/16/20",
          "02/16/20",
          "02/16/20",
          "02/16/20",
          "02/16/20",
          "02/16/20",
          "02/16/20",
          "02/16/20",
          "02/16/20",
          "02/16/20",
          "02/16/20",
          "02/16/20",
          "02/16/20",
          "02/16/20",
          "02/16/20",
          "02/16/20",
          "02/16/20",
          "02/16/20",
          "02/17/20",
          "02/17/20",
          "02/17/20",
          "02/17/20",
          "02/17/20",
          "02/17/20",
          "02/17/20",
          "02/17/20",
          "02/17/20",
          "02/17/20",
          "02/17/20",
          "02/17/20",
          "02/17/20",
          "02/17/20",
          "02/17/20",
          "02/17/20",
          "02/17/20",
          "02/17/20",
          "02/17/20",
          "02/17/20",
          "02/17/20",
          "02/18/20",
          "02/18/20",
          "02/18/20",
          "02/18/20",
          "02/18/20",
          "02/18/20",
          "02/18/20",
          "02/18/20",
          "02/18/20",
          "02/18/20",
          "02/18/20",
          "02/18/20",
          "02/18/20",
          "02/18/20",
          "02/18/20",
          "02/18/20",
          "02/18/20",
          "02/18/20",
          "02/18/20",
          "02/18/20",
          "02/18/20",
          "02/18/20",
          "02/19/20",
          "02/19/20",
          "02/19/20",
          "02/19/20",
          "02/19/20",
          "02/19/20",
          "02/19/20",
          "02/19/20",
          "02/19/20",
          "02/19/20",
          "02/19/20",
          "02/19/20",
          "02/19/20",
          "02/19/20",
          "02/19/20",
          "02/19/20",
          "02/19/20",
          "02/19/20",
          "02/19/20",
          "02/19/20",
          "02/20/20",
          "02/20/20",
          "02/20/20",
          "02/20/20",
          "02/20/20",
          "02/20/20",
          "02/20/20",
          "02/20/20",
          "02/20/20",
          "02/20/20",
          "02/20/20",
          "02/20/20",
          "02/20/20",
          "02/20/20",
          "02/20/20",
          "02/20/20",
          "02/21/20",
          "02/21/20",
          "02/21/20",
          "02/21/20",
          "02/21/20",
          "02/21/20",
          "02/21/20",
          "02/21/20",
          "02/21/20",
          "02/21/20",
          "02/21/20",
          "02/21/20",
          "02/21/20",
          "02/21/20",
          "02/21/20",
          "02/21/20",
          "02/21/20",
          "02/21/20",
          "02/22/20",
          "02/22/20",
          "02/22/20",
          "02/22/20",
          "02/22/20",
          "02/22/20",
          "02/22/20",
          "02/22/20",
          "02/23/20",
          "02/23/20",
          "02/23/20",
          "02/23/20",
          "02/23/20",
          "02/23/20",
          "02/23/20",
          "02/23/20",
          "02/23/20",
          "02/23/20",
          "02/23/20",
          "02/23/20",
          "02/23/20",
          "02/23/20",
          "02/23/20",
          "02/23/20",
          "02/23/20",
          "02/24/20",
          "02/24/20",
          "02/24/20",
          "02/24/20",
          "02/24/20",
          "02/24/20",
          "02/24/20",
          "02/24/20",
          "02/24/20",
          "02/24/20",
          "02/24/20",
          "02/24/20",
          "02/25/20",
          "02/25/20",
          "02/25/20",
          "02/25/20",
          "02/26/20",
          "02/26/20",
          "02/26/20",
          "02/26/20",
          "02/26/20",
          "02/26/20",
          "02/26/20",
          "02/26/20",
          "02/26/20",
          "02/26/20",
          "02/26/20",
          "02/26/20",
          "02/26/20"
         ],
         "xaxis": "x",
         "y": [
          683,
          683,
          684,
          688,
          691,
          691,
          691,
          696,
          697,
          700,
          707,
          711,
          714,
          714,
          715,
          715,
          715,
          715,
          715,
          718,
          718,
          719,
          719,
          719,
          721,
          723,
          727,
          728,
          729,
          732,
          732,
          735,
          735,
          735,
          735,
          735,
          736,
          736,
          736,
          738,
          738,
          738,
          738,
          738,
          738,
          740,
          742,
          745,
          747,
          748,
          751,
          754,
          755,
          756,
          758,
          758,
          758,
          758,
          759,
          759,
          762,
          763,
          768,
          779,
          780,
          783,
          787,
          791,
          794,
          794,
          795,
          796,
          797,
          800,
          800,
          800,
          801,
          801,
          801,
          802,
          806,
          807,
          808,
          808,
          811,
          812,
          814,
          817,
          818,
          819,
          819,
          819,
          819,
          819,
          819,
          819,
          819,
          819,
          819,
          819,
          819,
          819,
          819,
          819,
          819,
          820,
          823,
          824,
          828,
          830,
          830,
          830,
          830,
          830,
          830,
          830,
          830,
          830,
          830,
          830,
          830,
          830,
          830,
          830,
          830,
          830,
          831,
          833,
          833,
          835,
          835,
          835,
          835,
          835,
          835,
          837,
          837,
          837,
          837,
          837,
          837,
          836,
          838,
          838,
          838,
          839,
          839,
          839,
          839,
          839,
          839,
          839,
          839,
          840,
          841,
          843,
          843,
          843,
          845,
          847,
          847,
          849,
          851,
          852,
          852,
          852,
          854,
          854,
          854,
          857,
          858,
          858,
          858,
          858,
          858,
          858,
          858,
          859,
          859,
          860,
          860,
          862,
          862,
          862,
          862,
          863,
          864,
          865,
          865,
          866,
          867,
          867,
          868,
          868,
          868,
          869,
          870,
          871,
          871,
          874,
          874,
          875,
          875,
          876,
          877,
          877,
          879,
          881,
          881,
          881,
          881,
          882,
          882,
          882,
          885
         ],
         "yaxis": "y"
        },
        {
         "line": {
          "color": "blue",
          "width": 2
         },
         "name": "Share Count",
         "type": "scatter",
         "x": [
          "02/12/20",
          "02/12/20",
          "02/12/20",
          "02/13/20",
          "02/13/20",
          "02/13/20",
          "02/13/20",
          "02/13/20",
          "02/13/20",
          "02/13/20",
          "02/14/20",
          "02/14/20",
          "02/14/20",
          "02/14/20",
          "02/14/20",
          "02/14/20",
          "02/14/20",
          "02/14/20",
          "02/14/20",
          "02/14/20",
          "02/14/20",
          "02/14/20",
          "02/14/20",
          "02/14/20",
          "02/15/20",
          "02/15/20",
          "02/15/20",
          "02/15/20",
          "02/15/20",
          "02/15/20",
          "02/15/20",
          "02/15/20",
          "02/15/20",
          "02/15/20",
          "02/15/20",
          "02/15/20",
          "02/15/20",
          "02/15/20",
          "02/15/20",
          "02/15/20",
          "02/15/20",
          "02/15/20",
          "02/15/20",
          "02/15/20",
          "02/15/20",
          "02/15/20",
          "02/16/20",
          "02/16/20",
          "02/16/20",
          "02/16/20",
          "02/16/20",
          "02/16/20",
          "02/16/20",
          "02/16/20",
          "02/16/20",
          "02/16/20",
          "02/16/20",
          "02/16/20",
          "02/16/20",
          "02/16/20",
          "02/16/20",
          "02/16/20",
          "02/16/20",
          "02/16/20",
          "02/17/20",
          "02/17/20",
          "02/17/20",
          "02/17/20",
          "02/17/20",
          "02/17/20",
          "02/17/20",
          "02/17/20",
          "02/17/20",
          "02/17/20",
          "02/17/20",
          "02/17/20",
          "02/17/20",
          "02/17/20",
          "02/17/20",
          "02/17/20",
          "02/17/20",
          "02/17/20",
          "02/17/20",
          "02/17/20",
          "02/17/20",
          "02/18/20",
          "02/18/20",
          "02/18/20",
          "02/18/20",
          "02/18/20",
          "02/18/20",
          "02/18/20",
          "02/18/20",
          "02/18/20",
          "02/18/20",
          "02/18/20",
          "02/18/20",
          "02/18/20",
          "02/18/20",
          "02/18/20",
          "02/18/20",
          "02/18/20",
          "02/18/20",
          "02/18/20",
          "02/18/20",
          "02/18/20",
          "02/18/20",
          "02/19/20",
          "02/19/20",
          "02/19/20",
          "02/19/20",
          "02/19/20",
          "02/19/20",
          "02/19/20",
          "02/19/20",
          "02/19/20",
          "02/19/20",
          "02/19/20",
          "02/19/20",
          "02/19/20",
          "02/19/20",
          "02/19/20",
          "02/19/20",
          "02/19/20",
          "02/19/20",
          "02/19/20",
          "02/19/20",
          "02/20/20",
          "02/20/20",
          "02/20/20",
          "02/20/20",
          "02/20/20",
          "02/20/20",
          "02/20/20",
          "02/20/20",
          "02/20/20",
          "02/20/20",
          "02/20/20",
          "02/20/20",
          "02/20/20",
          "02/20/20",
          "02/20/20",
          "02/20/20",
          "02/21/20",
          "02/21/20",
          "02/21/20",
          "02/21/20",
          "02/21/20",
          "02/21/20",
          "02/21/20",
          "02/21/20",
          "02/21/20",
          "02/21/20",
          "02/21/20",
          "02/21/20",
          "02/21/20",
          "02/21/20",
          "02/21/20",
          "02/21/20",
          "02/21/20",
          "02/21/20",
          "02/22/20",
          "02/22/20",
          "02/22/20",
          "02/22/20",
          "02/22/20",
          "02/22/20",
          "02/22/20",
          "02/22/20",
          "02/23/20",
          "02/23/20",
          "02/23/20",
          "02/23/20",
          "02/23/20",
          "02/23/20",
          "02/23/20",
          "02/23/20",
          "02/23/20",
          "02/23/20",
          "02/23/20",
          "02/23/20",
          "02/23/20",
          "02/23/20",
          "02/23/20",
          "02/23/20",
          "02/23/20",
          "02/24/20",
          "02/24/20",
          "02/24/20",
          "02/24/20",
          "02/24/20",
          "02/24/20",
          "02/24/20",
          "02/24/20",
          "02/24/20",
          "02/24/20",
          "02/24/20",
          "02/24/20",
          "02/25/20",
          "02/25/20",
          "02/25/20",
          "02/25/20",
          "02/26/20",
          "02/26/20",
          "02/26/20",
          "02/26/20",
          "02/26/20",
          "02/26/20",
          "02/26/20",
          "02/26/20",
          "02/26/20",
          "02/26/20",
          "02/26/20",
          "02/26/20",
          "02/26/20"
         ],
         "xaxis": "x2",
         "y": [
          7159,
          7164,
          7187,
          7283,
          7319,
          7320,
          7327,
          7379,
          7410,
          7460,
          7563,
          7606,
          7660,
          7661,
          7671,
          7680,
          7687,
          7692,
          7698,
          7707,
          7716,
          7730,
          7749,
          7761,
          7784,
          7800,
          7835,
          7870,
          7884,
          7900,
          7910,
          7924,
          7934,
          7937,
          7942,
          7970,
          7990,
          8004,
          8016,
          8027,
          8040,
          8058,
          8070,
          8081,
          8102,
          8122,
          8148,
          8193,
          8221,
          8248,
          8279,
          8299,
          8316,
          8323,
          8330,
          8330,
          8330,
          8330,
          8355,
          8371,
          8411,
          8443,
          8494,
          8556,
          8585,
          8611,
          8640,
          8674,
          8693,
          8703,
          8717,
          8725,
          8728,
          8734,
          8737,
          8737,
          8740,
          8747,
          8755,
          8760,
          8789,
          8796,
          8808,
          8818,
          8876,
          8888,
          8902,
          8918,
          8921,
          8934,
          8935,
          8937,
          8938,
          8940,
          8941,
          8941,
          8942,
          8942,
          8942,
          8944,
          8947,
          8948,
          8953,
          8954,
          8965,
          8979,
          8995,
          9008,
          9029,
          9063,
          9065,
          9067,
          9067,
          9068,
          9069,
          9070,
          9070,
          9073,
          9075,
          9076,
          9077,
          9077,
          9087,
          9094,
          9110,
          9118,
          9123,
          9133,
          9140,
          9155,
          9161,
          9164,
          9165,
          9168,
          9171,
          9171,
          9181,
          9182,
          9186,
          9187,
          9191,
          9201,
          9207,
          9220,
          9230,
          9243,
          9243,
          9251,
          9256,
          9258,
          9263,
          9265,
          9270,
          9270,
          9280,
          9282,
          9283,
          9285,
          9289,
          9294,
          9307,
          9319,
          9353,
          9362,
          9381,
          9383,
          9388,
          9390,
          9394,
          9401,
          9407,
          9414,
          9422,
          9432,
          9448,
          9452,
          9455,
          9455,
          9456,
          9457,
          9463,
          9501,
          9507,
          9510,
          9527,
          9533,
          9537,
          9550,
          9555,
          9556,
          9561,
          9561,
          9562,
          9562,
          9565,
          9577,
          9586,
          9595,
          9604,
          9648,
          9653,
          9655,
          9673,
          9691,
          9701,
          9710,
          9714,
          9714,
          9717,
          9717,
          9717,
          9721,
          9722,
          9725,
          9731
         ],
         "yaxis": "y2"
        },
        {
         "line": {
          "color": "green",
          "width": 2
         },
         "name": "Digg Count",
         "type": "scatter",
         "x": [
          "02/12/20",
          "02/12/20",
          "02/12/20",
          "02/13/20",
          "02/13/20",
          "02/13/20",
          "02/13/20",
          "02/13/20",
          "02/13/20",
          "02/13/20",
          "02/14/20",
          "02/14/20",
          "02/14/20",
          "02/14/20",
          "02/14/20",
          "02/14/20",
          "02/14/20",
          "02/14/20",
          "02/14/20",
          "02/14/20",
          "02/14/20",
          "02/14/20",
          "02/14/20",
          "02/14/20",
          "02/15/20",
          "02/15/20",
          "02/15/20",
          "02/15/20",
          "02/15/20",
          "02/15/20",
          "02/15/20",
          "02/15/20",
          "02/15/20",
          "02/15/20",
          "02/15/20",
          "02/15/20",
          "02/15/20",
          "02/15/20",
          "02/15/20",
          "02/15/20",
          "02/15/20",
          "02/15/20",
          "02/15/20",
          "02/15/20",
          "02/15/20",
          "02/15/20",
          "02/16/20",
          "02/16/20",
          "02/16/20",
          "02/16/20",
          "02/16/20",
          "02/16/20",
          "02/16/20",
          "02/16/20",
          "02/16/20",
          "02/16/20",
          "02/16/20",
          "02/16/20",
          "02/16/20",
          "02/16/20",
          "02/16/20",
          "02/16/20",
          "02/16/20",
          "02/16/20",
          "02/17/20",
          "02/17/20",
          "02/17/20",
          "02/17/20",
          "02/17/20",
          "02/17/20",
          "02/17/20",
          "02/17/20",
          "02/17/20",
          "02/17/20",
          "02/17/20",
          "02/17/20",
          "02/17/20",
          "02/17/20",
          "02/17/20",
          "02/17/20",
          "02/17/20",
          "02/17/20",
          "02/17/20",
          "02/17/20",
          "02/17/20",
          "02/18/20",
          "02/18/20",
          "02/18/20",
          "02/18/20",
          "02/18/20",
          "02/18/20",
          "02/18/20",
          "02/18/20",
          "02/18/20",
          "02/18/20",
          "02/18/20",
          "02/18/20",
          "02/18/20",
          "02/18/20",
          "02/18/20",
          "02/18/20",
          "02/18/20",
          "02/18/20",
          "02/18/20",
          "02/18/20",
          "02/18/20",
          "02/18/20",
          "02/19/20",
          "02/19/20",
          "02/19/20",
          "02/19/20",
          "02/19/20",
          "02/19/20",
          "02/19/20",
          "02/19/20",
          "02/19/20",
          "02/19/20",
          "02/19/20",
          "02/19/20",
          "02/19/20",
          "02/19/20",
          "02/19/20",
          "02/19/20",
          "02/19/20",
          "02/19/20",
          "02/19/20",
          "02/19/20",
          "02/20/20",
          "02/20/20",
          "02/20/20",
          "02/20/20",
          "02/20/20",
          "02/20/20",
          "02/20/20",
          "02/20/20",
          "02/20/20",
          "02/20/20",
          "02/20/20",
          "02/20/20",
          "02/20/20",
          "02/20/20",
          "02/20/20",
          "02/20/20",
          "02/21/20",
          "02/21/20",
          "02/21/20",
          "02/21/20",
          "02/21/20",
          "02/21/20",
          "02/21/20",
          "02/21/20",
          "02/21/20",
          "02/21/20",
          "02/21/20",
          "02/21/20",
          "02/21/20",
          "02/21/20",
          "02/21/20",
          "02/21/20",
          "02/21/20",
          "02/21/20",
          "02/22/20",
          "02/22/20",
          "02/22/20",
          "02/22/20",
          "02/22/20",
          "02/22/20",
          "02/22/20",
          "02/22/20",
          "02/23/20",
          "02/23/20",
          "02/23/20",
          "02/23/20",
          "02/23/20",
          "02/23/20",
          "02/23/20",
          "02/23/20",
          "02/23/20",
          "02/23/20",
          "02/23/20",
          "02/23/20",
          "02/23/20",
          "02/23/20",
          "02/23/20",
          "02/23/20",
          "02/23/20",
          "02/24/20",
          "02/24/20",
          "02/24/20",
          "02/24/20",
          "02/24/20",
          "02/24/20",
          "02/24/20",
          "02/24/20",
          "02/24/20",
          "02/24/20",
          "02/24/20",
          "02/24/20",
          "02/25/20",
          "02/25/20",
          "02/25/20",
          "02/25/20",
          "02/26/20",
          "02/26/20",
          "02/26/20",
          "02/26/20",
          "02/26/20",
          "02/26/20",
          "02/26/20",
          "02/26/20",
          "02/26/20",
          "02/26/20",
          "02/26/20",
          "02/26/20",
          "02/26/20"
         ],
         "xaxis": "x3",
         "y": [
          66227,
          66248,
          66460,
          67291,
          67535,
          67543,
          67568,
          67979,
          68154,
          68411,
          69306,
          69533,
          69830,
          69837,
          69919,
          69957,
          70009,
          70050,
          70109,
          70174,
          70231,
          70321,
          70441,
          70562,
          70678,
          70791,
          70937,
          71119,
          71297,
          71398,
          71480,
          71581,
          71626,
          71643,
          71667,
          71784,
          71882,
          71985,
          72067,
          72132,
          72200,
          72260,
          72321,
          72404,
          72528,
          72722,
          72970,
          73267,
          73491,
          73699,
          73866,
          73974,
          74058,
          74110,
          74166,
          74179,
          74190,
          74209,
          74331,
          74466,
          74719,
          74916,
          75306,
          75735,
          75913,
          76026,
          76156,
          76277,
          76386,
          76442,
          76504,
          76572,
          76627,
          76670,
          76692,
          76710,
          76732,
          76788,
          76851,
          76921,
          77074,
          77165,
          77226,
          77298,
          77549,
          77640,
          77722,
          77772,
          77817,
          77875,
          77882,
          77888,
          77894,
          77897,
          77900,
          77912,
          77925,
          77939,
          77948,
          77962,
          77971,
          77989,
          78011,
          78045,
          78087,
          78150,
          78241,
          78330,
          78439,
          78635,
          78653,
          78665,
          78671,
          78676,
          78680,
          78687,
          78695,
          78706,
          78723,
          78734,
          78746,
          78760,
          78774,
          78812,
          78844,
          78890,
          78974,
          79055,
          79126,
          79173,
          79214,
          79284,
          79289,
          79296,
          79315,
          79324,
          79354,
          79369,
          79388,
          79404,
          79437,
          79484,
          79529,
          79611,
          79695,
          79776,
          79775,
          79829,
          79867,
          79889,
          79920,
          79925,
          79950,
          79958,
          80005,
          80026,
          80058,
          80096,
          80162,
          80249,
          80328,
          80393,
          80610,
          80692,
          80847,
          80896,
          80937,
          80972,
          81005,
          81042,
          81087,
          81128,
          81176,
          81225,
          81275,
          81291,
          81316,
          81319,
          81331,
          81356,
          81397,
          81598,
          81644,
          81694,
          81728,
          81772,
          81820,
          81865,
          81915,
          81933,
          81984,
          81993,
          81998,
          82018,
          82030,
          82096,
          82137,
          82180,
          82261,
          82597,
          82655,
          82724,
          82815,
          82920,
          83026,
          83111,
          83168,
          83223,
          83258,
          83280,
          83298,
          83307,
          83322,
          83363,
          83481
         ],
         "yaxis": "y3"
        },
        {
         "line": {
          "color": "black",
          "width": 2
         },
         "name": "Play Count",
         "type": "scatter",
         "x": [
          "02/12/20",
          "02/12/20",
          "02/12/20",
          "02/13/20",
          "02/13/20",
          "02/13/20",
          "02/13/20",
          "02/13/20",
          "02/13/20",
          "02/13/20",
          "02/14/20",
          "02/14/20",
          "02/14/20",
          "02/14/20",
          "02/14/20",
          "02/14/20",
          "02/14/20",
          "02/14/20",
          "02/14/20",
          "02/14/20",
          "02/14/20",
          "02/14/20",
          "02/14/20",
          "02/14/20",
          "02/15/20",
          "02/15/20",
          "02/15/20",
          "02/15/20",
          "02/15/20",
          "02/15/20",
          "02/15/20",
          "02/15/20",
          "02/15/20",
          "02/15/20",
          "02/15/20",
          "02/15/20",
          "02/15/20",
          "02/15/20",
          "02/15/20",
          "02/15/20",
          "02/15/20",
          "02/15/20",
          "02/15/20",
          "02/15/20",
          "02/15/20",
          "02/15/20",
          "02/16/20",
          "02/16/20",
          "02/16/20",
          "02/16/20",
          "02/16/20",
          "02/16/20",
          "02/16/20",
          "02/16/20",
          "02/16/20",
          "02/16/20",
          "02/16/20",
          "02/16/20",
          "02/16/20",
          "02/16/20",
          "02/16/20",
          "02/16/20",
          "02/16/20",
          "02/16/20",
          "02/17/20",
          "02/17/20",
          "02/17/20",
          "02/17/20",
          "02/17/20",
          "02/17/20",
          "02/17/20",
          "02/17/20",
          "02/17/20",
          "02/17/20",
          "02/17/20",
          "02/17/20",
          "02/17/20",
          "02/17/20",
          "02/17/20",
          "02/17/20",
          "02/17/20",
          "02/17/20",
          "02/17/20",
          "02/17/20",
          "02/17/20",
          "02/18/20",
          "02/18/20",
          "02/18/20",
          "02/18/20",
          "02/18/20",
          "02/18/20",
          "02/18/20",
          "02/18/20",
          "02/18/20",
          "02/18/20",
          "02/18/20",
          "02/18/20",
          "02/18/20",
          "02/18/20",
          "02/18/20",
          "02/18/20",
          "02/18/20",
          "02/18/20",
          "02/18/20",
          "02/18/20",
          "02/18/20",
          "02/18/20",
          "02/19/20",
          "02/19/20",
          "02/19/20",
          "02/19/20",
          "02/19/20",
          "02/19/20",
          "02/19/20",
          "02/19/20",
          "02/19/20",
          "02/19/20",
          "02/19/20",
          "02/19/20",
          "02/19/20",
          "02/19/20",
          "02/19/20",
          "02/19/20",
          "02/19/20",
          "02/19/20",
          "02/19/20",
          "02/19/20",
          "02/20/20",
          "02/20/20",
          "02/20/20",
          "02/20/20",
          "02/20/20",
          "02/20/20",
          "02/20/20",
          "02/20/20",
          "02/20/20",
          "02/20/20",
          "02/20/20",
          "02/20/20",
          "02/20/20",
          "02/20/20",
          "02/20/20",
          "02/20/20",
          "02/21/20",
          "02/21/20",
          "02/21/20",
          "02/21/20",
          "02/21/20",
          "02/21/20",
          "02/21/20",
          "02/21/20",
          "02/21/20",
          "02/21/20",
          "02/21/20",
          "02/21/20",
          "02/21/20",
          "02/21/20",
          "02/21/20",
          "02/21/20",
          "02/21/20",
          "02/21/20",
          "02/22/20",
          "02/22/20",
          "02/22/20",
          "02/22/20",
          "02/22/20",
          "02/22/20",
          "02/22/20",
          "02/22/20",
          "02/23/20",
          "02/23/20",
          "02/23/20",
          "02/23/20",
          "02/23/20",
          "02/23/20",
          "02/23/20",
          "02/23/20",
          "02/23/20",
          "02/23/20",
          "02/23/20",
          "02/23/20",
          "02/23/20",
          "02/23/20",
          "02/23/20",
          "02/23/20",
          "02/23/20",
          "02/24/20",
          "02/24/20",
          "02/24/20",
          "02/24/20",
          "02/24/20",
          "02/24/20",
          "02/24/20",
          "02/24/20",
          "02/24/20",
          "02/24/20",
          "02/24/20",
          "02/24/20",
          "02/25/20",
          "02/25/20",
          "02/25/20",
          "02/25/20",
          "02/26/20",
          "02/26/20",
          "02/26/20",
          "02/26/20",
          "02/26/20",
          "02/26/20",
          "02/26/20",
          "02/26/20",
          "02/26/20",
          "02/26/20",
          "02/26/20",
          "02/26/20",
          "02/26/20"
         ],
         "xaxis": "x4",
         "y": [
          0,
          0,
          0,
          0,
          0,
          0,
          0,
          1453072,
          1458791,
          1464228,
          1488672,
          1496148,
          1509584,
          1509967,
          1512754,
          1514373,
          1516117,
          1517792,
          1519742,
          1522129,
          1524699,
          1527805,
          1532142,
          1537023,
          1541489,
          1546489,
          1553151,
          1562654,
          1570940,
          1575608,
          1579006,
          1582310,
          1583164,
          1583721,
          1584320,
          1589441,
          1593669,
          1598750,
          1603100,
          1607480,
          1611044,
          1614262,
          1616999,
          1619839,
          1623549,
          1629977,
          1639059,
          1648522,
          1656499,
          1664788,
          1671657,
          1675888,
          1679449,
          1681516,
          1683517,
          1683988,
          1684381,
          1685357,
          1690826,
          1696114,
          1705085,
          1714268,
          1730834,
          1750305,
          1758356,
          1764732,
          1771154,
          1777938,
          1783507,
          1786553,
          1789250,
          1791496,
          1793236,
          1794341,
          1795076,
          1795833,
          1797438,
          1800164,
          1803269,
          1807289,
          1815958,
          1820061,
          1823272,
          1826547,
          1841122,
          1845819,
          1850231,
          1853453,
          1855648,
          1858092,
          1858624,
          1859024,
          1859298,
          1859499,
          1859647,
          1860336,
          1860965,
          1861464,
          1862114,
          1862962,
          1863910,
          1864877,
          1865954,
          1867420,
          1869238,
          1872465,
          1876560,
          1881388,
          1887038,
          1896108,
          1897091,
          1897721,
          1898093,
          1898449,
          1898626,
          1899078,
          1899651,
          1900248,
          1900807,
          1901312,
          1901896,
          1902594,
          1903407,
          1904575,
          1906637,
          1908984,
          1912320,
          1916640,
          1920283,
          1922920,
          1924805,
          1928058,
          1928238,
          1928655,
          1929759,
          1930320,
          1931420,
          1932118,
          1932904,
          1933827,
          1935501,
          1937760,
          1940453,
          1944638,
          1949352,
          1953082,
          1953117,
          1955643,
          1957362,
          1958470,
          1959883,
          1960132,
          1961411,
          1962096,
          1964543,
          1965379,
          1966306,
          1967572,
          1970197,
          1973780,
          1977595,
          1980592,
          1991672,
          1995210,
          2003384,
          2005752,
          2008322,
          2010345,
          2012366,
          2014641,
          2017445,
          2020297,
          2023392,
          2025909,
          2029471,
          2030457,
          2031607,
          2031848,
          2032358,
          2033617,
          2036104,
          2046887,
          2049129,
          2051261,
          2053118,
          2055071,
          2056996,
          2059428,
          2061831,
          2063470,
          2065614,
          2065940,
          2066429,
          2067120,
          2067877,
          2071106,
          2072872,
          2075444,
          2078586,
          2092954,
          2095210,
          2098824,
          2102844,
          2107869,
          2112809,
          2116539,
          2119575,
          2121622,
          2122816,
          2123558,
          2124118,
          2124514,
          2124932,
          2126190,
          2129092
         ],
         "yaxis": "y4"
        }
       ],
       "layout": {
        "template": {
         "data": {
          "bar": [
           {
            "error_x": {
             "color": "#2a3f5f"
            },
            "error_y": {
             "color": "#2a3f5f"
            },
            "marker": {
             "line": {
              "color": "#E5ECF6",
              "width": 0.5
             }
            },
            "type": "bar"
           }
          ],
          "barpolar": [
           {
            "marker": {
             "line": {
              "color": "#E5ECF6",
              "width": 0.5
             }
            },
            "type": "barpolar"
           }
          ],
          "carpet": [
           {
            "aaxis": {
             "endlinecolor": "#2a3f5f",
             "gridcolor": "white",
             "linecolor": "white",
             "minorgridcolor": "white",
             "startlinecolor": "#2a3f5f"
            },
            "baxis": {
             "endlinecolor": "#2a3f5f",
             "gridcolor": "white",
             "linecolor": "white",
             "minorgridcolor": "white",
             "startlinecolor": "#2a3f5f"
            },
            "type": "carpet"
           }
          ],
          "choropleth": [
           {
            "colorbar": {
             "outlinewidth": 0,
             "ticks": ""
            },
            "type": "choropleth"
           }
          ],
          "contour": [
           {
            "colorbar": {
             "outlinewidth": 0,
             "ticks": ""
            },
            "colorscale": [
             [
              0,
              "#0d0887"
             ],
             [
              0.1111111111111111,
              "#46039f"
             ],
             [
              0.2222222222222222,
              "#7201a8"
             ],
             [
              0.3333333333333333,
              "#9c179e"
             ],
             [
              0.4444444444444444,
              "#bd3786"
             ],
             [
              0.5555555555555556,
              "#d8576b"
             ],
             [
              0.6666666666666666,
              "#ed7953"
             ],
             [
              0.7777777777777778,
              "#fb9f3a"
             ],
             [
              0.8888888888888888,
              "#fdca26"
             ],
             [
              1,
              "#f0f921"
             ]
            ],
            "type": "contour"
           }
          ],
          "contourcarpet": [
           {
            "colorbar": {
             "outlinewidth": 0,
             "ticks": ""
            },
            "type": "contourcarpet"
           }
          ],
          "heatmap": [
           {
            "colorbar": {
             "outlinewidth": 0,
             "ticks": ""
            },
            "colorscale": [
             [
              0,
              "#0d0887"
             ],
             [
              0.1111111111111111,
              "#46039f"
             ],
             [
              0.2222222222222222,
              "#7201a8"
             ],
             [
              0.3333333333333333,
              "#9c179e"
             ],
             [
              0.4444444444444444,
              "#bd3786"
             ],
             [
              0.5555555555555556,
              "#d8576b"
             ],
             [
              0.6666666666666666,
              "#ed7953"
             ],
             [
              0.7777777777777778,
              "#fb9f3a"
             ],
             [
              0.8888888888888888,
              "#fdca26"
             ],
             [
              1,
              "#f0f921"
             ]
            ],
            "type": "heatmap"
           }
          ],
          "heatmapgl": [
           {
            "colorbar": {
             "outlinewidth": 0,
             "ticks": ""
            },
            "colorscale": [
             [
              0,
              "#0d0887"
             ],
             [
              0.1111111111111111,
              "#46039f"
             ],
             [
              0.2222222222222222,
              "#7201a8"
             ],
             [
              0.3333333333333333,
              "#9c179e"
             ],
             [
              0.4444444444444444,
              "#bd3786"
             ],
             [
              0.5555555555555556,
              "#d8576b"
             ],
             [
              0.6666666666666666,
              "#ed7953"
             ],
             [
              0.7777777777777778,
              "#fb9f3a"
             ],
             [
              0.8888888888888888,
              "#fdca26"
             ],
             [
              1,
              "#f0f921"
             ]
            ],
            "type": "heatmapgl"
           }
          ],
          "histogram": [
           {
            "marker": {
             "colorbar": {
              "outlinewidth": 0,
              "ticks": ""
             }
            },
            "type": "histogram"
           }
          ],
          "histogram2d": [
           {
            "colorbar": {
             "outlinewidth": 0,
             "ticks": ""
            },
            "colorscale": [
             [
              0,
              "#0d0887"
             ],
             [
              0.1111111111111111,
              "#46039f"
             ],
             [
              0.2222222222222222,
              "#7201a8"
             ],
             [
              0.3333333333333333,
              "#9c179e"
             ],
             [
              0.4444444444444444,
              "#bd3786"
             ],
             [
              0.5555555555555556,
              "#d8576b"
             ],
             [
              0.6666666666666666,
              "#ed7953"
             ],
             [
              0.7777777777777778,
              "#fb9f3a"
             ],
             [
              0.8888888888888888,
              "#fdca26"
             ],
             [
              1,
              "#f0f921"
             ]
            ],
            "type": "histogram2d"
           }
          ],
          "histogram2dcontour": [
           {
            "colorbar": {
             "outlinewidth": 0,
             "ticks": ""
            },
            "colorscale": [
             [
              0,
              "#0d0887"
             ],
             [
              0.1111111111111111,
              "#46039f"
             ],
             [
              0.2222222222222222,
              "#7201a8"
             ],
             [
              0.3333333333333333,
              "#9c179e"
             ],
             [
              0.4444444444444444,
              "#bd3786"
             ],
             [
              0.5555555555555556,
              "#d8576b"
             ],
             [
              0.6666666666666666,
              "#ed7953"
             ],
             [
              0.7777777777777778,
              "#fb9f3a"
             ],
             [
              0.8888888888888888,
              "#fdca26"
             ],
             [
              1,
              "#f0f921"
             ]
            ],
            "type": "histogram2dcontour"
           }
          ],
          "mesh3d": [
           {
            "colorbar": {
             "outlinewidth": 0,
             "ticks": ""
            },
            "type": "mesh3d"
           }
          ],
          "parcoords": [
           {
            "line": {
             "colorbar": {
              "outlinewidth": 0,
              "ticks": ""
             }
            },
            "type": "parcoords"
           }
          ],
          "scatter": [
           {
            "marker": {
             "colorbar": {
              "outlinewidth": 0,
              "ticks": ""
             }
            },
            "type": "scatter"
           }
          ],
          "scatter3d": [
           {
            "line": {
             "colorbar": {
              "outlinewidth": 0,
              "ticks": ""
             }
            },
            "marker": {
             "colorbar": {
              "outlinewidth": 0,
              "ticks": ""
             }
            },
            "type": "scatter3d"
           }
          ],
          "scattercarpet": [
           {
            "marker": {
             "colorbar": {
              "outlinewidth": 0,
              "ticks": ""
             }
            },
            "type": "scattercarpet"
           }
          ],
          "scattergeo": [
           {
            "marker": {
             "colorbar": {
              "outlinewidth": 0,
              "ticks": ""
             }
            },
            "type": "scattergeo"
           }
          ],
          "scattergl": [
           {
            "marker": {
             "colorbar": {
              "outlinewidth": 0,
              "ticks": ""
             }
            },
            "type": "scattergl"
           }
          ],
          "scattermapbox": [
           {
            "marker": {
             "colorbar": {
              "outlinewidth": 0,
              "ticks": ""
             }
            },
            "type": "scattermapbox"
           }
          ],
          "scatterpolar": [
           {
            "marker": {
             "colorbar": {
              "outlinewidth": 0,
              "ticks": ""
             }
            },
            "type": "scatterpolar"
           }
          ],
          "scatterpolargl": [
           {
            "marker": {
             "colorbar": {
              "outlinewidth": 0,
              "ticks": ""
             }
            },
            "type": "scatterpolargl"
           }
          ],
          "scatterternary": [
           {
            "marker": {
             "colorbar": {
              "outlinewidth": 0,
              "ticks": ""
             }
            },
            "type": "scatterternary"
           }
          ],
          "surface": [
           {
            "colorbar": {
             "outlinewidth": 0,
             "ticks": ""
            },
            "colorscale": [
             [
              0,
              "#0d0887"
             ],
             [
              0.1111111111111111,
              "#46039f"
             ],
             [
              0.2222222222222222,
              "#7201a8"
             ],
             [
              0.3333333333333333,
              "#9c179e"
             ],
             [
              0.4444444444444444,
              "#bd3786"
             ],
             [
              0.5555555555555556,
              "#d8576b"
             ],
             [
              0.6666666666666666,
              "#ed7953"
             ],
             [
              0.7777777777777778,
              "#fb9f3a"
             ],
             [
              0.8888888888888888,
              "#fdca26"
             ],
             [
              1,
              "#f0f921"
             ]
            ],
            "type": "surface"
           }
          ],
          "table": [
           {
            "cells": {
             "fill": {
              "color": "#EBF0F8"
             },
             "line": {
              "color": "white"
             }
            },
            "header": {
             "fill": {
              "color": "#C8D4E3"
             },
             "line": {
              "color": "white"
             }
            },
            "type": "table"
           }
          ]
         },
         "layout": {
          "annotationdefaults": {
           "arrowcolor": "#2a3f5f",
           "arrowhead": 0,
           "arrowwidth": 1
          },
          "colorscale": {
           "diverging": [
            [
             0,
             "#8e0152"
            ],
            [
             0.1,
             "#c51b7d"
            ],
            [
             0.2,
             "#de77ae"
            ],
            [
             0.3,
             "#f1b6da"
            ],
            [
             0.4,
             "#fde0ef"
            ],
            [
             0.5,
             "#f7f7f7"
            ],
            [
             0.6,
             "#e6f5d0"
            ],
            [
             0.7,
             "#b8e186"
            ],
            [
             0.8,
             "#7fbc41"
            ],
            [
             0.9,
             "#4d9221"
            ],
            [
             1,
             "#276419"
            ]
           ],
           "sequential": [
            [
             0,
             "#0d0887"
            ],
            [
             0.1111111111111111,
             "#46039f"
            ],
            [
             0.2222222222222222,
             "#7201a8"
            ],
            [
             0.3333333333333333,
             "#9c179e"
            ],
            [
             0.4444444444444444,
             "#bd3786"
            ],
            [
             0.5555555555555556,
             "#d8576b"
            ],
            [
             0.6666666666666666,
             "#ed7953"
            ],
            [
             0.7777777777777778,
             "#fb9f3a"
            ],
            [
             0.8888888888888888,
             "#fdca26"
            ],
            [
             1,
             "#f0f921"
            ]
           ],
           "sequentialminus": [
            [
             0,
             "#0d0887"
            ],
            [
             0.1111111111111111,
             "#46039f"
            ],
            [
             0.2222222222222222,
             "#7201a8"
            ],
            [
             0.3333333333333333,
             "#9c179e"
            ],
            [
             0.4444444444444444,
             "#bd3786"
            ],
            [
             0.5555555555555556,
             "#d8576b"
            ],
            [
             0.6666666666666666,
             "#ed7953"
            ],
            [
             0.7777777777777778,
             "#fb9f3a"
            ],
            [
             0.8888888888888888,
             "#fdca26"
            ],
            [
             1,
             "#f0f921"
            ]
           ]
          },
          "colorway": [
           "#636efa",
           "#EF553B",
           "#00cc96",
           "#ab63fa",
           "#FFA15A",
           "#19d3f3",
           "#FF6692",
           "#B6E880",
           "#FF97FF",
           "#FECB52"
          ],
          "font": {
           "color": "#2a3f5f"
          },
          "geo": {
           "bgcolor": "white",
           "lakecolor": "white",
           "landcolor": "#E5ECF6",
           "showlakes": true,
           "showland": true,
           "subunitcolor": "white"
          },
          "hoverlabel": {
           "align": "left"
          },
          "hovermode": "closest",
          "mapbox": {
           "style": "light"
          },
          "paper_bgcolor": "white",
          "plot_bgcolor": "#E5ECF6",
          "polar": {
           "angularaxis": {
            "gridcolor": "white",
            "linecolor": "white",
            "ticks": ""
           },
           "bgcolor": "#E5ECF6",
           "radialaxis": {
            "gridcolor": "white",
            "linecolor": "white",
            "ticks": ""
           }
          },
          "scene": {
           "xaxis": {
            "backgroundcolor": "#E5ECF6",
            "gridcolor": "white",
            "gridwidth": 2,
            "linecolor": "white",
            "showbackground": true,
            "ticks": "",
            "zerolinecolor": "white"
           },
           "yaxis": {
            "backgroundcolor": "#E5ECF6",
            "gridcolor": "white",
            "gridwidth": 2,
            "linecolor": "white",
            "showbackground": true,
            "ticks": "",
            "zerolinecolor": "white"
           },
           "zaxis": {
            "backgroundcolor": "#E5ECF6",
            "gridcolor": "white",
            "gridwidth": 2,
            "linecolor": "white",
            "showbackground": true,
            "ticks": "",
            "zerolinecolor": "white"
           }
          },
          "shapedefaults": {
           "line": {
            "color": "#2a3f5f"
           }
          },
          "ternary": {
           "aaxis": {
            "gridcolor": "white",
            "linecolor": "white",
            "ticks": ""
           },
           "baxis": {
            "gridcolor": "white",
            "linecolor": "white",
            "ticks": ""
           },
           "bgcolor": "#E5ECF6",
           "caxis": {
            "gridcolor": "white",
            "linecolor": "white",
            "ticks": ""
           }
          },
          "title": {
           "x": 0.05
          },
          "xaxis": {
           "automargin": true,
           "gridcolor": "white",
           "linecolor": "white",
           "ticks": "",
           "zerolinecolor": "white",
           "zerolinewidth": 2
          },
          "yaxis": {
           "automargin": true,
           "gridcolor": "white",
           "linecolor": "white",
           "ticks": "",
           "zerolinecolor": "white",
           "zerolinewidth": 2
          }
         }
        },
        "xaxis": {
         "anchor": "y",
         "domain": [
          0,
          0.45
         ]
        },
        "xaxis2": {
         "anchor": "y2",
         "domain": [
          0.55,
          1
         ]
        },
        "xaxis3": {
         "anchor": "y3",
         "domain": [
          0,
          0.45
         ]
        },
        "xaxis4": {
         "anchor": "y4",
         "domain": [
          0.55,
          1
         ]
        },
        "yaxis": {
         "anchor": "x",
         "domain": [
          0.6666666666666667,
          1
         ]
        },
        "yaxis2": {
         "anchor": "x2",
         "domain": [
          0.6666666666666667,
          1
         ]
        },
        "yaxis3": {
         "anchor": "x3",
         "domain": [
          0,
          0.33333333333333337
         ]
        },
        "yaxis4": {
         "anchor": "x4",
         "domain": [
          0,
          0.33333333333333337
         ]
        }
       }
      },
      "text/html": [
       "<div>\n",
       "        \n",
       "        \n",
       "            <div id=\"175c37fc-91d9-4492-8590-bddef0e6b0ff\" class=\"plotly-graph-div\" style=\"height:525px; width:100%;\"></div>\n",
       "            <script type=\"text/javascript\">\n",
       "                require([\"plotly\"], function(Plotly) {\n",
       "                    window.PLOTLYENV=window.PLOTLYENV || {};\n",
       "                    \n",
       "                if (document.getElementById(\"175c37fc-91d9-4492-8590-bddef0e6b0ff\")) {\n",
       "                    Plotly.newPlot(\n",
       "                        '175c37fc-91d9-4492-8590-bddef0e6b0ff',\n",
       "                        [{\"line\": {\"color\": \"red\", \"width\": 2}, \"name\": \"Comment Count\", \"type\": \"scatter\", \"x\": [\"02/12/20\", \"02/12/20\", \"02/12/20\", \"02/13/20\", \"02/13/20\", \"02/13/20\", \"02/13/20\", \"02/13/20\", \"02/13/20\", \"02/13/20\", \"02/14/20\", \"02/14/20\", \"02/14/20\", \"02/14/20\", \"02/14/20\", \"02/14/20\", \"02/14/20\", \"02/14/20\", \"02/14/20\", \"02/14/20\", \"02/14/20\", \"02/14/20\", \"02/14/20\", \"02/14/20\", \"02/15/20\", \"02/15/20\", \"02/15/20\", \"02/15/20\", \"02/15/20\", \"02/15/20\", \"02/15/20\", \"02/15/20\", \"02/15/20\", \"02/15/20\", \"02/15/20\", \"02/15/20\", \"02/15/20\", \"02/15/20\", \"02/15/20\", \"02/15/20\", \"02/15/20\", \"02/15/20\", \"02/15/20\", \"02/15/20\", \"02/15/20\", \"02/15/20\", \"02/16/20\", \"02/16/20\", \"02/16/20\", \"02/16/20\", \"02/16/20\", \"02/16/20\", \"02/16/20\", \"02/16/20\", \"02/16/20\", \"02/16/20\", \"02/16/20\", \"02/16/20\", \"02/16/20\", \"02/16/20\", \"02/16/20\", \"02/16/20\", \"02/16/20\", \"02/16/20\", \"02/17/20\", \"02/17/20\", \"02/17/20\", \"02/17/20\", \"02/17/20\", \"02/17/20\", \"02/17/20\", \"02/17/20\", \"02/17/20\", \"02/17/20\", \"02/17/20\", \"02/17/20\", \"02/17/20\", \"02/17/20\", \"02/17/20\", \"02/17/20\", \"02/17/20\", \"02/17/20\", \"02/17/20\", \"02/17/20\", \"02/17/20\", \"02/18/20\", \"02/18/20\", \"02/18/20\", \"02/18/20\", \"02/18/20\", \"02/18/20\", \"02/18/20\", \"02/18/20\", \"02/18/20\", \"02/18/20\", \"02/18/20\", \"02/18/20\", \"02/18/20\", \"02/18/20\", \"02/18/20\", \"02/18/20\", \"02/18/20\", \"02/18/20\", \"02/18/20\", \"02/18/20\", \"02/18/20\", \"02/18/20\", \"02/19/20\", \"02/19/20\", \"02/19/20\", \"02/19/20\", \"02/19/20\", \"02/19/20\", \"02/19/20\", \"02/19/20\", \"02/19/20\", \"02/19/20\", \"02/19/20\", \"02/19/20\", \"02/19/20\", \"02/19/20\", \"02/19/20\", \"02/19/20\", \"02/19/20\", \"02/19/20\", \"02/19/20\", \"02/19/20\", \"02/20/20\", \"02/20/20\", \"02/20/20\", \"02/20/20\", \"02/20/20\", \"02/20/20\", \"02/20/20\", \"02/20/20\", \"02/20/20\", \"02/20/20\", \"02/20/20\", \"02/20/20\", \"02/20/20\", \"02/20/20\", \"02/20/20\", \"02/20/20\", \"02/21/20\", \"02/21/20\", \"02/21/20\", \"02/21/20\", \"02/21/20\", \"02/21/20\", \"02/21/20\", \"02/21/20\", \"02/21/20\", \"02/21/20\", \"02/21/20\", \"02/21/20\", \"02/21/20\", \"02/21/20\", \"02/21/20\", \"02/21/20\", \"02/21/20\", \"02/21/20\", \"02/22/20\", \"02/22/20\", \"02/22/20\", \"02/22/20\", \"02/22/20\", \"02/22/20\", \"02/22/20\", \"02/22/20\", \"02/23/20\", \"02/23/20\", \"02/23/20\", \"02/23/20\", \"02/23/20\", \"02/23/20\", \"02/23/20\", \"02/23/20\", \"02/23/20\", \"02/23/20\", \"02/23/20\", \"02/23/20\", \"02/23/20\", \"02/23/20\", \"02/23/20\", \"02/23/20\", \"02/23/20\", \"02/24/20\", \"02/24/20\", \"02/24/20\", \"02/24/20\", \"02/24/20\", \"02/24/20\", \"02/24/20\", \"02/24/20\", \"02/24/20\", \"02/24/20\", \"02/24/20\", \"02/24/20\", \"02/25/20\", \"02/25/20\", \"02/25/20\", \"02/25/20\", \"02/26/20\", \"02/26/20\", \"02/26/20\", \"02/26/20\", \"02/26/20\", \"02/26/20\", \"02/26/20\", \"02/26/20\", \"02/26/20\", \"02/26/20\", \"02/26/20\", \"02/26/20\", \"02/26/20\"], \"xaxis\": \"x\", \"y\": [683, 683, 684, 688, 691, 691, 691, 696, 697, 700, 707, 711, 714, 714, 715, 715, 715, 715, 715, 718, 718, 719, 719, 719, 721, 723, 727, 728, 729, 732, 732, 735, 735, 735, 735, 735, 736, 736, 736, 738, 738, 738, 738, 738, 738, 740, 742, 745, 747, 748, 751, 754, 755, 756, 758, 758, 758, 758, 759, 759, 762, 763, 768, 779, 780, 783, 787, 791, 794, 794, 795, 796, 797, 800, 800, 800, 801, 801, 801, 802, 806, 807, 808, 808, 811, 812, 814, 817, 818, 819, 819, 819, 819, 819, 819, 819, 819, 819, 819, 819, 819, 819, 819, 819, 819, 820, 823, 824, 828, 830, 830, 830, 830, 830, 830, 830, 830, 830, 830, 830, 830, 830, 830, 830, 830, 830, 831, 833, 833, 835, 835, 835, 835, 835, 835, 837, 837, 837, 837, 837, 837, 836, 838, 838, 838, 839, 839, 839, 839, 839, 839, 839, 839, 840, 841, 843, 843, 843, 845, 847, 847, 849, 851, 852, 852, 852, 854, 854, 854, 857, 858, 858, 858, 858, 858, 858, 858, 859, 859, 860, 860, 862, 862, 862, 862, 863, 864, 865, 865, 866, 867, 867, 868, 868, 868, 869, 870, 871, 871, 874, 874, 875, 875, 876, 877, 877, 879, 881, 881, 881, 881, 882, 882, 882, 885], \"yaxis\": \"y\"}, {\"line\": {\"color\": \"blue\", \"width\": 2}, \"name\": \"Share Count\", \"type\": \"scatter\", \"x\": [\"02/12/20\", \"02/12/20\", \"02/12/20\", \"02/13/20\", \"02/13/20\", \"02/13/20\", \"02/13/20\", \"02/13/20\", \"02/13/20\", \"02/13/20\", \"02/14/20\", \"02/14/20\", \"02/14/20\", \"02/14/20\", \"02/14/20\", \"02/14/20\", \"02/14/20\", \"02/14/20\", \"02/14/20\", \"02/14/20\", \"02/14/20\", \"02/14/20\", \"02/14/20\", \"02/14/20\", \"02/15/20\", \"02/15/20\", \"02/15/20\", \"02/15/20\", \"02/15/20\", \"02/15/20\", \"02/15/20\", \"02/15/20\", \"02/15/20\", \"02/15/20\", \"02/15/20\", \"02/15/20\", \"02/15/20\", \"02/15/20\", \"02/15/20\", \"02/15/20\", \"02/15/20\", \"02/15/20\", \"02/15/20\", \"02/15/20\", \"02/15/20\", \"02/15/20\", \"02/16/20\", \"02/16/20\", \"02/16/20\", \"02/16/20\", \"02/16/20\", \"02/16/20\", \"02/16/20\", \"02/16/20\", \"02/16/20\", \"02/16/20\", \"02/16/20\", \"02/16/20\", \"02/16/20\", \"02/16/20\", \"02/16/20\", \"02/16/20\", \"02/16/20\", \"02/16/20\", \"02/17/20\", \"02/17/20\", \"02/17/20\", \"02/17/20\", \"02/17/20\", \"02/17/20\", \"02/17/20\", \"02/17/20\", \"02/17/20\", \"02/17/20\", \"02/17/20\", \"02/17/20\", \"02/17/20\", \"02/17/20\", \"02/17/20\", \"02/17/20\", \"02/17/20\", \"02/17/20\", \"02/17/20\", \"02/17/20\", \"02/17/20\", \"02/18/20\", \"02/18/20\", \"02/18/20\", \"02/18/20\", \"02/18/20\", \"02/18/20\", \"02/18/20\", \"02/18/20\", \"02/18/20\", \"02/18/20\", \"02/18/20\", \"02/18/20\", \"02/18/20\", \"02/18/20\", \"02/18/20\", \"02/18/20\", \"02/18/20\", \"02/18/20\", \"02/18/20\", \"02/18/20\", \"02/18/20\", \"02/18/20\", \"02/19/20\", \"02/19/20\", \"02/19/20\", \"02/19/20\", \"02/19/20\", \"02/19/20\", \"02/19/20\", \"02/19/20\", \"02/19/20\", \"02/19/20\", \"02/19/20\", \"02/19/20\", \"02/19/20\", \"02/19/20\", \"02/19/20\", \"02/19/20\", \"02/19/20\", \"02/19/20\", \"02/19/20\", \"02/19/20\", \"02/20/20\", \"02/20/20\", \"02/20/20\", \"02/20/20\", \"02/20/20\", \"02/20/20\", \"02/20/20\", \"02/20/20\", \"02/20/20\", \"02/20/20\", \"02/20/20\", \"02/20/20\", \"02/20/20\", \"02/20/20\", \"02/20/20\", \"02/20/20\", \"02/21/20\", \"02/21/20\", \"02/21/20\", \"02/21/20\", \"02/21/20\", \"02/21/20\", \"02/21/20\", \"02/21/20\", \"02/21/20\", \"02/21/20\", \"02/21/20\", \"02/21/20\", \"02/21/20\", \"02/21/20\", \"02/21/20\", \"02/21/20\", \"02/21/20\", \"02/21/20\", \"02/22/20\", \"02/22/20\", \"02/22/20\", \"02/22/20\", \"02/22/20\", \"02/22/20\", \"02/22/20\", \"02/22/20\", \"02/23/20\", \"02/23/20\", \"02/23/20\", \"02/23/20\", \"02/23/20\", \"02/23/20\", \"02/23/20\", \"02/23/20\", \"02/23/20\", \"02/23/20\", \"02/23/20\", \"02/23/20\", \"02/23/20\", \"02/23/20\", \"02/23/20\", \"02/23/20\", \"02/23/20\", \"02/24/20\", \"02/24/20\", \"02/24/20\", \"02/24/20\", \"02/24/20\", \"02/24/20\", \"02/24/20\", \"02/24/20\", \"02/24/20\", \"02/24/20\", \"02/24/20\", \"02/24/20\", \"02/25/20\", \"02/25/20\", \"02/25/20\", \"02/25/20\", \"02/26/20\", \"02/26/20\", \"02/26/20\", \"02/26/20\", \"02/26/20\", \"02/26/20\", \"02/26/20\", \"02/26/20\", \"02/26/20\", \"02/26/20\", \"02/26/20\", \"02/26/20\", \"02/26/20\"], \"xaxis\": \"x2\", \"y\": [7159, 7164, 7187, 7283, 7319, 7320, 7327, 7379, 7410, 7460, 7563, 7606, 7660, 7661, 7671, 7680, 7687, 7692, 7698, 7707, 7716, 7730, 7749, 7761, 7784, 7800, 7835, 7870, 7884, 7900, 7910, 7924, 7934, 7937, 7942, 7970, 7990, 8004, 8016, 8027, 8040, 8058, 8070, 8081, 8102, 8122, 8148, 8193, 8221, 8248, 8279, 8299, 8316, 8323, 8330, 8330, 8330, 8330, 8355, 8371, 8411, 8443, 8494, 8556, 8585, 8611, 8640, 8674, 8693, 8703, 8717, 8725, 8728, 8734, 8737, 8737, 8740, 8747, 8755, 8760, 8789, 8796, 8808, 8818, 8876, 8888, 8902, 8918, 8921, 8934, 8935, 8937, 8938, 8940, 8941, 8941, 8942, 8942, 8942, 8944, 8947, 8948, 8953, 8954, 8965, 8979, 8995, 9008, 9029, 9063, 9065, 9067, 9067, 9068, 9069, 9070, 9070, 9073, 9075, 9076, 9077, 9077, 9087, 9094, 9110, 9118, 9123, 9133, 9140, 9155, 9161, 9164, 9165, 9168, 9171, 9171, 9181, 9182, 9186, 9187, 9191, 9201, 9207, 9220, 9230, 9243, 9243, 9251, 9256, 9258, 9263, 9265, 9270, 9270, 9280, 9282, 9283, 9285, 9289, 9294, 9307, 9319, 9353, 9362, 9381, 9383, 9388, 9390, 9394, 9401, 9407, 9414, 9422, 9432, 9448, 9452, 9455, 9455, 9456, 9457, 9463, 9501, 9507, 9510, 9527, 9533, 9537, 9550, 9555, 9556, 9561, 9561, 9562, 9562, 9565, 9577, 9586, 9595, 9604, 9648, 9653, 9655, 9673, 9691, 9701, 9710, 9714, 9714, 9717, 9717, 9717, 9721, 9722, 9725, 9731], \"yaxis\": \"y2\"}, {\"line\": {\"color\": \"green\", \"width\": 2}, \"name\": \"Digg Count\", \"type\": \"scatter\", \"x\": [\"02/12/20\", \"02/12/20\", \"02/12/20\", \"02/13/20\", \"02/13/20\", \"02/13/20\", \"02/13/20\", \"02/13/20\", \"02/13/20\", \"02/13/20\", \"02/14/20\", \"02/14/20\", \"02/14/20\", \"02/14/20\", \"02/14/20\", \"02/14/20\", \"02/14/20\", \"02/14/20\", \"02/14/20\", \"02/14/20\", \"02/14/20\", \"02/14/20\", \"02/14/20\", \"02/14/20\", \"02/15/20\", \"02/15/20\", \"02/15/20\", \"02/15/20\", \"02/15/20\", \"02/15/20\", \"02/15/20\", \"02/15/20\", \"02/15/20\", \"02/15/20\", \"02/15/20\", \"02/15/20\", \"02/15/20\", \"02/15/20\", \"02/15/20\", \"02/15/20\", \"02/15/20\", \"02/15/20\", \"02/15/20\", \"02/15/20\", \"02/15/20\", \"02/15/20\", \"02/16/20\", \"02/16/20\", \"02/16/20\", \"02/16/20\", \"02/16/20\", \"02/16/20\", \"02/16/20\", \"02/16/20\", \"02/16/20\", \"02/16/20\", \"02/16/20\", \"02/16/20\", \"02/16/20\", \"02/16/20\", \"02/16/20\", \"02/16/20\", \"02/16/20\", \"02/16/20\", \"02/17/20\", \"02/17/20\", \"02/17/20\", \"02/17/20\", \"02/17/20\", \"02/17/20\", \"02/17/20\", \"02/17/20\", \"02/17/20\", \"02/17/20\", \"02/17/20\", \"02/17/20\", \"02/17/20\", \"02/17/20\", \"02/17/20\", \"02/17/20\", \"02/17/20\", \"02/17/20\", \"02/17/20\", \"02/17/20\", \"02/17/20\", \"02/18/20\", \"02/18/20\", \"02/18/20\", \"02/18/20\", \"02/18/20\", \"02/18/20\", \"02/18/20\", \"02/18/20\", \"02/18/20\", \"02/18/20\", \"02/18/20\", \"02/18/20\", \"02/18/20\", \"02/18/20\", \"02/18/20\", \"02/18/20\", \"02/18/20\", \"02/18/20\", \"02/18/20\", \"02/18/20\", \"02/18/20\", \"02/18/20\", \"02/19/20\", \"02/19/20\", \"02/19/20\", \"02/19/20\", \"02/19/20\", \"02/19/20\", \"02/19/20\", \"02/19/20\", \"02/19/20\", \"02/19/20\", \"02/19/20\", \"02/19/20\", \"02/19/20\", \"02/19/20\", \"02/19/20\", \"02/19/20\", \"02/19/20\", \"02/19/20\", \"02/19/20\", \"02/19/20\", \"02/20/20\", \"02/20/20\", \"02/20/20\", \"02/20/20\", \"02/20/20\", \"02/20/20\", \"02/20/20\", \"02/20/20\", \"02/20/20\", \"02/20/20\", \"02/20/20\", \"02/20/20\", \"02/20/20\", \"02/20/20\", \"02/20/20\", \"02/20/20\", \"02/21/20\", \"02/21/20\", \"02/21/20\", \"02/21/20\", \"02/21/20\", \"02/21/20\", \"02/21/20\", \"02/21/20\", \"02/21/20\", \"02/21/20\", \"02/21/20\", \"02/21/20\", \"02/21/20\", \"02/21/20\", \"02/21/20\", \"02/21/20\", \"02/21/20\", \"02/21/20\", \"02/22/20\", \"02/22/20\", \"02/22/20\", \"02/22/20\", \"02/22/20\", \"02/22/20\", \"02/22/20\", \"02/22/20\", \"02/23/20\", \"02/23/20\", \"02/23/20\", \"02/23/20\", \"02/23/20\", \"02/23/20\", \"02/23/20\", \"02/23/20\", \"02/23/20\", \"02/23/20\", \"02/23/20\", \"02/23/20\", \"02/23/20\", \"02/23/20\", \"02/23/20\", \"02/23/20\", \"02/23/20\", \"02/24/20\", \"02/24/20\", \"02/24/20\", \"02/24/20\", \"02/24/20\", \"02/24/20\", \"02/24/20\", \"02/24/20\", \"02/24/20\", \"02/24/20\", \"02/24/20\", \"02/24/20\", \"02/25/20\", \"02/25/20\", \"02/25/20\", \"02/25/20\", \"02/26/20\", \"02/26/20\", \"02/26/20\", \"02/26/20\", \"02/26/20\", \"02/26/20\", \"02/26/20\", \"02/26/20\", \"02/26/20\", \"02/26/20\", \"02/26/20\", \"02/26/20\", \"02/26/20\"], \"xaxis\": \"x3\", \"y\": [66227, 66248, 66460, 67291, 67535, 67543, 67568, 67979, 68154, 68411, 69306, 69533, 69830, 69837, 69919, 69957, 70009, 70050, 70109, 70174, 70231, 70321, 70441, 70562, 70678, 70791, 70937, 71119, 71297, 71398, 71480, 71581, 71626, 71643, 71667, 71784, 71882, 71985, 72067, 72132, 72200, 72260, 72321, 72404, 72528, 72722, 72970, 73267, 73491, 73699, 73866, 73974, 74058, 74110, 74166, 74179, 74190, 74209, 74331, 74466, 74719, 74916, 75306, 75735, 75913, 76026, 76156, 76277, 76386, 76442, 76504, 76572, 76627, 76670, 76692, 76710, 76732, 76788, 76851, 76921, 77074, 77165, 77226, 77298, 77549, 77640, 77722, 77772, 77817, 77875, 77882, 77888, 77894, 77897, 77900, 77912, 77925, 77939, 77948, 77962, 77971, 77989, 78011, 78045, 78087, 78150, 78241, 78330, 78439, 78635, 78653, 78665, 78671, 78676, 78680, 78687, 78695, 78706, 78723, 78734, 78746, 78760, 78774, 78812, 78844, 78890, 78974, 79055, 79126, 79173, 79214, 79284, 79289, 79296, 79315, 79324, 79354, 79369, 79388, 79404, 79437, 79484, 79529, 79611, 79695, 79776, 79775, 79829, 79867, 79889, 79920, 79925, 79950, 79958, 80005, 80026, 80058, 80096, 80162, 80249, 80328, 80393, 80610, 80692, 80847, 80896, 80937, 80972, 81005, 81042, 81087, 81128, 81176, 81225, 81275, 81291, 81316, 81319, 81331, 81356, 81397, 81598, 81644, 81694, 81728, 81772, 81820, 81865, 81915, 81933, 81984, 81993, 81998, 82018, 82030, 82096, 82137, 82180, 82261, 82597, 82655, 82724, 82815, 82920, 83026, 83111, 83168, 83223, 83258, 83280, 83298, 83307, 83322, 83363, 83481], \"yaxis\": \"y3\"}, {\"line\": {\"color\": \"black\", \"width\": 2}, \"name\": \"Play Count\", \"type\": \"scatter\", \"x\": [\"02/12/20\", \"02/12/20\", \"02/12/20\", \"02/13/20\", \"02/13/20\", \"02/13/20\", \"02/13/20\", \"02/13/20\", \"02/13/20\", \"02/13/20\", \"02/14/20\", \"02/14/20\", \"02/14/20\", \"02/14/20\", \"02/14/20\", \"02/14/20\", \"02/14/20\", \"02/14/20\", \"02/14/20\", \"02/14/20\", \"02/14/20\", \"02/14/20\", \"02/14/20\", \"02/14/20\", \"02/15/20\", \"02/15/20\", \"02/15/20\", \"02/15/20\", \"02/15/20\", \"02/15/20\", \"02/15/20\", \"02/15/20\", \"02/15/20\", \"02/15/20\", \"02/15/20\", \"02/15/20\", \"02/15/20\", \"02/15/20\", \"02/15/20\", \"02/15/20\", \"02/15/20\", \"02/15/20\", \"02/15/20\", \"02/15/20\", \"02/15/20\", \"02/15/20\", \"02/16/20\", \"02/16/20\", \"02/16/20\", \"02/16/20\", \"02/16/20\", \"02/16/20\", \"02/16/20\", \"02/16/20\", \"02/16/20\", \"02/16/20\", \"02/16/20\", \"02/16/20\", \"02/16/20\", \"02/16/20\", \"02/16/20\", \"02/16/20\", \"02/16/20\", \"02/16/20\", \"02/17/20\", \"02/17/20\", \"02/17/20\", \"02/17/20\", \"02/17/20\", \"02/17/20\", \"02/17/20\", \"02/17/20\", \"02/17/20\", \"02/17/20\", \"02/17/20\", \"02/17/20\", \"02/17/20\", \"02/17/20\", \"02/17/20\", \"02/17/20\", \"02/17/20\", \"02/17/20\", \"02/17/20\", \"02/17/20\", \"02/17/20\", \"02/18/20\", \"02/18/20\", \"02/18/20\", \"02/18/20\", \"02/18/20\", \"02/18/20\", \"02/18/20\", \"02/18/20\", \"02/18/20\", \"02/18/20\", \"02/18/20\", \"02/18/20\", \"02/18/20\", \"02/18/20\", \"02/18/20\", \"02/18/20\", \"02/18/20\", \"02/18/20\", \"02/18/20\", \"02/18/20\", \"02/18/20\", \"02/18/20\", \"02/19/20\", \"02/19/20\", \"02/19/20\", \"02/19/20\", \"02/19/20\", \"02/19/20\", \"02/19/20\", \"02/19/20\", \"02/19/20\", \"02/19/20\", \"02/19/20\", \"02/19/20\", \"02/19/20\", \"02/19/20\", \"02/19/20\", \"02/19/20\", \"02/19/20\", \"02/19/20\", \"02/19/20\", \"02/19/20\", \"02/20/20\", \"02/20/20\", \"02/20/20\", \"02/20/20\", \"02/20/20\", \"02/20/20\", \"02/20/20\", \"02/20/20\", \"02/20/20\", \"02/20/20\", \"02/20/20\", \"02/20/20\", \"02/20/20\", \"02/20/20\", \"02/20/20\", \"02/20/20\", \"02/21/20\", \"02/21/20\", \"02/21/20\", \"02/21/20\", \"02/21/20\", \"02/21/20\", \"02/21/20\", \"02/21/20\", \"02/21/20\", \"02/21/20\", \"02/21/20\", \"02/21/20\", \"02/21/20\", \"02/21/20\", \"02/21/20\", \"02/21/20\", \"02/21/20\", \"02/21/20\", \"02/22/20\", \"02/22/20\", \"02/22/20\", \"02/22/20\", \"02/22/20\", \"02/22/20\", \"02/22/20\", \"02/22/20\", \"02/23/20\", \"02/23/20\", \"02/23/20\", \"02/23/20\", \"02/23/20\", \"02/23/20\", \"02/23/20\", \"02/23/20\", \"02/23/20\", \"02/23/20\", \"02/23/20\", \"02/23/20\", \"02/23/20\", \"02/23/20\", \"02/23/20\", \"02/23/20\", \"02/23/20\", \"02/24/20\", \"02/24/20\", \"02/24/20\", \"02/24/20\", \"02/24/20\", \"02/24/20\", \"02/24/20\", \"02/24/20\", \"02/24/20\", \"02/24/20\", \"02/24/20\", \"02/24/20\", \"02/25/20\", \"02/25/20\", \"02/25/20\", \"02/25/20\", \"02/26/20\", \"02/26/20\", \"02/26/20\", \"02/26/20\", \"02/26/20\", \"02/26/20\", \"02/26/20\", \"02/26/20\", \"02/26/20\", \"02/26/20\", \"02/26/20\", \"02/26/20\", \"02/26/20\"], \"xaxis\": \"x4\", \"y\": [0, 0, 0, 0, 0, 0, 0, 1453072, 1458791, 1464228, 1488672, 1496148, 1509584, 1509967, 1512754, 1514373, 1516117, 1517792, 1519742, 1522129, 1524699, 1527805, 1532142, 1537023, 1541489, 1546489, 1553151, 1562654, 1570940, 1575608, 1579006, 1582310, 1583164, 1583721, 1584320, 1589441, 1593669, 1598750, 1603100, 1607480, 1611044, 1614262, 1616999, 1619839, 1623549, 1629977, 1639059, 1648522, 1656499, 1664788, 1671657, 1675888, 1679449, 1681516, 1683517, 1683988, 1684381, 1685357, 1690826, 1696114, 1705085, 1714268, 1730834, 1750305, 1758356, 1764732, 1771154, 1777938, 1783507, 1786553, 1789250, 1791496, 1793236, 1794341, 1795076, 1795833, 1797438, 1800164, 1803269, 1807289, 1815958, 1820061, 1823272, 1826547, 1841122, 1845819, 1850231, 1853453, 1855648, 1858092, 1858624, 1859024, 1859298, 1859499, 1859647, 1860336, 1860965, 1861464, 1862114, 1862962, 1863910, 1864877, 1865954, 1867420, 1869238, 1872465, 1876560, 1881388, 1887038, 1896108, 1897091, 1897721, 1898093, 1898449, 1898626, 1899078, 1899651, 1900248, 1900807, 1901312, 1901896, 1902594, 1903407, 1904575, 1906637, 1908984, 1912320, 1916640, 1920283, 1922920, 1924805, 1928058, 1928238, 1928655, 1929759, 1930320, 1931420, 1932118, 1932904, 1933827, 1935501, 1937760, 1940453, 1944638, 1949352, 1953082, 1953117, 1955643, 1957362, 1958470, 1959883, 1960132, 1961411, 1962096, 1964543, 1965379, 1966306, 1967572, 1970197, 1973780, 1977595, 1980592, 1991672, 1995210, 2003384, 2005752, 2008322, 2010345, 2012366, 2014641, 2017445, 2020297, 2023392, 2025909, 2029471, 2030457, 2031607, 2031848, 2032358, 2033617, 2036104, 2046887, 2049129, 2051261, 2053118, 2055071, 2056996, 2059428, 2061831, 2063470, 2065614, 2065940, 2066429, 2067120, 2067877, 2071106, 2072872, 2075444, 2078586, 2092954, 2095210, 2098824, 2102844, 2107869, 2112809, 2116539, 2119575, 2121622, 2122816, 2123558, 2124118, 2124514, 2124932, 2126190, 2129092], \"yaxis\": \"y4\"}],\n",
       "                        {\"template\": {\"data\": {\"bar\": [{\"error_x\": {\"color\": \"#2a3f5f\"}, \"error_y\": {\"color\": \"#2a3f5f\"}, \"marker\": {\"line\": {\"color\": \"#E5ECF6\", \"width\": 0.5}}, \"type\": \"bar\"}], \"barpolar\": [{\"marker\": {\"line\": {\"color\": \"#E5ECF6\", \"width\": 0.5}}, \"type\": \"barpolar\"}], \"carpet\": [{\"aaxis\": {\"endlinecolor\": \"#2a3f5f\", \"gridcolor\": \"white\", \"linecolor\": \"white\", \"minorgridcolor\": \"white\", \"startlinecolor\": \"#2a3f5f\"}, \"baxis\": {\"endlinecolor\": \"#2a3f5f\", \"gridcolor\": \"white\", \"linecolor\": \"white\", \"minorgridcolor\": \"white\", \"startlinecolor\": \"#2a3f5f\"}, \"type\": \"carpet\"}], \"choropleth\": [{\"colorbar\": {\"outlinewidth\": 0, \"ticks\": \"\"}, \"type\": \"choropleth\"}], \"contour\": [{\"colorbar\": {\"outlinewidth\": 0, \"ticks\": \"\"}, \"colorscale\": [[0.0, \"#0d0887\"], [0.1111111111111111, \"#46039f\"], [0.2222222222222222, \"#7201a8\"], [0.3333333333333333, \"#9c179e\"], [0.4444444444444444, \"#bd3786\"], [0.5555555555555556, \"#d8576b\"], [0.6666666666666666, \"#ed7953\"], [0.7777777777777778, \"#fb9f3a\"], [0.8888888888888888, \"#fdca26\"], [1.0, \"#f0f921\"]], \"type\": \"contour\"}], \"contourcarpet\": [{\"colorbar\": {\"outlinewidth\": 0, \"ticks\": \"\"}, \"type\": \"contourcarpet\"}], \"heatmap\": [{\"colorbar\": {\"outlinewidth\": 0, \"ticks\": \"\"}, \"colorscale\": [[0.0, \"#0d0887\"], [0.1111111111111111, \"#46039f\"], [0.2222222222222222, \"#7201a8\"], [0.3333333333333333, \"#9c179e\"], [0.4444444444444444, \"#bd3786\"], [0.5555555555555556, \"#d8576b\"], [0.6666666666666666, \"#ed7953\"], [0.7777777777777778, \"#fb9f3a\"], [0.8888888888888888, \"#fdca26\"], [1.0, \"#f0f921\"]], \"type\": \"heatmap\"}], \"heatmapgl\": [{\"colorbar\": {\"outlinewidth\": 0, \"ticks\": \"\"}, \"colorscale\": [[0.0, \"#0d0887\"], [0.1111111111111111, \"#46039f\"], [0.2222222222222222, \"#7201a8\"], [0.3333333333333333, \"#9c179e\"], [0.4444444444444444, \"#bd3786\"], [0.5555555555555556, \"#d8576b\"], [0.6666666666666666, \"#ed7953\"], [0.7777777777777778, \"#fb9f3a\"], [0.8888888888888888, \"#fdca26\"], [1.0, \"#f0f921\"]], \"type\": \"heatmapgl\"}], \"histogram\": [{\"marker\": {\"colorbar\": {\"outlinewidth\": 0, \"ticks\": \"\"}}, \"type\": \"histogram\"}], \"histogram2d\": [{\"colorbar\": {\"outlinewidth\": 0, \"ticks\": \"\"}, \"colorscale\": [[0.0, \"#0d0887\"], [0.1111111111111111, \"#46039f\"], [0.2222222222222222, \"#7201a8\"], [0.3333333333333333, \"#9c179e\"], [0.4444444444444444, \"#bd3786\"], [0.5555555555555556, \"#d8576b\"], [0.6666666666666666, \"#ed7953\"], [0.7777777777777778, \"#fb9f3a\"], [0.8888888888888888, \"#fdca26\"], [1.0, \"#f0f921\"]], \"type\": \"histogram2d\"}], \"histogram2dcontour\": [{\"colorbar\": {\"outlinewidth\": 0, \"ticks\": \"\"}, \"colorscale\": [[0.0, \"#0d0887\"], [0.1111111111111111, \"#46039f\"], [0.2222222222222222, \"#7201a8\"], [0.3333333333333333, \"#9c179e\"], [0.4444444444444444, \"#bd3786\"], [0.5555555555555556, \"#d8576b\"], [0.6666666666666666, \"#ed7953\"], [0.7777777777777778, \"#fb9f3a\"], [0.8888888888888888, \"#fdca26\"], [1.0, \"#f0f921\"]], \"type\": \"histogram2dcontour\"}], \"mesh3d\": [{\"colorbar\": {\"outlinewidth\": 0, \"ticks\": \"\"}, \"type\": \"mesh3d\"}], \"parcoords\": [{\"line\": {\"colorbar\": {\"outlinewidth\": 0, \"ticks\": \"\"}}, \"type\": \"parcoords\"}], \"scatter\": [{\"marker\": {\"colorbar\": {\"outlinewidth\": 0, \"ticks\": \"\"}}, \"type\": \"scatter\"}], \"scatter3d\": [{\"line\": {\"colorbar\": {\"outlinewidth\": 0, \"ticks\": \"\"}}, \"marker\": {\"colorbar\": {\"outlinewidth\": 0, \"ticks\": \"\"}}, \"type\": \"scatter3d\"}], \"scattercarpet\": [{\"marker\": {\"colorbar\": {\"outlinewidth\": 0, \"ticks\": \"\"}}, \"type\": \"scattercarpet\"}], \"scattergeo\": [{\"marker\": {\"colorbar\": {\"outlinewidth\": 0, \"ticks\": \"\"}}, \"type\": \"scattergeo\"}], \"scattergl\": [{\"marker\": {\"colorbar\": {\"outlinewidth\": 0, \"ticks\": \"\"}}, \"type\": \"scattergl\"}], \"scattermapbox\": [{\"marker\": {\"colorbar\": {\"outlinewidth\": 0, \"ticks\": \"\"}}, \"type\": \"scattermapbox\"}], \"scatterpolar\": [{\"marker\": {\"colorbar\": {\"outlinewidth\": 0, \"ticks\": \"\"}}, \"type\": \"scatterpolar\"}], \"scatterpolargl\": [{\"marker\": {\"colorbar\": {\"outlinewidth\": 0, \"ticks\": \"\"}}, \"type\": \"scatterpolargl\"}], \"scatterternary\": [{\"marker\": {\"colorbar\": {\"outlinewidth\": 0, \"ticks\": \"\"}}, \"type\": \"scatterternary\"}], \"surface\": [{\"colorbar\": {\"outlinewidth\": 0, \"ticks\": \"\"}, \"colorscale\": [[0.0, \"#0d0887\"], [0.1111111111111111, \"#46039f\"], [0.2222222222222222, \"#7201a8\"], [0.3333333333333333, \"#9c179e\"], [0.4444444444444444, \"#bd3786\"], [0.5555555555555556, \"#d8576b\"], [0.6666666666666666, \"#ed7953\"], [0.7777777777777778, \"#fb9f3a\"], [0.8888888888888888, \"#fdca26\"], [1.0, \"#f0f921\"]], \"type\": \"surface\"}], \"table\": [{\"cells\": {\"fill\": {\"color\": \"#EBF0F8\"}, \"line\": {\"color\": \"white\"}}, \"header\": {\"fill\": {\"color\": \"#C8D4E3\"}, \"line\": {\"color\": \"white\"}}, \"type\": \"table\"}]}, \"layout\": {\"annotationdefaults\": {\"arrowcolor\": \"#2a3f5f\", \"arrowhead\": 0, \"arrowwidth\": 1}, \"colorscale\": {\"diverging\": [[0, \"#8e0152\"], [0.1, \"#c51b7d\"], [0.2, \"#de77ae\"], [0.3, \"#f1b6da\"], [0.4, \"#fde0ef\"], [0.5, \"#f7f7f7\"], [0.6, \"#e6f5d0\"], [0.7, \"#b8e186\"], [0.8, \"#7fbc41\"], [0.9, \"#4d9221\"], [1, \"#276419\"]], \"sequential\": [[0.0, \"#0d0887\"], [0.1111111111111111, \"#46039f\"], [0.2222222222222222, \"#7201a8\"], [0.3333333333333333, \"#9c179e\"], [0.4444444444444444, \"#bd3786\"], [0.5555555555555556, \"#d8576b\"], [0.6666666666666666, \"#ed7953\"], [0.7777777777777778, \"#fb9f3a\"], [0.8888888888888888, \"#fdca26\"], [1.0, \"#f0f921\"]], \"sequentialminus\": [[0.0, \"#0d0887\"], [0.1111111111111111, \"#46039f\"], [0.2222222222222222, \"#7201a8\"], [0.3333333333333333, \"#9c179e\"], [0.4444444444444444, \"#bd3786\"], [0.5555555555555556, \"#d8576b\"], [0.6666666666666666, \"#ed7953\"], [0.7777777777777778, \"#fb9f3a\"], [0.8888888888888888, \"#fdca26\"], [1.0, \"#f0f921\"]]}, \"colorway\": [\"#636efa\", \"#EF553B\", \"#00cc96\", \"#ab63fa\", \"#FFA15A\", \"#19d3f3\", \"#FF6692\", \"#B6E880\", \"#FF97FF\", \"#FECB52\"], \"font\": {\"color\": \"#2a3f5f\"}, \"geo\": {\"bgcolor\": \"white\", \"lakecolor\": \"white\", \"landcolor\": \"#E5ECF6\", \"showlakes\": true, \"showland\": true, \"subunitcolor\": \"white\"}, \"hoverlabel\": {\"align\": \"left\"}, \"hovermode\": \"closest\", \"mapbox\": {\"style\": \"light\"}, \"paper_bgcolor\": \"white\", \"plot_bgcolor\": \"#E5ECF6\", \"polar\": {\"angularaxis\": {\"gridcolor\": \"white\", \"linecolor\": \"white\", \"ticks\": \"\"}, \"bgcolor\": \"#E5ECF6\", \"radialaxis\": {\"gridcolor\": \"white\", \"linecolor\": \"white\", \"ticks\": \"\"}}, \"scene\": {\"xaxis\": {\"backgroundcolor\": \"#E5ECF6\", \"gridcolor\": \"white\", \"gridwidth\": 2, \"linecolor\": \"white\", \"showbackground\": true, \"ticks\": \"\", \"zerolinecolor\": \"white\"}, \"yaxis\": {\"backgroundcolor\": \"#E5ECF6\", \"gridcolor\": \"white\", \"gridwidth\": 2, \"linecolor\": \"white\", \"showbackground\": true, \"ticks\": \"\", \"zerolinecolor\": \"white\"}, \"zaxis\": {\"backgroundcolor\": \"#E5ECF6\", \"gridcolor\": \"white\", \"gridwidth\": 2, \"linecolor\": \"white\", \"showbackground\": true, \"ticks\": \"\", \"zerolinecolor\": \"white\"}}, \"shapedefaults\": {\"line\": {\"color\": \"#2a3f5f\"}}, \"ternary\": {\"aaxis\": {\"gridcolor\": \"white\", \"linecolor\": \"white\", \"ticks\": \"\"}, \"baxis\": {\"gridcolor\": \"white\", \"linecolor\": \"white\", \"ticks\": \"\"}, \"bgcolor\": \"#E5ECF6\", \"caxis\": {\"gridcolor\": \"white\", \"linecolor\": \"white\", \"ticks\": \"\"}}, \"title\": {\"x\": 0.05}, \"xaxis\": {\"automargin\": true, \"gridcolor\": \"white\", \"linecolor\": \"white\", \"ticks\": \"\", \"zerolinecolor\": \"white\", \"zerolinewidth\": 2}, \"yaxis\": {\"automargin\": true, \"gridcolor\": \"white\", \"linecolor\": \"white\", \"ticks\": \"\", \"zerolinecolor\": \"white\", \"zerolinewidth\": 2}}}, \"xaxis\": {\"anchor\": \"y\", \"domain\": [0.0, 0.45]}, \"xaxis2\": {\"anchor\": \"y2\", \"domain\": [0.55, 1.0]}, \"xaxis3\": {\"anchor\": \"y3\", \"domain\": [0.0, 0.45]}, \"xaxis4\": {\"anchor\": \"y4\", \"domain\": [0.55, 1.0]}, \"yaxis\": {\"anchor\": \"x\", \"domain\": [0.6666666666666667, 1.0]}, \"yaxis2\": {\"anchor\": \"x2\", \"domain\": [0.6666666666666667, 1.0]}, \"yaxis3\": {\"anchor\": \"x3\", \"domain\": [0.0, 0.33333333333333337]}, \"yaxis4\": {\"anchor\": \"x4\", \"domain\": [0.0, 0.33333333333333337]}},\n",
       "                        {\"responsive\": true}\n",
       "                    ).then(function(){\n",
       "                            \n",
       "var gd = document.getElementById('175c37fc-91d9-4492-8590-bddef0e6b0ff');\n",
       "var x = new MutationObserver(function (mutations, observer) {{\n",
       "        var display = window.getComputedStyle(gd).display;\n",
       "        if (!display || display === 'none') {{\n",
       "            console.log([gd, 'removed!']);\n",
       "            Plotly.purge(gd);\n",
       "            observer.disconnect();\n",
       "        }}\n",
       "}});\n",
       "\n",
       "// Listen for the removal of the full notebook cells\n",
       "var notebookContainer = gd.closest('#notebook-container');\n",
       "if (notebookContainer) {{\n",
       "    x.observe(notebookContainer, {childList: true});\n",
       "}}\n",
       "\n",
       "// Listen for the clearing of the current output cell\n",
       "var outputEl = gd.closest('.output');\n",
       "if (outputEl) {{\n",
       "    x.observe(outputEl, {childList: true});\n",
       "}}\n",
       "\n",
       "                        })\n",
       "                };\n",
       "                });\n",
       "            </script>\n",
       "        </div>"
      ]
     },
     "metadata": {},
     "output_type": "display_data"
    }
   ],
   "source": [
    "import plotly.graph_objects as go\n",
    "from plotly.subplots import make_subplots\n",
    "\n",
    "def visualize_CMD(df_final,tiktokid):\n",
    "    index=df_final.index[df_final['ID'] == tiktokid].tolist()\n",
    "    comment_count=df_final['Commentcount List'][index[0]]\n",
    "    share_count=df_final['Sharecount List'][index[0]]\n",
    "    play_count=df_final['Playcount List'][index[0]]\n",
    "    digg_count=df_final['Diggcount List'][index[0]]\n",
    "    scrape_time=df_final['Scrape_time List'][index[0]]\n",
    "\n",
    "    # Initialize figure with subplots\n",
    "    fig = make_subplots(\n",
    "        rows=3, cols=2,\n",
    "        column_widths=[0.9, 0.9],\n",
    "        row_heights=[0.5, 0.2,0.5],\n",
    "        specs=[[{\"type\": \"Scatter\"}, {\"type\": \"Scatter\"}],\n",
    "               [None , None ],\n",
    "               [{\"type\": \"Scatter\"}, {\"type\": \"Scatter\"}]])\n",
    "\n",
    "\n",
    "    # Add Comment Count Scatter chart\n",
    "    fig.add_trace(go.Scatter(x=scrape_time, y=comment_count, name='Comment Count',\n",
    "                             line = dict(color='red', width=2)),row=1,col=1)\n",
    "\n",
    "    # Add Share Count Scatter chart\n",
    "    fig.add_trace(go.Scatter(x=scrape_time, y=share_count, name='Share Count',\n",
    "                             line = dict(color='blue', width=2)),row=1,col=2)\n",
    "\n",
    "    # Add Digg Count Scatter chart\n",
    "    fig.add_trace(go.Scatter(x=scrape_time, y=digg_count, name='Digg Count',\n",
    "                             line = dict(color='green', width=2)),row=3,col=1)\n",
    "\n",
    "    # Add Playcount Count Scatter chart\n",
    "    fig.add_trace(go.Scatter(x=scrape_time, y=play_count, name='Play Count',\n",
    "                             line = dict(color='black', width=2)),row=3,col=2)\n",
    "\n",
    "    return fig\n",
    "\n",
    "fig=visualize_CMD(df_final,'6789793077612547333')\n",
    "fig.show()"
   ]
  },
  {
   "cell_type": "code",
   "execution_count": 16,
   "metadata": {
    "scrolled": false
   },
   "outputs": [
    {
     "data": {
      "application/vnd.plotly.v1+json": {
       "config": {
        "plotlyServerURL": "https://plot.ly"
       },
       "data": [
        {
         "alignmentgroup": "True",
         "hoverlabel": {
          "namelength": 0
         },
         "hovertemplate": "unique_values=%{x}<br>counts=%{text}",
         "legendgroup": "",
         "marker": {
          "color": "#636efa"
         },
         "name": "",
         "offsetgroup": "",
         "orientation": "v",
         "showlegend": false,
         "text": [
          3690,
          2507,
          1825,
          951,
          541,
          535,
          484,
          483,
          464,
          392,
          374,
          351,
          339,
          290,
          288,
          285,
          275,
          273,
          267,
          254
         ],
         "textposition": "outside",
         "texttemplate": "%{text:.2s}",
         "type": "bar",
         "x": [
          "fyp",
          "foryou",
          "foryoupage",
          "viral",
          "fy",
          "xyzbca",
          "pourtoi",
          "duet",
          "foryourpage",
          "funny",
          "fürdich",
          "comedy",
          "tiktok",
          "goviral",
          "trend",
          "prank",
          "lol",
          "4u",
          "trends",
          "haircut"
         ],
         "xaxis": "x",
         "y": [
          3690,
          2507,
          1825,
          951,
          541,
          535,
          484,
          483,
          464,
          392,
          374,
          351,
          339,
          290,
          288,
          285,
          275,
          273,
          267,
          254
         ],
         "yaxis": "y"
        }
       ],
       "layout": {
        "barmode": "relative",
        "height": 600,
        "legend": {
         "tracegroupgap": 0
        },
        "margin": {
         "t": 60
        },
        "template": {
         "data": {
          "bar": [
           {
            "error_x": {
             "color": "#2a3f5f"
            },
            "error_y": {
             "color": "#2a3f5f"
            },
            "marker": {
             "line": {
              "color": "#E5ECF6",
              "width": 0.5
             }
            },
            "type": "bar"
           }
          ],
          "barpolar": [
           {
            "marker": {
             "line": {
              "color": "#E5ECF6",
              "width": 0.5
             }
            },
            "type": "barpolar"
           }
          ],
          "carpet": [
           {
            "aaxis": {
             "endlinecolor": "#2a3f5f",
             "gridcolor": "white",
             "linecolor": "white",
             "minorgridcolor": "white",
             "startlinecolor": "#2a3f5f"
            },
            "baxis": {
             "endlinecolor": "#2a3f5f",
             "gridcolor": "white",
             "linecolor": "white",
             "minorgridcolor": "white",
             "startlinecolor": "#2a3f5f"
            },
            "type": "carpet"
           }
          ],
          "choropleth": [
           {
            "colorbar": {
             "outlinewidth": 0,
             "ticks": ""
            },
            "type": "choropleth"
           }
          ],
          "contour": [
           {
            "colorbar": {
             "outlinewidth": 0,
             "ticks": ""
            },
            "colorscale": [
             [
              0,
              "#0d0887"
             ],
             [
              0.1111111111111111,
              "#46039f"
             ],
             [
              0.2222222222222222,
              "#7201a8"
             ],
             [
              0.3333333333333333,
              "#9c179e"
             ],
             [
              0.4444444444444444,
              "#bd3786"
             ],
             [
              0.5555555555555556,
              "#d8576b"
             ],
             [
              0.6666666666666666,
              "#ed7953"
             ],
             [
              0.7777777777777778,
              "#fb9f3a"
             ],
             [
              0.8888888888888888,
              "#fdca26"
             ],
             [
              1,
              "#f0f921"
             ]
            ],
            "type": "contour"
           }
          ],
          "contourcarpet": [
           {
            "colorbar": {
             "outlinewidth": 0,
             "ticks": ""
            },
            "type": "contourcarpet"
           }
          ],
          "heatmap": [
           {
            "colorbar": {
             "outlinewidth": 0,
             "ticks": ""
            },
            "colorscale": [
             [
              0,
              "#0d0887"
             ],
             [
              0.1111111111111111,
              "#46039f"
             ],
             [
              0.2222222222222222,
              "#7201a8"
             ],
             [
              0.3333333333333333,
              "#9c179e"
             ],
             [
              0.4444444444444444,
              "#bd3786"
             ],
             [
              0.5555555555555556,
              "#d8576b"
             ],
             [
              0.6666666666666666,
              "#ed7953"
             ],
             [
              0.7777777777777778,
              "#fb9f3a"
             ],
             [
              0.8888888888888888,
              "#fdca26"
             ],
             [
              1,
              "#f0f921"
             ]
            ],
            "type": "heatmap"
           }
          ],
          "heatmapgl": [
           {
            "colorbar": {
             "outlinewidth": 0,
             "ticks": ""
            },
            "colorscale": [
             [
              0,
              "#0d0887"
             ],
             [
              0.1111111111111111,
              "#46039f"
             ],
             [
              0.2222222222222222,
              "#7201a8"
             ],
             [
              0.3333333333333333,
              "#9c179e"
             ],
             [
              0.4444444444444444,
              "#bd3786"
             ],
             [
              0.5555555555555556,
              "#d8576b"
             ],
             [
              0.6666666666666666,
              "#ed7953"
             ],
             [
              0.7777777777777778,
              "#fb9f3a"
             ],
             [
              0.8888888888888888,
              "#fdca26"
             ],
             [
              1,
              "#f0f921"
             ]
            ],
            "type": "heatmapgl"
           }
          ],
          "histogram": [
           {
            "marker": {
             "colorbar": {
              "outlinewidth": 0,
              "ticks": ""
             }
            },
            "type": "histogram"
           }
          ],
          "histogram2d": [
           {
            "colorbar": {
             "outlinewidth": 0,
             "ticks": ""
            },
            "colorscale": [
             [
              0,
              "#0d0887"
             ],
             [
              0.1111111111111111,
              "#46039f"
             ],
             [
              0.2222222222222222,
              "#7201a8"
             ],
             [
              0.3333333333333333,
              "#9c179e"
             ],
             [
              0.4444444444444444,
              "#bd3786"
             ],
             [
              0.5555555555555556,
              "#d8576b"
             ],
             [
              0.6666666666666666,
              "#ed7953"
             ],
             [
              0.7777777777777778,
              "#fb9f3a"
             ],
             [
              0.8888888888888888,
              "#fdca26"
             ],
             [
              1,
              "#f0f921"
             ]
            ],
            "type": "histogram2d"
           }
          ],
          "histogram2dcontour": [
           {
            "colorbar": {
             "outlinewidth": 0,
             "ticks": ""
            },
            "colorscale": [
             [
              0,
              "#0d0887"
             ],
             [
              0.1111111111111111,
              "#46039f"
             ],
             [
              0.2222222222222222,
              "#7201a8"
             ],
             [
              0.3333333333333333,
              "#9c179e"
             ],
             [
              0.4444444444444444,
              "#bd3786"
             ],
             [
              0.5555555555555556,
              "#d8576b"
             ],
             [
              0.6666666666666666,
              "#ed7953"
             ],
             [
              0.7777777777777778,
              "#fb9f3a"
             ],
             [
              0.8888888888888888,
              "#fdca26"
             ],
             [
              1,
              "#f0f921"
             ]
            ],
            "type": "histogram2dcontour"
           }
          ],
          "mesh3d": [
           {
            "colorbar": {
             "outlinewidth": 0,
             "ticks": ""
            },
            "type": "mesh3d"
           }
          ],
          "parcoords": [
           {
            "line": {
             "colorbar": {
              "outlinewidth": 0,
              "ticks": ""
             }
            },
            "type": "parcoords"
           }
          ],
          "scatter": [
           {
            "marker": {
             "colorbar": {
              "outlinewidth": 0,
              "ticks": ""
             }
            },
            "type": "scatter"
           }
          ],
          "scatter3d": [
           {
            "line": {
             "colorbar": {
              "outlinewidth": 0,
              "ticks": ""
             }
            },
            "marker": {
             "colorbar": {
              "outlinewidth": 0,
              "ticks": ""
             }
            },
            "type": "scatter3d"
           }
          ],
          "scattercarpet": [
           {
            "marker": {
             "colorbar": {
              "outlinewidth": 0,
              "ticks": ""
             }
            },
            "type": "scattercarpet"
           }
          ],
          "scattergeo": [
           {
            "marker": {
             "colorbar": {
              "outlinewidth": 0,
              "ticks": ""
             }
            },
            "type": "scattergeo"
           }
          ],
          "scattergl": [
           {
            "marker": {
             "colorbar": {
              "outlinewidth": 0,
              "ticks": ""
             }
            },
            "type": "scattergl"
           }
          ],
          "scattermapbox": [
           {
            "marker": {
             "colorbar": {
              "outlinewidth": 0,
              "ticks": ""
             }
            },
            "type": "scattermapbox"
           }
          ],
          "scatterpolar": [
           {
            "marker": {
             "colorbar": {
              "outlinewidth": 0,
              "ticks": ""
             }
            },
            "type": "scatterpolar"
           }
          ],
          "scatterpolargl": [
           {
            "marker": {
             "colorbar": {
              "outlinewidth": 0,
              "ticks": ""
             }
            },
            "type": "scatterpolargl"
           }
          ],
          "scatterternary": [
           {
            "marker": {
             "colorbar": {
              "outlinewidth": 0,
              "ticks": ""
             }
            },
            "type": "scatterternary"
           }
          ],
          "surface": [
           {
            "colorbar": {
             "outlinewidth": 0,
             "ticks": ""
            },
            "colorscale": [
             [
              0,
              "#0d0887"
             ],
             [
              0.1111111111111111,
              "#46039f"
             ],
             [
              0.2222222222222222,
              "#7201a8"
             ],
             [
              0.3333333333333333,
              "#9c179e"
             ],
             [
              0.4444444444444444,
              "#bd3786"
             ],
             [
              0.5555555555555556,
              "#d8576b"
             ],
             [
              0.6666666666666666,
              "#ed7953"
             ],
             [
              0.7777777777777778,
              "#fb9f3a"
             ],
             [
              0.8888888888888888,
              "#fdca26"
             ],
             [
              1,
              "#f0f921"
             ]
            ],
            "type": "surface"
           }
          ],
          "table": [
           {
            "cells": {
             "fill": {
              "color": "#EBF0F8"
             },
             "line": {
              "color": "white"
             }
            },
            "header": {
             "fill": {
              "color": "#C8D4E3"
             },
             "line": {
              "color": "white"
             }
            },
            "type": "table"
           }
          ]
         },
         "layout": {
          "annotationdefaults": {
           "arrowcolor": "#2a3f5f",
           "arrowhead": 0,
           "arrowwidth": 1
          },
          "colorscale": {
           "diverging": [
            [
             0,
             "#8e0152"
            ],
            [
             0.1,
             "#c51b7d"
            ],
            [
             0.2,
             "#de77ae"
            ],
            [
             0.3,
             "#f1b6da"
            ],
            [
             0.4,
             "#fde0ef"
            ],
            [
             0.5,
             "#f7f7f7"
            ],
            [
             0.6,
             "#e6f5d0"
            ],
            [
             0.7,
             "#b8e186"
            ],
            [
             0.8,
             "#7fbc41"
            ],
            [
             0.9,
             "#4d9221"
            ],
            [
             1,
             "#276419"
            ]
           ],
           "sequential": [
            [
             0,
             "#0d0887"
            ],
            [
             0.1111111111111111,
             "#46039f"
            ],
            [
             0.2222222222222222,
             "#7201a8"
            ],
            [
             0.3333333333333333,
             "#9c179e"
            ],
            [
             0.4444444444444444,
             "#bd3786"
            ],
            [
             0.5555555555555556,
             "#d8576b"
            ],
            [
             0.6666666666666666,
             "#ed7953"
            ],
            [
             0.7777777777777778,
             "#fb9f3a"
            ],
            [
             0.8888888888888888,
             "#fdca26"
            ],
            [
             1,
             "#f0f921"
            ]
           ],
           "sequentialminus": [
            [
             0,
             "#0d0887"
            ],
            [
             0.1111111111111111,
             "#46039f"
            ],
            [
             0.2222222222222222,
             "#7201a8"
            ],
            [
             0.3333333333333333,
             "#9c179e"
            ],
            [
             0.4444444444444444,
             "#bd3786"
            ],
            [
             0.5555555555555556,
             "#d8576b"
            ],
            [
             0.6666666666666666,
             "#ed7953"
            ],
            [
             0.7777777777777778,
             "#fb9f3a"
            ],
            [
             0.8888888888888888,
             "#fdca26"
            ],
            [
             1,
             "#f0f921"
            ]
           ]
          },
          "colorway": [
           "#636efa",
           "#EF553B",
           "#00cc96",
           "#ab63fa",
           "#FFA15A",
           "#19d3f3",
           "#FF6692",
           "#B6E880",
           "#FF97FF",
           "#FECB52"
          ],
          "font": {
           "color": "#2a3f5f"
          },
          "geo": {
           "bgcolor": "white",
           "lakecolor": "white",
           "landcolor": "#E5ECF6",
           "showlakes": true,
           "showland": true,
           "subunitcolor": "white"
          },
          "hoverlabel": {
           "align": "left"
          },
          "hovermode": "closest",
          "mapbox": {
           "style": "light"
          },
          "paper_bgcolor": "white",
          "plot_bgcolor": "#E5ECF6",
          "polar": {
           "angularaxis": {
            "gridcolor": "white",
            "linecolor": "white",
            "ticks": ""
           },
           "bgcolor": "#E5ECF6",
           "radialaxis": {
            "gridcolor": "white",
            "linecolor": "white",
            "ticks": ""
           }
          },
          "scene": {
           "xaxis": {
            "backgroundcolor": "#E5ECF6",
            "gridcolor": "white",
            "gridwidth": 2,
            "linecolor": "white",
            "showbackground": true,
            "ticks": "",
            "zerolinecolor": "white"
           },
           "yaxis": {
            "backgroundcolor": "#E5ECF6",
            "gridcolor": "white",
            "gridwidth": 2,
            "linecolor": "white",
            "showbackground": true,
            "ticks": "",
            "zerolinecolor": "white"
           },
           "zaxis": {
            "backgroundcolor": "#E5ECF6",
            "gridcolor": "white",
            "gridwidth": 2,
            "linecolor": "white",
            "showbackground": true,
            "ticks": "",
            "zerolinecolor": "white"
           }
          },
          "shapedefaults": {
           "line": {
            "color": "#2a3f5f"
           }
          },
          "ternary": {
           "aaxis": {
            "gridcolor": "white",
            "linecolor": "white",
            "ticks": ""
           },
           "baxis": {
            "gridcolor": "white",
            "linecolor": "white",
            "ticks": ""
           },
           "bgcolor": "#E5ECF6",
           "caxis": {
            "gridcolor": "white",
            "linecolor": "white",
            "ticks": ""
           }
          },
          "title": {
           "x": 0.05
          },
          "xaxis": {
           "automargin": true,
           "gridcolor": "white",
           "linecolor": "white",
           "ticks": "",
           "zerolinecolor": "white",
           "zerolinewidth": 2
          },
          "yaxis": {
           "automargin": true,
           "gridcolor": "white",
           "linecolor": "white",
           "ticks": "",
           "zerolinecolor": "white",
           "zerolinewidth": 2
          }
         }
        },
        "xaxis": {
         "anchor": "y",
         "domain": [
          0,
          0.98
         ],
         "title": {
          "text": "unique_values"
         }
        },
        "yaxis": {
         "anchor": "x",
         "domain": [
          0,
          1
         ],
         "title": {
          "text": "counts"
         }
        }
       }
      },
      "text/html": [
       "<div>\n",
       "        \n",
       "        \n",
       "            <div id=\"07b59e60-e0bf-4a41-aedb-d6e2000e0478\" class=\"plotly-graph-div\" style=\"height:600px; width:100%;\"></div>\n",
       "            <script type=\"text/javascript\">\n",
       "                require([\"plotly\"], function(Plotly) {\n",
       "                    window.PLOTLYENV=window.PLOTLYENV || {};\n",
       "                    \n",
       "                if (document.getElementById(\"07b59e60-e0bf-4a41-aedb-d6e2000e0478\")) {\n",
       "                    Plotly.newPlot(\n",
       "                        '07b59e60-e0bf-4a41-aedb-d6e2000e0478',\n",
       "                        [{\"alignmentgroup\": \"True\", \"hoverlabel\": {\"namelength\": 0}, \"hovertemplate\": \"unique_values=%{x}<br>counts=%{text}\", \"legendgroup\": \"\", \"marker\": {\"color\": \"#636efa\"}, \"name\": \"\", \"offsetgroup\": \"\", \"orientation\": \"v\", \"showlegend\": false, \"text\": [3690.0, 2507.0, 1825.0, 951.0, 541.0, 535.0, 484.0, 483.0, 464.0, 392.0, 374.0, 351.0, 339.0, 290.0, 288.0, 285.0, 275.0, 273.0, 267.0, 254.0], \"textposition\": \"outside\", \"texttemplate\": \"%{text:.2s}\", \"type\": \"bar\", \"x\": [\"fyp\", \"foryou\", \"foryoupage\", \"viral\", \"fy\", \"xyzbca\", \"pourtoi\", \"duet\", \"foryourpage\", \"funny\", \"f\\u00fcrdich\", \"comedy\", \"tiktok\", \"goviral\", \"trend\", \"prank\", \"lol\", \"4u\", \"trends\", \"haircut\"], \"xaxis\": \"x\", \"y\": [3690, 2507, 1825, 951, 541, 535, 484, 483, 464, 392, 374, 351, 339, 290, 288, 285, 275, 273, 267, 254], \"yaxis\": \"y\"}],\n",
       "                        {\"barmode\": \"relative\", \"height\": 600, \"legend\": {\"tracegroupgap\": 0}, \"margin\": {\"t\": 60}, \"template\": {\"data\": {\"bar\": [{\"error_x\": {\"color\": \"#2a3f5f\"}, \"error_y\": {\"color\": \"#2a3f5f\"}, \"marker\": {\"line\": {\"color\": \"#E5ECF6\", \"width\": 0.5}}, \"type\": \"bar\"}], \"barpolar\": [{\"marker\": {\"line\": {\"color\": \"#E5ECF6\", \"width\": 0.5}}, \"type\": \"barpolar\"}], \"carpet\": [{\"aaxis\": {\"endlinecolor\": \"#2a3f5f\", \"gridcolor\": \"white\", \"linecolor\": \"white\", \"minorgridcolor\": \"white\", \"startlinecolor\": \"#2a3f5f\"}, \"baxis\": {\"endlinecolor\": \"#2a3f5f\", \"gridcolor\": \"white\", \"linecolor\": \"white\", \"minorgridcolor\": \"white\", \"startlinecolor\": \"#2a3f5f\"}, \"type\": \"carpet\"}], \"choropleth\": [{\"colorbar\": {\"outlinewidth\": 0, \"ticks\": \"\"}, \"type\": \"choropleth\"}], \"contour\": [{\"colorbar\": {\"outlinewidth\": 0, \"ticks\": \"\"}, \"colorscale\": [[0.0, \"#0d0887\"], [0.1111111111111111, \"#46039f\"], [0.2222222222222222, \"#7201a8\"], [0.3333333333333333, \"#9c179e\"], [0.4444444444444444, \"#bd3786\"], [0.5555555555555556, \"#d8576b\"], [0.6666666666666666, \"#ed7953\"], [0.7777777777777778, \"#fb9f3a\"], [0.8888888888888888, \"#fdca26\"], [1.0, \"#f0f921\"]], \"type\": \"contour\"}], \"contourcarpet\": [{\"colorbar\": {\"outlinewidth\": 0, \"ticks\": \"\"}, \"type\": \"contourcarpet\"}], \"heatmap\": [{\"colorbar\": {\"outlinewidth\": 0, \"ticks\": \"\"}, \"colorscale\": [[0.0, \"#0d0887\"], [0.1111111111111111, \"#46039f\"], [0.2222222222222222, \"#7201a8\"], [0.3333333333333333, \"#9c179e\"], [0.4444444444444444, \"#bd3786\"], [0.5555555555555556, \"#d8576b\"], [0.6666666666666666, \"#ed7953\"], [0.7777777777777778, \"#fb9f3a\"], [0.8888888888888888, \"#fdca26\"], [1.0, \"#f0f921\"]], \"type\": \"heatmap\"}], \"heatmapgl\": [{\"colorbar\": {\"outlinewidth\": 0, \"ticks\": \"\"}, \"colorscale\": [[0.0, \"#0d0887\"], [0.1111111111111111, \"#46039f\"], [0.2222222222222222, \"#7201a8\"], [0.3333333333333333, \"#9c179e\"], [0.4444444444444444, \"#bd3786\"], [0.5555555555555556, \"#d8576b\"], [0.6666666666666666, \"#ed7953\"], [0.7777777777777778, \"#fb9f3a\"], [0.8888888888888888, \"#fdca26\"], [1.0, \"#f0f921\"]], \"type\": \"heatmapgl\"}], \"histogram\": [{\"marker\": {\"colorbar\": {\"outlinewidth\": 0, \"ticks\": \"\"}}, \"type\": \"histogram\"}], \"histogram2d\": [{\"colorbar\": {\"outlinewidth\": 0, \"ticks\": \"\"}, \"colorscale\": [[0.0, \"#0d0887\"], [0.1111111111111111, \"#46039f\"], [0.2222222222222222, \"#7201a8\"], [0.3333333333333333, \"#9c179e\"], [0.4444444444444444, \"#bd3786\"], [0.5555555555555556, \"#d8576b\"], [0.6666666666666666, \"#ed7953\"], [0.7777777777777778, \"#fb9f3a\"], [0.8888888888888888, \"#fdca26\"], [1.0, \"#f0f921\"]], \"type\": \"histogram2d\"}], \"histogram2dcontour\": [{\"colorbar\": {\"outlinewidth\": 0, \"ticks\": \"\"}, \"colorscale\": [[0.0, \"#0d0887\"], [0.1111111111111111, \"#46039f\"], [0.2222222222222222, \"#7201a8\"], [0.3333333333333333, \"#9c179e\"], [0.4444444444444444, \"#bd3786\"], [0.5555555555555556, \"#d8576b\"], [0.6666666666666666, \"#ed7953\"], [0.7777777777777778, \"#fb9f3a\"], [0.8888888888888888, \"#fdca26\"], [1.0, \"#f0f921\"]], \"type\": \"histogram2dcontour\"}], \"mesh3d\": [{\"colorbar\": {\"outlinewidth\": 0, \"ticks\": \"\"}, \"type\": \"mesh3d\"}], \"parcoords\": [{\"line\": {\"colorbar\": {\"outlinewidth\": 0, \"ticks\": \"\"}}, \"type\": \"parcoords\"}], \"scatter\": [{\"marker\": {\"colorbar\": {\"outlinewidth\": 0, \"ticks\": \"\"}}, \"type\": \"scatter\"}], \"scatter3d\": [{\"line\": {\"colorbar\": {\"outlinewidth\": 0, \"ticks\": \"\"}}, \"marker\": {\"colorbar\": {\"outlinewidth\": 0, \"ticks\": \"\"}}, \"type\": \"scatter3d\"}], \"scattercarpet\": [{\"marker\": {\"colorbar\": {\"outlinewidth\": 0, \"ticks\": \"\"}}, \"type\": \"scattercarpet\"}], \"scattergeo\": [{\"marker\": {\"colorbar\": {\"outlinewidth\": 0, \"ticks\": \"\"}}, \"type\": \"scattergeo\"}], \"scattergl\": [{\"marker\": {\"colorbar\": {\"outlinewidth\": 0, \"ticks\": \"\"}}, \"type\": \"scattergl\"}], \"scattermapbox\": [{\"marker\": {\"colorbar\": {\"outlinewidth\": 0, \"ticks\": \"\"}}, \"type\": \"scattermapbox\"}], \"scatterpolar\": [{\"marker\": {\"colorbar\": {\"outlinewidth\": 0, \"ticks\": \"\"}}, \"type\": \"scatterpolar\"}], \"scatterpolargl\": [{\"marker\": {\"colorbar\": {\"outlinewidth\": 0, \"ticks\": \"\"}}, \"type\": \"scatterpolargl\"}], \"scatterternary\": [{\"marker\": {\"colorbar\": {\"outlinewidth\": 0, \"ticks\": \"\"}}, \"type\": \"scatterternary\"}], \"surface\": [{\"colorbar\": {\"outlinewidth\": 0, \"ticks\": \"\"}, \"colorscale\": [[0.0, \"#0d0887\"], [0.1111111111111111, \"#46039f\"], [0.2222222222222222, \"#7201a8\"], [0.3333333333333333, \"#9c179e\"], [0.4444444444444444, \"#bd3786\"], [0.5555555555555556, \"#d8576b\"], [0.6666666666666666, \"#ed7953\"], [0.7777777777777778, \"#fb9f3a\"], [0.8888888888888888, \"#fdca26\"], [1.0, \"#f0f921\"]], \"type\": \"surface\"}], \"table\": [{\"cells\": {\"fill\": {\"color\": \"#EBF0F8\"}, \"line\": {\"color\": \"white\"}}, \"header\": {\"fill\": {\"color\": \"#C8D4E3\"}, \"line\": {\"color\": \"white\"}}, \"type\": \"table\"}]}, \"layout\": {\"annotationdefaults\": {\"arrowcolor\": \"#2a3f5f\", \"arrowhead\": 0, \"arrowwidth\": 1}, \"colorscale\": {\"diverging\": [[0, \"#8e0152\"], [0.1, \"#c51b7d\"], [0.2, \"#de77ae\"], [0.3, \"#f1b6da\"], [0.4, \"#fde0ef\"], [0.5, \"#f7f7f7\"], [0.6, \"#e6f5d0\"], [0.7, \"#b8e186\"], [0.8, \"#7fbc41\"], [0.9, \"#4d9221\"], [1, \"#276419\"]], \"sequential\": [[0.0, \"#0d0887\"], [0.1111111111111111, \"#46039f\"], [0.2222222222222222, \"#7201a8\"], [0.3333333333333333, \"#9c179e\"], [0.4444444444444444, \"#bd3786\"], [0.5555555555555556, \"#d8576b\"], [0.6666666666666666, \"#ed7953\"], [0.7777777777777778, \"#fb9f3a\"], [0.8888888888888888, \"#fdca26\"], [1.0, \"#f0f921\"]], \"sequentialminus\": [[0.0, \"#0d0887\"], [0.1111111111111111, \"#46039f\"], [0.2222222222222222, \"#7201a8\"], [0.3333333333333333, \"#9c179e\"], [0.4444444444444444, \"#bd3786\"], [0.5555555555555556, \"#d8576b\"], [0.6666666666666666, \"#ed7953\"], [0.7777777777777778, \"#fb9f3a\"], [0.8888888888888888, \"#fdca26\"], [1.0, \"#f0f921\"]]}, \"colorway\": [\"#636efa\", \"#EF553B\", \"#00cc96\", \"#ab63fa\", \"#FFA15A\", \"#19d3f3\", \"#FF6692\", \"#B6E880\", \"#FF97FF\", \"#FECB52\"], \"font\": {\"color\": \"#2a3f5f\"}, \"geo\": {\"bgcolor\": \"white\", \"lakecolor\": \"white\", \"landcolor\": \"#E5ECF6\", \"showlakes\": true, \"showland\": true, \"subunitcolor\": \"white\"}, \"hoverlabel\": {\"align\": \"left\"}, \"hovermode\": \"closest\", \"mapbox\": {\"style\": \"light\"}, \"paper_bgcolor\": \"white\", \"plot_bgcolor\": \"#E5ECF6\", \"polar\": {\"angularaxis\": {\"gridcolor\": \"white\", \"linecolor\": \"white\", \"ticks\": \"\"}, \"bgcolor\": \"#E5ECF6\", \"radialaxis\": {\"gridcolor\": \"white\", \"linecolor\": \"white\", \"ticks\": \"\"}}, \"scene\": {\"xaxis\": {\"backgroundcolor\": \"#E5ECF6\", \"gridcolor\": \"white\", \"gridwidth\": 2, \"linecolor\": \"white\", \"showbackground\": true, \"ticks\": \"\", \"zerolinecolor\": \"white\"}, \"yaxis\": {\"backgroundcolor\": \"#E5ECF6\", \"gridcolor\": \"white\", \"gridwidth\": 2, \"linecolor\": \"white\", \"showbackground\": true, \"ticks\": \"\", \"zerolinecolor\": \"white\"}, \"zaxis\": {\"backgroundcolor\": \"#E5ECF6\", \"gridcolor\": \"white\", \"gridwidth\": 2, \"linecolor\": \"white\", \"showbackground\": true, \"ticks\": \"\", \"zerolinecolor\": \"white\"}}, \"shapedefaults\": {\"line\": {\"color\": \"#2a3f5f\"}}, \"ternary\": {\"aaxis\": {\"gridcolor\": \"white\", \"linecolor\": \"white\", \"ticks\": \"\"}, \"baxis\": {\"gridcolor\": \"white\", \"linecolor\": \"white\", \"ticks\": \"\"}, \"bgcolor\": \"#E5ECF6\", \"caxis\": {\"gridcolor\": \"white\", \"linecolor\": \"white\", \"ticks\": \"\"}}, \"title\": {\"x\": 0.05}, \"xaxis\": {\"automargin\": true, \"gridcolor\": \"white\", \"linecolor\": \"white\", \"ticks\": \"\", \"zerolinecolor\": \"white\", \"zerolinewidth\": 2}, \"yaxis\": {\"automargin\": true, \"gridcolor\": \"white\", \"linecolor\": \"white\", \"ticks\": \"\", \"zerolinecolor\": \"white\", \"zerolinewidth\": 2}}}, \"xaxis\": {\"anchor\": \"y\", \"domain\": [0.0, 0.98], \"title\": {\"text\": \"unique_values\"}}, \"yaxis\": {\"anchor\": \"x\", \"domain\": [0.0, 1.0], \"title\": {\"text\": \"counts\"}}},\n",
       "                        {\"responsive\": true}\n",
       "                    ).then(function(){\n",
       "                            \n",
       "var gd = document.getElementById('07b59e60-e0bf-4a41-aedb-d6e2000e0478');\n",
       "var x = new MutationObserver(function (mutations, observer) {{\n",
       "        var display = window.getComputedStyle(gd).display;\n",
       "        if (!display || display === 'none') {{\n",
       "            console.log([gd, 'removed!']);\n",
       "            Plotly.purge(gd);\n",
       "            observer.disconnect();\n",
       "        }}\n",
       "}});\n",
       "\n",
       "// Listen for the removal of the full notebook cells\n",
       "var notebookContainer = gd.closest('#notebook-container');\n",
       "if (notebookContainer) {{\n",
       "    x.observe(notebookContainer, {childList: true});\n",
       "}}\n",
       "\n",
       "// Listen for the clearing of the current output cell\n",
       "var outputEl = gd.closest('.output');\n",
       "if (outputEl) {{\n",
       "    x.observe(outputEl, {childList: true});\n",
       "}}\n",
       "\n",
       "                        })\n",
       "                };\n",
       "                });\n",
       "            </script>\n",
       "        </div>"
      ]
     },
     "metadata": {},
     "output_type": "display_data"
    }
   ],
   "source": [
    "#Plot bar grpah for top 20 CHALLENGES\n",
    "\n",
    "import plotly.express as px\n",
    "def visualize_top20_challenge(df_graph):\n",
    "    df_bar_challenge=unique_values(df_graph,'challenge_list_Name')\n",
    "    fig = px.bar(df_bar_challenge[0:20], y='counts', x='unique_values', text='counts')\n",
    "    fig.update_traces(texttemplate='%{text:.2s}', textposition='outside')\n",
    "    return fig\n",
    "fig=visualize_top20_challenge(create_df_graph(remove_zero_challenges(df_final)))\n",
    "fig.show()"
   ]
  },
  {
   "cell_type": "code",
   "execution_count": 17,
   "metadata": {
    "scrolled": false
   },
   "outputs": [
    {
     "data": {
      "application/vnd.plotly.v1+json": {
       "config": {
        "plotlyServerURL": "https://plot.ly"
       },
       "data": [
        {
         "alignmentgroup": "True",
         "hoverlabel": {
          "namelength": 0
         },
         "hovertemplate": "unique_values=%{x}<br>counts=%{text}",
         "legendgroup": "",
         "marker": {
          "color": "#636efa"
         },
         "name": "",
         "offsetgroup": "",
         "orientation": "v",
         "showlegend": false,
         "text": [
          4813,
          1224,
          904,
          864,
          853,
          812,
          648,
          413,
          356,
          260,
          260,
          255,
          247,
          233,
          219,
          207,
          201,
          200,
          199
         ],
         "textposition": "outside",
         "texttemplate": "%{text:.2s}",
         "type": "bar",
         "x": [
          "Originalton",
          "sonido original",
          "orijinal ses",
          "оригинальный звук",
          "origineel geluid",
          "Original Sound",
          "son original",
          "الصوت الأصلي",
          "Falling",
          "No Idea",
          "The Box",
          "suono originale",
          "Death ft. DaBaby",
          "WOAH",
          "Lottery",
          "Lalala",
          "Opaul",
          "ROXANNE",
          "Yummy"
         ],
         "xaxis": "x",
         "y": [
          4813,
          1224,
          904,
          864,
          853,
          812,
          648,
          413,
          356,
          260,
          260,
          255,
          247,
          233,
          219,
          207,
          201,
          200,
          199
         ],
         "yaxis": "y"
        }
       ],
       "layout": {
        "barmode": "relative",
        "height": 600,
        "legend": {
         "tracegroupgap": 0
        },
        "margin": {
         "t": 60
        },
        "template": {
         "data": {
          "bar": [
           {
            "error_x": {
             "color": "#2a3f5f"
            },
            "error_y": {
             "color": "#2a3f5f"
            },
            "marker": {
             "line": {
              "color": "#E5ECF6",
              "width": 0.5
             }
            },
            "type": "bar"
           }
          ],
          "barpolar": [
           {
            "marker": {
             "line": {
              "color": "#E5ECF6",
              "width": 0.5
             }
            },
            "type": "barpolar"
           }
          ],
          "carpet": [
           {
            "aaxis": {
             "endlinecolor": "#2a3f5f",
             "gridcolor": "white",
             "linecolor": "white",
             "minorgridcolor": "white",
             "startlinecolor": "#2a3f5f"
            },
            "baxis": {
             "endlinecolor": "#2a3f5f",
             "gridcolor": "white",
             "linecolor": "white",
             "minorgridcolor": "white",
             "startlinecolor": "#2a3f5f"
            },
            "type": "carpet"
           }
          ],
          "choropleth": [
           {
            "colorbar": {
             "outlinewidth": 0,
             "ticks": ""
            },
            "type": "choropleth"
           }
          ],
          "contour": [
           {
            "colorbar": {
             "outlinewidth": 0,
             "ticks": ""
            },
            "colorscale": [
             [
              0,
              "#0d0887"
             ],
             [
              0.1111111111111111,
              "#46039f"
             ],
             [
              0.2222222222222222,
              "#7201a8"
             ],
             [
              0.3333333333333333,
              "#9c179e"
             ],
             [
              0.4444444444444444,
              "#bd3786"
             ],
             [
              0.5555555555555556,
              "#d8576b"
             ],
             [
              0.6666666666666666,
              "#ed7953"
             ],
             [
              0.7777777777777778,
              "#fb9f3a"
             ],
             [
              0.8888888888888888,
              "#fdca26"
             ],
             [
              1,
              "#f0f921"
             ]
            ],
            "type": "contour"
           }
          ],
          "contourcarpet": [
           {
            "colorbar": {
             "outlinewidth": 0,
             "ticks": ""
            },
            "type": "contourcarpet"
           }
          ],
          "heatmap": [
           {
            "colorbar": {
             "outlinewidth": 0,
             "ticks": ""
            },
            "colorscale": [
             [
              0,
              "#0d0887"
             ],
             [
              0.1111111111111111,
              "#46039f"
             ],
             [
              0.2222222222222222,
              "#7201a8"
             ],
             [
              0.3333333333333333,
              "#9c179e"
             ],
             [
              0.4444444444444444,
              "#bd3786"
             ],
             [
              0.5555555555555556,
              "#d8576b"
             ],
             [
              0.6666666666666666,
              "#ed7953"
             ],
             [
              0.7777777777777778,
              "#fb9f3a"
             ],
             [
              0.8888888888888888,
              "#fdca26"
             ],
             [
              1,
              "#f0f921"
             ]
            ],
            "type": "heatmap"
           }
          ],
          "heatmapgl": [
           {
            "colorbar": {
             "outlinewidth": 0,
             "ticks": ""
            },
            "colorscale": [
             [
              0,
              "#0d0887"
             ],
             [
              0.1111111111111111,
              "#46039f"
             ],
             [
              0.2222222222222222,
              "#7201a8"
             ],
             [
              0.3333333333333333,
              "#9c179e"
             ],
             [
              0.4444444444444444,
              "#bd3786"
             ],
             [
              0.5555555555555556,
              "#d8576b"
             ],
             [
              0.6666666666666666,
              "#ed7953"
             ],
             [
              0.7777777777777778,
              "#fb9f3a"
             ],
             [
              0.8888888888888888,
              "#fdca26"
             ],
             [
              1,
              "#f0f921"
             ]
            ],
            "type": "heatmapgl"
           }
          ],
          "histogram": [
           {
            "marker": {
             "colorbar": {
              "outlinewidth": 0,
              "ticks": ""
             }
            },
            "type": "histogram"
           }
          ],
          "histogram2d": [
           {
            "colorbar": {
             "outlinewidth": 0,
             "ticks": ""
            },
            "colorscale": [
             [
              0,
              "#0d0887"
             ],
             [
              0.1111111111111111,
              "#46039f"
             ],
             [
              0.2222222222222222,
              "#7201a8"
             ],
             [
              0.3333333333333333,
              "#9c179e"
             ],
             [
              0.4444444444444444,
              "#bd3786"
             ],
             [
              0.5555555555555556,
              "#d8576b"
             ],
             [
              0.6666666666666666,
              "#ed7953"
             ],
             [
              0.7777777777777778,
              "#fb9f3a"
             ],
             [
              0.8888888888888888,
              "#fdca26"
             ],
             [
              1,
              "#f0f921"
             ]
            ],
            "type": "histogram2d"
           }
          ],
          "histogram2dcontour": [
           {
            "colorbar": {
             "outlinewidth": 0,
             "ticks": ""
            },
            "colorscale": [
             [
              0,
              "#0d0887"
             ],
             [
              0.1111111111111111,
              "#46039f"
             ],
             [
              0.2222222222222222,
              "#7201a8"
             ],
             [
              0.3333333333333333,
              "#9c179e"
             ],
             [
              0.4444444444444444,
              "#bd3786"
             ],
             [
              0.5555555555555556,
              "#d8576b"
             ],
             [
              0.6666666666666666,
              "#ed7953"
             ],
             [
              0.7777777777777778,
              "#fb9f3a"
             ],
             [
              0.8888888888888888,
              "#fdca26"
             ],
             [
              1,
              "#f0f921"
             ]
            ],
            "type": "histogram2dcontour"
           }
          ],
          "mesh3d": [
           {
            "colorbar": {
             "outlinewidth": 0,
             "ticks": ""
            },
            "type": "mesh3d"
           }
          ],
          "parcoords": [
           {
            "line": {
             "colorbar": {
              "outlinewidth": 0,
              "ticks": ""
             }
            },
            "type": "parcoords"
           }
          ],
          "scatter": [
           {
            "marker": {
             "colorbar": {
              "outlinewidth": 0,
              "ticks": ""
             }
            },
            "type": "scatter"
           }
          ],
          "scatter3d": [
           {
            "line": {
             "colorbar": {
              "outlinewidth": 0,
              "ticks": ""
             }
            },
            "marker": {
             "colorbar": {
              "outlinewidth": 0,
              "ticks": ""
             }
            },
            "type": "scatter3d"
           }
          ],
          "scattercarpet": [
           {
            "marker": {
             "colorbar": {
              "outlinewidth": 0,
              "ticks": ""
             }
            },
            "type": "scattercarpet"
           }
          ],
          "scattergeo": [
           {
            "marker": {
             "colorbar": {
              "outlinewidth": 0,
              "ticks": ""
             }
            },
            "type": "scattergeo"
           }
          ],
          "scattergl": [
           {
            "marker": {
             "colorbar": {
              "outlinewidth": 0,
              "ticks": ""
             }
            },
            "type": "scattergl"
           }
          ],
          "scattermapbox": [
           {
            "marker": {
             "colorbar": {
              "outlinewidth": 0,
              "ticks": ""
             }
            },
            "type": "scattermapbox"
           }
          ],
          "scatterpolar": [
           {
            "marker": {
             "colorbar": {
              "outlinewidth": 0,
              "ticks": ""
             }
            },
            "type": "scatterpolar"
           }
          ],
          "scatterpolargl": [
           {
            "marker": {
             "colorbar": {
              "outlinewidth": 0,
              "ticks": ""
             }
            },
            "type": "scatterpolargl"
           }
          ],
          "scatterternary": [
           {
            "marker": {
             "colorbar": {
              "outlinewidth": 0,
              "ticks": ""
             }
            },
            "type": "scatterternary"
           }
          ],
          "surface": [
           {
            "colorbar": {
             "outlinewidth": 0,
             "ticks": ""
            },
            "colorscale": [
             [
              0,
              "#0d0887"
             ],
             [
              0.1111111111111111,
              "#46039f"
             ],
             [
              0.2222222222222222,
              "#7201a8"
             ],
             [
              0.3333333333333333,
              "#9c179e"
             ],
             [
              0.4444444444444444,
              "#bd3786"
             ],
             [
              0.5555555555555556,
              "#d8576b"
             ],
             [
              0.6666666666666666,
              "#ed7953"
             ],
             [
              0.7777777777777778,
              "#fb9f3a"
             ],
             [
              0.8888888888888888,
              "#fdca26"
             ],
             [
              1,
              "#f0f921"
             ]
            ],
            "type": "surface"
           }
          ],
          "table": [
           {
            "cells": {
             "fill": {
              "color": "#EBF0F8"
             },
             "line": {
              "color": "white"
             }
            },
            "header": {
             "fill": {
              "color": "#C8D4E3"
             },
             "line": {
              "color": "white"
             }
            },
            "type": "table"
           }
          ]
         },
         "layout": {
          "annotationdefaults": {
           "arrowcolor": "#2a3f5f",
           "arrowhead": 0,
           "arrowwidth": 1
          },
          "colorscale": {
           "diverging": [
            [
             0,
             "#8e0152"
            ],
            [
             0.1,
             "#c51b7d"
            ],
            [
             0.2,
             "#de77ae"
            ],
            [
             0.3,
             "#f1b6da"
            ],
            [
             0.4,
             "#fde0ef"
            ],
            [
             0.5,
             "#f7f7f7"
            ],
            [
             0.6,
             "#e6f5d0"
            ],
            [
             0.7,
             "#b8e186"
            ],
            [
             0.8,
             "#7fbc41"
            ],
            [
             0.9,
             "#4d9221"
            ],
            [
             1,
             "#276419"
            ]
           ],
           "sequential": [
            [
             0,
             "#0d0887"
            ],
            [
             0.1111111111111111,
             "#46039f"
            ],
            [
             0.2222222222222222,
             "#7201a8"
            ],
            [
             0.3333333333333333,
             "#9c179e"
            ],
            [
             0.4444444444444444,
             "#bd3786"
            ],
            [
             0.5555555555555556,
             "#d8576b"
            ],
            [
             0.6666666666666666,
             "#ed7953"
            ],
            [
             0.7777777777777778,
             "#fb9f3a"
            ],
            [
             0.8888888888888888,
             "#fdca26"
            ],
            [
             1,
             "#f0f921"
            ]
           ],
           "sequentialminus": [
            [
             0,
             "#0d0887"
            ],
            [
             0.1111111111111111,
             "#46039f"
            ],
            [
             0.2222222222222222,
             "#7201a8"
            ],
            [
             0.3333333333333333,
             "#9c179e"
            ],
            [
             0.4444444444444444,
             "#bd3786"
            ],
            [
             0.5555555555555556,
             "#d8576b"
            ],
            [
             0.6666666666666666,
             "#ed7953"
            ],
            [
             0.7777777777777778,
             "#fb9f3a"
            ],
            [
             0.8888888888888888,
             "#fdca26"
            ],
            [
             1,
             "#f0f921"
            ]
           ]
          },
          "colorway": [
           "#636efa",
           "#EF553B",
           "#00cc96",
           "#ab63fa",
           "#FFA15A",
           "#19d3f3",
           "#FF6692",
           "#B6E880",
           "#FF97FF",
           "#FECB52"
          ],
          "font": {
           "color": "#2a3f5f"
          },
          "geo": {
           "bgcolor": "white",
           "lakecolor": "white",
           "landcolor": "#E5ECF6",
           "showlakes": true,
           "showland": true,
           "subunitcolor": "white"
          },
          "hoverlabel": {
           "align": "left"
          },
          "hovermode": "closest",
          "mapbox": {
           "style": "light"
          },
          "paper_bgcolor": "white",
          "plot_bgcolor": "#E5ECF6",
          "polar": {
           "angularaxis": {
            "gridcolor": "white",
            "linecolor": "white",
            "ticks": ""
           },
           "bgcolor": "#E5ECF6",
           "radialaxis": {
            "gridcolor": "white",
            "linecolor": "white",
            "ticks": ""
           }
          },
          "scene": {
           "xaxis": {
            "backgroundcolor": "#E5ECF6",
            "gridcolor": "white",
            "gridwidth": 2,
            "linecolor": "white",
            "showbackground": true,
            "ticks": "",
            "zerolinecolor": "white"
           },
           "yaxis": {
            "backgroundcolor": "#E5ECF6",
            "gridcolor": "white",
            "gridwidth": 2,
            "linecolor": "white",
            "showbackground": true,
            "ticks": "",
            "zerolinecolor": "white"
           },
           "zaxis": {
            "backgroundcolor": "#E5ECF6",
            "gridcolor": "white",
            "gridwidth": 2,
            "linecolor": "white",
            "showbackground": true,
            "ticks": "",
            "zerolinecolor": "white"
           }
          },
          "shapedefaults": {
           "line": {
            "color": "#2a3f5f"
           }
          },
          "ternary": {
           "aaxis": {
            "gridcolor": "white",
            "linecolor": "white",
            "ticks": ""
           },
           "baxis": {
            "gridcolor": "white",
            "linecolor": "white",
            "ticks": ""
           },
           "bgcolor": "#E5ECF6",
           "caxis": {
            "gridcolor": "white",
            "linecolor": "white",
            "ticks": ""
           }
          },
          "title": {
           "x": 0.05
          },
          "xaxis": {
           "automargin": true,
           "gridcolor": "white",
           "linecolor": "white",
           "ticks": "",
           "zerolinecolor": "white",
           "zerolinewidth": 2
          },
          "yaxis": {
           "automargin": true,
           "gridcolor": "white",
           "linecolor": "white",
           "ticks": "",
           "zerolinecolor": "white",
           "zerolinewidth": 2
          }
         }
        },
        "xaxis": {
         "anchor": "y",
         "domain": [
          0,
          0.98
         ],
         "title": {
          "text": "unique_values"
         }
        },
        "yaxis": {
         "anchor": "x",
         "domain": [
          0,
          1
         ],
         "title": {
          "text": "counts"
         }
        }
       }
      },
      "text/html": [
       "<div>\n",
       "        \n",
       "        \n",
       "            <div id=\"659a6d0e-e152-49ce-b71f-ab23bce3bb44\" class=\"plotly-graph-div\" style=\"height:600px; width:100%;\"></div>\n",
       "            <script type=\"text/javascript\">\n",
       "                require([\"plotly\"], function(Plotly) {\n",
       "                    window.PLOTLYENV=window.PLOTLYENV || {};\n",
       "                    \n",
       "                if (document.getElementById(\"659a6d0e-e152-49ce-b71f-ab23bce3bb44\")) {\n",
       "                    Plotly.newPlot(\n",
       "                        '659a6d0e-e152-49ce-b71f-ab23bce3bb44',\n",
       "                        [{\"alignmentgroup\": \"True\", \"hoverlabel\": {\"namelength\": 0}, \"hovertemplate\": \"unique_values=%{x}<br>counts=%{text}\", \"legendgroup\": \"\", \"marker\": {\"color\": \"#636efa\"}, \"name\": \"\", \"offsetgroup\": \"\", \"orientation\": \"v\", \"showlegend\": false, \"text\": [4813.0, 1224.0, 904.0, 864.0, 853.0, 812.0, 648.0, 413.0, 356.0, 260.0, 260.0, 255.0, 247.0, 233.0, 219.0, 207.0, 201.0, 200.0, 199.0], \"textposition\": \"outside\", \"texttemplate\": \"%{text:.2s}\", \"type\": \"bar\", \"x\": [\"Originalton\", \"sonido original\", \"orijinal ses\", \"\\u043e\\u0440\\u0438\\u0433\\u0438\\u043d\\u0430\\u043b\\u044c\\u043d\\u044b\\u0439 \\u0437\\u0432\\u0443\\u043a\", \"origineel geluid\", \"Original Sound\", \"son original\", \"\\u0627\\u0644\\u0635\\u0648\\u062a \\u0627\\u0644\\u0623\\u0635\\u0644\\u064a\", \"Falling\", \"No Idea\", \"The Box\", \"suono originale\", \"Death ft. DaBaby\", \"WOAH\", \"Lottery\", \"Lalala\", \"Opaul\", \"ROXANNE\", \"Yummy\"], \"xaxis\": \"x\", \"y\": [4813, 1224, 904, 864, 853, 812, 648, 413, 356, 260, 260, 255, 247, 233, 219, 207, 201, 200, 199], \"yaxis\": \"y\"}],\n",
       "                        {\"barmode\": \"relative\", \"height\": 600, \"legend\": {\"tracegroupgap\": 0}, \"margin\": {\"t\": 60}, \"template\": {\"data\": {\"bar\": [{\"error_x\": {\"color\": \"#2a3f5f\"}, \"error_y\": {\"color\": \"#2a3f5f\"}, \"marker\": {\"line\": {\"color\": \"#E5ECF6\", \"width\": 0.5}}, \"type\": \"bar\"}], \"barpolar\": [{\"marker\": {\"line\": {\"color\": \"#E5ECF6\", \"width\": 0.5}}, \"type\": \"barpolar\"}], \"carpet\": [{\"aaxis\": {\"endlinecolor\": \"#2a3f5f\", \"gridcolor\": \"white\", \"linecolor\": \"white\", \"minorgridcolor\": \"white\", \"startlinecolor\": \"#2a3f5f\"}, \"baxis\": {\"endlinecolor\": \"#2a3f5f\", \"gridcolor\": \"white\", \"linecolor\": \"white\", \"minorgridcolor\": \"white\", \"startlinecolor\": \"#2a3f5f\"}, \"type\": \"carpet\"}], \"choropleth\": [{\"colorbar\": {\"outlinewidth\": 0, \"ticks\": \"\"}, \"type\": \"choropleth\"}], \"contour\": [{\"colorbar\": {\"outlinewidth\": 0, \"ticks\": \"\"}, \"colorscale\": [[0.0, \"#0d0887\"], [0.1111111111111111, \"#46039f\"], [0.2222222222222222, \"#7201a8\"], [0.3333333333333333, \"#9c179e\"], [0.4444444444444444, \"#bd3786\"], [0.5555555555555556, \"#d8576b\"], [0.6666666666666666, \"#ed7953\"], [0.7777777777777778, \"#fb9f3a\"], [0.8888888888888888, \"#fdca26\"], [1.0, \"#f0f921\"]], \"type\": \"contour\"}], \"contourcarpet\": [{\"colorbar\": {\"outlinewidth\": 0, \"ticks\": \"\"}, \"type\": \"contourcarpet\"}], \"heatmap\": [{\"colorbar\": {\"outlinewidth\": 0, \"ticks\": \"\"}, \"colorscale\": [[0.0, \"#0d0887\"], [0.1111111111111111, \"#46039f\"], [0.2222222222222222, \"#7201a8\"], [0.3333333333333333, \"#9c179e\"], [0.4444444444444444, \"#bd3786\"], [0.5555555555555556, \"#d8576b\"], [0.6666666666666666, \"#ed7953\"], [0.7777777777777778, \"#fb9f3a\"], [0.8888888888888888, \"#fdca26\"], [1.0, \"#f0f921\"]], \"type\": \"heatmap\"}], \"heatmapgl\": [{\"colorbar\": {\"outlinewidth\": 0, \"ticks\": \"\"}, \"colorscale\": [[0.0, \"#0d0887\"], [0.1111111111111111, \"#46039f\"], [0.2222222222222222, \"#7201a8\"], [0.3333333333333333, \"#9c179e\"], [0.4444444444444444, \"#bd3786\"], [0.5555555555555556, \"#d8576b\"], [0.6666666666666666, \"#ed7953\"], [0.7777777777777778, \"#fb9f3a\"], [0.8888888888888888, \"#fdca26\"], [1.0, \"#f0f921\"]], \"type\": \"heatmapgl\"}], \"histogram\": [{\"marker\": {\"colorbar\": {\"outlinewidth\": 0, \"ticks\": \"\"}}, \"type\": \"histogram\"}], \"histogram2d\": [{\"colorbar\": {\"outlinewidth\": 0, \"ticks\": \"\"}, \"colorscale\": [[0.0, \"#0d0887\"], [0.1111111111111111, \"#46039f\"], [0.2222222222222222, \"#7201a8\"], [0.3333333333333333, \"#9c179e\"], [0.4444444444444444, \"#bd3786\"], [0.5555555555555556, \"#d8576b\"], [0.6666666666666666, \"#ed7953\"], [0.7777777777777778, \"#fb9f3a\"], [0.8888888888888888, \"#fdca26\"], [1.0, \"#f0f921\"]], \"type\": \"histogram2d\"}], \"histogram2dcontour\": [{\"colorbar\": {\"outlinewidth\": 0, \"ticks\": \"\"}, \"colorscale\": [[0.0, \"#0d0887\"], [0.1111111111111111, \"#46039f\"], [0.2222222222222222, \"#7201a8\"], [0.3333333333333333, \"#9c179e\"], [0.4444444444444444, \"#bd3786\"], [0.5555555555555556, \"#d8576b\"], [0.6666666666666666, \"#ed7953\"], [0.7777777777777778, \"#fb9f3a\"], [0.8888888888888888, \"#fdca26\"], [1.0, \"#f0f921\"]], \"type\": \"histogram2dcontour\"}], \"mesh3d\": [{\"colorbar\": {\"outlinewidth\": 0, \"ticks\": \"\"}, \"type\": \"mesh3d\"}], \"parcoords\": [{\"line\": {\"colorbar\": {\"outlinewidth\": 0, \"ticks\": \"\"}}, \"type\": \"parcoords\"}], \"scatter\": [{\"marker\": {\"colorbar\": {\"outlinewidth\": 0, \"ticks\": \"\"}}, \"type\": \"scatter\"}], \"scatter3d\": [{\"line\": {\"colorbar\": {\"outlinewidth\": 0, \"ticks\": \"\"}}, \"marker\": {\"colorbar\": {\"outlinewidth\": 0, \"ticks\": \"\"}}, \"type\": \"scatter3d\"}], \"scattercarpet\": [{\"marker\": {\"colorbar\": {\"outlinewidth\": 0, \"ticks\": \"\"}}, \"type\": \"scattercarpet\"}], \"scattergeo\": [{\"marker\": {\"colorbar\": {\"outlinewidth\": 0, \"ticks\": \"\"}}, \"type\": \"scattergeo\"}], \"scattergl\": [{\"marker\": {\"colorbar\": {\"outlinewidth\": 0, \"ticks\": \"\"}}, \"type\": \"scattergl\"}], \"scattermapbox\": [{\"marker\": {\"colorbar\": {\"outlinewidth\": 0, \"ticks\": \"\"}}, \"type\": \"scattermapbox\"}], \"scatterpolar\": [{\"marker\": {\"colorbar\": {\"outlinewidth\": 0, \"ticks\": \"\"}}, \"type\": \"scatterpolar\"}], \"scatterpolargl\": [{\"marker\": {\"colorbar\": {\"outlinewidth\": 0, \"ticks\": \"\"}}, \"type\": \"scatterpolargl\"}], \"scatterternary\": [{\"marker\": {\"colorbar\": {\"outlinewidth\": 0, \"ticks\": \"\"}}, \"type\": \"scatterternary\"}], \"surface\": [{\"colorbar\": {\"outlinewidth\": 0, \"ticks\": \"\"}, \"colorscale\": [[0.0, \"#0d0887\"], [0.1111111111111111, \"#46039f\"], [0.2222222222222222, \"#7201a8\"], [0.3333333333333333, \"#9c179e\"], [0.4444444444444444, \"#bd3786\"], [0.5555555555555556, \"#d8576b\"], [0.6666666666666666, \"#ed7953\"], [0.7777777777777778, \"#fb9f3a\"], [0.8888888888888888, \"#fdca26\"], [1.0, \"#f0f921\"]], \"type\": \"surface\"}], \"table\": [{\"cells\": {\"fill\": {\"color\": \"#EBF0F8\"}, \"line\": {\"color\": \"white\"}}, \"header\": {\"fill\": {\"color\": \"#C8D4E3\"}, \"line\": {\"color\": \"white\"}}, \"type\": \"table\"}]}, \"layout\": {\"annotationdefaults\": {\"arrowcolor\": \"#2a3f5f\", \"arrowhead\": 0, \"arrowwidth\": 1}, \"colorscale\": {\"diverging\": [[0, \"#8e0152\"], [0.1, \"#c51b7d\"], [0.2, \"#de77ae\"], [0.3, \"#f1b6da\"], [0.4, \"#fde0ef\"], [0.5, \"#f7f7f7\"], [0.6, \"#e6f5d0\"], [0.7, \"#b8e186\"], [0.8, \"#7fbc41\"], [0.9, \"#4d9221\"], [1, \"#276419\"]], \"sequential\": [[0.0, \"#0d0887\"], [0.1111111111111111, \"#46039f\"], [0.2222222222222222, \"#7201a8\"], [0.3333333333333333, \"#9c179e\"], [0.4444444444444444, \"#bd3786\"], [0.5555555555555556, \"#d8576b\"], [0.6666666666666666, \"#ed7953\"], [0.7777777777777778, \"#fb9f3a\"], [0.8888888888888888, \"#fdca26\"], [1.0, \"#f0f921\"]], \"sequentialminus\": [[0.0, \"#0d0887\"], [0.1111111111111111, \"#46039f\"], [0.2222222222222222, \"#7201a8\"], [0.3333333333333333, \"#9c179e\"], [0.4444444444444444, \"#bd3786\"], [0.5555555555555556, \"#d8576b\"], [0.6666666666666666, \"#ed7953\"], [0.7777777777777778, \"#fb9f3a\"], [0.8888888888888888, \"#fdca26\"], [1.0, \"#f0f921\"]]}, \"colorway\": [\"#636efa\", \"#EF553B\", \"#00cc96\", \"#ab63fa\", \"#FFA15A\", \"#19d3f3\", \"#FF6692\", \"#B6E880\", \"#FF97FF\", \"#FECB52\"], \"font\": {\"color\": \"#2a3f5f\"}, \"geo\": {\"bgcolor\": \"white\", \"lakecolor\": \"white\", \"landcolor\": \"#E5ECF6\", \"showlakes\": true, \"showland\": true, \"subunitcolor\": \"white\"}, \"hoverlabel\": {\"align\": \"left\"}, \"hovermode\": \"closest\", \"mapbox\": {\"style\": \"light\"}, \"paper_bgcolor\": \"white\", \"plot_bgcolor\": \"#E5ECF6\", \"polar\": {\"angularaxis\": {\"gridcolor\": \"white\", \"linecolor\": \"white\", \"ticks\": \"\"}, \"bgcolor\": \"#E5ECF6\", \"radialaxis\": {\"gridcolor\": \"white\", \"linecolor\": \"white\", \"ticks\": \"\"}}, \"scene\": {\"xaxis\": {\"backgroundcolor\": \"#E5ECF6\", \"gridcolor\": \"white\", \"gridwidth\": 2, \"linecolor\": \"white\", \"showbackground\": true, \"ticks\": \"\", \"zerolinecolor\": \"white\"}, \"yaxis\": {\"backgroundcolor\": \"#E5ECF6\", \"gridcolor\": \"white\", \"gridwidth\": 2, \"linecolor\": \"white\", \"showbackground\": true, \"ticks\": \"\", \"zerolinecolor\": \"white\"}, \"zaxis\": {\"backgroundcolor\": \"#E5ECF6\", \"gridcolor\": \"white\", \"gridwidth\": 2, \"linecolor\": \"white\", \"showbackground\": true, \"ticks\": \"\", \"zerolinecolor\": \"white\"}}, \"shapedefaults\": {\"line\": {\"color\": \"#2a3f5f\"}}, \"ternary\": {\"aaxis\": {\"gridcolor\": \"white\", \"linecolor\": \"white\", \"ticks\": \"\"}, \"baxis\": {\"gridcolor\": \"white\", \"linecolor\": \"white\", \"ticks\": \"\"}, \"bgcolor\": \"#E5ECF6\", \"caxis\": {\"gridcolor\": \"white\", \"linecolor\": \"white\", \"ticks\": \"\"}}, \"title\": {\"x\": 0.05}, \"xaxis\": {\"automargin\": true, \"gridcolor\": \"white\", \"linecolor\": \"white\", \"ticks\": \"\", \"zerolinecolor\": \"white\", \"zerolinewidth\": 2}, \"yaxis\": {\"automargin\": true, \"gridcolor\": \"white\", \"linecolor\": \"white\", \"ticks\": \"\", \"zerolinecolor\": \"white\", \"zerolinewidth\": 2}}}, \"xaxis\": {\"anchor\": \"y\", \"domain\": [0.0, 0.98], \"title\": {\"text\": \"unique_values\"}}, \"yaxis\": {\"anchor\": \"x\", \"domain\": [0.0, 1.0], \"title\": {\"text\": \"counts\"}}},\n",
       "                        {\"responsive\": true}\n",
       "                    ).then(function(){\n",
       "                            \n",
       "var gd = document.getElementById('659a6d0e-e152-49ce-b71f-ab23bce3bb44');\n",
       "var x = new MutationObserver(function (mutations, observer) {{\n",
       "        var display = window.getComputedStyle(gd).display;\n",
       "        if (!display || display === 'none') {{\n",
       "            console.log([gd, 'removed!']);\n",
       "            Plotly.purge(gd);\n",
       "            observer.disconnect();\n",
       "        }}\n",
       "}});\n",
       "\n",
       "// Listen for the removal of the full notebook cells\n",
       "var notebookContainer = gd.closest('#notebook-container');\n",
       "if (notebookContainer) {{\n",
       "    x.observe(notebookContainer, {childList: true});\n",
       "}}\n",
       "\n",
       "// Listen for the clearing of the current output cell\n",
       "var outputEl = gd.closest('.output');\n",
       "if (outputEl) {{\n",
       "    x.observe(outputEl, {childList: true});\n",
       "}}\n",
       "\n",
       "                        })\n",
       "                };\n",
       "                });\n",
       "            </script>\n",
       "        </div>"
      ]
     },
     "metadata": {},
     "output_type": "display_data"
    }
   ],
   "source": [
    "#Plot bar graph for top 20 Music NAMES\n",
    "import plotly.express as px\n",
    "def visualize_top20_MusicName(df_final):\n",
    "    #Unique values for Music Names\n",
    "    df_bar_music_name=unique_values(df_final,'Music Name')\n",
    "    #Skipped 1st music name since random orignal music is represented as 'orginal music'. \n",
    "    # Thus the category 'orginal music' represent multiple songs\n",
    "    fig = px.bar(df_bar_music_name[1:20], y='counts', x='unique_values',text='counts')\n",
    "    fig.update_traces(texttemplate='%{text:.2s}', textposition='outside')\n",
    "    return fig\n",
    "\n",
    "fig=visualize_top20_MusicName(df_final)\n",
    "fig.show()"
   ]
  },
  {
   "cell_type": "code",
   "execution_count": 19,
   "metadata": {},
   "outputs": [
    {
     "data": {
      "application/vnd.plotly.v1+json": {
       "config": {
        "plotlyServerURL": "https://plot.ly"
       },
       "data": [
        {
         "colorscale": [
          [
           0,
           "#00083e"
          ],
          [
           0.5,
           "#ededee"
          ],
          [
           1,
           "#ffffff"
          ]
         ],
         "hoverinfo": "none",
         "opacity": 0.75,
         "showscale": false,
         "type": "heatmap",
         "z": [
          [
           0,
           0,
           0
          ],
          [
           0.5,
           0.5,
           0.5
          ],
          [
           1,
           1,
           1
          ],
          [
           0.5,
           0.5,
           0.5
          ],
          [
           1,
           1,
           1
          ],
          [
           0.5,
           0.5,
           0.5
          ],
          [
           1,
           1,
           1
          ],
          [
           0.5,
           0.5,
           0.5
          ],
          [
           1,
           1,
           1
          ],
          [
           0.5,
           0.5,
           0.5
          ],
          [
           1,
           1,
           1
          ]
         ]
        },
        {
         "marker": {
          "color": "#0099ff"
         },
         "name": "Count",
         "type": "bar",
         "x": [
          0,
          1,
          2,
          3,
          4,
          5,
          6,
          7,
          8,
          9
         ],
         "xaxis": "x2",
         "y": [
          247,
          227,
          216,
          200,
          181,
          179,
          179,
          178,
          173,
          170
         ],
         "yaxis": "y2"
        }
       ],
       "layout": {
        "annotations": [
         {
          "align": "left",
          "font": {
           "color": "#ffffff"
          },
          "showarrow": false,
          "text": "<b>Index</b>",
          "x": -0.45,
          "xanchor": "left",
          "xref": "x",
          "y": 0,
          "yref": "y"
         },
         {
          "align": "left",
          "font": {
           "color": "#ffffff"
          },
          "showarrow": false,
          "text": "<b>Music Id</b>",
          "x": 0.55,
          "xanchor": "left",
          "xref": "x",
          "y": 0,
          "yref": "y"
         },
         {
          "align": "left",
          "font": {
           "color": "#ffffff"
          },
          "showarrow": false,
          "text": "<b>Count</b>",
          "x": 1.55,
          "xanchor": "left",
          "xref": "x",
          "y": 0,
          "yref": "y"
         },
         {
          "align": "left",
          "font": {
           "color": "#000000"
          },
          "showarrow": false,
          "text": "0",
          "x": -0.45,
          "xanchor": "left",
          "xref": "x",
          "y": 1,
          "yref": "y"
         },
         {
          "align": "left",
          "font": {
           "color": "#000000"
          },
          "showarrow": false,
          "text": "6758960939380394758",
          "x": 0.55,
          "xanchor": "left",
          "xref": "x",
          "y": 1,
          "yref": "y"
         },
         {
          "align": "left",
          "font": {
           "color": "#000000"
          },
          "showarrow": false,
          "text": "247",
          "x": 1.55,
          "xanchor": "left",
          "xref": "x",
          "y": 1,
          "yref": "y"
         },
         {
          "align": "left",
          "font": {
           "color": "#000000"
          },
          "showarrow": false,
          "text": "1",
          "x": -0.45,
          "xanchor": "left",
          "xref": "x",
          "y": 2,
          "yref": "y"
         },
         {
          "align": "left",
          "font": {
           "color": "#000000"
          },
          "showarrow": false,
          "text": "6691366574592396038",
          "x": 0.55,
          "xanchor": "left",
          "xref": "x",
          "y": 2,
          "yref": "y"
         },
         {
          "align": "left",
          "font": {
           "color": "#000000"
          },
          "showarrow": false,
          "text": "227",
          "x": 1.55,
          "xanchor": "left",
          "xref": "x",
          "y": 2,
          "yref": "y"
         },
         {
          "align": "left",
          "font": {
           "color": "#000000"
          },
          "showarrow": false,
          "text": "2",
          "x": -0.45,
          "xanchor": "left",
          "xref": "x",
          "y": 3,
          "yref": "y"
         },
         {
          "align": "left",
          "font": {
           "color": "#000000"
          },
          "showarrow": false,
          "text": "6744446812653947654",
          "x": 0.55,
          "xanchor": "left",
          "xref": "x",
          "y": 3,
          "yref": "y"
         },
         {
          "align": "left",
          "font": {
           "color": "#000000"
          },
          "showarrow": false,
          "text": "216",
          "x": 1.55,
          "xanchor": "left",
          "xref": "x",
          "y": 3,
          "yref": "y"
         },
         {
          "align": "left",
          "font": {
           "color": "#000000"
          },
          "showarrow": false,
          "text": "3",
          "x": -0.45,
          "xanchor": "left",
          "xref": "x",
          "y": 4,
          "yref": "y"
         },
         {
          "align": "left",
          "font": {
           "color": "#000000"
          },
          "showarrow": false,
          "text": "6768646921029470981",
          "x": 0.55,
          "xanchor": "left",
          "xref": "x",
          "y": 4,
          "yref": "y"
         },
         {
          "align": "left",
          "font": {
           "color": "#000000"
          },
          "showarrow": false,
          "text": "200",
          "x": 1.55,
          "xanchor": "left",
          "xref": "x",
          "y": 4,
          "yref": "y"
         },
         {
          "align": "left",
          "font": {
           "color": "#000000"
          },
          "showarrow": false,
          "text": "4",
          "x": -0.45,
          "xanchor": "left",
          "xref": "x",
          "y": 5,
          "yref": "y"
         },
         {
          "align": "left",
          "font": {
           "color": "#000000"
          },
          "showarrow": false,
          "text": "6777509948566800385",
          "x": 0.55,
          "xanchor": "left",
          "xref": "x",
          "y": 5,
          "yref": "y"
         },
         {
          "align": "left",
          "font": {
           "color": "#000000"
          },
          "showarrow": false,
          "text": "181",
          "x": 1.55,
          "xanchor": "left",
          "xref": "x",
          "y": 5,
          "yref": "y"
         },
         {
          "align": "left",
          "font": {
           "color": "#000000"
          },
          "showarrow": false,
          "text": "5",
          "x": -0.45,
          "xanchor": "left",
          "xref": "x",
          "y": 6,
          "yref": "y"
         },
         {
          "align": "left",
          "font": {
           "color": "#000000"
          },
          "showarrow": false,
          "text": "6679650861347621637",
          "x": 0.55,
          "xanchor": "left",
          "xref": "x",
          "y": 6,
          "yref": "y"
         },
         {
          "align": "left",
          "font": {
           "color": "#000000"
          },
          "showarrow": false,
          "text": "179",
          "x": 1.55,
          "xanchor": "left",
          "xref": "x",
          "y": 6,
          "yref": "y"
         },
         {
          "align": "left",
          "font": {
           "color": "#000000"
          },
          "showarrow": false,
          "text": "6",
          "x": -0.45,
          "xanchor": "left",
          "xref": "x",
          "y": 7,
          "yref": "y"
         },
         {
          "align": "left",
          "font": {
           "color": "#000000"
          },
          "showarrow": false,
          "text": "6733128484777921281",
          "x": 0.55,
          "xanchor": "left",
          "xref": "x",
          "y": 7,
          "yref": "y"
         },
         {
          "align": "left",
          "font": {
           "color": "#000000"
          },
          "showarrow": false,
          "text": "179",
          "x": 1.55,
          "xanchor": "left",
          "xref": "x",
          "y": 7,
          "yref": "y"
         },
         {
          "align": "left",
          "font": {
           "color": "#000000"
          },
          "showarrow": false,
          "text": "7",
          "x": -0.45,
          "xanchor": "left",
          "xref": "x",
          "y": 8,
          "yref": "y"
         },
         {
          "align": "left",
          "font": {
           "color": "#000000"
          },
          "showarrow": false,
          "text": "6728277894730090498",
          "x": 0.55,
          "xanchor": "left",
          "xref": "x",
          "y": 8,
          "yref": "y"
         },
         {
          "align": "left",
          "font": {
           "color": "#000000"
          },
          "showarrow": false,
          "text": "178",
          "x": 1.55,
          "xanchor": "left",
          "xref": "x",
          "y": 8,
          "yref": "y"
         },
         {
          "align": "left",
          "font": {
           "color": "#000000"
          },
          "showarrow": false,
          "text": "8",
          "x": -0.45,
          "xanchor": "left",
          "xref": "x",
          "y": 9,
          "yref": "y"
         },
         {
          "align": "left",
          "font": {
           "color": "#000000"
          },
          "showarrow": false,
          "text": "6704333887629232901",
          "x": 0.55,
          "xanchor": "left",
          "xref": "x",
          "y": 9,
          "yref": "y"
         },
         {
          "align": "left",
          "font": {
           "color": "#000000"
          },
          "showarrow": false,
          "text": "173",
          "x": 1.55,
          "xanchor": "left",
          "xref": "x",
          "y": 9,
          "yref": "y"
         },
         {
          "align": "left",
          "font": {
           "color": "#000000"
          },
          "showarrow": false,
          "text": "9",
          "x": -0.45,
          "xanchor": "left",
          "xref": "x",
          "y": 10,
          "yref": "y"
         },
         {
          "align": "left",
          "font": {
           "color": "#000000"
          },
          "showarrow": false,
          "text": "6757175376029435905",
          "x": 0.55,
          "xanchor": "left",
          "xref": "x",
          "y": 10,
          "yref": "y"
         },
         {
          "align": "left",
          "font": {
           "color": "#000000"
          },
          "showarrow": false,
          "text": "170",
          "x": 1.55,
          "xanchor": "left",
          "xref": "x",
          "y": 10,
          "yref": "y"
         }
        ],
        "height": 710,
        "margin": {
         "b": 0,
         "l": 50,
         "r": 0,
         "t": 75
        },
        "template": {
         "data": {
          "bar": [
           {
            "error_x": {
             "color": "#2a3f5f"
            },
            "error_y": {
             "color": "#2a3f5f"
            },
            "marker": {
             "line": {
              "color": "#E5ECF6",
              "width": 0.5
             }
            },
            "type": "bar"
           }
          ],
          "barpolar": [
           {
            "marker": {
             "line": {
              "color": "#E5ECF6",
              "width": 0.5
             }
            },
            "type": "barpolar"
           }
          ],
          "carpet": [
           {
            "aaxis": {
             "endlinecolor": "#2a3f5f",
             "gridcolor": "white",
             "linecolor": "white",
             "minorgridcolor": "white",
             "startlinecolor": "#2a3f5f"
            },
            "baxis": {
             "endlinecolor": "#2a3f5f",
             "gridcolor": "white",
             "linecolor": "white",
             "minorgridcolor": "white",
             "startlinecolor": "#2a3f5f"
            },
            "type": "carpet"
           }
          ],
          "choropleth": [
           {
            "colorbar": {
             "outlinewidth": 0,
             "ticks": ""
            },
            "type": "choropleth"
           }
          ],
          "contour": [
           {
            "colorbar": {
             "outlinewidth": 0,
             "ticks": ""
            },
            "colorscale": [
             [
              0,
              "#0d0887"
             ],
             [
              0.1111111111111111,
              "#46039f"
             ],
             [
              0.2222222222222222,
              "#7201a8"
             ],
             [
              0.3333333333333333,
              "#9c179e"
             ],
             [
              0.4444444444444444,
              "#bd3786"
             ],
             [
              0.5555555555555556,
              "#d8576b"
             ],
             [
              0.6666666666666666,
              "#ed7953"
             ],
             [
              0.7777777777777778,
              "#fb9f3a"
             ],
             [
              0.8888888888888888,
              "#fdca26"
             ],
             [
              1,
              "#f0f921"
             ]
            ],
            "type": "contour"
           }
          ],
          "contourcarpet": [
           {
            "colorbar": {
             "outlinewidth": 0,
             "ticks": ""
            },
            "type": "contourcarpet"
           }
          ],
          "heatmap": [
           {
            "colorbar": {
             "outlinewidth": 0,
             "ticks": ""
            },
            "colorscale": [
             [
              0,
              "#0d0887"
             ],
             [
              0.1111111111111111,
              "#46039f"
             ],
             [
              0.2222222222222222,
              "#7201a8"
             ],
             [
              0.3333333333333333,
              "#9c179e"
             ],
             [
              0.4444444444444444,
              "#bd3786"
             ],
             [
              0.5555555555555556,
              "#d8576b"
             ],
             [
              0.6666666666666666,
              "#ed7953"
             ],
             [
              0.7777777777777778,
              "#fb9f3a"
             ],
             [
              0.8888888888888888,
              "#fdca26"
             ],
             [
              1,
              "#f0f921"
             ]
            ],
            "type": "heatmap"
           }
          ],
          "heatmapgl": [
           {
            "colorbar": {
             "outlinewidth": 0,
             "ticks": ""
            },
            "colorscale": [
             [
              0,
              "#0d0887"
             ],
             [
              0.1111111111111111,
              "#46039f"
             ],
             [
              0.2222222222222222,
              "#7201a8"
             ],
             [
              0.3333333333333333,
              "#9c179e"
             ],
             [
              0.4444444444444444,
              "#bd3786"
             ],
             [
              0.5555555555555556,
              "#d8576b"
             ],
             [
              0.6666666666666666,
              "#ed7953"
             ],
             [
              0.7777777777777778,
              "#fb9f3a"
             ],
             [
              0.8888888888888888,
              "#fdca26"
             ],
             [
              1,
              "#f0f921"
             ]
            ],
            "type": "heatmapgl"
           }
          ],
          "histogram": [
           {
            "marker": {
             "colorbar": {
              "outlinewidth": 0,
              "ticks": ""
             }
            },
            "type": "histogram"
           }
          ],
          "histogram2d": [
           {
            "colorbar": {
             "outlinewidth": 0,
             "ticks": ""
            },
            "colorscale": [
             [
              0,
              "#0d0887"
             ],
             [
              0.1111111111111111,
              "#46039f"
             ],
             [
              0.2222222222222222,
              "#7201a8"
             ],
             [
              0.3333333333333333,
              "#9c179e"
             ],
             [
              0.4444444444444444,
              "#bd3786"
             ],
             [
              0.5555555555555556,
              "#d8576b"
             ],
             [
              0.6666666666666666,
              "#ed7953"
             ],
             [
              0.7777777777777778,
              "#fb9f3a"
             ],
             [
              0.8888888888888888,
              "#fdca26"
             ],
             [
              1,
              "#f0f921"
             ]
            ],
            "type": "histogram2d"
           }
          ],
          "histogram2dcontour": [
           {
            "colorbar": {
             "outlinewidth": 0,
             "ticks": ""
            },
            "colorscale": [
             [
              0,
              "#0d0887"
             ],
             [
              0.1111111111111111,
              "#46039f"
             ],
             [
              0.2222222222222222,
              "#7201a8"
             ],
             [
              0.3333333333333333,
              "#9c179e"
             ],
             [
              0.4444444444444444,
              "#bd3786"
             ],
             [
              0.5555555555555556,
              "#d8576b"
             ],
             [
              0.6666666666666666,
              "#ed7953"
             ],
             [
              0.7777777777777778,
              "#fb9f3a"
             ],
             [
              0.8888888888888888,
              "#fdca26"
             ],
             [
              1,
              "#f0f921"
             ]
            ],
            "type": "histogram2dcontour"
           }
          ],
          "mesh3d": [
           {
            "colorbar": {
             "outlinewidth": 0,
             "ticks": ""
            },
            "type": "mesh3d"
           }
          ],
          "parcoords": [
           {
            "line": {
             "colorbar": {
              "outlinewidth": 0,
              "ticks": ""
             }
            },
            "type": "parcoords"
           }
          ],
          "scatter": [
           {
            "marker": {
             "colorbar": {
              "outlinewidth": 0,
              "ticks": ""
             }
            },
            "type": "scatter"
           }
          ],
          "scatter3d": [
           {
            "line": {
             "colorbar": {
              "outlinewidth": 0,
              "ticks": ""
             }
            },
            "marker": {
             "colorbar": {
              "outlinewidth": 0,
              "ticks": ""
             }
            },
            "type": "scatter3d"
           }
          ],
          "scattercarpet": [
           {
            "marker": {
             "colorbar": {
              "outlinewidth": 0,
              "ticks": ""
             }
            },
            "type": "scattercarpet"
           }
          ],
          "scattergeo": [
           {
            "marker": {
             "colorbar": {
              "outlinewidth": 0,
              "ticks": ""
             }
            },
            "type": "scattergeo"
           }
          ],
          "scattergl": [
           {
            "marker": {
             "colorbar": {
              "outlinewidth": 0,
              "ticks": ""
             }
            },
            "type": "scattergl"
           }
          ],
          "scattermapbox": [
           {
            "marker": {
             "colorbar": {
              "outlinewidth": 0,
              "ticks": ""
             }
            },
            "type": "scattermapbox"
           }
          ],
          "scatterpolar": [
           {
            "marker": {
             "colorbar": {
              "outlinewidth": 0,
              "ticks": ""
             }
            },
            "type": "scatterpolar"
           }
          ],
          "scatterpolargl": [
           {
            "marker": {
             "colorbar": {
              "outlinewidth": 0,
              "ticks": ""
             }
            },
            "type": "scatterpolargl"
           }
          ],
          "scatterternary": [
           {
            "marker": {
             "colorbar": {
              "outlinewidth": 0,
              "ticks": ""
             }
            },
            "type": "scatterternary"
           }
          ],
          "surface": [
           {
            "colorbar": {
             "outlinewidth": 0,
             "ticks": ""
            },
            "colorscale": [
             [
              0,
              "#0d0887"
             ],
             [
              0.1111111111111111,
              "#46039f"
             ],
             [
              0.2222222222222222,
              "#7201a8"
             ],
             [
              0.3333333333333333,
              "#9c179e"
             ],
             [
              0.4444444444444444,
              "#bd3786"
             ],
             [
              0.5555555555555556,
              "#d8576b"
             ],
             [
              0.6666666666666666,
              "#ed7953"
             ],
             [
              0.7777777777777778,
              "#fb9f3a"
             ],
             [
              0.8888888888888888,
              "#fdca26"
             ],
             [
              1,
              "#f0f921"
             ]
            ],
            "type": "surface"
           }
          ],
          "table": [
           {
            "cells": {
             "fill": {
              "color": "#EBF0F8"
             },
             "line": {
              "color": "white"
             }
            },
            "header": {
             "fill": {
              "color": "#C8D4E3"
             },
             "line": {
              "color": "white"
             }
            },
            "type": "table"
           }
          ]
         },
         "layout": {
          "annotationdefaults": {
           "arrowcolor": "#2a3f5f",
           "arrowhead": 0,
           "arrowwidth": 1
          },
          "colorscale": {
           "diverging": [
            [
             0,
             "#8e0152"
            ],
            [
             0.1,
             "#c51b7d"
            ],
            [
             0.2,
             "#de77ae"
            ],
            [
             0.3,
             "#f1b6da"
            ],
            [
             0.4,
             "#fde0ef"
            ],
            [
             0.5,
             "#f7f7f7"
            ],
            [
             0.6,
             "#e6f5d0"
            ],
            [
             0.7,
             "#b8e186"
            ],
            [
             0.8,
             "#7fbc41"
            ],
            [
             0.9,
             "#4d9221"
            ],
            [
             1,
             "#276419"
            ]
           ],
           "sequential": [
            [
             0,
             "#0d0887"
            ],
            [
             0.1111111111111111,
             "#46039f"
            ],
            [
             0.2222222222222222,
             "#7201a8"
            ],
            [
             0.3333333333333333,
             "#9c179e"
            ],
            [
             0.4444444444444444,
             "#bd3786"
            ],
            [
             0.5555555555555556,
             "#d8576b"
            ],
            [
             0.6666666666666666,
             "#ed7953"
            ],
            [
             0.7777777777777778,
             "#fb9f3a"
            ],
            [
             0.8888888888888888,
             "#fdca26"
            ],
            [
             1,
             "#f0f921"
            ]
           ],
           "sequentialminus": [
            [
             0,
             "#0d0887"
            ],
            [
             0.1111111111111111,
             "#46039f"
            ],
            [
             0.2222222222222222,
             "#7201a8"
            ],
            [
             0.3333333333333333,
             "#9c179e"
            ],
            [
             0.4444444444444444,
             "#bd3786"
            ],
            [
             0.5555555555555556,
             "#d8576b"
            ],
            [
             0.6666666666666666,
             "#ed7953"
            ],
            [
             0.7777777777777778,
             "#fb9f3a"
            ],
            [
             0.8888888888888888,
             "#fdca26"
            ],
            [
             1,
             "#f0f921"
            ]
           ]
          },
          "colorway": [
           "#636efa",
           "#EF553B",
           "#00cc96",
           "#ab63fa",
           "#FFA15A",
           "#19d3f3",
           "#FF6692",
           "#B6E880",
           "#FF97FF",
           "#FECB52"
          ],
          "font": {
           "color": "#2a3f5f"
          },
          "geo": {
           "bgcolor": "white",
           "lakecolor": "white",
           "landcolor": "#E5ECF6",
           "showlakes": true,
           "showland": true,
           "subunitcolor": "white"
          },
          "hoverlabel": {
           "align": "left"
          },
          "hovermode": "closest",
          "mapbox": {
           "style": "light"
          },
          "paper_bgcolor": "white",
          "plot_bgcolor": "#E5ECF6",
          "polar": {
           "angularaxis": {
            "gridcolor": "white",
            "linecolor": "white",
            "ticks": ""
           },
           "bgcolor": "#E5ECF6",
           "radialaxis": {
            "gridcolor": "white",
            "linecolor": "white",
            "ticks": ""
           }
          },
          "scene": {
           "xaxis": {
            "backgroundcolor": "#E5ECF6",
            "gridcolor": "white",
            "gridwidth": 2,
            "linecolor": "white",
            "showbackground": true,
            "ticks": "",
            "zerolinecolor": "white"
           },
           "yaxis": {
            "backgroundcolor": "#E5ECF6",
            "gridcolor": "white",
            "gridwidth": 2,
            "linecolor": "white",
            "showbackground": true,
            "ticks": "",
            "zerolinecolor": "white"
           },
           "zaxis": {
            "backgroundcolor": "#E5ECF6",
            "gridcolor": "white",
            "gridwidth": 2,
            "linecolor": "white",
            "showbackground": true,
            "ticks": "",
            "zerolinecolor": "white"
           }
          },
          "shapedefaults": {
           "line": {
            "color": "#2a3f5f"
           }
          },
          "ternary": {
           "aaxis": {
            "gridcolor": "white",
            "linecolor": "white",
            "ticks": ""
           },
           "baxis": {
            "gridcolor": "white",
            "linecolor": "white",
            "ticks": ""
           },
           "bgcolor": "#E5ECF6",
           "caxis": {
            "gridcolor": "white",
            "linecolor": "white",
            "ticks": ""
           }
          },
          "title": {
           "x": 0.05
          },
          "xaxis": {
           "automargin": true,
           "gridcolor": "white",
           "linecolor": "white",
           "ticks": "",
           "zerolinecolor": "white",
           "zerolinewidth": 2
          },
          "yaxis": {
           "automargin": true,
           "gridcolor": "white",
           "linecolor": "white",
           "ticks": "",
           "zerolinecolor": "white",
           "zerolinewidth": 2
          }
         }
        },
        "title": {
         "text": "Trending Music on TikTok"
        },
        "xaxis": {
         "domain": [
          0,
          0.5
         ],
         "dtick": 1,
         "gridwidth": 2,
         "showticklabels": false,
         "tick0": -0.5,
         "ticks": "",
         "zeroline": false
        },
        "xaxis2": {
         "domain": [
          0.6,
          1
         ],
         "title": {
          "text": "index"
         }
        },
        "yaxis": {
         "autorange": "reversed",
         "dtick": 1,
         "gridwidth": 2,
         "showticklabels": false,
         "tick0": 0.5,
         "ticks": "",
         "zeroline": false
        },
        "yaxis2": {
         "anchor": "x2",
         "title": {
          "text": "Count"
         }
        }
       }
      },
      "text/html": [
       "<div>\n",
       "        \n",
       "        \n",
       "            <div id=\"990f74b6-1fbe-46c6-a318-7cabbb3f0d8c\" class=\"plotly-graph-div\" style=\"height:710px; width:100%;\"></div>\n",
       "            <script type=\"text/javascript\">\n",
       "                require([\"plotly\"], function(Plotly) {\n",
       "                    window.PLOTLYENV=window.PLOTLYENV || {};\n",
       "                    \n",
       "                if (document.getElementById(\"990f74b6-1fbe-46c6-a318-7cabbb3f0d8c\")) {\n",
       "                    Plotly.newPlot(\n",
       "                        '990f74b6-1fbe-46c6-a318-7cabbb3f0d8c',\n",
       "                        [{\"colorscale\": [[0, \"#00083e\"], [0.5, \"#ededee\"], [1, \"#ffffff\"]], \"hoverinfo\": \"none\", \"opacity\": 0.75, \"showscale\": false, \"type\": \"heatmap\", \"z\": [[0, 0, 0], [0.5, 0.5, 0.5], [1, 1, 1], [0.5, 0.5, 0.5], [1, 1, 1], [0.5, 0.5, 0.5], [1, 1, 1], [0.5, 0.5, 0.5], [1, 1, 1], [0.5, 0.5, 0.5], [1, 1, 1]]}, {\"marker\": {\"color\": \"#0099ff\"}, \"name\": \"Count\", \"type\": \"bar\", \"x\": [0, 1, 2, 3, 4, 5, 6, 7, 8, 9], \"xaxis\": \"x2\", \"y\": [247, 227, 216, 200, 181, 179, 179, 178, 173, 170], \"yaxis\": \"y2\"}],\n",
       "                        {\"annotations\": [{\"align\": \"left\", \"font\": {\"color\": \"#ffffff\"}, \"showarrow\": false, \"text\": \"<b>Index</b>\", \"x\": -0.45, \"xanchor\": \"left\", \"xref\": \"x\", \"y\": 0, \"yref\": \"y\"}, {\"align\": \"left\", \"font\": {\"color\": \"#ffffff\"}, \"showarrow\": false, \"text\": \"<b>Music Id</b>\", \"x\": 0.55, \"xanchor\": \"left\", \"xref\": \"x\", \"y\": 0, \"yref\": \"y\"}, {\"align\": \"left\", \"font\": {\"color\": \"#ffffff\"}, \"showarrow\": false, \"text\": \"<b>Count</b>\", \"x\": 1.55, \"xanchor\": \"left\", \"xref\": \"x\", \"y\": 0, \"yref\": \"y\"}, {\"align\": \"left\", \"font\": {\"color\": \"#000000\"}, \"showarrow\": false, \"text\": \"0\", \"x\": -0.45, \"xanchor\": \"left\", \"xref\": \"x\", \"y\": 1, \"yref\": \"y\"}, {\"align\": \"left\", \"font\": {\"color\": \"#000000\"}, \"showarrow\": false, \"text\": \"6758960939380394758\", \"x\": 0.55, \"xanchor\": \"left\", \"xref\": \"x\", \"y\": 1, \"yref\": \"y\"}, {\"align\": \"left\", \"font\": {\"color\": \"#000000\"}, \"showarrow\": false, \"text\": \"247\", \"x\": 1.55, \"xanchor\": \"left\", \"xref\": \"x\", \"y\": 1, \"yref\": \"y\"}, {\"align\": \"left\", \"font\": {\"color\": \"#000000\"}, \"showarrow\": false, \"text\": \"1\", \"x\": -0.45, \"xanchor\": \"left\", \"xref\": \"x\", \"y\": 2, \"yref\": \"y\"}, {\"align\": \"left\", \"font\": {\"color\": \"#000000\"}, \"showarrow\": false, \"text\": \"6691366574592396038\", \"x\": 0.55, \"xanchor\": \"left\", \"xref\": \"x\", \"y\": 2, \"yref\": \"y\"}, {\"align\": \"left\", \"font\": {\"color\": \"#000000\"}, \"showarrow\": false, \"text\": \"227\", \"x\": 1.55, \"xanchor\": \"left\", \"xref\": \"x\", \"y\": 2, \"yref\": \"y\"}, {\"align\": \"left\", \"font\": {\"color\": \"#000000\"}, \"showarrow\": false, \"text\": \"2\", \"x\": -0.45, \"xanchor\": \"left\", \"xref\": \"x\", \"y\": 3, \"yref\": \"y\"}, {\"align\": \"left\", \"font\": {\"color\": \"#000000\"}, \"showarrow\": false, \"text\": \"6744446812653947654\", \"x\": 0.55, \"xanchor\": \"left\", \"xref\": \"x\", \"y\": 3, \"yref\": \"y\"}, {\"align\": \"left\", \"font\": {\"color\": \"#000000\"}, \"showarrow\": false, \"text\": \"216\", \"x\": 1.55, \"xanchor\": \"left\", \"xref\": \"x\", \"y\": 3, \"yref\": \"y\"}, {\"align\": \"left\", \"font\": {\"color\": \"#000000\"}, \"showarrow\": false, \"text\": \"3\", \"x\": -0.45, \"xanchor\": \"left\", \"xref\": \"x\", \"y\": 4, \"yref\": \"y\"}, {\"align\": \"left\", \"font\": {\"color\": \"#000000\"}, \"showarrow\": false, \"text\": \"6768646921029470981\", \"x\": 0.55, \"xanchor\": \"left\", \"xref\": \"x\", \"y\": 4, \"yref\": \"y\"}, {\"align\": \"left\", \"font\": {\"color\": \"#000000\"}, \"showarrow\": false, \"text\": \"200\", \"x\": 1.55, \"xanchor\": \"left\", \"xref\": \"x\", \"y\": 4, \"yref\": \"y\"}, {\"align\": \"left\", \"font\": {\"color\": \"#000000\"}, \"showarrow\": false, \"text\": \"4\", \"x\": -0.45, \"xanchor\": \"left\", \"xref\": \"x\", \"y\": 5, \"yref\": \"y\"}, {\"align\": \"left\", \"font\": {\"color\": \"#000000\"}, \"showarrow\": false, \"text\": \"6777509948566800385\", \"x\": 0.55, \"xanchor\": \"left\", \"xref\": \"x\", \"y\": 5, \"yref\": \"y\"}, {\"align\": \"left\", \"font\": {\"color\": \"#000000\"}, \"showarrow\": false, \"text\": \"181\", \"x\": 1.55, \"xanchor\": \"left\", \"xref\": \"x\", \"y\": 5, \"yref\": \"y\"}, {\"align\": \"left\", \"font\": {\"color\": \"#000000\"}, \"showarrow\": false, \"text\": \"5\", \"x\": -0.45, \"xanchor\": \"left\", \"xref\": \"x\", \"y\": 6, \"yref\": \"y\"}, {\"align\": \"left\", \"font\": {\"color\": \"#000000\"}, \"showarrow\": false, \"text\": \"6679650861347621637\", \"x\": 0.55, \"xanchor\": \"left\", \"xref\": \"x\", \"y\": 6, \"yref\": \"y\"}, {\"align\": \"left\", \"font\": {\"color\": \"#000000\"}, \"showarrow\": false, \"text\": \"179\", \"x\": 1.55, \"xanchor\": \"left\", \"xref\": \"x\", \"y\": 6, \"yref\": \"y\"}, {\"align\": \"left\", \"font\": {\"color\": \"#000000\"}, \"showarrow\": false, \"text\": \"6\", \"x\": -0.45, \"xanchor\": \"left\", \"xref\": \"x\", \"y\": 7, \"yref\": \"y\"}, {\"align\": \"left\", \"font\": {\"color\": \"#000000\"}, \"showarrow\": false, \"text\": \"6733128484777921281\", \"x\": 0.55, \"xanchor\": \"left\", \"xref\": \"x\", \"y\": 7, \"yref\": \"y\"}, {\"align\": \"left\", \"font\": {\"color\": \"#000000\"}, \"showarrow\": false, \"text\": \"179\", \"x\": 1.55, \"xanchor\": \"left\", \"xref\": \"x\", \"y\": 7, \"yref\": \"y\"}, {\"align\": \"left\", \"font\": {\"color\": \"#000000\"}, \"showarrow\": false, \"text\": \"7\", \"x\": -0.45, \"xanchor\": \"left\", \"xref\": \"x\", \"y\": 8, \"yref\": \"y\"}, {\"align\": \"left\", \"font\": {\"color\": \"#000000\"}, \"showarrow\": false, \"text\": \"6728277894730090498\", \"x\": 0.55, \"xanchor\": \"left\", \"xref\": \"x\", \"y\": 8, \"yref\": \"y\"}, {\"align\": \"left\", \"font\": {\"color\": \"#000000\"}, \"showarrow\": false, \"text\": \"178\", \"x\": 1.55, \"xanchor\": \"left\", \"xref\": \"x\", \"y\": 8, \"yref\": \"y\"}, {\"align\": \"left\", \"font\": {\"color\": \"#000000\"}, \"showarrow\": false, \"text\": \"8\", \"x\": -0.45, \"xanchor\": \"left\", \"xref\": \"x\", \"y\": 9, \"yref\": \"y\"}, {\"align\": \"left\", \"font\": {\"color\": \"#000000\"}, \"showarrow\": false, \"text\": \"6704333887629232901\", \"x\": 0.55, \"xanchor\": \"left\", \"xref\": \"x\", \"y\": 9, \"yref\": \"y\"}, {\"align\": \"left\", \"font\": {\"color\": \"#000000\"}, \"showarrow\": false, \"text\": \"173\", \"x\": 1.55, \"xanchor\": \"left\", \"xref\": \"x\", \"y\": 9, \"yref\": \"y\"}, {\"align\": \"left\", \"font\": {\"color\": \"#000000\"}, \"showarrow\": false, \"text\": \"9\", \"x\": -0.45, \"xanchor\": \"left\", \"xref\": \"x\", \"y\": 10, \"yref\": \"y\"}, {\"align\": \"left\", \"font\": {\"color\": \"#000000\"}, \"showarrow\": false, \"text\": \"6757175376029435905\", \"x\": 0.55, \"xanchor\": \"left\", \"xref\": \"x\", \"y\": 10, \"yref\": \"y\"}, {\"align\": \"left\", \"font\": {\"color\": \"#000000\"}, \"showarrow\": false, \"text\": \"170\", \"x\": 1.55, \"xanchor\": \"left\", \"xref\": \"x\", \"y\": 10, \"yref\": \"y\"}], \"height\": 710, \"margin\": {\"b\": 0, \"l\": 50, \"r\": 0, \"t\": 75}, \"template\": {\"data\": {\"bar\": [{\"error_x\": {\"color\": \"#2a3f5f\"}, \"error_y\": {\"color\": \"#2a3f5f\"}, \"marker\": {\"line\": {\"color\": \"#E5ECF6\", \"width\": 0.5}}, \"type\": \"bar\"}], \"barpolar\": [{\"marker\": {\"line\": {\"color\": \"#E5ECF6\", \"width\": 0.5}}, \"type\": \"barpolar\"}], \"carpet\": [{\"aaxis\": {\"endlinecolor\": \"#2a3f5f\", \"gridcolor\": \"white\", \"linecolor\": \"white\", \"minorgridcolor\": \"white\", \"startlinecolor\": \"#2a3f5f\"}, \"baxis\": {\"endlinecolor\": \"#2a3f5f\", \"gridcolor\": \"white\", \"linecolor\": \"white\", \"minorgridcolor\": \"white\", \"startlinecolor\": \"#2a3f5f\"}, \"type\": \"carpet\"}], \"choropleth\": [{\"colorbar\": {\"outlinewidth\": 0, \"ticks\": \"\"}, \"type\": \"choropleth\"}], \"contour\": [{\"colorbar\": {\"outlinewidth\": 0, \"ticks\": \"\"}, \"colorscale\": [[0.0, \"#0d0887\"], [0.1111111111111111, \"#46039f\"], [0.2222222222222222, \"#7201a8\"], [0.3333333333333333, \"#9c179e\"], [0.4444444444444444, \"#bd3786\"], [0.5555555555555556, \"#d8576b\"], [0.6666666666666666, \"#ed7953\"], [0.7777777777777778, \"#fb9f3a\"], [0.8888888888888888, \"#fdca26\"], [1.0, \"#f0f921\"]], \"type\": \"contour\"}], \"contourcarpet\": [{\"colorbar\": {\"outlinewidth\": 0, \"ticks\": \"\"}, \"type\": \"contourcarpet\"}], \"heatmap\": [{\"colorbar\": {\"outlinewidth\": 0, \"ticks\": \"\"}, \"colorscale\": [[0.0, \"#0d0887\"], [0.1111111111111111, \"#46039f\"], [0.2222222222222222, \"#7201a8\"], [0.3333333333333333, \"#9c179e\"], [0.4444444444444444, \"#bd3786\"], [0.5555555555555556, \"#d8576b\"], [0.6666666666666666, \"#ed7953\"], [0.7777777777777778, \"#fb9f3a\"], [0.8888888888888888, \"#fdca26\"], [1.0, \"#f0f921\"]], \"type\": \"heatmap\"}], \"heatmapgl\": [{\"colorbar\": {\"outlinewidth\": 0, \"ticks\": \"\"}, \"colorscale\": [[0.0, \"#0d0887\"], [0.1111111111111111, \"#46039f\"], [0.2222222222222222, \"#7201a8\"], [0.3333333333333333, \"#9c179e\"], [0.4444444444444444, \"#bd3786\"], [0.5555555555555556, \"#d8576b\"], [0.6666666666666666, \"#ed7953\"], [0.7777777777777778, \"#fb9f3a\"], [0.8888888888888888, \"#fdca26\"], [1.0, \"#f0f921\"]], \"type\": \"heatmapgl\"}], \"histogram\": [{\"marker\": {\"colorbar\": {\"outlinewidth\": 0, \"ticks\": \"\"}}, \"type\": \"histogram\"}], \"histogram2d\": [{\"colorbar\": {\"outlinewidth\": 0, \"ticks\": \"\"}, \"colorscale\": [[0.0, \"#0d0887\"], [0.1111111111111111, \"#46039f\"], [0.2222222222222222, \"#7201a8\"], [0.3333333333333333, \"#9c179e\"], [0.4444444444444444, \"#bd3786\"], [0.5555555555555556, \"#d8576b\"], [0.6666666666666666, \"#ed7953\"], [0.7777777777777778, \"#fb9f3a\"], [0.8888888888888888, \"#fdca26\"], [1.0, \"#f0f921\"]], \"type\": \"histogram2d\"}], \"histogram2dcontour\": [{\"colorbar\": {\"outlinewidth\": 0, \"ticks\": \"\"}, \"colorscale\": [[0.0, \"#0d0887\"], [0.1111111111111111, \"#46039f\"], [0.2222222222222222, \"#7201a8\"], [0.3333333333333333, \"#9c179e\"], [0.4444444444444444, \"#bd3786\"], [0.5555555555555556, \"#d8576b\"], [0.6666666666666666, \"#ed7953\"], [0.7777777777777778, \"#fb9f3a\"], [0.8888888888888888, \"#fdca26\"], [1.0, \"#f0f921\"]], \"type\": \"histogram2dcontour\"}], \"mesh3d\": [{\"colorbar\": {\"outlinewidth\": 0, \"ticks\": \"\"}, \"type\": \"mesh3d\"}], \"parcoords\": [{\"line\": {\"colorbar\": {\"outlinewidth\": 0, \"ticks\": \"\"}}, \"type\": \"parcoords\"}], \"scatter\": [{\"marker\": {\"colorbar\": {\"outlinewidth\": 0, \"ticks\": \"\"}}, \"type\": \"scatter\"}], \"scatter3d\": [{\"line\": {\"colorbar\": {\"outlinewidth\": 0, \"ticks\": \"\"}}, \"marker\": {\"colorbar\": {\"outlinewidth\": 0, \"ticks\": \"\"}}, \"type\": \"scatter3d\"}], \"scattercarpet\": [{\"marker\": {\"colorbar\": {\"outlinewidth\": 0, \"ticks\": \"\"}}, \"type\": \"scattercarpet\"}], \"scattergeo\": [{\"marker\": {\"colorbar\": {\"outlinewidth\": 0, \"ticks\": \"\"}}, \"type\": \"scattergeo\"}], \"scattergl\": [{\"marker\": {\"colorbar\": {\"outlinewidth\": 0, \"ticks\": \"\"}}, \"type\": \"scattergl\"}], \"scattermapbox\": [{\"marker\": {\"colorbar\": {\"outlinewidth\": 0, \"ticks\": \"\"}}, \"type\": \"scattermapbox\"}], \"scatterpolar\": [{\"marker\": {\"colorbar\": {\"outlinewidth\": 0, \"ticks\": \"\"}}, \"type\": \"scatterpolar\"}], \"scatterpolargl\": [{\"marker\": {\"colorbar\": {\"outlinewidth\": 0, \"ticks\": \"\"}}, \"type\": \"scatterpolargl\"}], \"scatterternary\": [{\"marker\": {\"colorbar\": {\"outlinewidth\": 0, \"ticks\": \"\"}}, \"type\": \"scatterternary\"}], \"surface\": [{\"colorbar\": {\"outlinewidth\": 0, \"ticks\": \"\"}, \"colorscale\": [[0.0, \"#0d0887\"], [0.1111111111111111, \"#46039f\"], [0.2222222222222222, \"#7201a8\"], [0.3333333333333333, \"#9c179e\"], [0.4444444444444444, \"#bd3786\"], [0.5555555555555556, \"#d8576b\"], [0.6666666666666666, \"#ed7953\"], [0.7777777777777778, \"#fb9f3a\"], [0.8888888888888888, \"#fdca26\"], [1.0, \"#f0f921\"]], \"type\": \"surface\"}], \"table\": [{\"cells\": {\"fill\": {\"color\": \"#EBF0F8\"}, \"line\": {\"color\": \"white\"}}, \"header\": {\"fill\": {\"color\": \"#C8D4E3\"}, \"line\": {\"color\": \"white\"}}, \"type\": \"table\"}]}, \"layout\": {\"annotationdefaults\": {\"arrowcolor\": \"#2a3f5f\", \"arrowhead\": 0, \"arrowwidth\": 1}, \"colorscale\": {\"diverging\": [[0, \"#8e0152\"], [0.1, \"#c51b7d\"], [0.2, \"#de77ae\"], [0.3, \"#f1b6da\"], [0.4, \"#fde0ef\"], [0.5, \"#f7f7f7\"], [0.6, \"#e6f5d0\"], [0.7, \"#b8e186\"], [0.8, \"#7fbc41\"], [0.9, \"#4d9221\"], [1, \"#276419\"]], \"sequential\": [[0.0, \"#0d0887\"], [0.1111111111111111, \"#46039f\"], [0.2222222222222222, \"#7201a8\"], [0.3333333333333333, \"#9c179e\"], [0.4444444444444444, \"#bd3786\"], [0.5555555555555556, \"#d8576b\"], [0.6666666666666666, \"#ed7953\"], [0.7777777777777778, \"#fb9f3a\"], [0.8888888888888888, \"#fdca26\"], [1.0, \"#f0f921\"]], \"sequentialminus\": [[0.0, \"#0d0887\"], [0.1111111111111111, \"#46039f\"], [0.2222222222222222, \"#7201a8\"], [0.3333333333333333, \"#9c179e\"], [0.4444444444444444, \"#bd3786\"], [0.5555555555555556, \"#d8576b\"], [0.6666666666666666, \"#ed7953\"], [0.7777777777777778, \"#fb9f3a\"], [0.8888888888888888, \"#fdca26\"], [1.0, \"#f0f921\"]]}, \"colorway\": [\"#636efa\", \"#EF553B\", \"#00cc96\", \"#ab63fa\", \"#FFA15A\", \"#19d3f3\", \"#FF6692\", \"#B6E880\", \"#FF97FF\", \"#FECB52\"], \"font\": {\"color\": \"#2a3f5f\"}, \"geo\": {\"bgcolor\": \"white\", \"lakecolor\": \"white\", \"landcolor\": \"#E5ECF6\", \"showlakes\": true, \"showland\": true, \"subunitcolor\": \"white\"}, \"hoverlabel\": {\"align\": \"left\"}, \"hovermode\": \"closest\", \"mapbox\": {\"style\": \"light\"}, \"paper_bgcolor\": \"white\", \"plot_bgcolor\": \"#E5ECF6\", \"polar\": {\"angularaxis\": {\"gridcolor\": \"white\", \"linecolor\": \"white\", \"ticks\": \"\"}, \"bgcolor\": \"#E5ECF6\", \"radialaxis\": {\"gridcolor\": \"white\", \"linecolor\": \"white\", \"ticks\": \"\"}}, \"scene\": {\"xaxis\": {\"backgroundcolor\": \"#E5ECF6\", \"gridcolor\": \"white\", \"gridwidth\": 2, \"linecolor\": \"white\", \"showbackground\": true, \"ticks\": \"\", \"zerolinecolor\": \"white\"}, \"yaxis\": {\"backgroundcolor\": \"#E5ECF6\", \"gridcolor\": \"white\", \"gridwidth\": 2, \"linecolor\": \"white\", \"showbackground\": true, \"ticks\": \"\", \"zerolinecolor\": \"white\"}, \"zaxis\": {\"backgroundcolor\": \"#E5ECF6\", \"gridcolor\": \"white\", \"gridwidth\": 2, \"linecolor\": \"white\", \"showbackground\": true, \"ticks\": \"\", \"zerolinecolor\": \"white\"}}, \"shapedefaults\": {\"line\": {\"color\": \"#2a3f5f\"}}, \"ternary\": {\"aaxis\": {\"gridcolor\": \"white\", \"linecolor\": \"white\", \"ticks\": \"\"}, \"baxis\": {\"gridcolor\": \"white\", \"linecolor\": \"white\", \"ticks\": \"\"}, \"bgcolor\": \"#E5ECF6\", \"caxis\": {\"gridcolor\": \"white\", \"linecolor\": \"white\", \"ticks\": \"\"}}, \"title\": {\"x\": 0.05}, \"xaxis\": {\"automargin\": true, \"gridcolor\": \"white\", \"linecolor\": \"white\", \"ticks\": \"\", \"zerolinecolor\": \"white\", \"zerolinewidth\": 2}, \"yaxis\": {\"automargin\": true, \"gridcolor\": \"white\", \"linecolor\": \"white\", \"ticks\": \"\", \"zerolinecolor\": \"white\", \"zerolinewidth\": 2}}}, \"title\": {\"text\": \"Trending Music on TikTok\"}, \"xaxis\": {\"domain\": [0, 0.5], \"dtick\": 1, \"gridwidth\": 2, \"showticklabels\": false, \"tick0\": -0.5, \"ticks\": \"\", \"zeroline\": false}, \"xaxis2\": {\"domain\": [0.6, 1.0], \"title\": {\"text\": \"index\"}}, \"yaxis\": {\"autorange\": \"reversed\", \"dtick\": 1, \"gridwidth\": 2, \"showticklabels\": false, \"tick0\": 0.5, \"ticks\": \"\", \"zeroline\": false}, \"yaxis2\": {\"anchor\": \"x2\", \"title\": {\"text\": \"Count\"}}},\n",
       "                        {\"responsive\": true}\n",
       "                    ).then(function(){\n",
       "                            \n",
       "var gd = document.getElementById('990f74b6-1fbe-46c6-a318-7cabbb3f0d8c');\n",
       "var x = new MutationObserver(function (mutations, observer) {{\n",
       "        var display = window.getComputedStyle(gd).display;\n",
       "        if (!display || display === 'none') {{\n",
       "            console.log([gd, 'removed!']);\n",
       "            Plotly.purge(gd);\n",
       "            observer.disconnect();\n",
       "        }}\n",
       "}});\n",
       "\n",
       "// Listen for the removal of the full notebook cells\n",
       "var notebookContainer = gd.closest('#notebook-container');\n",
       "if (notebookContainer) {{\n",
       "    x.observe(notebookContainer, {childList: true});\n",
       "}}\n",
       "\n",
       "// Listen for the clearing of the current output cell\n",
       "var outputEl = gd.closest('.output');\n",
       "if (outputEl) {{\n",
       "    x.observe(outputEl, {childList: true});\n",
       "}}\n",
       "\n",
       "                        })\n",
       "                };\n",
       "                });\n",
       "            </script>\n",
       "        </div>"
      ]
     },
     "metadata": {},
     "output_type": "display_data"
    }
   ],
   "source": [
    "#Bar graph for top trensding music id using plotly\n",
    "\n",
    "import plotly.graph_objects as go\n",
    "import plotly.figure_factory as ff\n",
    "def visualize_top20_MusicID(df_final):\n",
    "    # #Unique values for Music Ids\n",
    "    df_bar_music_id=unique_values(df_final,'Music Id')\n",
    "    index=list(range(10))\n",
    "    music_id = list(df_bar_music_id['unique_values'][0:10])\n",
    "    counts = list(df_bar_music_id['counts'][0:10])\n",
    "    Table=[]\n",
    "    Table.append(['Index','Music Id','Count'])\n",
    "    for  i in range(0,len(music_id)):\n",
    "        Table.append([i,music_id[i],counts[i]])\n",
    "\n",
    "    fig = ff.create_table(Table, height_constant=60)\n",
    "\n",
    "    Music_Bar = go.Bar(x=index, y=counts, xaxis='x2', yaxis='y2',\n",
    "                    marker=dict(color='#0099ff'),\n",
    "                    name='Count')\n",
    "\n",
    "    fig.add_traces(Music_Bar)\n",
    "\n",
    "    # initialize xaxis2 and yaxis2\n",
    "    fig['layout']['xaxis2'] = {}\n",
    "    fig['layout']['yaxis2'] = {}\n",
    "\n",
    "    # Edit layout for subplots\n",
    "    fig.layout.xaxis.update({'domain': [0, .5]})\n",
    "    fig.layout.xaxis2.update({'domain': [0.6, 1.]})\n",
    "\n",
    "    # The graph's yaxis MUST BE anchored to the graph's xaxis\n",
    "    fig.layout.yaxis2.update({'anchor': 'x2'})\n",
    "    fig.layout.yaxis2.update({'title': 'Count'})\n",
    "    fig.layout.xaxis2.update({'title': 'index'})\n",
    "\n",
    "    fig.layout.margin.update({'t':75, 'l':50})\n",
    "    fig.layout.update({'title': 'Trending Music on TikTok'})\n",
    "    return fig\n",
    "\n",
    "fig=visualize_top20_MusicID(df_final)\n",
    "fig.show()"
   ]
  },
  {
   "cell_type": "code",
   "execution_count": 20,
   "metadata": {},
   "outputs": [
    {
     "data": {
      "application/vnd.plotly.v1+json": {
       "config": {
        "plotlyServerURL": "https://plot.ly"
       },
       "data": [
        {
         "colorscale": [
          [
           0,
           "#00083e"
          ],
          [
           0.5,
           "#ededee"
          ],
          [
           1,
           "#ffffff"
          ]
         ],
         "hoverinfo": "none",
         "opacity": 0.75,
         "showscale": false,
         "type": "heatmap",
         "z": [
          [
           0,
           0,
           0
          ],
          [
           0.5,
           0.5,
           0.5
          ],
          [
           1,
           1,
           1
          ],
          [
           0.5,
           0.5,
           0.5
          ],
          [
           1,
           1,
           1
          ],
          [
           0.5,
           0.5,
           0.5
          ],
          [
           1,
           1,
           1
          ],
          [
           0.5,
           0.5,
           0.5
          ],
          [
           1,
           1,
           1
          ],
          [
           0.5,
           0.5,
           0.5
          ],
          [
           1,
           1,
           1
          ]
         ]
        },
        {
         "marker": {
          "color": "#0099ff"
         },
         "name": "Count",
         "type": "bar",
         "x": [
          0,
          1,
          2,
          3,
          4,
          5,
          6,
          7,
          8,
          9
         ],
         "xaxis": "x2",
         "y": [
          57,
          49,
          43,
          29,
          17,
          16,
          15,
          13,
          12,
          10
         ],
         "yaxis": "y2"
        }
       ],
       "layout": {
        "annotations": [
         {
          "align": "left",
          "font": {
           "color": "#ffffff"
          },
          "showarrow": false,
          "text": "<b>Index</b>",
          "x": -0.45,
          "xanchor": "left",
          "xref": "x",
          "y": 0,
          "yref": "y"
         },
         {
          "align": "left",
          "font": {
           "color": "#ffffff"
          },
          "showarrow": false,
          "text": "<b>Challenges</b>",
          "x": 0.55,
          "xanchor": "left",
          "xref": "x",
          "y": 0,
          "yref": "y"
         },
         {
          "align": "left",
          "font": {
           "color": "#ffffff"
          },
          "showarrow": false,
          "text": "<b>Count</b>",
          "x": 1.55,
          "xanchor": "left",
          "xref": "x",
          "y": 0,
          "yref": "y"
         },
         {
          "align": "left",
          "font": {
           "color": "#000000"
          },
          "showarrow": false,
          "text": "0",
          "x": -0.45,
          "xanchor": "left",
          "xref": "x",
          "y": 1,
          "yref": "y"
         },
         {
          "align": "left",
          "font": {
           "color": "#000000"
          },
          "showarrow": false,
          "text": "['fyp', 'foryou']",
          "x": 0.55,
          "xanchor": "left",
          "xref": "x",
          "y": 1,
          "yref": "y"
         },
         {
          "align": "left",
          "font": {
           "color": "#000000"
          },
          "showarrow": false,
          "text": "57",
          "x": 1.55,
          "xanchor": "left",
          "xref": "x",
          "y": 1,
          "yref": "y"
         },
         {
          "align": "left",
          "font": {
           "color": "#000000"
          },
          "showarrow": false,
          "text": "1",
          "x": -0.45,
          "xanchor": "left",
          "xref": "x",
          "y": 2,
          "yref": "y"
         },
         {
          "align": "left",
          "font": {
           "color": "#000000"
          },
          "showarrow": false,
          "text": "['fyp', 'foryoupage']",
          "x": 0.55,
          "xanchor": "left",
          "xref": "x",
          "y": 2,
          "yref": "y"
         },
         {
          "align": "left",
          "font": {
           "color": "#000000"
          },
          "showarrow": false,
          "text": "49",
          "x": 1.55,
          "xanchor": "left",
          "xref": "x",
          "y": 2,
          "yref": "y"
         },
         {
          "align": "left",
          "font": {
           "color": "#000000"
          },
          "showarrow": false,
          "text": "2",
          "x": -0.45,
          "xanchor": "left",
          "xref": "x",
          "y": 3,
          "yref": "y"
         },
         {
          "align": "left",
          "font": {
           "color": "#000000"
          },
          "showarrow": false,
          "text": "['fyp', 'foryou', 'foryoupage']",
          "x": 0.55,
          "xanchor": "left",
          "xref": "x",
          "y": 3,
          "yref": "y"
         },
         {
          "align": "left",
          "font": {
           "color": "#000000"
          },
          "showarrow": false,
          "text": "43",
          "x": 1.55,
          "xanchor": "left",
          "xref": "x",
          "y": 3,
          "yref": "y"
         },
         {
          "align": "left",
          "font": {
           "color": "#000000"
          },
          "showarrow": false,
          "text": "3",
          "x": -0.45,
          "xanchor": "left",
          "xref": "x",
          "y": 4,
          "yref": "y"
         },
         {
          "align": "left",
          "font": {
           "color": "#000000"
          },
          "showarrow": false,
          "text": "['foryou', 'fyp']",
          "x": 0.55,
          "xanchor": "left",
          "xref": "x",
          "y": 4,
          "yref": "y"
         },
         {
          "align": "left",
          "font": {
           "color": "#000000"
          },
          "showarrow": false,
          "text": "29",
          "x": 1.55,
          "xanchor": "left",
          "xref": "x",
          "y": 4,
          "yref": "y"
         },
         {
          "align": "left",
          "font": {
           "color": "#000000"
          },
          "showarrow": false,
          "text": "4",
          "x": -0.45,
          "xanchor": "left",
          "xref": "x",
          "y": 5,
          "yref": "y"
         },
         {
          "align": "left",
          "font": {
           "color": "#000000"
          },
          "showarrow": false,
          "text": "['foryoupage', 'fyp']",
          "x": 0.55,
          "xanchor": "left",
          "xref": "x",
          "y": 5,
          "yref": "y"
         },
         {
          "align": "left",
          "font": {
           "color": "#000000"
          },
          "showarrow": false,
          "text": "17",
          "x": 1.55,
          "xanchor": "left",
          "xref": "x",
          "y": 5,
          "yref": "y"
         },
         {
          "align": "left",
          "font": {
           "color": "#000000"
          },
          "showarrow": false,
          "text": "5",
          "x": -0.45,
          "xanchor": "left",
          "xref": "x",
          "y": 6,
          "yref": "y"
         },
         {
          "align": "left",
          "font": {
           "color": "#000000"
          },
          "showarrow": false,
          "text": "['foryou', 'foryoupage']",
          "x": 0.55,
          "xanchor": "left",
          "xref": "x",
          "y": 6,
          "yref": "y"
         },
         {
          "align": "left",
          "font": {
           "color": "#000000"
          },
          "showarrow": false,
          "text": "16",
          "x": 1.55,
          "xanchor": "left",
          "xref": "x",
          "y": 6,
          "yref": "y"
         },
         {
          "align": "left",
          "font": {
           "color": "#000000"
          },
          "showarrow": false,
          "text": "6",
          "x": -0.45,
          "xanchor": "left",
          "xref": "x",
          "y": 7,
          "yref": "y"
         },
         {
          "align": "left",
          "font": {
           "color": "#000000"
          },
          "showarrow": false,
          "text": "['pourtoi', 'foryou']",
          "x": 0.55,
          "xanchor": "left",
          "xref": "x",
          "y": 7,
          "yref": "y"
         },
         {
          "align": "left",
          "font": {
           "color": "#000000"
          },
          "showarrow": false,
          "text": "15",
          "x": 1.55,
          "xanchor": "left",
          "xref": "x",
          "y": 7,
          "yref": "y"
         },
         {
          "align": "left",
          "font": {
           "color": "#000000"
          },
          "showarrow": false,
          "text": "7",
          "x": -0.45,
          "xanchor": "left",
          "xref": "x",
          "y": 8,
          "yref": "y"
         },
         {
          "align": "left",
          "font": {
           "color": "#000000"
          },
          "showarrow": false,
          "text": "['foryou', 'pourtoi']",
          "x": 0.55,
          "xanchor": "left",
          "xref": "x",
          "y": 8,
          "yref": "y"
         },
         {
          "align": "left",
          "font": {
           "color": "#000000"
          },
          "showarrow": false,
          "text": "13",
          "x": 1.55,
          "xanchor": "left",
          "xref": "x",
          "y": 8,
          "yref": "y"
         },
         {
          "align": "left",
          "font": {
           "color": "#000000"
          },
          "showarrow": false,
          "text": "8",
          "x": -0.45,
          "xanchor": "left",
          "xref": "x",
          "y": 9,
          "yref": "y"
         },
         {
          "align": "left",
          "font": {
           "color": "#000000"
          },
          "showarrow": false,
          "text": "['fyp', 'foryourpage']",
          "x": 0.55,
          "xanchor": "left",
          "xref": "x",
          "y": 9,
          "yref": "y"
         },
         {
          "align": "left",
          "font": {
           "color": "#000000"
          },
          "showarrow": false,
          "text": "12",
          "x": 1.55,
          "xanchor": "left",
          "xref": "x",
          "y": 9,
          "yref": "y"
         },
         {
          "align": "left",
          "font": {
           "color": "#000000"
          },
          "showarrow": false,
          "text": "9",
          "x": -0.45,
          "xanchor": "left",
          "xref": "x",
          "y": 10,
          "yref": "y"
         },
         {
          "align": "left",
          "font": {
           "color": "#000000"
          },
          "showarrow": false,
          "text": "['foryou', 'fyp', 'foryoupage']",
          "x": 0.55,
          "xanchor": "left",
          "xref": "x",
          "y": 10,
          "yref": "y"
         },
         {
          "align": "left",
          "font": {
           "color": "#000000"
          },
          "showarrow": false,
          "text": "10",
          "x": 1.55,
          "xanchor": "left",
          "xref": "x",
          "y": 10,
          "yref": "y"
         }
        ],
        "height": 710,
        "margin": {
         "b": 0,
         "l": 50,
         "r": 0,
         "t": 75
        },
        "template": {
         "data": {
          "bar": [
           {
            "error_x": {
             "color": "#2a3f5f"
            },
            "error_y": {
             "color": "#2a3f5f"
            },
            "marker": {
             "line": {
              "color": "#E5ECF6",
              "width": 0.5
             }
            },
            "type": "bar"
           }
          ],
          "barpolar": [
           {
            "marker": {
             "line": {
              "color": "#E5ECF6",
              "width": 0.5
             }
            },
            "type": "barpolar"
           }
          ],
          "carpet": [
           {
            "aaxis": {
             "endlinecolor": "#2a3f5f",
             "gridcolor": "white",
             "linecolor": "white",
             "minorgridcolor": "white",
             "startlinecolor": "#2a3f5f"
            },
            "baxis": {
             "endlinecolor": "#2a3f5f",
             "gridcolor": "white",
             "linecolor": "white",
             "minorgridcolor": "white",
             "startlinecolor": "#2a3f5f"
            },
            "type": "carpet"
           }
          ],
          "choropleth": [
           {
            "colorbar": {
             "outlinewidth": 0,
             "ticks": ""
            },
            "type": "choropleth"
           }
          ],
          "contour": [
           {
            "colorbar": {
             "outlinewidth": 0,
             "ticks": ""
            },
            "colorscale": [
             [
              0,
              "#0d0887"
             ],
             [
              0.1111111111111111,
              "#46039f"
             ],
             [
              0.2222222222222222,
              "#7201a8"
             ],
             [
              0.3333333333333333,
              "#9c179e"
             ],
             [
              0.4444444444444444,
              "#bd3786"
             ],
             [
              0.5555555555555556,
              "#d8576b"
             ],
             [
              0.6666666666666666,
              "#ed7953"
             ],
             [
              0.7777777777777778,
              "#fb9f3a"
             ],
             [
              0.8888888888888888,
              "#fdca26"
             ],
             [
              1,
              "#f0f921"
             ]
            ],
            "type": "contour"
           }
          ],
          "contourcarpet": [
           {
            "colorbar": {
             "outlinewidth": 0,
             "ticks": ""
            },
            "type": "contourcarpet"
           }
          ],
          "heatmap": [
           {
            "colorbar": {
             "outlinewidth": 0,
             "ticks": ""
            },
            "colorscale": [
             [
              0,
              "#0d0887"
             ],
             [
              0.1111111111111111,
              "#46039f"
             ],
             [
              0.2222222222222222,
              "#7201a8"
             ],
             [
              0.3333333333333333,
              "#9c179e"
             ],
             [
              0.4444444444444444,
              "#bd3786"
             ],
             [
              0.5555555555555556,
              "#d8576b"
             ],
             [
              0.6666666666666666,
              "#ed7953"
             ],
             [
              0.7777777777777778,
              "#fb9f3a"
             ],
             [
              0.8888888888888888,
              "#fdca26"
             ],
             [
              1,
              "#f0f921"
             ]
            ],
            "type": "heatmap"
           }
          ],
          "heatmapgl": [
           {
            "colorbar": {
             "outlinewidth": 0,
             "ticks": ""
            },
            "colorscale": [
             [
              0,
              "#0d0887"
             ],
             [
              0.1111111111111111,
              "#46039f"
             ],
             [
              0.2222222222222222,
              "#7201a8"
             ],
             [
              0.3333333333333333,
              "#9c179e"
             ],
             [
              0.4444444444444444,
              "#bd3786"
             ],
             [
              0.5555555555555556,
              "#d8576b"
             ],
             [
              0.6666666666666666,
              "#ed7953"
             ],
             [
              0.7777777777777778,
              "#fb9f3a"
             ],
             [
              0.8888888888888888,
              "#fdca26"
             ],
             [
              1,
              "#f0f921"
             ]
            ],
            "type": "heatmapgl"
           }
          ],
          "histogram": [
           {
            "marker": {
             "colorbar": {
              "outlinewidth": 0,
              "ticks": ""
             }
            },
            "type": "histogram"
           }
          ],
          "histogram2d": [
           {
            "colorbar": {
             "outlinewidth": 0,
             "ticks": ""
            },
            "colorscale": [
             [
              0,
              "#0d0887"
             ],
             [
              0.1111111111111111,
              "#46039f"
             ],
             [
              0.2222222222222222,
              "#7201a8"
             ],
             [
              0.3333333333333333,
              "#9c179e"
             ],
             [
              0.4444444444444444,
              "#bd3786"
             ],
             [
              0.5555555555555556,
              "#d8576b"
             ],
             [
              0.6666666666666666,
              "#ed7953"
             ],
             [
              0.7777777777777778,
              "#fb9f3a"
             ],
             [
              0.8888888888888888,
              "#fdca26"
             ],
             [
              1,
              "#f0f921"
             ]
            ],
            "type": "histogram2d"
           }
          ],
          "histogram2dcontour": [
           {
            "colorbar": {
             "outlinewidth": 0,
             "ticks": ""
            },
            "colorscale": [
             [
              0,
              "#0d0887"
             ],
             [
              0.1111111111111111,
              "#46039f"
             ],
             [
              0.2222222222222222,
              "#7201a8"
             ],
             [
              0.3333333333333333,
              "#9c179e"
             ],
             [
              0.4444444444444444,
              "#bd3786"
             ],
             [
              0.5555555555555556,
              "#d8576b"
             ],
             [
              0.6666666666666666,
              "#ed7953"
             ],
             [
              0.7777777777777778,
              "#fb9f3a"
             ],
             [
              0.8888888888888888,
              "#fdca26"
             ],
             [
              1,
              "#f0f921"
             ]
            ],
            "type": "histogram2dcontour"
           }
          ],
          "mesh3d": [
           {
            "colorbar": {
             "outlinewidth": 0,
             "ticks": ""
            },
            "type": "mesh3d"
           }
          ],
          "parcoords": [
           {
            "line": {
             "colorbar": {
              "outlinewidth": 0,
              "ticks": ""
             }
            },
            "type": "parcoords"
           }
          ],
          "scatter": [
           {
            "marker": {
             "colorbar": {
              "outlinewidth": 0,
              "ticks": ""
             }
            },
            "type": "scatter"
           }
          ],
          "scatter3d": [
           {
            "line": {
             "colorbar": {
              "outlinewidth": 0,
              "ticks": ""
             }
            },
            "marker": {
             "colorbar": {
              "outlinewidth": 0,
              "ticks": ""
             }
            },
            "type": "scatter3d"
           }
          ],
          "scattercarpet": [
           {
            "marker": {
             "colorbar": {
              "outlinewidth": 0,
              "ticks": ""
             }
            },
            "type": "scattercarpet"
           }
          ],
          "scattergeo": [
           {
            "marker": {
             "colorbar": {
              "outlinewidth": 0,
              "ticks": ""
             }
            },
            "type": "scattergeo"
           }
          ],
          "scattergl": [
           {
            "marker": {
             "colorbar": {
              "outlinewidth": 0,
              "ticks": ""
             }
            },
            "type": "scattergl"
           }
          ],
          "scattermapbox": [
           {
            "marker": {
             "colorbar": {
              "outlinewidth": 0,
              "ticks": ""
             }
            },
            "type": "scattermapbox"
           }
          ],
          "scatterpolar": [
           {
            "marker": {
             "colorbar": {
              "outlinewidth": 0,
              "ticks": ""
             }
            },
            "type": "scatterpolar"
           }
          ],
          "scatterpolargl": [
           {
            "marker": {
             "colorbar": {
              "outlinewidth": 0,
              "ticks": ""
             }
            },
            "type": "scatterpolargl"
           }
          ],
          "scatterternary": [
           {
            "marker": {
             "colorbar": {
              "outlinewidth": 0,
              "ticks": ""
             }
            },
            "type": "scatterternary"
           }
          ],
          "surface": [
           {
            "colorbar": {
             "outlinewidth": 0,
             "ticks": ""
            },
            "colorscale": [
             [
              0,
              "#0d0887"
             ],
             [
              0.1111111111111111,
              "#46039f"
             ],
             [
              0.2222222222222222,
              "#7201a8"
             ],
             [
              0.3333333333333333,
              "#9c179e"
             ],
             [
              0.4444444444444444,
              "#bd3786"
             ],
             [
              0.5555555555555556,
              "#d8576b"
             ],
             [
              0.6666666666666666,
              "#ed7953"
             ],
             [
              0.7777777777777778,
              "#fb9f3a"
             ],
             [
              0.8888888888888888,
              "#fdca26"
             ],
             [
              1,
              "#f0f921"
             ]
            ],
            "type": "surface"
           }
          ],
          "table": [
           {
            "cells": {
             "fill": {
              "color": "#EBF0F8"
             },
             "line": {
              "color": "white"
             }
            },
            "header": {
             "fill": {
              "color": "#C8D4E3"
             },
             "line": {
              "color": "white"
             }
            },
            "type": "table"
           }
          ]
         },
         "layout": {
          "annotationdefaults": {
           "arrowcolor": "#2a3f5f",
           "arrowhead": 0,
           "arrowwidth": 1
          },
          "colorscale": {
           "diverging": [
            [
             0,
             "#8e0152"
            ],
            [
             0.1,
             "#c51b7d"
            ],
            [
             0.2,
             "#de77ae"
            ],
            [
             0.3,
             "#f1b6da"
            ],
            [
             0.4,
             "#fde0ef"
            ],
            [
             0.5,
             "#f7f7f7"
            ],
            [
             0.6,
             "#e6f5d0"
            ],
            [
             0.7,
             "#b8e186"
            ],
            [
             0.8,
             "#7fbc41"
            ],
            [
             0.9,
             "#4d9221"
            ],
            [
             1,
             "#276419"
            ]
           ],
           "sequential": [
            [
             0,
             "#0d0887"
            ],
            [
             0.1111111111111111,
             "#46039f"
            ],
            [
             0.2222222222222222,
             "#7201a8"
            ],
            [
             0.3333333333333333,
             "#9c179e"
            ],
            [
             0.4444444444444444,
             "#bd3786"
            ],
            [
             0.5555555555555556,
             "#d8576b"
            ],
            [
             0.6666666666666666,
             "#ed7953"
            ],
            [
             0.7777777777777778,
             "#fb9f3a"
            ],
            [
             0.8888888888888888,
             "#fdca26"
            ],
            [
             1,
             "#f0f921"
            ]
           ],
           "sequentialminus": [
            [
             0,
             "#0d0887"
            ],
            [
             0.1111111111111111,
             "#46039f"
            ],
            [
             0.2222222222222222,
             "#7201a8"
            ],
            [
             0.3333333333333333,
             "#9c179e"
            ],
            [
             0.4444444444444444,
             "#bd3786"
            ],
            [
             0.5555555555555556,
             "#d8576b"
            ],
            [
             0.6666666666666666,
             "#ed7953"
            ],
            [
             0.7777777777777778,
             "#fb9f3a"
            ],
            [
             0.8888888888888888,
             "#fdca26"
            ],
            [
             1,
             "#f0f921"
            ]
           ]
          },
          "colorway": [
           "#636efa",
           "#EF553B",
           "#00cc96",
           "#ab63fa",
           "#FFA15A",
           "#19d3f3",
           "#FF6692",
           "#B6E880",
           "#FF97FF",
           "#FECB52"
          ],
          "font": {
           "color": "#2a3f5f"
          },
          "geo": {
           "bgcolor": "white",
           "lakecolor": "white",
           "landcolor": "#E5ECF6",
           "showlakes": true,
           "showland": true,
           "subunitcolor": "white"
          },
          "hoverlabel": {
           "align": "left"
          },
          "hovermode": "closest",
          "mapbox": {
           "style": "light"
          },
          "paper_bgcolor": "white",
          "plot_bgcolor": "#E5ECF6",
          "polar": {
           "angularaxis": {
            "gridcolor": "white",
            "linecolor": "white",
            "ticks": ""
           },
           "bgcolor": "#E5ECF6",
           "radialaxis": {
            "gridcolor": "white",
            "linecolor": "white",
            "ticks": ""
           }
          },
          "scene": {
           "xaxis": {
            "backgroundcolor": "#E5ECF6",
            "gridcolor": "white",
            "gridwidth": 2,
            "linecolor": "white",
            "showbackground": true,
            "ticks": "",
            "zerolinecolor": "white"
           },
           "yaxis": {
            "backgroundcolor": "#E5ECF6",
            "gridcolor": "white",
            "gridwidth": 2,
            "linecolor": "white",
            "showbackground": true,
            "ticks": "",
            "zerolinecolor": "white"
           },
           "zaxis": {
            "backgroundcolor": "#E5ECF6",
            "gridcolor": "white",
            "gridwidth": 2,
            "linecolor": "white",
            "showbackground": true,
            "ticks": "",
            "zerolinecolor": "white"
           }
          },
          "shapedefaults": {
           "line": {
            "color": "#2a3f5f"
           }
          },
          "ternary": {
           "aaxis": {
            "gridcolor": "white",
            "linecolor": "white",
            "ticks": ""
           },
           "baxis": {
            "gridcolor": "white",
            "linecolor": "white",
            "ticks": ""
           },
           "bgcolor": "#E5ECF6",
           "caxis": {
            "gridcolor": "white",
            "linecolor": "white",
            "ticks": ""
           }
          },
          "title": {
           "x": 0.05
          },
          "xaxis": {
           "automargin": true,
           "gridcolor": "white",
           "linecolor": "white",
           "ticks": "",
           "zerolinecolor": "white",
           "zerolinewidth": 2
          },
          "yaxis": {
           "automargin": true,
           "gridcolor": "white",
           "linecolor": "white",
           "ticks": "",
           "zerolinecolor": "white",
           "zerolinewidth": 2
          }
         }
        },
        "title": {
         "text": "Trending Challenge Combination on TikTok"
        },
        "width": 1000,
        "xaxis": {
         "domain": [
          0,
          0.5
         ],
         "dtick": 1,
         "gridwidth": 2,
         "showticklabels": false,
         "tick0": -0.5,
         "ticks": "",
         "zeroline": false
        },
        "xaxis2": {
         "domain": [
          0.6,
          1
         ],
         "title": {
          "text": "index"
         }
        },
        "yaxis": {
         "autorange": "reversed",
         "dtick": 1,
         "gridwidth": 2,
         "showticklabels": false,
         "tick0": 0.5,
         "ticks": "",
         "zeroline": false
        },
        "yaxis2": {
         "anchor": "x2",
         "title": {
          "text": "Count"
         }
        }
       }
      },
      "text/html": [
       "<div>\n",
       "        \n",
       "        \n",
       "            <div id=\"ae9f8610-84a9-4874-8bad-908605fa8efa\" class=\"plotly-graph-div\" style=\"height:710px; width:1000px;\"></div>\n",
       "            <script type=\"text/javascript\">\n",
       "                require([\"plotly\"], function(Plotly) {\n",
       "                    window.PLOTLYENV=window.PLOTLYENV || {};\n",
       "                    \n",
       "                if (document.getElementById(\"ae9f8610-84a9-4874-8bad-908605fa8efa\")) {\n",
       "                    Plotly.newPlot(\n",
       "                        'ae9f8610-84a9-4874-8bad-908605fa8efa',\n",
       "                        [{\"colorscale\": [[0, \"#00083e\"], [0.5, \"#ededee\"], [1, \"#ffffff\"]], \"hoverinfo\": \"none\", \"opacity\": 0.75, \"showscale\": false, \"type\": \"heatmap\", \"z\": [[0, 0, 0], [0.5, 0.5, 0.5], [1, 1, 1], [0.5, 0.5, 0.5], [1, 1, 1], [0.5, 0.5, 0.5], [1, 1, 1], [0.5, 0.5, 0.5], [1, 1, 1], [0.5, 0.5, 0.5], [1, 1, 1]]}, {\"marker\": {\"color\": \"#0099ff\"}, \"name\": \"Count\", \"type\": \"bar\", \"x\": [0, 1, 2, 3, 4, 5, 6, 7, 8, 9], \"xaxis\": \"x2\", \"y\": [57, 49, 43, 29, 17, 16, 15, 13, 12, 10], \"yaxis\": \"y2\"}],\n",
       "                        {\"annotations\": [{\"align\": \"left\", \"font\": {\"color\": \"#ffffff\"}, \"showarrow\": false, \"text\": \"<b>Index</b>\", \"x\": -0.45, \"xanchor\": \"left\", \"xref\": \"x\", \"y\": 0, \"yref\": \"y\"}, {\"align\": \"left\", \"font\": {\"color\": \"#ffffff\"}, \"showarrow\": false, \"text\": \"<b>Challenges</b>\", \"x\": 0.55, \"xanchor\": \"left\", \"xref\": \"x\", \"y\": 0, \"yref\": \"y\"}, {\"align\": \"left\", \"font\": {\"color\": \"#ffffff\"}, \"showarrow\": false, \"text\": \"<b>Count</b>\", \"x\": 1.55, \"xanchor\": \"left\", \"xref\": \"x\", \"y\": 0, \"yref\": \"y\"}, {\"align\": \"left\", \"font\": {\"color\": \"#000000\"}, \"showarrow\": false, \"text\": \"0\", \"x\": -0.45, \"xanchor\": \"left\", \"xref\": \"x\", \"y\": 1, \"yref\": \"y\"}, {\"align\": \"left\", \"font\": {\"color\": \"#000000\"}, \"showarrow\": false, \"text\": \"['fyp', 'foryou']\", \"x\": 0.55, \"xanchor\": \"left\", \"xref\": \"x\", \"y\": 1, \"yref\": \"y\"}, {\"align\": \"left\", \"font\": {\"color\": \"#000000\"}, \"showarrow\": false, \"text\": \"57\", \"x\": 1.55, \"xanchor\": \"left\", \"xref\": \"x\", \"y\": 1, \"yref\": \"y\"}, {\"align\": \"left\", \"font\": {\"color\": \"#000000\"}, \"showarrow\": false, \"text\": \"1\", \"x\": -0.45, \"xanchor\": \"left\", \"xref\": \"x\", \"y\": 2, \"yref\": \"y\"}, {\"align\": \"left\", \"font\": {\"color\": \"#000000\"}, \"showarrow\": false, \"text\": \"['fyp', 'foryoupage']\", \"x\": 0.55, \"xanchor\": \"left\", \"xref\": \"x\", \"y\": 2, \"yref\": \"y\"}, {\"align\": \"left\", \"font\": {\"color\": \"#000000\"}, \"showarrow\": false, \"text\": \"49\", \"x\": 1.55, \"xanchor\": \"left\", \"xref\": \"x\", \"y\": 2, \"yref\": \"y\"}, {\"align\": \"left\", \"font\": {\"color\": \"#000000\"}, \"showarrow\": false, \"text\": \"2\", \"x\": -0.45, \"xanchor\": \"left\", \"xref\": \"x\", \"y\": 3, \"yref\": \"y\"}, {\"align\": \"left\", \"font\": {\"color\": \"#000000\"}, \"showarrow\": false, \"text\": \"['fyp', 'foryou', 'foryoupage']\", \"x\": 0.55, \"xanchor\": \"left\", \"xref\": \"x\", \"y\": 3, \"yref\": \"y\"}, {\"align\": \"left\", \"font\": {\"color\": \"#000000\"}, \"showarrow\": false, \"text\": \"43\", \"x\": 1.55, \"xanchor\": \"left\", \"xref\": \"x\", \"y\": 3, \"yref\": \"y\"}, {\"align\": \"left\", \"font\": {\"color\": \"#000000\"}, \"showarrow\": false, \"text\": \"3\", \"x\": -0.45, \"xanchor\": \"left\", \"xref\": \"x\", \"y\": 4, \"yref\": \"y\"}, {\"align\": \"left\", \"font\": {\"color\": \"#000000\"}, \"showarrow\": false, \"text\": \"['foryou', 'fyp']\", \"x\": 0.55, \"xanchor\": \"left\", \"xref\": \"x\", \"y\": 4, \"yref\": \"y\"}, {\"align\": \"left\", \"font\": {\"color\": \"#000000\"}, \"showarrow\": false, \"text\": \"29\", \"x\": 1.55, \"xanchor\": \"left\", \"xref\": \"x\", \"y\": 4, \"yref\": \"y\"}, {\"align\": \"left\", \"font\": {\"color\": \"#000000\"}, \"showarrow\": false, \"text\": \"4\", \"x\": -0.45, \"xanchor\": \"left\", \"xref\": \"x\", \"y\": 5, \"yref\": \"y\"}, {\"align\": \"left\", \"font\": {\"color\": \"#000000\"}, \"showarrow\": false, \"text\": \"['foryoupage', 'fyp']\", \"x\": 0.55, \"xanchor\": \"left\", \"xref\": \"x\", \"y\": 5, \"yref\": \"y\"}, {\"align\": \"left\", \"font\": {\"color\": \"#000000\"}, \"showarrow\": false, \"text\": \"17\", \"x\": 1.55, \"xanchor\": \"left\", \"xref\": \"x\", \"y\": 5, \"yref\": \"y\"}, {\"align\": \"left\", \"font\": {\"color\": \"#000000\"}, \"showarrow\": false, \"text\": \"5\", \"x\": -0.45, \"xanchor\": \"left\", \"xref\": \"x\", \"y\": 6, \"yref\": \"y\"}, {\"align\": \"left\", \"font\": {\"color\": \"#000000\"}, \"showarrow\": false, \"text\": \"['foryou', 'foryoupage']\", \"x\": 0.55, \"xanchor\": \"left\", \"xref\": \"x\", \"y\": 6, \"yref\": \"y\"}, {\"align\": \"left\", \"font\": {\"color\": \"#000000\"}, \"showarrow\": false, \"text\": \"16\", \"x\": 1.55, \"xanchor\": \"left\", \"xref\": \"x\", \"y\": 6, \"yref\": \"y\"}, {\"align\": \"left\", \"font\": {\"color\": \"#000000\"}, \"showarrow\": false, \"text\": \"6\", \"x\": -0.45, \"xanchor\": \"left\", \"xref\": \"x\", \"y\": 7, \"yref\": \"y\"}, {\"align\": \"left\", \"font\": {\"color\": \"#000000\"}, \"showarrow\": false, \"text\": \"['pourtoi', 'foryou']\", \"x\": 0.55, \"xanchor\": \"left\", \"xref\": \"x\", \"y\": 7, \"yref\": \"y\"}, {\"align\": \"left\", \"font\": {\"color\": \"#000000\"}, \"showarrow\": false, \"text\": \"15\", \"x\": 1.55, \"xanchor\": \"left\", \"xref\": \"x\", \"y\": 7, \"yref\": \"y\"}, {\"align\": \"left\", \"font\": {\"color\": \"#000000\"}, \"showarrow\": false, \"text\": \"7\", \"x\": -0.45, \"xanchor\": \"left\", \"xref\": \"x\", \"y\": 8, \"yref\": \"y\"}, {\"align\": \"left\", \"font\": {\"color\": \"#000000\"}, \"showarrow\": false, \"text\": \"['foryou', 'pourtoi']\", \"x\": 0.55, \"xanchor\": \"left\", \"xref\": \"x\", \"y\": 8, \"yref\": \"y\"}, {\"align\": \"left\", \"font\": {\"color\": \"#000000\"}, \"showarrow\": false, \"text\": \"13\", \"x\": 1.55, \"xanchor\": \"left\", \"xref\": \"x\", \"y\": 8, \"yref\": \"y\"}, {\"align\": \"left\", \"font\": {\"color\": \"#000000\"}, \"showarrow\": false, \"text\": \"8\", \"x\": -0.45, \"xanchor\": \"left\", \"xref\": \"x\", \"y\": 9, \"yref\": \"y\"}, {\"align\": \"left\", \"font\": {\"color\": \"#000000\"}, \"showarrow\": false, \"text\": \"['fyp', 'foryourpage']\", \"x\": 0.55, \"xanchor\": \"left\", \"xref\": \"x\", \"y\": 9, \"yref\": \"y\"}, {\"align\": \"left\", \"font\": {\"color\": \"#000000\"}, \"showarrow\": false, \"text\": \"12\", \"x\": 1.55, \"xanchor\": \"left\", \"xref\": \"x\", \"y\": 9, \"yref\": \"y\"}, {\"align\": \"left\", \"font\": {\"color\": \"#000000\"}, \"showarrow\": false, \"text\": \"9\", \"x\": -0.45, \"xanchor\": \"left\", \"xref\": \"x\", \"y\": 10, \"yref\": \"y\"}, {\"align\": \"left\", \"font\": {\"color\": \"#000000\"}, \"showarrow\": false, \"text\": \"['foryou', 'fyp', 'foryoupage']\", \"x\": 0.55, \"xanchor\": \"left\", \"xref\": \"x\", \"y\": 10, \"yref\": \"y\"}, {\"align\": \"left\", \"font\": {\"color\": \"#000000\"}, \"showarrow\": false, \"text\": \"10\", \"x\": 1.55, \"xanchor\": \"left\", \"xref\": \"x\", \"y\": 10, \"yref\": \"y\"}], \"height\": 710, \"margin\": {\"b\": 0, \"l\": 50, \"r\": 0, \"t\": 75}, \"template\": {\"data\": {\"bar\": [{\"error_x\": {\"color\": \"#2a3f5f\"}, \"error_y\": {\"color\": \"#2a3f5f\"}, \"marker\": {\"line\": {\"color\": \"#E5ECF6\", \"width\": 0.5}}, \"type\": \"bar\"}], \"barpolar\": [{\"marker\": {\"line\": {\"color\": \"#E5ECF6\", \"width\": 0.5}}, \"type\": \"barpolar\"}], \"carpet\": [{\"aaxis\": {\"endlinecolor\": \"#2a3f5f\", \"gridcolor\": \"white\", \"linecolor\": \"white\", \"minorgridcolor\": \"white\", \"startlinecolor\": \"#2a3f5f\"}, \"baxis\": {\"endlinecolor\": \"#2a3f5f\", \"gridcolor\": \"white\", \"linecolor\": \"white\", \"minorgridcolor\": \"white\", \"startlinecolor\": \"#2a3f5f\"}, \"type\": \"carpet\"}], \"choropleth\": [{\"colorbar\": {\"outlinewidth\": 0, \"ticks\": \"\"}, \"type\": \"choropleth\"}], \"contour\": [{\"colorbar\": {\"outlinewidth\": 0, \"ticks\": \"\"}, \"colorscale\": [[0.0, \"#0d0887\"], [0.1111111111111111, \"#46039f\"], [0.2222222222222222, \"#7201a8\"], [0.3333333333333333, \"#9c179e\"], [0.4444444444444444, \"#bd3786\"], [0.5555555555555556, \"#d8576b\"], [0.6666666666666666, \"#ed7953\"], [0.7777777777777778, \"#fb9f3a\"], [0.8888888888888888, \"#fdca26\"], [1.0, \"#f0f921\"]], \"type\": \"contour\"}], \"contourcarpet\": [{\"colorbar\": {\"outlinewidth\": 0, \"ticks\": \"\"}, \"type\": \"contourcarpet\"}], \"heatmap\": [{\"colorbar\": {\"outlinewidth\": 0, \"ticks\": \"\"}, \"colorscale\": [[0.0, \"#0d0887\"], [0.1111111111111111, \"#46039f\"], [0.2222222222222222, \"#7201a8\"], [0.3333333333333333, \"#9c179e\"], [0.4444444444444444, \"#bd3786\"], [0.5555555555555556, \"#d8576b\"], [0.6666666666666666, \"#ed7953\"], [0.7777777777777778, \"#fb9f3a\"], [0.8888888888888888, \"#fdca26\"], [1.0, \"#f0f921\"]], \"type\": \"heatmap\"}], \"heatmapgl\": [{\"colorbar\": {\"outlinewidth\": 0, \"ticks\": \"\"}, \"colorscale\": [[0.0, \"#0d0887\"], [0.1111111111111111, \"#46039f\"], [0.2222222222222222, \"#7201a8\"], [0.3333333333333333, \"#9c179e\"], [0.4444444444444444, \"#bd3786\"], [0.5555555555555556, \"#d8576b\"], [0.6666666666666666, \"#ed7953\"], [0.7777777777777778, \"#fb9f3a\"], [0.8888888888888888, \"#fdca26\"], [1.0, \"#f0f921\"]], \"type\": \"heatmapgl\"}], \"histogram\": [{\"marker\": {\"colorbar\": {\"outlinewidth\": 0, \"ticks\": \"\"}}, \"type\": \"histogram\"}], \"histogram2d\": [{\"colorbar\": {\"outlinewidth\": 0, \"ticks\": \"\"}, \"colorscale\": [[0.0, \"#0d0887\"], [0.1111111111111111, \"#46039f\"], [0.2222222222222222, \"#7201a8\"], [0.3333333333333333, \"#9c179e\"], [0.4444444444444444, \"#bd3786\"], [0.5555555555555556, \"#d8576b\"], [0.6666666666666666, \"#ed7953\"], [0.7777777777777778, \"#fb9f3a\"], [0.8888888888888888, \"#fdca26\"], [1.0, \"#f0f921\"]], \"type\": \"histogram2d\"}], \"histogram2dcontour\": [{\"colorbar\": {\"outlinewidth\": 0, \"ticks\": \"\"}, \"colorscale\": [[0.0, \"#0d0887\"], [0.1111111111111111, \"#46039f\"], [0.2222222222222222, \"#7201a8\"], [0.3333333333333333, \"#9c179e\"], [0.4444444444444444, \"#bd3786\"], [0.5555555555555556, \"#d8576b\"], [0.6666666666666666, \"#ed7953\"], [0.7777777777777778, \"#fb9f3a\"], [0.8888888888888888, \"#fdca26\"], [1.0, \"#f0f921\"]], \"type\": \"histogram2dcontour\"}], \"mesh3d\": [{\"colorbar\": {\"outlinewidth\": 0, \"ticks\": \"\"}, \"type\": \"mesh3d\"}], \"parcoords\": [{\"line\": {\"colorbar\": {\"outlinewidth\": 0, \"ticks\": \"\"}}, \"type\": \"parcoords\"}], \"scatter\": [{\"marker\": {\"colorbar\": {\"outlinewidth\": 0, \"ticks\": \"\"}}, \"type\": \"scatter\"}], \"scatter3d\": [{\"line\": {\"colorbar\": {\"outlinewidth\": 0, \"ticks\": \"\"}}, \"marker\": {\"colorbar\": {\"outlinewidth\": 0, \"ticks\": \"\"}}, \"type\": \"scatter3d\"}], \"scattercarpet\": [{\"marker\": {\"colorbar\": {\"outlinewidth\": 0, \"ticks\": \"\"}}, \"type\": \"scattercarpet\"}], \"scattergeo\": [{\"marker\": {\"colorbar\": {\"outlinewidth\": 0, \"ticks\": \"\"}}, \"type\": \"scattergeo\"}], \"scattergl\": [{\"marker\": {\"colorbar\": {\"outlinewidth\": 0, \"ticks\": \"\"}}, \"type\": \"scattergl\"}], \"scattermapbox\": [{\"marker\": {\"colorbar\": {\"outlinewidth\": 0, \"ticks\": \"\"}}, \"type\": \"scattermapbox\"}], \"scatterpolar\": [{\"marker\": {\"colorbar\": {\"outlinewidth\": 0, \"ticks\": \"\"}}, \"type\": \"scatterpolar\"}], \"scatterpolargl\": [{\"marker\": {\"colorbar\": {\"outlinewidth\": 0, \"ticks\": \"\"}}, \"type\": \"scatterpolargl\"}], \"scatterternary\": [{\"marker\": {\"colorbar\": {\"outlinewidth\": 0, \"ticks\": \"\"}}, \"type\": \"scatterternary\"}], \"surface\": [{\"colorbar\": {\"outlinewidth\": 0, \"ticks\": \"\"}, \"colorscale\": [[0.0, \"#0d0887\"], [0.1111111111111111, \"#46039f\"], [0.2222222222222222, \"#7201a8\"], [0.3333333333333333, \"#9c179e\"], [0.4444444444444444, \"#bd3786\"], [0.5555555555555556, \"#d8576b\"], [0.6666666666666666, \"#ed7953\"], [0.7777777777777778, \"#fb9f3a\"], [0.8888888888888888, \"#fdca26\"], [1.0, \"#f0f921\"]], \"type\": \"surface\"}], \"table\": [{\"cells\": {\"fill\": {\"color\": \"#EBF0F8\"}, \"line\": {\"color\": \"white\"}}, \"header\": {\"fill\": {\"color\": \"#C8D4E3\"}, \"line\": {\"color\": \"white\"}}, \"type\": \"table\"}]}, \"layout\": {\"annotationdefaults\": {\"arrowcolor\": \"#2a3f5f\", \"arrowhead\": 0, \"arrowwidth\": 1}, \"colorscale\": {\"diverging\": [[0, \"#8e0152\"], [0.1, \"#c51b7d\"], [0.2, \"#de77ae\"], [0.3, \"#f1b6da\"], [0.4, \"#fde0ef\"], [0.5, \"#f7f7f7\"], [0.6, \"#e6f5d0\"], [0.7, \"#b8e186\"], [0.8, \"#7fbc41\"], [0.9, \"#4d9221\"], [1, \"#276419\"]], \"sequential\": [[0.0, \"#0d0887\"], [0.1111111111111111, \"#46039f\"], [0.2222222222222222, \"#7201a8\"], [0.3333333333333333, \"#9c179e\"], [0.4444444444444444, \"#bd3786\"], [0.5555555555555556, \"#d8576b\"], [0.6666666666666666, \"#ed7953\"], [0.7777777777777778, \"#fb9f3a\"], [0.8888888888888888, \"#fdca26\"], [1.0, \"#f0f921\"]], \"sequentialminus\": [[0.0, \"#0d0887\"], [0.1111111111111111, \"#46039f\"], [0.2222222222222222, \"#7201a8\"], [0.3333333333333333, \"#9c179e\"], [0.4444444444444444, \"#bd3786\"], [0.5555555555555556, \"#d8576b\"], [0.6666666666666666, \"#ed7953\"], [0.7777777777777778, \"#fb9f3a\"], [0.8888888888888888, \"#fdca26\"], [1.0, \"#f0f921\"]]}, \"colorway\": [\"#636efa\", \"#EF553B\", \"#00cc96\", \"#ab63fa\", \"#FFA15A\", \"#19d3f3\", \"#FF6692\", \"#B6E880\", \"#FF97FF\", \"#FECB52\"], \"font\": {\"color\": \"#2a3f5f\"}, \"geo\": {\"bgcolor\": \"white\", \"lakecolor\": \"white\", \"landcolor\": \"#E5ECF6\", \"showlakes\": true, \"showland\": true, \"subunitcolor\": \"white\"}, \"hoverlabel\": {\"align\": \"left\"}, \"hovermode\": \"closest\", \"mapbox\": {\"style\": \"light\"}, \"paper_bgcolor\": \"white\", \"plot_bgcolor\": \"#E5ECF6\", \"polar\": {\"angularaxis\": {\"gridcolor\": \"white\", \"linecolor\": \"white\", \"ticks\": \"\"}, \"bgcolor\": \"#E5ECF6\", \"radialaxis\": {\"gridcolor\": \"white\", \"linecolor\": \"white\", \"ticks\": \"\"}}, \"scene\": {\"xaxis\": {\"backgroundcolor\": \"#E5ECF6\", \"gridcolor\": \"white\", \"gridwidth\": 2, \"linecolor\": \"white\", \"showbackground\": true, \"ticks\": \"\", \"zerolinecolor\": \"white\"}, \"yaxis\": {\"backgroundcolor\": \"#E5ECF6\", \"gridcolor\": \"white\", \"gridwidth\": 2, \"linecolor\": \"white\", \"showbackground\": true, \"ticks\": \"\", \"zerolinecolor\": \"white\"}, \"zaxis\": {\"backgroundcolor\": \"#E5ECF6\", \"gridcolor\": \"white\", \"gridwidth\": 2, \"linecolor\": \"white\", \"showbackground\": true, \"ticks\": \"\", \"zerolinecolor\": \"white\"}}, \"shapedefaults\": {\"line\": {\"color\": \"#2a3f5f\"}}, \"ternary\": {\"aaxis\": {\"gridcolor\": \"white\", \"linecolor\": \"white\", \"ticks\": \"\"}, \"baxis\": {\"gridcolor\": \"white\", \"linecolor\": \"white\", \"ticks\": \"\"}, \"bgcolor\": \"#E5ECF6\", \"caxis\": {\"gridcolor\": \"white\", \"linecolor\": \"white\", \"ticks\": \"\"}}, \"title\": {\"x\": 0.05}, \"xaxis\": {\"automargin\": true, \"gridcolor\": \"white\", \"linecolor\": \"white\", \"ticks\": \"\", \"zerolinecolor\": \"white\", \"zerolinewidth\": 2}, \"yaxis\": {\"automargin\": true, \"gridcolor\": \"white\", \"linecolor\": \"white\", \"ticks\": \"\", \"zerolinecolor\": \"white\", \"zerolinewidth\": 2}}}, \"title\": {\"text\": \"Trending Challenge Combination on TikTok\"}, \"width\": 1000, \"xaxis\": {\"domain\": [0, 0.5], \"dtick\": 1, \"gridwidth\": 2, \"showticklabels\": false, \"tick0\": -0.5, \"ticks\": \"\", \"zeroline\": false}, \"xaxis2\": {\"domain\": [0.6, 1.0], \"title\": {\"text\": \"index\"}}, \"yaxis\": {\"autorange\": \"reversed\", \"dtick\": 1, \"gridwidth\": 2, \"showticklabels\": false, \"tick0\": 0.5, \"ticks\": \"\", \"zeroline\": false}, \"yaxis2\": {\"anchor\": \"x2\", \"title\": {\"text\": \"Count\"}}},\n",
       "                        {\"responsive\": true}\n",
       "                    ).then(function(){\n",
       "                            \n",
       "var gd = document.getElementById('ae9f8610-84a9-4874-8bad-908605fa8efa');\n",
       "var x = new MutationObserver(function (mutations, observer) {{\n",
       "        var display = window.getComputedStyle(gd).display;\n",
       "        if (!display || display === 'none') {{\n",
       "            console.log([gd, 'removed!']);\n",
       "            Plotly.purge(gd);\n",
       "            observer.disconnect();\n",
       "        }}\n",
       "}});\n",
       "\n",
       "// Listen for the removal of the full notebook cells\n",
       "var notebookContainer = gd.closest('#notebook-container');\n",
       "if (notebookContainer) {{\n",
       "    x.observe(notebookContainer, {childList: true});\n",
       "}}\n",
       "\n",
       "// Listen for the clearing of the current output cell\n",
       "var outputEl = gd.closest('.output');\n",
       "if (outputEl) {{\n",
       "    x.observe(outputEl, {childList: true});\n",
       "}}\n",
       "\n",
       "                        })\n",
       "                };\n",
       "                });\n",
       "            </script>\n",
       "        </div>"
      ]
     },
     "metadata": {},
     "output_type": "display_data"
    }
   ],
   "source": [
    "#Bar graph for top 10 challenge combinations\n",
    "\n",
    "import plotly.graph_objects as go\n",
    "import plotly.figure_factory as ff\n",
    "def visualize_top10_challenge_combination(df_final):\n",
    "    #Unique values for Challenge combination\n",
    "    df_bar_combination=unique_values(remove_zero_challenges(df_final),'challenge_list_Name')\n",
    "    df_bar_combination1=df_bar_combination[df_bar_combination['unique_values'].apply(lambda x: len(x)>1)].reset_index(drop=True)\n",
    "    index=list(range(10))\n",
    "    challenge_id = list(df_bar_combination1['unique_values'][0:10])\n",
    "    counts = list(df_bar_combination1['counts'][0:10])\n",
    "    Table=[]\n",
    "    Table.append(['Index','Challenges','Count'])\n",
    "    for  i in range(0,len(challenge_id)):\n",
    "        Table.append([i,challenge_id[i],counts[i]])\n",
    "\n",
    "    fig = ff.create_table(Table, height_constant=60)\n",
    "    fig.layout.width=1000\n",
    "    Challenge_Combination_Bar = go.Bar(x=index, y=counts, xaxis='x2', yaxis='y2',\n",
    "                    marker=dict(color='#0099ff'),\n",
    "                    name='Count')\n",
    "\n",
    "    fig.add_traces(Challenge_Combination_Bar)\n",
    "\n",
    "    # initialize xaxis2 and yaxis2\n",
    "    fig['layout']['xaxis2'] = {}\n",
    "    fig['layout']['yaxis2'] = {}\n",
    "\n",
    "    # Edit layout for subplots\n",
    "    fig.layout.xaxis.update({'domain': [0, .5]})\n",
    "    fig.layout.xaxis2.update({'domain': [0.6, 1.]})\n",
    "\n",
    "    # The graph's yaxis MUST BE anchored to the graph's xaxis\n",
    "    fig.layout.yaxis2.update({'anchor': 'x2'})\n",
    "    fig.layout.yaxis2.update({'title': 'Count'})\n",
    "    fig.layout.xaxis2.update({'title': 'index'})\n",
    "\n",
    "    fig.layout.margin.update({'t':75, 'l':50})\n",
    "    fig.layout.update({'title': 'Trending Challenge Combination on TikTok'})\n",
    "    return fig\n",
    "\n",
    "fig=visualize_top10_challenge_combination(df_final)\n",
    "fig.show()"
   ]
  },
  {
   "cell_type": "code",
   "execution_count": 21,
   "metadata": {},
   "outputs": [
    {
     "data": {
      "text/html": [
       "<script src=\"/static/components/requirejs/require.js\"></script>\n",
       "<div id=\"d3-container-8987126\"></div>\n",
       "<div>force-directed graph</div>\n",
       "\n",
       "<style>\n",
       "    .links line {\n",
       "        stroke: #88d;\n",
       "        stroke-opacity: .2;\n",
       "    }\n",
       "    .nodes circle {\n",
       "        pointer-events: all;\n",
       "        stroke: #fff;\n",
       "        fill: #a55;\n",
       "        stroke-width: 1.5px;\n",
       "        opacity: 0.7;\n",
       "    }\n",
       "    .nodes text {\n",
       "        pointer-events: none;\n",
       "        font: 10px sans-serif;\n",
       "        fill: #333;\n",
       "        opacity: .5;\n",
       "    }\n",
       "</style>"
      ]
     },
     "metadata": {},
     "output_type": "display_data"
    },
    {
     "data": {
      "application/javascript": [
       "// require is how jupyter manages javascript libraries\n",
       "require.config({\n",
       "    paths: {\n",
       "        d3: 'https://d3js.org/d3.v5.min'\n",
       "    }\n",
       "});\n",
       "\n",
       "require([\"d3\"], function(d3) {\n",
       "    //console.log(d3.version);\n",
       "\n",
       "    // size of plot\n",
       "    const width = 800;\n",
       "    const height = 600;\n",
       "\n",
       "    // node radius\n",
       "    const node_radius = 15;\n",
       "    // link distance before weight is applied\n",
       "    const link_distance = 30;\n",
       "    // collision exclusion sclae\n",
       "    const collision_scale = 4;\n",
       "    // link with scale\n",
       "    const link_width_scale = 4;\n",
       "\n",
       "    // links and nodes data\n",
       "    const links = [{'weight': 5, 'source': '6735137560026172166', 'target': 'duet'}, {'weight': 5, 'source': '6735137560026172166', 'target': 'drawingchallage'}, {'weight': 5, 'source': '6735137560026172166', 'target': '4u'}, {'weight': 5, 'source': '6735137560026172166', 'target': 'fypage'}, {'weight': 5, 'source': '6735137560026172166', 'target': 'perte'}, {'weight': 5, 'source': '6735137560026172166', 'target': 'fart'}, {'weight': 5, 'source': '6735137560026172166', 'target': 'eggchallenge'}, {'weight': 5, 'source': '6735137560026172166', 'target': 'cash'}, {'weight': 5, 'source': '6735137560026172166', 'target': 'randomfacts'}, {'weight': 5, 'source': '6735137560026172166', 'target': 'foryou'}, {'weight': 5, 'source': '6735137560026172166', 'target': 'humor'}, {'weight': 5, 'source': '6735137560026172166', 'target': 'fypchallenge'}, {'weight': 5, 'source': '6735137560026172166', 'target': 'newzealand'}, {'weight': 5, 'source': '6735137560026172166', 'target': 'firstvideo'}, {'weight': 5, 'source': '6735137560026172166', 'target': 'animation'}, {'weight': 5, 'source': '6735137560026172166', 'target': 'somanytears'}, {'weight': 5, 'source': '6735137560026172166', 'target': 'dutchtiktokker'}, {'weight': 5, 'source': '6735137560026172166', 'target': 'bmw'}, {'weight': 5, 'source': '6735137560026172166', 'target': 'nofilter'}, {'weight': 5, 'source': '6735137560026172166', 'target': 'tint'}, {'weight': 5, 'source': '6735137560026172166', 'target': 'fail'}, {'weight': 5, 'source': '6735137560026172166', 'target': 'i'}, {'weight': 5, 'source': '6735137560026172166', 'target': 'tutorial'}, {'weight': 5, 'source': '6735137560026172166', 'target': 'foruyoupage'}, {'weight': 5, 'source': '6735137560026172166', 'target': 'sisters'}, {'weight': 5, 'source': '6735137560026172166', 'target': 'it'}, {'weight': 5, 'source': '6735137560026172166', 'target': 'car'}, {'weight': 5, 'source': '6735137560026172166', 'target': 'runforit'}, {'weight': 5, 'source': '6735137560026172166', 'target': 'xyxbca'}, {'weight': 5, 'source': '6735137560026172166', 'target': 'shoecheck'}, {'weight': 5, 'source': '6735137560026172166', 'target': 'fyp'}, {'weight': 5, 'source': '6735137560026172166', 'target': 'foryoupage'}, {'weight': 5, 'source': '6735137560026172166', 'target': 'JustAddGlitter'}, {'weight': 5, 'source': '6735137560026172166', 'target': 'lovesongcovers'}, {'weight': 5, 'source': '6735137560026172166', 'target': 'MyInstaxShoutout'}, {'weight': 5, 'source': '6735137560026172166', 'target': 'onmyway'}, {'weight': 5, 'source': '6735137560026172166', 'target': 'CepacolSickBeats'}, {'weight': 5, 'source': '6735137560026172166', 'target': 'snowday'}, {'weight': 5, 'source': '6735137560026172166', 'target': 'foyou'}, {'weight': 5, 'source': '6735137560026172166', 'target': 'foryourpage'}, {'weight': 5, 'source': '6735137560026172166', 'target': 'nails'}, {'weight': 5, 'source': '6735137560026172166', 'target': 'funny'}, {'weight': 5, 'source': '6735137560026172166', 'target': 'tiktok'}, {'weight': 5, 'source': '6735137560026172166', 'target': 'toonme'}, {'weight': 5, 'source': '6735137560026172166', 'target': 'CleanFreshHype'}, {'weight': 5, 'source': '6735137560026172166', 'target': 'hairtutorial'}, {'weight': 5, 'source': '6735137560026172166', 'target': 'hair'}, {'weight': 5, 'source': '6735137560026172166', 'target': 'hairgoals'}, {'weight': 5, 'source': '6735137560026172166', 'target': 'featurethis'}, {'weight': 5, 'source': '6735137560026172166', 'target': 'haircurl'}, {'weight': 5, 'source': '6735137560026172166', 'target': 'curls'}, {'weight': 5, 'source': '6735137560026172166', 'target': 'koreangirl'}, {'weight': 5, 'source': '6735137560026172166', 'target': 'latinas'}, {'weight': 5, 'source': '6735137560026172166', 'target': 'willysant'}, {'weight': 5, 'source': '6735137560026172166', 'target': 'dancchallenge'}, {'weight': 5, 'source': '6735137560026172166', 'target': 'trending'}, {'weight': 5, 'source': '6735137560026172166', 'target': 'chistosa'}, {'weight': 5, 'source': '6735137560026172166', 'target': 'viral'}, {'weight': 5, 'source': '6735137560026172166', 'target': 'latina'}, {'weight': 5, 'source': '6735137560026172166', 'target': 'mevaleverga'}, {'weight': 5, 'source': '6735137560026172166', 'target': 'like'}, {'weight': 5, 'source': '6735137560026172166', 'target': 'tictoktraditions'}, {'weight': 5, 'source': '6735137560026172166', 'target': 'feauture'}];\n",
       "    const nodes = [{'id': '6735137560026172166'}, {'id': 'duet'}, {'id': 'drawingchallage'}, {'id': '4u'}, {'id': 'fypage'}, {'id': 'perte'}, {'id': 'fart'}, {'id': 'eggchallenge'}, {'id': 'cash'}, {'id': 'randomfacts'}, {'id': 'foryou'}, {'id': 'humor'}, {'id': 'fypchallenge'}, {'id': 'newzealand'}, {'id': 'firstvideo'}, {'id': 'animation'}, {'id': 'somanytears'}, {'id': 'dutchtiktokker'}, {'id': 'bmw'}, {'id': 'nofilter'}, {'id': 'tint'}, {'id': 'fail'}, {'id': 'i'}, {'id': 'tutorial'}, {'id': 'foruyoupage'}, {'id': 'sisters'}, {'id': 'it'}, {'id': 'car'}, {'id': 'runforit'}, {'id': 'xyxbca'}, {'id': 'shoecheck'}, {'id': 'fyp'}, {'id': 'foryoupage'}, {'id': 'JustAddGlitter'}, {'id': 'lovesongcovers'}, {'id': 'MyInstaxShoutout'}, {'id': 'onmyway'}, {'id': 'CepacolSickBeats'}, {'id': 'snowday'}, {'id': 'foyou'}, {'id': 'foryourpage'}, {'id': 'nails'}, {'id': 'funny'}, {'id': 'tiktok'}, {'id': 'toonme'}, {'id': 'CleanFreshHype'}, {'id': 'hairtutorial'}, {'id': 'hair'}, {'id': 'hairgoals'}, {'id': 'featurethis'}, {'id': 'haircurl'}, {'id': 'curls'}, {'id': 'koreangirl'}, {'id': 'latinas'}, {'id': 'willysant'}, {'id': 'dancchallenge'}, {'id': 'trending'}, {'id': 'chistosa'}, {'id': 'viral'}, {'id': 'latina'}, {'id': 'mevaleverga'}, {'id': 'like'}, {'id': 'tictoktraditions'}, {'id': 'feauture'}];\n",
       "\n",
       "\n",
       "    // create simulation\n",
       "    const simulation = d3.forceSimulation(nodes)\n",
       "    .force(\"link\", d3.forceLink(links).id(d => d.id).distance(d => link_distance / d.weight))\n",
       "    .force(\"charge\", d3.forceManyBody().strength(-20))\n",
       "    .force('collision', d3.forceCollide().radius(collision_scale * node_radius))\n",
       "    .force(\"center\", d3.forceCenter(width / 2, height / 2));\n",
       "\n",
       "    /// dragging nodes\n",
       "    const drag = simulation => {\n",
       "\n",
       "        function dragstarted(d) {\n",
       "        if (!d3.event.active) simulation.alphaTarget(0.3).restart();\n",
       "            d.fx = d.x;\n",
       "            d.fy = d.y;\n",
       "        }\n",
       "\n",
       "        function dragged(d) {\n",
       "            d.fx = d3.event.x;\n",
       "            d.fy = d3.event.y;\n",
       "        }\n",
       "\n",
       "        function dragended(d) {\n",
       "        if (!d3.event.active) simulation.alphaTarget(0);\n",
       "            d.fx = null;\n",
       "            d.fy = null;\n",
       "        }\n",
       "\n",
       "        return d3.drag()\n",
       "          .on(\"start\", dragstarted)\n",
       "          .on(\"drag\", dragged)\n",
       "          .on(\"end\", dragended);\n",
       "    }\n",
       "\n",
       "    // select HTML element and attach SVG to it\n",
       "    const svg = d3.select(\"#d3-container-8987126\")\n",
       "        .append(\"svg\")\n",
       "        .attr(\"width\", width)\n",
       "        .attr(\"height\", height);\n",
       "\n",
       "    // add links to svg element\n",
       "    const link = svg.append(\"g\")\n",
       "            .attr(\"class\", \"links\")\n",
       "        .selectAll(\"line\")\n",
       "        .data(links)\n",
       "        .enter().append(\"line\")\n",
       "            .style(\"stroke-width\", d => Math.sqrt(link_width_scale*d.weight));\n",
       "\n",
       "    const node = svg.append(\"g\")\n",
       "            .attr(\"class\", \"nodes\")\n",
       "        .selectAll(\"g\")\n",
       "        .data(nodes)\n",
       "        .enter().append(\"g\");\n",
       "\n",
       "\n",
       "    const circle = node.append(\"circle\")\n",
       "            .attr(\"r\", node_radius)\n",
       "            .on(\"dblclick\", d => {d.x = width/2; d.y = height/2;})\n",
       "            .call(drag(simulation));\n",
       "\n",
       "    // svg text labels for eachnode\n",
       "    const label = node.append(\"text\")\n",
       "            .attr(\"dx\", 10)\n",
       "            .attr(\"dy\", \".35em\")\n",
       "            .text(d => d.id);\n",
       "\n",
       "\n",
       "    // update svg on simulation ticks\n",
       "    simulation.on(\"tick\", () => {\n",
       "        circle\n",
       "        // keep within edge of canvas, larger margin on right for text labels\n",
       "            .attr(\"cx\", d => (d.x = Math.max(2*node_radius, Math.min(width - 2*node_radius - 10*d.id.length, d.x)) ))\n",
       "            .attr(\"cy\", d => (d.y = Math.max(2*node_radius, Math.min(height - 2*node_radius, d.y)) ));\n",
       "\n",
       "        link\n",
       "            .attr(\"x1\", d => d.source.x)\n",
       "            .attr(\"y1\", d => d.source.y)\n",
       "            .attr(\"x2\", d => d.target.x)\n",
       "            .attr(\"y2\", d => d.target.y);\n",
       "\n",
       "\n",
       "        label\n",
       "            .attr(\"x\", d => d.x)\n",
       "            .attr(\"y\", d => d.y);\n",
       "    });\n",
       "\n",
       "\n",
       "    //return svg.node();\n",
       "\n",
       "});\n",
       "\n"
      ]
     },
     "metadata": {},
     "output_type": "display_data"
    }
   ],
   "source": [
    "#Connected graph displaying Challenges associated with Music across dataset\n",
    "\n",
    "import d3fdgraph\n",
    "import pandas\n",
    "def visualize_hashtag_for_music(df_graph,musicid):\n",
    "    listauthor=df_graph.index[df_graph['Music ID'] == musicid].tolist()\n",
    "    cols = ['source','target','weight']\n",
    "    list_directed_graph=[]\n",
    "    #Create list having format Music Id : challenge1;  \n",
    "    for i in listauthor:\n",
    "        list_directed_graph.append([df_graph['Music ID'][i],df_graph['challenge_list_Name'][i],5])\n",
    "\n",
    "    df_directed_graph=pd.DataFrame(list_directed_graph,columns=cols)\n",
    "    d3fdgraph.plot_force_directed_graph(df_directed_graph, node_radius=15, link_distance=30, collision_scale=4)\n",
    "    \n",
    "visualize_hashtag_for_music(create_df_graph(remove_zero_challenges(df_final)),'6735137560026172166')\n"
   ]
  },
  {
   "cell_type": "markdown",
   "metadata": {},
   "source": [
    "############## An alternate to website : Interactive plots (just an example)#########"
   ]
  },
  {
   "cell_type": "code",
   "execution_count": null,
   "metadata": {},
   "outputs": [],
   "source": [
    "import datetime\n",
    "import numpy as np\n",
    "import pandas as pd\n",
    "\n",
    "import plotly.graph_objects as go\n",
    "from ipywidgets import widgets\n",
    "df = pd.read_csv('https://raw.githubusercontent.com/yankev/testing/master/datasets/nycflights.csv')\n",
    "df = df.drop(df.columns[[0]], axis=1)\n",
    "df['carrier'].unique()\n"
   ]
  },
  {
   "cell_type": "code",
   "execution_count": null,
   "metadata": {},
   "outputs": [],
   "source": [
    "month = widgets.IntSlider(\n",
    "    value=1.0,\n",
    "    min=1.0,\n",
    "    max=12.0,\n",
    "    step=1.0,\n",
    "    description='Month:',\n",
    "    continuous_update=False\n",
    ")\n",
    "\n",
    "use_date = widgets.Checkbox(\n",
    "    description='Date: ',\n",
    "    value=True,\n",
    ")\n",
    "\n",
    "container = widgets.HBox(children=[use_date, month])\n",
    "\n",
    "textbox = widgets.Dropdown(\n",
    "    description='Airline:   ',\n",
    "    value='DL',\n",
    "    options=df['carrier'].unique().tolist()\n",
    ")\n",
    "\n",
    "origin = widgets.Dropdown(\n",
    "    options=list(df['origin'].unique()),\n",
    "    value='LGA',\n",
    "    description='Origin Airport:',\n",
    ")\n",
    "\n",
    "\n",
    "# Assign an empty figure widget with two traces\n",
    "trace1 = go.Histogram(x=df['arr_delay'], opacity=0.75, name='Arrival Delays')\n",
    "trace2 = go.Histogram(x=df['dep_delay'], opacity=0.75, name='Departure Delays')\n",
    "g = go.FigureWidget(data=[trace1, trace2],\n",
    "                    layout=go.Layout(\n",
    "                        title=dict(\n",
    "                            text='NYC FlightDatabase'\n",
    "                        ),\n",
    "                        barmode='overlay'\n",
    "                    ))"
   ]
  },
  {
   "cell_type": "code",
   "execution_count": null,
   "metadata": {},
   "outputs": [],
   "source": [
    "def validate():\n",
    "    if origin.value in df['origin'].unique() and textbox.value in df['carrier'].unique():\n",
    "        return True\n",
    "    else:\n",
    "        return False\n",
    "\n",
    "\n",
    "def response(change):\n",
    "    if validate():\n",
    "        if use_date.value:\n",
    "            filter_list = [i and j and k for i, j, k in\n",
    "                           zip(df['month'] == month.value, df['carrier'] == textbox.value,\n",
    "                               df['origin'] == origin.value)]\n",
    "            temp_df = df[filter_list]\n",
    "\n",
    "        else:\n",
    "            filter_list = [i and j for i, j in\n",
    "                           zip(df['carrier'] == 'DL', df['origin'] == origin.value)]\n",
    "            temp_df = df[filter_list]\n",
    "        x1 = temp_df['arr_delay']\n",
    "        x2 = temp_df['dep_delay']\n",
    "        with g.batch_update():\n",
    "            g.data[0].x = x1\n",
    "            g.data[1].x = x2\n",
    "            g.layout.barmode = 'overlay'\n",
    "            g.layout.xaxis.title = 'Delay in Minutes'\n",
    "            g.layout.yaxis.title = 'Number of Delays'\n",
    "\n",
    "\n",
    "origin.observe(response, names=\"value\")\n",
    "textbox.observe(response, names=\"value\")\n",
    "month.observe(response, names=\"value\")\n",
    "use_date.observe(response, names=\"value\")"
   ]
  },
  {
   "cell_type": "code",
   "execution_count": null,
   "metadata": {},
   "outputs": [],
   "source": [
    "container2 = widgets.HBox([origin, textbox])\n",
    "widgets.VBox([container,\n",
    "              container2,\n",
    "              g])"
   ]
  },
  {
   "cell_type": "code",
   "execution_count": null,
   "metadata": {},
   "outputs": [],
   "source": []
  }
 ],
 "metadata": {
  "kernelspec": {
   "display_name": "Python 3",
   "language": "python",
   "name": "python3"
  },
  "language_info": {
   "codemirror_mode": {
    "name": "ipython",
    "version": 3
   },
   "file_extension": ".py",
   "mimetype": "text/x-python",
   "name": "python",
   "nbconvert_exporter": "python",
   "pygments_lexer": "ipython3",
   "version": "3.7.3"
  }
 },
 "nbformat": 4,
 "nbformat_minor": 2
}
